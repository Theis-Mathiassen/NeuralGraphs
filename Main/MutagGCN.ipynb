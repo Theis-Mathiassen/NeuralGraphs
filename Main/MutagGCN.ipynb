{
  "cells": [
    {
      "cell_type": "markdown",
      "metadata": {},
      "source": [
        "# **CONSTANTS & IMPORTS**"
      ]
    },
    {
      "cell_type": "markdown",
      "metadata": {},
      "source": [
        "Constants"
      ]
    },
    {
      "cell_type": "code",
      "execution_count": 91,
      "metadata": {},
      "outputs": [
        {
          "name": "stdout",
          "output_type": "stream",
          "text": [
            "%pylab is deprecated, use %matplotlib inline and import the required libraries.\n",
            "Populating the interactive namespace from numpy and matplotlib\n"
          ]
        },
        {
          "name": "stderr",
          "output_type": "stream",
          "text": [
            "C:\\Users\\theis\\AppData\\Roaming\\Python\\Python311\\site-packages\\IPython\\core\\magics\\pylab.py:162: UserWarning:\n",
            "\n",
            "pylab import has clobbered these variables: ['datetime']\n",
            "`%matplotlib` prevents importing * from pylab and numpy\n",
            "\n"
          ]
        }
      ],
      "source": [
        "EPOCHS = 300\n",
        "LEARNING_RATE = 0.01\n",
        "MANUAL_SEED = 12345\n",
        "HIDDEN_NODE_COUNT = 64\n",
        "DATASPLIT = 150\n",
        "BATCH_SIZE_TRAINING = 64\n",
        "BATCH_SIZE_TESTING = 1\n",
        "\n",
        "%pylab inline"
      ]
    },
    {
      "cell_type": "markdown",
      "metadata": {},
      "source": [
        "# **Dataset import**"
      ]
    },
    {
      "cell_type": "code",
      "execution_count": 92,
      "metadata": {},
      "outputs": [],
      "source": [
        "import os\n",
        "import torch\n",
        "import torch_geometric\n",
        "\n",
        "from torch_geometric.datasets import TUDataset\n",
        "from torch_geometric.utils import to_networkx\n",
        "from torch_geometric.loader import DataLoader\n",
        "\n",
        "\n",
        "\n",
        "dataset = TUDataset(root='dataset/Mutag', name='MUTAG')\n",
        "\n",
        "data_details = {\n",
        "    \"num_node_features\": dataset.num_node_features,\n",
        "    \"num_edge_features\": dataset.num_edge_features,\n",
        "    \"num_classes\": dataset.num_classes,\n",
        "    \"num_node_labels\": dataset.num_node_labels,\n",
        "    \"num_edge_labels\": dataset.num_edge_labels,\n",
        "}"
      ]
    },
    {
      "cell_type": "code",
      "execution_count": 93,
      "metadata": {},
      "outputs": [
        {
          "name": "stdout",
          "output_type": "stream",
          "text": [
            "{'num_node_features': 7, 'num_edge_features': 4, 'num_classes': 2, 'num_node_labels': 7, 'num_edge_labels': 4}\n"
          ]
        }
      ],
      "source": [
        "print(data_details)"
      ]
    },
    {
      "cell_type": "markdown",
      "metadata": {},
      "source": [
        "# **Getting device**\n"
      ]
    },
    {
      "cell_type": "code",
      "execution_count": 94,
      "metadata": {},
      "outputs": [
        {
          "name": "stdout",
          "output_type": "stream",
          "text": [
            "cuda\n"
          ]
        }
      ],
      "source": [
        "if torch.cuda.is_available():\n",
        "    device = torch.device('cuda')\n",
        "elif hasattr(torch.backends, 'mps') and torch.backends.mps.is_available():\n",
        "    # MPS is currently slower than CPU due to missing int64 min/max ops\n",
        "    device = torch.device('cpu')\n",
        "else:\n",
        "    device = torch.device('cpu')\n",
        "print(device)"
      ]
    },
    {
      "cell_type": "markdown",
      "metadata": {},
      "source": [
        "# **DATA SPLITTING**"
      ]
    },
    {
      "cell_type": "markdown",
      "metadata": {},
      "source": [
        "Shuffle data (optional)"
      ]
    },
    {
      "cell_type": "code",
      "execution_count": 95,
      "metadata": {},
      "outputs": [],
      "source": [
        "dataset = dataset.shuffle()"
      ]
    },
    {
      "cell_type": "markdown",
      "metadata": {},
      "source": [
        "Create training set and test set (size defined in constants)"
      ]
    },
    {
      "cell_type": "code",
      "execution_count": 96,
      "metadata": {},
      "outputs": [],
      "source": [
        "# Allocate for training\n",
        "train_dataset = dataset[:DATASPLIT]\n",
        "# Allocate the remainder for testing\n",
        "test_dataset = dataset[DATASPLIT:]\n",
        "\n",
        "# Define the data loaders. Used later for training, can be ignored for now\n",
        "train_loader = DataLoader(dataset=train_dataset, batch_size=BATCH_SIZE_TRAINING, shuffle=True)\n",
        "test_loader = DataLoader(dataset=test_dataset, batch_size=BATCH_SIZE_TESTING, shuffle=False)\n",
        "\n",
        "%run visualize.py"
      ]
    },
    {
      "cell_type": "code",
      "execution_count": 97,
      "metadata": {},
      "outputs": [
        {
          "name": "stdout",
          "output_type": "stream",
          "text": [
            "150\n",
            "38\n"
          ]
        }
      ],
      "source": [
        "print(len(train_dataset))\n",
        "print(len(test_dataset))"
      ]
    },
    {
      "cell_type": "markdown",
      "metadata": {},
      "source": [
        "#  **GRAPH VISUALIZATION EXAMPLE**"
      ]
    },
    {
      "cell_type": "code",
      "execution_count": 98,
      "metadata": {},
      "outputs": [
        {
          "data": {
            "application/vnd.plotly.v1+json": {
              "config": {
                "plotlyServerURL": "https://plot.ly"
              },
              "data": [
                {
                  "hoverinfo": "none",
                  "line": {
                    "color": "#808080",
                    "width": 2
                  },
                  "mode": "lines",
                  "opacity": 0.8,
                  "type": "scatter",
                  "x": [
                    0.22565946242833415,
                    0.42035975412123133,
                    null,
                    0.22565946242833415,
                    0.04536878033832174,
                    null,
                    0.42035975412123133,
                    0.22565946242833415,
                    null,
                    0.42035975412123133,
                    0.4052005142996312,
                    null,
                    0.4052005142996312,
                    0.42035975412123133,
                    null,
                    0.4052005142996312,
                    0.2405045182451306,
                    null,
                    0.2405045182451306,
                    0.4052005142996312,
                    null,
                    0.2405045182451306,
                    -0.01606030501803068,
                    null,
                    0.2405045182451306,
                    0.23683186404371903,
                    null,
                    -0.01606030501803068,
                    0.2405045182451306,
                    null,
                    -0.01606030501803068,
                    0.04536878033832174,
                    null,
                    -0.01606030501803068,
                    -0.26998086786507686,
                    null,
                    0.04536878033832174,
                    0.22565946242833415,
                    null,
                    0.04536878033832174,
                    -0.01606030501803068,
                    null,
                    -0.26998086786507686,
                    -0.01606030501803068,
                    null,
                    -0.26998086786507686,
                    -0.41206754597325596,
                    null,
                    -0.41206754597325596,
                    -0.26998086786507686,
                    null,
                    -0.41206754597325596,
                    -0.09871310040343771,
                    null,
                    -0.41206754597325596,
                    -0.7309895579052956,
                    null,
                    -0.09871310040343771,
                    -0.41206754597325596,
                    null,
                    -0.09871310040343771,
                    0.23683186404371903,
                    null,
                    0.23683186404371903,
                    0.2405045182451306,
                    null,
                    0.23683186404371903,
                    -0.09871310040343771,
                    null,
                    0.23683186404371903,
                    0.46718332478891744,
                    null,
                    0.46718332478891744,
                    0.23683186404371903,
                    null,
                    0.46718332478891744,
                    0.5210086002974001,
                    null,
                    0.46718332478891744,
                    0.7087606866737736,
                    null,
                    0.5210086002974001,
                    0.46718332478891744,
                    null,
                    0.7087606866737736,
                    0.46718332478891744,
                    null,
                    -0.7309895579052956,
                    -0.41206754597325596,
                    null,
                    -0.7309895579052956,
                    -0.7430661280713614,
                    null,
                    -0.7309895579052956,
                    -1,
                    null,
                    -0.7430661280713614,
                    -0.7309895579052956,
                    null,
                    -1,
                    -0.7309895579052956,
                    null
                  ],
                  "y": [
                    -0.8731511649646423,
                    -0.749239573707437,
                    null,
                    -0.8731511649646423,
                    -0.6832563058169622,
                    null,
                    -0.749239573707437,
                    -0.8731511649646423,
                    null,
                    -0.749239573707437,
                    -0.46818334775434306,
                    null,
                    -0.46818334775434306,
                    -0.749239573707437,
                    null,
                    -0.46818334775434306,
                    -0.184742690039843,
                    null,
                    -0.184742690039843,
                    -0.46818334775434306,
                    null,
                    -0.184742690039843,
                    -0.37000883132381984,
                    null,
                    -0.184742690039843,
                    0.2022992149133758,
                    null,
                    -0.37000883132381984,
                    -0.184742690039843,
                    null,
                    -0.37000883132381984,
                    -0.6832563058169622,
                    null,
                    -0.37000883132381984,
                    -0.16542299856410764,
                    null,
                    -0.6832563058169622,
                    -0.8731511649646423,
                    null,
                    -0.6832563058169622,
                    -0.37000883132381984,
                    null,
                    -0.16542299856410764,
                    -0.37000883132381984,
                    null,
                    -0.16542299856410764,
                    0.11750203881023935,
                    null,
                    0.11750203881023935,
                    -0.16542299856410764,
                    null,
                    0.11750203881023935,
                    0.2102008190762144,
                    null,
                    0.11750203881023935,
                    0.2659900880615892,
                    null,
                    0.2102008190762144,
                    0.11750203881023935,
                    null,
                    0.2102008190762144,
                    0.2022992149133758,
                    null,
                    0.2022992149133758,
                    -0.184742690039843,
                    null,
                    0.2022992149133758,
                    0.2102008190762144,
                    null,
                    0.2022992149133758,
                    0.5171204596334158,
                    null,
                    0.5171204596334158,
                    0.2022992149133758,
                    null,
                    0.5171204596334158,
                    0.7783079568924671,
                    null,
                    0.5171204596334158,
                    0.6261374777522531,
                    null,
                    0.7783079568924671,
                    0.5171204596334158,
                    null,
                    0.6261374777522531,
                    0.5171204596334158,
                    null,
                    0.2659900880615892,
                    0.11750203881023935,
                    null,
                    0.2659900880615892,
                    0.4832528436828252,
                    null,
                    0.2659900880615892,
                    0.29319401334877526,
                    null,
                    0.4832528436828252,
                    0.2659900880615892,
                    null,
                    0.29319401334877526,
                    0.2659900880615892,
                    null
                  ]
                },
                {
                  "hoverinfo": "text",
                  "marker": {
                    "color": "#fcfcfc",
                    "colorbar": {
                      "thickness": 15,
                      "title": {
                        "side": "right",
                        "text": ""
                      },
                      "xanchor": "left"
                    },
                    "colorscale": [
                      [
                        0,
                        "rgb(255,255,217)"
                      ],
                      [
                        0.125,
                        "rgb(237,248,177)"
                      ],
                      [
                        0.25,
                        "rgb(199,233,180)"
                      ],
                      [
                        0.375,
                        "rgb(127,205,187)"
                      ],
                      [
                        0.5,
                        "rgb(65,182,196)"
                      ],
                      [
                        0.625,
                        "rgb(29,145,192)"
                      ],
                      [
                        0.75,
                        "rgb(34,94,168)"
                      ],
                      [
                        0.875,
                        "rgb(37,52,148)"
                      ],
                      [
                        1,
                        "rgb(8,29,88)"
                      ]
                    ],
                    "line": {
                      "color": "#333333",
                      "width": 2
                    },
                    "reversescale": false,
                    "showscale": false,
                    "size": 20
                  },
                  "mode": "markers+text",
                  "opacity": 0.8,
                  "text": [
                    "0",
                    "1",
                    "2",
                    "3",
                    "4",
                    "5",
                    "6",
                    "7",
                    "8",
                    "9",
                    "10",
                    "11",
                    "12",
                    "13",
                    "14",
                    "15"
                  ],
                  "textfont": {
                    "color": "#000000",
                    "family": "Arial",
                    "size": 14
                  },
                  "textposition": "top left",
                  "type": "scatter",
                  "x": [
                    0.22565946242833415,
                    0.42035975412123133,
                    0.4052005142996312,
                    0.2405045182451306,
                    -0.01606030501803068,
                    0.04536878033832174,
                    -0.26998086786507686,
                    -0.41206754597325596,
                    -0.09871310040343771,
                    0.23683186404371903,
                    0.46718332478891744,
                    0.5210086002974001,
                    0.7087606866737736,
                    -0.7309895579052956,
                    -0.7430661280713614,
                    -1
                  ],
                  "y": [
                    -0.8731511649646423,
                    -0.749239573707437,
                    -0.46818334775434306,
                    -0.184742690039843,
                    -0.37000883132381984,
                    -0.6832563058169622,
                    -0.16542299856410764,
                    0.11750203881023935,
                    0.2102008190762144,
                    0.2022992149133758,
                    0.5171204596334158,
                    0.7783079568924671,
                    0.6261374777522531,
                    0.2659900880615892,
                    0.4832528436828252,
                    0.29319401334877526
                  ]
                }
              ],
              "layout": {
                "autosize": false,
                "height": 400,
                "hovermode": "closest",
                "margin": {
                  "b": 5,
                  "l": 0,
                  "r": 0,
                  "t": 20
                },
                "paper_bgcolor": "rgba(255,255,255,255)",
                "plot_bgcolor": "rgba(0,0,0,0)",
                "scene": {
                  "xaxis": {
                    "autorange": true,
                    "showgrid": false,
                    "showline": false,
                    "showticklabels": false,
                    "ticks": "",
                    "visible": false,
                    "zeroline": false
                  },
                  "yaxis": {
                    "autorange": true,
                    "showgrid": false,
                    "showline": false,
                    "showticklabels": false,
                    "ticks": "",
                    "visible": false,
                    "zeroline": false
                  },
                  "zaxis": {
                    "autorange": true,
                    "showgrid": false,
                    "showline": false,
                    "showticklabels": false,
                    "ticks": "",
                    "visible": false,
                    "zeroline": false
                  }
                },
                "showlegend": false,
                "template": {
                  "data": {
                    "bar": [
                      {
                        "error_x": {
                          "color": "#2a3f5f"
                        },
                        "error_y": {
                          "color": "#2a3f5f"
                        },
                        "marker": {
                          "line": {
                            "color": "#E5ECF6",
                            "width": 0.5
                          },
                          "pattern": {
                            "fillmode": "overlay",
                            "size": 10,
                            "solidity": 0.2
                          }
                        },
                        "type": "bar"
                      }
                    ],
                    "barpolar": [
                      {
                        "marker": {
                          "line": {
                            "color": "#E5ECF6",
                            "width": 0.5
                          },
                          "pattern": {
                            "fillmode": "overlay",
                            "size": 10,
                            "solidity": 0.2
                          }
                        },
                        "type": "barpolar"
                      }
                    ],
                    "carpet": [
                      {
                        "aaxis": {
                          "endlinecolor": "#2a3f5f",
                          "gridcolor": "white",
                          "linecolor": "white",
                          "minorgridcolor": "white",
                          "startlinecolor": "#2a3f5f"
                        },
                        "baxis": {
                          "endlinecolor": "#2a3f5f",
                          "gridcolor": "white",
                          "linecolor": "white",
                          "minorgridcolor": "white",
                          "startlinecolor": "#2a3f5f"
                        },
                        "type": "carpet"
                      }
                    ],
                    "choropleth": [
                      {
                        "colorbar": {
                          "outlinewidth": 0,
                          "ticks": ""
                        },
                        "type": "choropleth"
                      }
                    ],
                    "contour": [
                      {
                        "colorbar": {
                          "outlinewidth": 0,
                          "ticks": ""
                        },
                        "colorscale": [
                          [
                            0,
                            "#0d0887"
                          ],
                          [
                            0.1111111111111111,
                            "#46039f"
                          ],
                          [
                            0.2222222222222222,
                            "#7201a8"
                          ],
                          [
                            0.3333333333333333,
                            "#9c179e"
                          ],
                          [
                            0.4444444444444444,
                            "#bd3786"
                          ],
                          [
                            0.5555555555555556,
                            "#d8576b"
                          ],
                          [
                            0.6666666666666666,
                            "#ed7953"
                          ],
                          [
                            0.7777777777777778,
                            "#fb9f3a"
                          ],
                          [
                            0.8888888888888888,
                            "#fdca26"
                          ],
                          [
                            1,
                            "#f0f921"
                          ]
                        ],
                        "type": "contour"
                      }
                    ],
                    "contourcarpet": [
                      {
                        "colorbar": {
                          "outlinewidth": 0,
                          "ticks": ""
                        },
                        "type": "contourcarpet"
                      }
                    ],
                    "heatmap": [
                      {
                        "colorbar": {
                          "outlinewidth": 0,
                          "ticks": ""
                        },
                        "colorscale": [
                          [
                            0,
                            "#0d0887"
                          ],
                          [
                            0.1111111111111111,
                            "#46039f"
                          ],
                          [
                            0.2222222222222222,
                            "#7201a8"
                          ],
                          [
                            0.3333333333333333,
                            "#9c179e"
                          ],
                          [
                            0.4444444444444444,
                            "#bd3786"
                          ],
                          [
                            0.5555555555555556,
                            "#d8576b"
                          ],
                          [
                            0.6666666666666666,
                            "#ed7953"
                          ],
                          [
                            0.7777777777777778,
                            "#fb9f3a"
                          ],
                          [
                            0.8888888888888888,
                            "#fdca26"
                          ],
                          [
                            1,
                            "#f0f921"
                          ]
                        ],
                        "type": "heatmap"
                      }
                    ],
                    "heatmapgl": [
                      {
                        "colorbar": {
                          "outlinewidth": 0,
                          "ticks": ""
                        },
                        "colorscale": [
                          [
                            0,
                            "#0d0887"
                          ],
                          [
                            0.1111111111111111,
                            "#46039f"
                          ],
                          [
                            0.2222222222222222,
                            "#7201a8"
                          ],
                          [
                            0.3333333333333333,
                            "#9c179e"
                          ],
                          [
                            0.4444444444444444,
                            "#bd3786"
                          ],
                          [
                            0.5555555555555556,
                            "#d8576b"
                          ],
                          [
                            0.6666666666666666,
                            "#ed7953"
                          ],
                          [
                            0.7777777777777778,
                            "#fb9f3a"
                          ],
                          [
                            0.8888888888888888,
                            "#fdca26"
                          ],
                          [
                            1,
                            "#f0f921"
                          ]
                        ],
                        "type": "heatmapgl"
                      }
                    ],
                    "histogram": [
                      {
                        "marker": {
                          "pattern": {
                            "fillmode": "overlay",
                            "size": 10,
                            "solidity": 0.2
                          }
                        },
                        "type": "histogram"
                      }
                    ],
                    "histogram2d": [
                      {
                        "colorbar": {
                          "outlinewidth": 0,
                          "ticks": ""
                        },
                        "colorscale": [
                          [
                            0,
                            "#0d0887"
                          ],
                          [
                            0.1111111111111111,
                            "#46039f"
                          ],
                          [
                            0.2222222222222222,
                            "#7201a8"
                          ],
                          [
                            0.3333333333333333,
                            "#9c179e"
                          ],
                          [
                            0.4444444444444444,
                            "#bd3786"
                          ],
                          [
                            0.5555555555555556,
                            "#d8576b"
                          ],
                          [
                            0.6666666666666666,
                            "#ed7953"
                          ],
                          [
                            0.7777777777777778,
                            "#fb9f3a"
                          ],
                          [
                            0.8888888888888888,
                            "#fdca26"
                          ],
                          [
                            1,
                            "#f0f921"
                          ]
                        ],
                        "type": "histogram2d"
                      }
                    ],
                    "histogram2dcontour": [
                      {
                        "colorbar": {
                          "outlinewidth": 0,
                          "ticks": ""
                        },
                        "colorscale": [
                          [
                            0,
                            "#0d0887"
                          ],
                          [
                            0.1111111111111111,
                            "#46039f"
                          ],
                          [
                            0.2222222222222222,
                            "#7201a8"
                          ],
                          [
                            0.3333333333333333,
                            "#9c179e"
                          ],
                          [
                            0.4444444444444444,
                            "#bd3786"
                          ],
                          [
                            0.5555555555555556,
                            "#d8576b"
                          ],
                          [
                            0.6666666666666666,
                            "#ed7953"
                          ],
                          [
                            0.7777777777777778,
                            "#fb9f3a"
                          ],
                          [
                            0.8888888888888888,
                            "#fdca26"
                          ],
                          [
                            1,
                            "#f0f921"
                          ]
                        ],
                        "type": "histogram2dcontour"
                      }
                    ],
                    "mesh3d": [
                      {
                        "colorbar": {
                          "outlinewidth": 0,
                          "ticks": ""
                        },
                        "type": "mesh3d"
                      }
                    ],
                    "parcoords": [
                      {
                        "line": {
                          "colorbar": {
                            "outlinewidth": 0,
                            "ticks": ""
                          }
                        },
                        "type": "parcoords"
                      }
                    ],
                    "pie": [
                      {
                        "automargin": true,
                        "type": "pie"
                      }
                    ],
                    "scatter": [
                      {
                        "fillpattern": {
                          "fillmode": "overlay",
                          "size": 10,
                          "solidity": 0.2
                        },
                        "type": "scatter"
                      }
                    ],
                    "scatter3d": [
                      {
                        "line": {
                          "colorbar": {
                            "outlinewidth": 0,
                            "ticks": ""
                          }
                        },
                        "marker": {
                          "colorbar": {
                            "outlinewidth": 0,
                            "ticks": ""
                          }
                        },
                        "type": "scatter3d"
                      }
                    ],
                    "scattercarpet": [
                      {
                        "marker": {
                          "colorbar": {
                            "outlinewidth": 0,
                            "ticks": ""
                          }
                        },
                        "type": "scattercarpet"
                      }
                    ],
                    "scattergeo": [
                      {
                        "marker": {
                          "colorbar": {
                            "outlinewidth": 0,
                            "ticks": ""
                          }
                        },
                        "type": "scattergeo"
                      }
                    ],
                    "scattergl": [
                      {
                        "marker": {
                          "colorbar": {
                            "outlinewidth": 0,
                            "ticks": ""
                          }
                        },
                        "type": "scattergl"
                      }
                    ],
                    "scattermapbox": [
                      {
                        "marker": {
                          "colorbar": {
                            "outlinewidth": 0,
                            "ticks": ""
                          }
                        },
                        "type": "scattermapbox"
                      }
                    ],
                    "scatterpolar": [
                      {
                        "marker": {
                          "colorbar": {
                            "outlinewidth": 0,
                            "ticks": ""
                          }
                        },
                        "type": "scatterpolar"
                      }
                    ],
                    "scatterpolargl": [
                      {
                        "marker": {
                          "colorbar": {
                            "outlinewidth": 0,
                            "ticks": ""
                          }
                        },
                        "type": "scatterpolargl"
                      }
                    ],
                    "scatterternary": [
                      {
                        "marker": {
                          "colorbar": {
                            "outlinewidth": 0,
                            "ticks": ""
                          }
                        },
                        "type": "scatterternary"
                      }
                    ],
                    "surface": [
                      {
                        "colorbar": {
                          "outlinewidth": 0,
                          "ticks": ""
                        },
                        "colorscale": [
                          [
                            0,
                            "#0d0887"
                          ],
                          [
                            0.1111111111111111,
                            "#46039f"
                          ],
                          [
                            0.2222222222222222,
                            "#7201a8"
                          ],
                          [
                            0.3333333333333333,
                            "#9c179e"
                          ],
                          [
                            0.4444444444444444,
                            "#bd3786"
                          ],
                          [
                            0.5555555555555556,
                            "#d8576b"
                          ],
                          [
                            0.6666666666666666,
                            "#ed7953"
                          ],
                          [
                            0.7777777777777778,
                            "#fb9f3a"
                          ],
                          [
                            0.8888888888888888,
                            "#fdca26"
                          ],
                          [
                            1,
                            "#f0f921"
                          ]
                        ],
                        "type": "surface"
                      }
                    ],
                    "table": [
                      {
                        "cells": {
                          "fill": {
                            "color": "#EBF0F8"
                          },
                          "line": {
                            "color": "white"
                          }
                        },
                        "header": {
                          "fill": {
                            "color": "#C8D4E3"
                          },
                          "line": {
                            "color": "white"
                          }
                        },
                        "type": "table"
                      }
                    ]
                  },
                  "layout": {
                    "annotationdefaults": {
                      "arrowcolor": "#2a3f5f",
                      "arrowhead": 0,
                      "arrowwidth": 1
                    },
                    "autotypenumbers": "strict",
                    "coloraxis": {
                      "colorbar": {
                        "outlinewidth": 0,
                        "ticks": ""
                      }
                    },
                    "colorscale": {
                      "diverging": [
                        [
                          0,
                          "#8e0152"
                        ],
                        [
                          0.1,
                          "#c51b7d"
                        ],
                        [
                          0.2,
                          "#de77ae"
                        ],
                        [
                          0.3,
                          "#f1b6da"
                        ],
                        [
                          0.4,
                          "#fde0ef"
                        ],
                        [
                          0.5,
                          "#f7f7f7"
                        ],
                        [
                          0.6,
                          "#e6f5d0"
                        ],
                        [
                          0.7,
                          "#b8e186"
                        ],
                        [
                          0.8,
                          "#7fbc41"
                        ],
                        [
                          0.9,
                          "#4d9221"
                        ],
                        [
                          1,
                          "#276419"
                        ]
                      ],
                      "sequential": [
                        [
                          0,
                          "#0d0887"
                        ],
                        [
                          0.1111111111111111,
                          "#46039f"
                        ],
                        [
                          0.2222222222222222,
                          "#7201a8"
                        ],
                        [
                          0.3333333333333333,
                          "#9c179e"
                        ],
                        [
                          0.4444444444444444,
                          "#bd3786"
                        ],
                        [
                          0.5555555555555556,
                          "#d8576b"
                        ],
                        [
                          0.6666666666666666,
                          "#ed7953"
                        ],
                        [
                          0.7777777777777778,
                          "#fb9f3a"
                        ],
                        [
                          0.8888888888888888,
                          "#fdca26"
                        ],
                        [
                          1,
                          "#f0f921"
                        ]
                      ],
                      "sequentialminus": [
                        [
                          0,
                          "#0d0887"
                        ],
                        [
                          0.1111111111111111,
                          "#46039f"
                        ],
                        [
                          0.2222222222222222,
                          "#7201a8"
                        ],
                        [
                          0.3333333333333333,
                          "#9c179e"
                        ],
                        [
                          0.4444444444444444,
                          "#bd3786"
                        ],
                        [
                          0.5555555555555556,
                          "#d8576b"
                        ],
                        [
                          0.6666666666666666,
                          "#ed7953"
                        ],
                        [
                          0.7777777777777778,
                          "#fb9f3a"
                        ],
                        [
                          0.8888888888888888,
                          "#fdca26"
                        ],
                        [
                          1,
                          "#f0f921"
                        ]
                      ]
                    },
                    "colorway": [
                      "#636efa",
                      "#EF553B",
                      "#00cc96",
                      "#ab63fa",
                      "#FFA15A",
                      "#19d3f3",
                      "#FF6692",
                      "#B6E880",
                      "#FF97FF",
                      "#FECB52"
                    ],
                    "font": {
                      "color": "#2a3f5f"
                    },
                    "geo": {
                      "bgcolor": "white",
                      "lakecolor": "white",
                      "landcolor": "#E5ECF6",
                      "showlakes": true,
                      "showland": true,
                      "subunitcolor": "white"
                    },
                    "hoverlabel": {
                      "align": "left"
                    },
                    "hovermode": "closest",
                    "mapbox": {
                      "style": "light"
                    },
                    "paper_bgcolor": "white",
                    "plot_bgcolor": "#E5ECF6",
                    "polar": {
                      "angularaxis": {
                        "gridcolor": "white",
                        "linecolor": "white",
                        "ticks": ""
                      },
                      "bgcolor": "#E5ECF6",
                      "radialaxis": {
                        "gridcolor": "white",
                        "linecolor": "white",
                        "ticks": ""
                      }
                    },
                    "scene": {
                      "xaxis": {
                        "backgroundcolor": "#E5ECF6",
                        "gridcolor": "white",
                        "gridwidth": 2,
                        "linecolor": "white",
                        "showbackground": true,
                        "ticks": "",
                        "zerolinecolor": "white"
                      },
                      "yaxis": {
                        "backgroundcolor": "#E5ECF6",
                        "gridcolor": "white",
                        "gridwidth": 2,
                        "linecolor": "white",
                        "showbackground": true,
                        "ticks": "",
                        "zerolinecolor": "white"
                      },
                      "zaxis": {
                        "backgroundcolor": "#E5ECF6",
                        "gridcolor": "white",
                        "gridwidth": 2,
                        "linecolor": "white",
                        "showbackground": true,
                        "ticks": "",
                        "zerolinecolor": "white"
                      }
                    },
                    "shapedefaults": {
                      "line": {
                        "color": "#2a3f5f"
                      }
                    },
                    "ternary": {
                      "aaxis": {
                        "gridcolor": "white",
                        "linecolor": "white",
                        "ticks": ""
                      },
                      "baxis": {
                        "gridcolor": "white",
                        "linecolor": "white",
                        "ticks": ""
                      },
                      "bgcolor": "#E5ECF6",
                      "caxis": {
                        "gridcolor": "white",
                        "linecolor": "white",
                        "ticks": ""
                      }
                    },
                    "title": {
                      "x": 0.05
                    },
                    "xaxis": {
                      "automargin": true,
                      "gridcolor": "white",
                      "linecolor": "white",
                      "ticks": "",
                      "title": {
                        "standoff": 15
                      },
                      "zerolinecolor": "white",
                      "zerolinewidth": 2
                    },
                    "yaxis": {
                      "automargin": true,
                      "gridcolor": "white",
                      "linecolor": "white",
                      "ticks": "",
                      "title": {
                        "standoff": 15
                      },
                      "zerolinecolor": "white",
                      "zerolinewidth": 2
                    }
                  }
                },
                "title": {
                  "font": {
                    "size": 16
                  },
                  "text": ""
                },
                "width": 375,
                "xaxis": {
                  "autorange": true,
                  "showgrid": false,
                  "showline": false,
                  "showticklabels": false,
                  "ticks": "",
                  "visible": false,
                  "zeroline": false
                },
                "yaxis": {
                  "autorange": true,
                  "showgrid": false,
                  "showline": false,
                  "showticklabels": false,
                  "ticks": "",
                  "visible": false,
                  "zeroline": false
                }
              }
            }
          },
          "metadata": {},
          "output_type": "display_data"
        }
      ],
      "source": [
        "import networkx as nx\n",
        "from visualize import GraphVisualization\n",
        "\n",
        "def create_graph(graph):\n",
        "    g = to_networkx(graph)\n",
        "    pos = nx.spring_layout(g)\n",
        "    vis = GraphVisualization(\n",
        "        g,\n",
        "        pos,\n",
        "        node_text_position=\"top left\",\n",
        "        node_size=20,\n",
        "    )\n",
        "    fig = vis.create_figure()\n",
        "    return fig\n",
        "\n",
        "\n",
        "fig = create_graph(dataset[0])\n",
        "fig.show()"
      ]
    },
    {
      "cell_type": "markdown",
      "metadata": {},
      "source": [
        "# **GNN MODEL**"
      ]
    },
    {
      "cell_type": "markdown",
      "metadata": {},
      "source": [
        "Imports\n"
      ]
    },
    {
      "cell_type": "code",
      "execution_count": 99,
      "metadata": {},
      "outputs": [],
      "source": [
        "from torch.nn import Linear\n",
        "import torch.nn.functional as F\n",
        "from torch_geometric.nn import GCNConv\n",
        "from torch_geometric.nn import global_mean_pool"
      ]
    },
    {
      "cell_type": "markdown",
      "metadata": {},
      "source": [
        "Model definition\n"
      ]
    },
    {
      "cell_type": "code",
      "execution_count": 100,
      "metadata": {},
      "outputs": [],
      "source": [
        "\n",
        "class GCN(torch.nn.Module):\n",
        "    def __init__(self, in_features=dataset.num_node_features, hidden_channels=HIDDEN_NODE_COUNT, outfeatures = 2):\n",
        "        super(GCN, self).__init__()\n",
        "\n",
        "        # Input layer\n",
        "        self.conv1 = GCNConv(in_features, hidden_channels)\n",
        "\n",
        "        # Hidden layers\n",
        "        self.conv2 = GCNConv(hidden_channels, hidden_channels)\n",
        "        #self.conv3 = GCNConv(hidden_channels, hidden_channels)\n",
        "        #self.conv4 = GCNConv(hidden_channels, hidden_channels)\n",
        "        #self.conv5 = GCNConv(hidden_channels, hidden_channels)\n",
        "\n",
        "        # Output layer\n",
        "        self.lin = Linear(hidden_channels, outfeatures)\n",
        "\n",
        "    def forward(self, x, edge_index, batch):\n",
        "        # 1. Obtain node embeddings\n",
        "        x = self.conv1(x, edge_index)\n",
        "        x = x.relu()\n",
        "        x = self.conv2(x, edge_index)\n",
        "        x = x.relu()\n",
        "        #x = self.conv3(x, edge_index)\n",
        "        #x = x.relu()\n",
        "        #x = self.conv4(x, edge_index)\n",
        "        #x = x.relu()\n",
        "        #x = self.conv5(x, edge_index)\n",
        "\n",
        "        # 2. Readout layer\n",
        "        x = global_mean_pool(x, batch)  # [batch_size, hidden_channels]\n",
        "\n",
        "        # 3. Apply a final classifier\n",
        "        x = F.dropout(x, p=0.5, training=self.training)\n",
        "        x = self.lin(x)\n",
        "\n",
        "        return x"
      ]
    },
    {
      "cell_type": "markdown",
      "metadata": {},
      "source": [
        "super model"
      ]
    },
    {
      "cell_type": "code",
      "execution_count": 101,
      "metadata": {},
      "outputs": [],
      "source": [
        "class SuperModel():\n",
        "    def __init__(self, model: GCN, loss, optim):\n",
        "        self.model = model\n",
        "        self.loss_function = loss\n",
        "        self.optimizer = optim\n",
        "    "
      ]
    },
    {
      "cell_type": "markdown",
      "metadata": {},
      "source": [
        "Returned data model"
      ]
    },
    {
      "cell_type": "code",
      "execution_count": 102,
      "metadata": {},
      "outputs": [],
      "source": [
        "class TrainData():\n",
        "    def __init__(self):\n",
        "        self.train_losses = []\n",
        "        self.train_accuracies = []\n",
        "        self.train_labels = []\n",
        "        self.train_scores = []\n",
        "        \n",
        "class TestData():\n",
        "    def __init__(self):\n",
        "        self.test_losses = []\n",
        "        self.test_accuracies = []\n",
        "        self.test_scores = []\n",
        "        self.test_labels = []"
      ]
    },
    {
      "cell_type": "markdown",
      "metadata": {},
      "source": [
        "# **TRAINING & Test**"
      ]
    },
    {
      "cell_type": "code",
      "execution_count": 103,
      "metadata": {},
      "outputs": [],
      "source": [
        "from tqdm import trange"
      ]
    },
    {
      "cell_type": "markdown",
      "metadata": {},
      "source": [
        "Basic model training"
      ]
    },
    {
      "cell_type": "code",
      "execution_count": 104,
      "metadata": {},
      "outputs": [],
      "source": [
        "#def hyperParameterTester(hc=HIDDEN_NODE_COUNT, learn=LEARNING_RATE):\n",
        "#    \n",
        "#    torch.manual_seed(MANUAL_SEED)                              # Set manual seed\n",
        "#    model = GCN(hidden_channels=hc)                             # Initilialize model\n",
        "#    model.to(device=device)\n",
        "#\n",
        "#    optimizer = torch.optim.Adam(model.parameters(), lr=learn)  # Set optimizer with learning rate\n",
        "#    loss_function = torch.nn.CrossEntropyLoss()                 # Set loss function\n",
        "#\n",
        "#    returnData = GCNData()\n",
        "#\n",
        "#    for epoch in trange(1, EPOCHS):\n",
        "#        train()\n",
        "#    test(train_loader)\n",
        "#    \n",
        "#    return returnData\n"
      ]
    },
    {
      "cell_type": "markdown",
      "metadata": {},
      "source": [
        "## Train"
      ]
    },
    {
      "cell_type": "code",
      "execution_count": 105,
      "metadata": {},
      "outputs": [],
      "source": [
        "def train(model_env: SuperModel, data_loader, train_data: TestData):\n",
        "    model_env.model.train()\n",
        "    loss_ = 0\n",
        "    correct = 0\n",
        "    i = 0\n",
        "\n",
        "    for data in data_loader:  # Iterates the batches. We declared each batch to be of size 64\n",
        "        data = data.to(device, non_blocking=True)\n",
        "        # Calculate output, and get the maximum of those in order to obtain the predicted value\n",
        "        out = model_env.model(data.x, data.edge_index, data.batch)\n",
        "        cat = torch.argmax(out, dim=1)\n",
        "\n",
        "        correct += int((cat == data.y).sum())  # Check against ground-truth labels.\n",
        "        \n",
        "        loss = model_env.loss_function(out, data.y)\n",
        "        loss_ += loss.item()\n",
        "        \n",
        "        loss.backward()\n",
        "        model_env.optimizer.step()\n",
        "        model_env.optimizer.zero_grad()\n",
        "\n",
        "        i+=1\n",
        "\n",
        "        # Append actual and preddicted to respective array. Have to be converted to NumPy arrays in order to flatten them.\n",
        "        # We flatten them as 1D arrays are required by SK in order to calculate and plot ROC AUC\n",
        "        #This is not going to change for each epoch, so computational power is wasted here...\n",
        "        arrayLabel = np.array(data.y.to('cpu'))\n",
        "        for value in arrayLabel.flatten():\n",
        "            train_data.train_labels.append(value)\n",
        "\n",
        "        arrayCat = np.array(cat.to('cpu'))\n",
        "        for value in arrayCat.flatten():\n",
        "            train_data.train_scores.append(value)\n",
        "\n",
        "    #tt.set_description(\"loss: %2f. accuracy %2f.\" % (loss, correct/len(train_loader.dataset)))\n",
        "    train_data.train_losses.append(loss_/ i)\n",
        "    train_data.train_accuracies.append(correct/len(train_loader.dataset))"
      ]
    },
    {
      "cell_type": "markdown",
      "metadata": {},
      "source": [
        "## Test"
      ]
    },
    {
      "cell_type": "code",
      "execution_count": 118,
      "metadata": {},
      "outputs": [],
      "source": [
        "def test(model_env: SuperModel, data_loader, test_data: TestData):\n",
        "    model_env.model.eval()\n",
        "    correct = 0\n",
        "    loss_ = 0\n",
        "    i = 0\n",
        "    for data in data_loader:  # Iterate in batches over the training/test dataset.\n",
        "        data = data.to(device, non_blocking=True)\n",
        "        out = model_env.model(data.x, data.edge_index, data.batch)\n",
        "        cat = torch.argmax(out, dim=1)\n",
        "\n",
        "        correct += int((cat == data.y).sum())  # Check against ground-truth labels.\n",
        "\n",
        "        loss = model_env.loss_function(out, data.y)\n",
        "        loss_ += loss.item()\n",
        "\n",
        "        i+=1\n",
        "\n",
        "        arrayLabel = np.array(data.y.to('cpu'))\n",
        "        for value in arrayLabel.flatten():\n",
        "            test_data.test_labels.append(value)\n",
        "\n",
        "        arrayCat = np.array(cat.to('cpu'))\n",
        "        for value in arrayCat.flatten():\n",
        "            test_data.test_scores.append(value)\n",
        "        \n",
        "    \n",
        "    test_data.test_losses.append(loss_/ i)\n",
        "    test_data.test_accuracies.append(correct/len(data_loader.dataset))"
      ]
    },
    {
      "cell_type": "markdown",
      "metadata": {},
      "source": [
        "# **PLOTTING** "
      ]
    },
    {
      "cell_type": "code",
      "execution_count": 107,
      "metadata": {},
      "outputs": [],
      "source": [
        "import matplotlib.pyplot as plt\n",
        "import numpy as np\n",
        "import matplotlib.style as mplstyle\n",
        "import sklearn\n",
        "from sklearn import metrics\n",
        "from sklearn.metrics import RocCurveDisplay"
      ]
    },
    {
      "cell_type": "markdown",
      "metadata": {},
      "source": [
        "**Plotting helper functions** "
      ]
    },
    {
      "cell_type": "code",
      "execution_count": 108,
      "metadata": {},
      "outputs": [],
      "source": [
        "def GraphPrettifier(figname, ylabel, title):\n",
        "    figure = plt.figure(figname)\n",
        "    figure.patch.set_facecolor('lightgray')\n",
        "    plt.xlabel(\"# Epochs\")\n",
        "    plt.ylabel(ylabel)\n",
        "    plt.title(title)\n",
        "    plt.grid()\n",
        "    plt.legend()\n",
        "\n",
        "# Used for prettier graph\n",
        "def AvgCalculator(data, numChunks):\n",
        "    averageOfData = []\n",
        "    chunkSize = len(data) // numChunks\n",
        "    for i in range(0, len(data), chunkSize):\n",
        "        chunk = data[i:i+chunkSize]\n",
        "        chunkAvg = sum(chunk) / len(chunk)\n",
        "        averageOfData.append(chunkAvg)\n",
        "    return averageOfData\n",
        "\n",
        "# ROC AUC PLOT\n",
        "def plotROCAUC(labels, scores, title, ax):\n",
        "    # roc_auc = roc_auc_score(labels, scores)\n",
        "\n",
        "    fpr, tpr, _ = metrics.roc_curve(labels,  scores)\n",
        "    auc = metrics.roc_auc_score(labels, scores)\n",
        "    ax.set_title(title)\n",
        "    ax.plot(fpr,tpr)\n",
        "    ax.legend([\"auc=\"+str(round(auc, 2))], handlelength=0, handletextpad=0)\n",
        "\n",
        "    # RocCurveDisplay.from_predictions(labels, scores)\n",
        "\n",
        "    #plt.show()"
      ]
    },
    {
      "cell_type": "markdown",
      "metadata": {},
      "source": [
        "Create a class for plotting parameters"
      ]
    },
    {
      "cell_type": "code",
      "execution_count": 109,
      "metadata": {},
      "outputs": [],
      "source": [
        "class PP():\n",
        "    def __init__(self, value, colour):\n",
        "        self.value = value\n",
        "        self.colour = colour"
      ]
    },
    {
      "cell_type": "markdown",
      "metadata": {},
      "source": [
        "**Function for plotting the basic graph**"
      ]
    },
    {
      "cell_type": "code",
      "execution_count": 110,
      "metadata": {},
      "outputs": [],
      "source": [
        "def PlotBasic():\n",
        "    data = hyperParameterTester() # Get data\n",
        "    AndreasPlot(data)\n",
        "    X = np.arange(0, len(data.train_accuracies))\n",
        "    plt.figure('g', figsize=[10,5])\n",
        "    plt.plot(X, np.array(data.train_accuracies), c=\"indianred\", label=\"Accuracy\")\n",
        "    plt.plot(X, np.array(data.train_losses), c=\"navy\", label=\"Loss\")\n",
        "    GraphPrettifier('g', '', 'Accuracy and Loss')\n",
        "    plt.show()"
      ]
    },
    {
      "cell_type": "markdown",
      "metadata": {},
      "source": [
        "**Plotting learning rates**"
      ]
    },
    {
      "cell_type": "code",
      "execution_count": 111,
      "metadata": {},
      "outputs": [],
      "source": [
        "def PlotOverLR(para, cleanGraph=False, numChunks = 50):\n",
        "    EstNumData = (EPOCHS-1)*len(train_loader)\n",
        "    X = np.arange(0, (EPOCHS-1)*len(train_loader)) if not cleanGraph else np.arange(0, EstNumData, EstNumData//numChunks)\n",
        "\n",
        "    for p in para:\n",
        "        data = hyperParameterTester(learn = p.value) # Get data\n",
        "\n",
        "        plt.figure('Acc', figsize=[10,5]) # Activate figure with accuracy\n",
        "        accuracies = np.array(data.train_accuracies)\n",
        "        if not cleanGraph: plt.plot(X, accuracies, color=p.colour, label='Learning rate: {}'.format(p.value))\n",
        "\n",
        "        plt.figure('Loss', figsize=[10,5]) # Activate figure with loss\n",
        "        losses = np.array(data.train_losses)\n",
        "        if not cleanGraph: plt.plot(X, losses, color=p.colour, label='Learning rate: {}'.format(p.value))\n",
        "\n",
        "        if cleanGraph: # Taking averages for prettier graph\n",
        "            averageAcc = AvgCalculator(accuracies, numChunks)\n",
        "            averageLoss = AvgCalculator(losses, numChunks)\n",
        "            \n",
        "            plt.figure('Acc') # Activate figure with accuracy\n",
        "            plt.plot(X, averageAcc, color=p.colour, label='Learning rate: {}'.format(p.value))\n",
        "            plt.figure('Loss') # Activate figure with loss\n",
        "            plt.plot(X, averageLoss, color=p.colour, label='Learning rate: {}'.format(p.value))\n",
        "\n",
        "    script_dir = os.getcwd()\n",
        "    save_dir = os.path.join(script_dir, 'Figures/LR/')\n",
        "\n",
        "    if not os.path.isdir(save_dir):\n",
        "        os.makedirs(save_dir)\n",
        "\n",
        "    save_name = \"Accuracy.pdf\"\n",
        "    GraphPrettifier('Acc', 'Accuracy', 'Accuracy with different learning rates')\n",
        "    plt.savefig(save_dir + save_name)\n",
        "\n",
        "    save_name = \"Loss.pdf\"\n",
        "    GraphPrettifier('Loss', 'Loss', 'Loss with different learning rates')\n",
        "    plt.savefig(save_dir + save_name)\n",
        "\n",
        "    plt.show()"
      ]
    },
    {
      "cell_type": "markdown",
      "metadata": {},
      "source": [
        "**Plotting node count**"
      ]
    },
    {
      "cell_type": "code",
      "execution_count": 112,
      "metadata": {},
      "outputs": [],
      "source": [
        "def PlotOverHC(para, cleanGraph=False, numChunks = 50):\n",
        "    EstNumData = (EPOCHS-1)*len(train_loader)\n",
        "    X = np.arange(0, (EPOCHS-1)*len(train_loader)) if not cleanGraph else np.arange(0, EstNumData, EstNumData//numChunks)\n",
        "\n",
        "    for p in para:\n",
        "        data = hyperParameterTester(hc = p.value) # Get data\n",
        "\n",
        "        plt.figure('Acc', figsize=[10,5]) # Activate figure with accuracy\n",
        "        accuracies = np.array(data.train_accuracies)\n",
        "        if not cleanGraph: plt.plot(X, accuracies, color=p.colour, label='# Neurons: {}'.format(p.value))\n",
        "\n",
        "        plt.figure('Loss', figsize=[10,5]) # Activate figure with loss\n",
        "        losses = np.array(data.train_losses)\n",
        "        if not cleanGraph: plt.plot(X, losses, color=p.colour, label='# Neurons: {}'.format(p.value))\n",
        "\n",
        "        if cleanGraph: # Taking averages for prettier graph\n",
        "            averageAcc = AvgCalculator(accuracies, numChunks)\n",
        "            averageLoss = AvgCalculator(losses, numChunks)\n",
        "            \n",
        "            plt.figure('Acc') # Activate figure with accuracy\n",
        "            plt.plot(X, averageAcc, color=p.colour, label='# Neurons: {}'.format(p.value))\n",
        "            plt.figure('Loss') # Activate figure with loss\n",
        "            plt.plot(X, averageLoss, color=p.colour, label='# Neurons: {}'.format(p.value))\n",
        "\n",
        "    script_dir = os.getcwd()\n",
        "    save_dir = os.path.join(script_dir, 'Figures/HC/')\n",
        "\n",
        "    if not os.path.isdir(save_dir):\n",
        "        os.makedirs(save_dir)\n",
        "\n",
        "    save_name = \"Accuracy.pdf\"\n",
        "    GraphPrettifier('Acc', 'Accuracy', 'Accuracy with different neurons in the hidden layers')\n",
        "    plt.savefig(save_dir + save_name)\n",
        "\n",
        "    save_name = \"Loss.pdf\"\n",
        "    GraphPrettifier('Loss', 'Loss', 'Loss with different neurons in the hidden layers')\n",
        "    plt.savefig(save_dir + save_name)\n",
        "\n",
        "    plt.show()"
      ]
    },
    {
      "cell_type": "code",
      "execution_count": 113,
      "metadata": {},
      "outputs": [],
      "source": [
        "import matplotlib.gridspec as gridspec\n",
        "import matplotlib.patches as patches\n",
        "from datetime import datetime\n",
        "\n",
        "# ACCURACY PLOT\n",
        "def plotAccuracy(losses, accuracies, title, ax):\n",
        "    #fig, ax[0,1] = sub\n",
        "    ax.set_title(title)\n",
        "    ax.set_ylim(0, 1)\n",
        "    ax.plot(losses)\n",
        "    ax.plot(accuracies)\n",
        "    ax.plot(losses, label=\"Loss\")\n",
        "    ax.plot(accuracies, label=\"Accuracy\")\n",
        "    ax.legend(loc=\"lower center\")\n",
        "    \n",
        "    \n",
        "    #plt.show()\n",
        "\n",
        "def AndreasPlot(train_data: TrainData, test_data: TestData):\n",
        "    plot_training = True\n",
        "    plot_testing = True\n",
        "\n",
        "    plot_accuracy = True\n",
        "    plot_rocauc = True\n",
        "\n",
        "    fig = plt.figure(figsize=(8, 6))\n",
        "\n",
        "    gs = gridspec.GridSpec(3, 2)\n",
        "\n",
        "    ax1 = plt.subplot(gs[0, :])\n",
        "\n",
        "\n",
        "\n",
        "    table_data = [\n",
        "        [\"Seed\", \"Activation\", \"Weight Initializer\", \"Loss function\", \"Pooling\", \"Optimizer\", \"# GCN layers\", \"Neurons\", \"Split\", \"Epochs\", \"Batch Size\", \"LR\"],\n",
        "            [str(MANUAL_SEED), \"ReLU\", \"Default\", \"C-Entropy\", \"GMax Pooling\", \"Adam\", \"3\", \"7, 64, 64, 64, 2\", str(round(DATASPLIT/188, 2)), str(EPOCHS), \"64\", str(LEARNING_RATE)],\n",
        "    ]\n",
        "\n",
        "    table_data_1 = [table_data[0][:len(table_data[0]) // 2], table_data[1][:len(table_data[1]) // 2]]\n",
        "    table_data_2 = [table_data[0][len(table_data[0]) // 2:], table_data[1][len(table_data[1]) // 2:]]\n",
        "\n",
        "    # Create the first table in the top subplot (upper section)\n",
        "    table_1 = ax1.table(cellText=table_data_1, cellLoc='center', loc='center')\n",
        "    table_1.auto_set_font_size(False)\n",
        "    table_1.set_fontsize(12)\n",
        "    table_1.scale(1.2, 1.2)\n",
        "\n",
        "    # Create the second table in the top subplot (lower section)\n",
        "    table_2 = ax1.table(cellText=table_data_2, cellLoc='center', loc='bottom')\n",
        "    table_2.auto_set_font_size(False)\n",
        "    table_2.set_fontsize(12)\n",
        "    table_2.scale(1.2, 1.2)\n",
        "\n",
        "\n",
        "\n",
        "    # Hide axis and display the table\n",
        "    #ax1 = plt.gca()\n",
        "    ax1.axis('off')\n",
        "\n",
        "    #divider_y = -1.1  # Adjust the y-coordinate as needed\n",
        "    #ax1.axhline(divider_y, color='black')\n",
        "\n",
        "\n",
        "\n",
        "\n",
        "    # Plot for train\n",
        "    if(plot_training):\n",
        "        if(plot_accuracy):\n",
        "            #ax00 = ax[0, 0]\n",
        "            ax00 = plt.subplot(gs[1, 0])\n",
        "\n",
        "            plotAccuracy(train_data.train_losses, train_data.train_accuracies, \"Training: Accuracy & Loss\", ax00)\n",
        "\n",
        "        if(plot_rocauc):\n",
        "            #ax10 = ax[0, 1]\n",
        "            ax10 = plt.subplot(gs[2, 0])\n",
        "\n",
        "            plotROCAUC(train_data.train_labels, train_data.train_scores, \"Training: ROC AUC\", ax10)\n",
        "\n",
        "    # Plot for test\n",
        "    if(plot_testing):\n",
        "        if(plot_accuracy):\n",
        "            #ax01 = ax[1, 0]\n",
        "            ax01 = plt.subplot(gs[1, 1])\n",
        "\n",
        "            plotAccuracy(test_data.test_losses, test_data.test_accuracies, \"Testing: Accuracy & Loss\", ax01)\n",
        "\n",
        "        if(plot_rocauc):\n",
        "            #ax11 = ax[1, 1]\n",
        "            ax11 = plt.subplot(gs[2, 1])\n",
        "\n",
        "            plotROCAUC(test_data.test_labels, test_data.test_scores, \"Testing: ROC AUC\" ,ax11)\n",
        "\n",
        "    now = datetime.now()\n",
        "\n",
        "    title = \"Model algorithm/parameter & performance profile. Profiled on {}.\".format(now.strftime(\"%d/%m/%Y, %H:%M:%S\"))\n",
        "\n",
        "    fig.suptitle(title, fontsize=12, wrap=True)\n",
        "\n",
        "    plt.tight_layout()"
      ]
    },
    {
      "cell_type": "markdown",
      "metadata": {},
      "source": [
        "**Utilizing the two functions on some parameters**"
      ]
    },
    {
      "cell_type": "code",
      "execution_count": 114,
      "metadata": {},
      "outputs": [],
      "source": [
        "LRparameters = {PP(0.1, 'lightsalmon'), PP(0.01, 'goldenrod'), PP(0.001, 'mediumaquamarine'), PP(0.005, 'rosybrown')}\n",
        "HCparameters = {PP(5, 'firebrick'), PP(10, 'lightsalmon'), PP(20, 'darkgoldenrod'), PP(40, 'goldenrod'), PP(64, 'mediumaquamarine'), PP(100, 'black'), PP(200, 'rosybrown')}\n",
        "#PlotOverLR(LRparameters, cleanGraph=True)\n",
        "#PlotOverHC(HCparameters, cleanGraph=True)\n",
        "#PlotBasic()"
      ]
    },
    {
      "cell_type": "markdown",
      "metadata": {},
      "source": [
        "# Training a model"
      ]
    },
    {
      "cell_type": "code",
      "execution_count": 119,
      "metadata": {},
      "outputs": [
        {
          "name": "stderr",
          "output_type": "stream",
          "text": [
            "100%|██████████| 100/100 [00:05<00:00, 18.87it/s]\n"
          ]
        },
        {
          "data": {
            "image/png": "[encoded data removed]",
            "text/plain": [
              "<Figure size 800x600 with 5 Axes>"
            ]
          },
          "metadata": {},
          "output_type": "display_data"
        }
      ],
      "source": [
        "model = GCN(hidden_channels=64)\n",
        "model.to(device=device)\n",
        "loss_func = torch.nn.CrossEntropyLoss()\n",
        "optim = torch.optim.Adam(model.parameters(), lr=0.001)\n",
        "super_model = SuperModel(model=model, loss = loss_func, optim=optim)\n",
        "\n",
        "train_data = TrainData()\n",
        "test_data = TestData()\n",
        "\n",
        "for i in trange(100):\n",
        "    train(super_model, train_loader, train_data)\n",
        "    test(super_model, train_loader, test_data)\n",
        "\n",
        "AndreasPlot(train_data=train_data, test_data=test_data)"
      ]
    }
  ],
  "metadata": {
    "interpreter": {
      "hash": "bf423cc7eddb4827927bca0f229b2eeb19fec3ab3cc0928d5038e56f63a54ddc"
    },
    "kernelspec": {
      "display_name": "Python 3.11.5 64-bit",
      "name": "python3"
    },
    "language_info": {
      "codemirror_mode": {
        "name": "ipython",
        "version": 3
      },
      "file_extension": ".py",
      "mimetype": "text/x-python",
      "name": "python",
      "nbconvert_exporter": "python",
      "pygments_lexer": "ipython3",
      "version": "3.11.5"
    }
  },
  "nbformat": 4,
  "nbformat_minor": 2
}
