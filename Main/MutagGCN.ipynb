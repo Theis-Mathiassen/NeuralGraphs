{
  "cells": [
    {
      "cell_type": "markdown",
      "metadata": {},
      "source": [
        "# **CONSTANTS & IMPORTS**"
      ]
    },
    {
      "cell_type": "markdown",
      "metadata": {},
      "source": [
        "Constants"
      ]
    },
    {
      "cell_type": "code",
      "execution_count": 91,
      "metadata": {},
      "outputs": [
        {
          "name": "stdout",
          "output_type": "stream",
          "text": [
            "%pylab is deprecated, use %matplotlib inline and import the required libraries.\n",
            "Populating the interactive namespace from numpy and matplotlib\n"
          ]
        },
        {
          "name": "stderr",
          "output_type": "stream",
          "text": [
            "C:\\Users\\theis\\AppData\\Roaming\\Python\\Python311\\site-packages\\IPython\\core\\magics\\pylab.py:162: UserWarning:\n",
            "\n",
            "pylab import has clobbered these variables: ['datetime']\n",
            "`%matplotlib` prevents importing * from pylab and numpy\n",
            "\n"
          ]
        }
      ],
      "source": [
        "EPOCHS = 300\n",
        "LEARNING_RATE = 0.01\n",
        "MANUAL_SEED = 12345\n",
        "HIDDEN_NODE_COUNT = 64\n",
        "DATASPLIT = 150\n",
        "BATCH_SIZE_TRAINING = 64\n",
        "BATCH_SIZE_TESTING = 1\n",
        "\n",
        "%pylab inline"
      ]
    },
    {
      "cell_type": "markdown",
      "metadata": {},
      "source": [
        "# **Dataset import**"
      ]
    },
    {
      "cell_type": "code",
      "execution_count": 92,
      "metadata": {},
      "outputs": [],
      "source": [
        "import os\n",
        "import torch\n",
        "import torch_geometric\n",
        "\n",
        "from torch_geometric.datasets import TUDataset\n",
        "from torch_geometric.utils import to_networkx\n",
        "from torch_geometric.loader import DataLoader\n",
        "\n",
        "\n",
        "\n",
        "dataset = TUDataset(root='dataset/Mutag', name='MUTAG')\n",
        "\n",
        "data_details = {\n",
        "    \"num_node_features\": dataset.num_node_features,\n",
        "    \"num_edge_features\": dataset.num_edge_features,\n",
        "    \"num_classes\": dataset.num_classes,\n",
        "    \"num_node_labels\": dataset.num_node_labels,\n",
        "    \"num_edge_labels\": dataset.num_edge_labels,\n",
        "}"
      ]
    },
    {
      "cell_type": "code",
      "execution_count": 93,
      "metadata": {},
      "outputs": [
        {
          "name": "stdout",
          "output_type": "stream",
          "text": [
            "{'num_node_features': 7, 'num_edge_features': 4, 'num_classes': 2, 'num_node_labels': 7, 'num_edge_labels': 4}\n"
          ]
        }
      ],
      "source": [
        "print(data_details)"
      ]
    },
    {
      "cell_type": "markdown",
      "metadata": {},
      "source": [
        "# **Getting device**\n"
      ]
    },
    {
      "cell_type": "code",
      "execution_count": 94,
      "metadata": {},
      "outputs": [
        {
          "name": "stdout",
          "output_type": "stream",
          "text": [
            "cuda\n"
          ]
        }
      ],
      "source": [
        "if torch.cuda.is_available():\n",
        "    device = torch.device('cuda')\n",
        "elif hasattr(torch.backends, 'mps') and torch.backends.mps.is_available():\n",
        "    # MPS is currently slower than CPU due to missing int64 min/max ops\n",
        "    device = torch.device('cpu')\n",
        "else:\n",
        "    device = torch.device('cpu')\n",
        "print(device)"
      ]
    },
    {
      "cell_type": "markdown",
      "metadata": {},
      "source": [
        "# **DATA SPLITTING**"
      ]
    },
    {
      "cell_type": "markdown",
      "metadata": {},
      "source": [
        "Shuffle data (optional)"
      ]
    },
    {
      "cell_type": "code",
      "execution_count": 95,
      "metadata": {},
      "outputs": [],
      "source": [
        "dataset = dataset.shuffle()"
      ]
    },
    {
      "cell_type": "markdown",
      "metadata": {},
      "source": [
        "Create training set and test set (size defined in constants)"
      ]
    },
    {
      "cell_type": "code",
      "execution_count": 96,
      "metadata": {},
      "outputs": [],
      "source": [
        "# Allocate for training\n",
        "train_dataset = dataset[:DATASPLIT]\n",
        "# Allocate the remainder for testing\n",
        "test_dataset = dataset[DATASPLIT:]\n",
        "\n",
        "# Define the data loaders. Used later for training, can be ignored for now\n",
        "train_loader = DataLoader(dataset=train_dataset, batch_size=BATCH_SIZE_TRAINING, shuffle=True)\n",
        "test_loader = DataLoader(dataset=test_dataset, batch_size=BATCH_SIZE_TESTING, shuffle=False)\n",
        "\n",
        "%run visualize.py"
      ]
    },
    {
      "cell_type": "code",
      "execution_count": 97,
      "metadata": {},
      "outputs": [
        {
          "name": "stdout",
          "output_type": "stream",
          "text": [
            "150\n",
            "38\n"
          ]
        }
      ],
      "source": [
        "print(len(train_dataset))\n",
        "print(len(test_dataset))"
      ]
    },
    {
      "cell_type": "markdown",
      "metadata": {},
      "source": [
        "#  **GRAPH VISUALIZATION EXAMPLE**"
      ]
    },
    {
      "cell_type": "code",
      "execution_count": 98,
      "metadata": {},
      "outputs": [
        {
          "data": {
            "application/vnd.plotly.v1+json": {
              "config": {
                "plotlyServerURL": "https://plot.ly"
              },
              "data": [
                {
                  "hoverinfo": "none",
                  "line": {
                    "color": "#808080",
                    "width": 2
                  },
                  "mode": "lines",
                  "opacity": 0.8,
                  "type": "scatter",
                  "x": [
                    0.22565946242833415,
                    0.42035975412123133,
                    null,
                    0.22565946242833415,
                    0.04536878033832174,
                    null,
                    0.42035975412123133,
                    0.22565946242833415,
                    null,
                    0.42035975412123133,
                    0.4052005142996312,
                    null,
                    0.4052005142996312,
                    0.42035975412123133,
                    null,
                    0.4052005142996312,
                    0.2405045182451306,
                    null,
                    0.2405045182451306,
                    0.4052005142996312,
                    null,
                    0.2405045182451306,
                    -0.01606030501803068,
                    null,
                    0.2405045182451306,
                    0.23683186404371903,
                    null,
                    -0.01606030501803068,
                    0.2405045182451306,
                    null,
                    -0.01606030501803068,
                    0.04536878033832174,
                    null,
                    -0.01606030501803068,
                    -0.26998086786507686,
                    null,
                    0.04536878033832174,
                    0.22565946242833415,
                    null,
                    0.04536878033832174,
                    -0.01606030501803068,
                    null,
                    -0.26998086786507686,
                    -0.01606030501803068,
                    null,
                    -0.26998086786507686,
                    -0.41206754597325596,
                    null,
                    -0.41206754597325596,
                    -0.26998086786507686,
                    null,
                    -0.41206754597325596,
                    -0.09871310040343771,
                    null,
                    -0.41206754597325596,
                    -0.7309895579052956,
                    null,
                    -0.09871310040343771,
                    -0.41206754597325596,
                    null,
                    -0.09871310040343771,
                    0.23683186404371903,
                    null,
                    0.23683186404371903,
                    0.2405045182451306,
                    null,
                    0.23683186404371903,
                    -0.09871310040343771,
                    null,
                    0.23683186404371903,
                    0.46718332478891744,
                    null,
                    0.46718332478891744,
                    0.23683186404371903,
                    null,
                    0.46718332478891744,
                    0.5210086002974001,
                    null,
                    0.46718332478891744,
                    0.7087606866737736,
                    null,
                    0.5210086002974001,
                    0.46718332478891744,
                    null,
                    0.7087606866737736,
                    0.46718332478891744,
                    null,
                    -0.7309895579052956,
                    -0.41206754597325596,
                    null,
                    -0.7309895579052956,
                    -0.7430661280713614,
                    null,
                    -0.7309895579052956,
                    -1,
                    null,
                    -0.7430661280713614,
                    -0.7309895579052956,
                    null,
                    -1,
                    -0.7309895579052956,
                    null
                  ],
                  "y": [
                    -0.8731511649646423,
                    -0.749239573707437,
                    null,
                    -0.8731511649646423,
                    -0.6832563058169622,
                    null,
                    -0.749239573707437,
                    -0.8731511649646423,
                    null,
                    -0.749239573707437,
                    -0.46818334775434306,
                    null,
                    -0.46818334775434306,
                    -0.749239573707437,
                    null,
                    -0.46818334775434306,
                    -0.184742690039843,
                    null,
                    -0.184742690039843,
                    -0.46818334775434306,
                    null,
                    -0.184742690039843,
                    -0.37000883132381984,
                    null,
                    -0.184742690039843,
                    0.2022992149133758,
                    null,
                    -0.37000883132381984,
                    -0.184742690039843,
                    null,
                    -0.37000883132381984,
                    -0.6832563058169622,
                    null,
                    -0.37000883132381984,
                    -0.16542299856410764,
                    null,
                    -0.6832563058169622,
                    -0.8731511649646423,
                    null,
                    -0.6832563058169622,
                    -0.37000883132381984,
                    null,
                    -0.16542299856410764,
                    -0.37000883132381984,
                    null,
                    -0.16542299856410764,
                    0.11750203881023935,
                    null,
                    0.11750203881023935,
                    -0.16542299856410764,
                    null,
                    0.11750203881023935,
                    0.2102008190762144,
                    null,
                    0.11750203881023935,
                    0.2659900880615892,
                    null,
                    0.2102008190762144,
                    0.11750203881023935,
                    null,
                    0.2102008190762144,
                    0.2022992149133758,
                    null,
                    0.2022992149133758,
                    -0.184742690039843,
                    null,
                    0.2022992149133758,
                    0.2102008190762144,
                    null,
                    0.2022992149133758,
                    0.5171204596334158,
                    null,
                    0.5171204596334158,
                    0.2022992149133758,
                    null,
                    0.5171204596334158,
                    0.7783079568924671,
                    null,
                    0.5171204596334158,
                    0.6261374777522531,
                    null,
                    0.7783079568924671,
                    0.5171204596334158,
                    null,
                    0.6261374777522531,
                    0.5171204596334158,
                    null,
                    0.2659900880615892,
                    0.11750203881023935,
                    null,
                    0.2659900880615892,
                    0.4832528436828252,
                    null,
                    0.2659900880615892,
                    0.29319401334877526,
                    null,
                    0.4832528436828252,
                    0.2659900880615892,
                    null,
                    0.29319401334877526,
                    0.2659900880615892,
                    null
                  ]
                },
                {
                  "hoverinfo": "text",
                  "marker": {
                    "color": "#fcfcfc",
                    "colorbar": {
                      "thickness": 15,
                      "title": {
                        "side": "right",
                        "text": ""
                      },
                      "xanchor": "left"
                    },
                    "colorscale": [
                      [
                        0,
                        "rgb(255,255,217)"
                      ],
                      [
                        0.125,
                        "rgb(237,248,177)"
                      ],
                      [
                        0.25,
                        "rgb(199,233,180)"
                      ],
                      [
                        0.375,
                        "rgb(127,205,187)"
                      ],
                      [
                        0.5,
                        "rgb(65,182,196)"
                      ],
                      [
                        0.625,
                        "rgb(29,145,192)"
                      ],
                      [
                        0.75,
                        "rgb(34,94,168)"
                      ],
                      [
                        0.875,
                        "rgb(37,52,148)"
                      ],
                      [
                        1,
                        "rgb(8,29,88)"
                      ]
                    ],
                    "line": {
                      "color": "#333333",
                      "width": 2
                    },
                    "reversescale": false,
                    "showscale": false,
                    "size": 20
                  },
                  "mode": "markers+text",
                  "opacity": 0.8,
                  "text": [
                    "0",
                    "1",
                    "2",
                    "3",
                    "4",
                    "5",
                    "6",
                    "7",
                    "8",
                    "9",
                    "10",
                    "11",
                    "12",
                    "13",
                    "14",
                    "15"
                  ],
                  "textfont": {
                    "color": "#000000",
                    "family": "Arial",
                    "size": 14
                  },
                  "textposition": "top left",
                  "type": "scatter",
                  "x": [
                    0.22565946242833415,
                    0.42035975412123133,
                    0.4052005142996312,
                    0.2405045182451306,
                    -0.01606030501803068,
                    0.04536878033832174,
                    -0.26998086786507686,
                    -0.41206754597325596,
                    -0.09871310040343771,
                    0.23683186404371903,
                    0.46718332478891744,
                    0.5210086002974001,
                    0.7087606866737736,
                    -0.7309895579052956,
                    -0.7430661280713614,
                    -1
                  ],
                  "y": [
                    -0.8731511649646423,
                    -0.749239573707437,
                    -0.46818334775434306,
                    -0.184742690039843,
                    -0.37000883132381984,
                    -0.6832563058169622,
                    -0.16542299856410764,
                    0.11750203881023935,
                    0.2102008190762144,
                    0.2022992149133758,
                    0.5171204596334158,
                    0.7783079568924671,
                    0.6261374777522531,
                    0.2659900880615892,
                    0.4832528436828252,
                    0.29319401334877526
                  ]
                }
              ],
              "layout": {
                "autosize": false,
                "height": 400,
                "hovermode": "closest",
                "margin": {
                  "b": 5,
                  "l": 0,
                  "r": 0,
                  "t": 20
                },
                "paper_bgcolor": "rgba(255,255,255,255)",
                "plot_bgcolor": "rgba(0,0,0,0)",
                "scene": {
                  "xaxis": {
                    "autorange": true,
                    "showgrid": false,
                    "showline": false,
                    "showticklabels": false,
                    "ticks": "",
                    "visible": false,
                    "zeroline": false
                  },
                  "yaxis": {
                    "autorange": true,
                    "showgrid": false,
                    "showline": false,
                    "showticklabels": false,
                    "ticks": "",
                    "visible": false,
                    "zeroline": false
                  },
                  "zaxis": {
                    "autorange": true,
                    "showgrid": false,
                    "showline": false,
                    "showticklabels": false,
                    "ticks": "",
                    "visible": false,
                    "zeroline": false
                  }
                },
                "showlegend": false,
                "template": {
                  "data": {
                    "bar": [
                      {
                        "error_x": {
                          "color": "#2a3f5f"
                        },
                        "error_y": {
                          "color": "#2a3f5f"
                        },
                        "marker": {
                          "line": {
                            "color": "#E5ECF6",
                            "width": 0.5
                          },
                          "pattern": {
                            "fillmode": "overlay",
                            "size": 10,
                            "solidity": 0.2
                          }
                        },
                        "type": "bar"
                      }
                    ],
                    "barpolar": [
                      {
                        "marker": {
                          "line": {
                            "color": "#E5ECF6",
                            "width": 0.5
                          },
                          "pattern": {
                            "fillmode": "overlay",
                            "size": 10,
                            "solidity": 0.2
                          }
                        },
                        "type": "barpolar"
                      }
                    ],
                    "carpet": [
                      {
                        "aaxis": {
                          "endlinecolor": "#2a3f5f",
                          "gridcolor": "white",
                          "linecolor": "white",
                          "minorgridcolor": "white",
                          "startlinecolor": "#2a3f5f"
                        },
                        "baxis": {
                          "endlinecolor": "#2a3f5f",
                          "gridcolor": "white",
                          "linecolor": "white",
                          "minorgridcolor": "white",
                          "startlinecolor": "#2a3f5f"
                        },
                        "type": "carpet"
                      }
                    ],
                    "choropleth": [
                      {
                        "colorbar": {
                          "outlinewidth": 0,
                          "ticks": ""
                        },
                        "type": "choropleth"
                      }
                    ],
                    "contour": [
                      {
                        "colorbar": {
                          "outlinewidth": 0,
                          "ticks": ""
                        },
                        "colorscale": [
                          [
                            0,
                            "#0d0887"
                          ],
                          [
                            0.1111111111111111,
                            "#46039f"
                          ],
                          [
                            0.2222222222222222,
                            "#7201a8"
                          ],
                          [
                            0.3333333333333333,
                            "#9c179e"
                          ],
                          [
                            0.4444444444444444,
                            "#bd3786"
                          ],
                          [
                            0.5555555555555556,
                            "#d8576b"
                          ],
                          [
                            0.6666666666666666,
                            "#ed7953"
                          ],
                          [
                            0.7777777777777778,
                            "#fb9f3a"
                          ],
                          [
                            0.8888888888888888,
                            "#fdca26"
                          ],
                          [
                            1,
                            "#f0f921"
                          ]
                        ],
                        "type": "contour"
                      }
                    ],
                    "contourcarpet": [
                      {
                        "colorbar": {
                          "outlinewidth": 0,
                          "ticks": ""
                        },
                        "type": "contourcarpet"
                      }
                    ],
                    "heatmap": [
                      {
                        "colorbar": {
                          "outlinewidth": 0,
                          "ticks": ""
                        },
                        "colorscale": [
                          [
                            0,
                            "#0d0887"
                          ],
                          [
                            0.1111111111111111,
                            "#46039f"
                          ],
                          [
                            0.2222222222222222,
                            "#7201a8"
                          ],
                          [
                            0.3333333333333333,
                            "#9c179e"
                          ],
                          [
                            0.4444444444444444,
                            "#bd3786"
                          ],
                          [
                            0.5555555555555556,
                            "#d8576b"
                          ],
                          [
                            0.6666666666666666,
                            "#ed7953"
                          ],
                          [
                            0.7777777777777778,
                            "#fb9f3a"
                          ],
                          [
                            0.8888888888888888,
                            "#fdca26"
                          ],
                          [
                            1,
                            "#f0f921"
                          ]
                        ],
                        "type": "heatmap"
                      }
                    ],
                    "heatmapgl": [
                      {
                        "colorbar": {
                          "outlinewidth": 0,
                          "ticks": ""
                        },
                        "colorscale": [
                          [
                            0,
                            "#0d0887"
                          ],
                          [
                            0.1111111111111111,
                            "#46039f"
                          ],
                          [
                            0.2222222222222222,
                            "#7201a8"
                          ],
                          [
                            0.3333333333333333,
                            "#9c179e"
                          ],
                          [
                            0.4444444444444444,
                            "#bd3786"
                          ],
                          [
                            0.5555555555555556,
                            "#d8576b"
                          ],
                          [
                            0.6666666666666666,
                            "#ed7953"
                          ],
                          [
                            0.7777777777777778,
                            "#fb9f3a"
                          ],
                          [
                            0.8888888888888888,
                            "#fdca26"
                          ],
                          [
                            1,
                            "#f0f921"
                          ]
                        ],
                        "type": "heatmapgl"
                      }
                    ],
                    "histogram": [
                      {
                        "marker": {
                          "pattern": {
                            "fillmode": "overlay",
                            "size": 10,
                            "solidity": 0.2
                          }
                        },
                        "type": "histogram"
                      }
                    ],
                    "histogram2d": [
                      {
                        "colorbar": {
                          "outlinewidth": 0,
                          "ticks": ""
                        },
                        "colorscale": [
                          [
                            0,
                            "#0d0887"
                          ],
                          [
                            0.1111111111111111,
                            "#46039f"
                          ],
                          [
                            0.2222222222222222,
                            "#7201a8"
                          ],
                          [
                            0.3333333333333333,
                            "#9c179e"
                          ],
                          [
                            0.4444444444444444,
                            "#bd3786"
                          ],
                          [
                            0.5555555555555556,
                            "#d8576b"
                          ],
                          [
                            0.6666666666666666,
                            "#ed7953"
                          ],
                          [
                            0.7777777777777778,
                            "#fb9f3a"
                          ],
                          [
                            0.8888888888888888,
                            "#fdca26"
                          ],
                          [
                            1,
                            "#f0f921"
                          ]
                        ],
                        "type": "histogram2d"
                      }
                    ],
                    "histogram2dcontour": [
                      {
                        "colorbar": {
                          "outlinewidth": 0,
                          "ticks": ""
                        },
                        "colorscale": [
                          [
                            0,
                            "#0d0887"
                          ],
                          [
                            0.1111111111111111,
                            "#46039f"
                          ],
                          [
                            0.2222222222222222,
                            "#7201a8"
                          ],
                          [
                            0.3333333333333333,
                            "#9c179e"
                          ],
                          [
                            0.4444444444444444,
                            "#bd3786"
                          ],
                          [
                            0.5555555555555556,
                            "#d8576b"
                          ],
                          [
                            0.6666666666666666,
                            "#ed7953"
                          ],
                          [
                            0.7777777777777778,
                            "#fb9f3a"
                          ],
                          [
                            0.8888888888888888,
                            "#fdca26"
                          ],
                          [
                            1,
                            "#f0f921"
                          ]
                        ],
                        "type": "histogram2dcontour"
                      }
                    ],
                    "mesh3d": [
                      {
                        "colorbar": {
                          "outlinewidth": 0,
                          "ticks": ""
                        },
                        "type": "mesh3d"
                      }
                    ],
                    "parcoords": [
                      {
                        "line": {
                          "colorbar": {
                            "outlinewidth": 0,
                            "ticks": ""
                          }
                        },
                        "type": "parcoords"
                      }
                    ],
                    "pie": [
                      {
                        "automargin": true,
                        "type": "pie"
                      }
                    ],
                    "scatter": [
                      {
                        "fillpattern": {
                          "fillmode": "overlay",
                          "size": 10,
                          "solidity": 0.2
                        },
                        "type": "scatter"
                      }
                    ],
                    "scatter3d": [
                      {
                        "line": {
                          "colorbar": {
                            "outlinewidth": 0,
                            "ticks": ""
                          }
                        },
                        "marker": {
                          "colorbar": {
                            "outlinewidth": 0,
                            "ticks": ""
                          }
                        },
                        "type": "scatter3d"
                      }
                    ],
                    "scattercarpet": [
                      {
                        "marker": {
                          "colorbar": {
                            "outlinewidth": 0,
                            "ticks": ""
                          }
                        },
                        "type": "scattercarpet"
                      }
                    ],
                    "scattergeo": [
                      {
                        "marker": {
                          "colorbar": {
                            "outlinewidth": 0,
                            "ticks": ""
                          }
                        },
                        "type": "scattergeo"
                      }
                    ],
                    "scattergl": [
                      {
                        "marker": {
                          "colorbar": {
                            "outlinewidth": 0,
                            "ticks": ""
                          }
                        },
                        "type": "scattergl"
                      }
                    ],
                    "scattermapbox": [
                      {
                        "marker": {
                          "colorbar": {
                            "outlinewidth": 0,
                            "ticks": ""
                          }
                        },
                        "type": "scattermapbox"
                      }
                    ],
                    "scatterpolar": [
                      {
                        "marker": {
                          "colorbar": {
                            "outlinewidth": 0,
                            "ticks": ""
                          }
                        },
                        "type": "scatterpolar"
                      }
                    ],
                    "scatterpolargl": [
                      {
                        "marker": {
                          "colorbar": {
                            "outlinewidth": 0,
                            "ticks": ""
                          }
                        },
                        "type": "scatterpolargl"
                      }
                    ],
                    "scatterternary": [
                      {
                        "marker": {
                          "colorbar": {
                            "outlinewidth": 0,
                            "ticks": ""
                          }
                        },
                        "type": "scatterternary"
                      }
                    ],
                    "surface": [
                      {
                        "colorbar": {
                          "outlinewidth": 0,
                          "ticks": ""
                        },
                        "colorscale": [
                          [
                            0,
                            "#0d0887"
                          ],
                          [
                            0.1111111111111111,
                            "#46039f"
                          ],
                          [
                            0.2222222222222222,
                            "#7201a8"
                          ],
                          [
                            0.3333333333333333,
                            "#9c179e"
                          ],
                          [
                            0.4444444444444444,
                            "#bd3786"
                          ],
                          [
                            0.5555555555555556,
                            "#d8576b"
                          ],
                          [
                            0.6666666666666666,
                            "#ed7953"
                          ],
                          [
                            0.7777777777777778,
                            "#fb9f3a"
                          ],
                          [
                            0.8888888888888888,
                            "#fdca26"
                          ],
                          [
                            1,
                            "#f0f921"
                          ]
                        ],
                        "type": "surface"
                      }
                    ],
                    "table": [
                      {
                        "cells": {
                          "fill": {
                            "color": "#EBF0F8"
                          },
                          "line": {
                            "color": "white"
                          }
                        },
                        "header": {
                          "fill": {
                            "color": "#C8D4E3"
                          },
                          "line": {
                            "color": "white"
                          }
                        },
                        "type": "table"
                      }
                    ]
                  },
                  "layout": {
                    "annotationdefaults": {
                      "arrowcolor": "#2a3f5f",
                      "arrowhead": 0,
                      "arrowwidth": 1
                    },
                    "autotypenumbers": "strict",
                    "coloraxis": {
                      "colorbar": {
                        "outlinewidth": 0,
                        "ticks": ""
                      }
                    },
                    "colorscale": {
                      "diverging": [
                        [
                          0,
                          "#8e0152"
                        ],
                        [
                          0.1,
                          "#c51b7d"
                        ],
                        [
                          0.2,
                          "#de77ae"
                        ],
                        [
                          0.3,
                          "#f1b6da"
                        ],
                        [
                          0.4,
                          "#fde0ef"
                        ],
                        [
                          0.5,
                          "#f7f7f7"
                        ],
                        [
                          0.6,
                          "#e6f5d0"
                        ],
                        [
                          0.7,
                          "#b8e186"
                        ],
                        [
                          0.8,
                          "#7fbc41"
                        ],
                        [
                          0.9,
                          "#4d9221"
                        ],
                        [
                          1,
                          "#276419"
                        ]
                      ],
                      "sequential": [
                        [
                          0,
                          "#0d0887"
                        ],
                        [
                          0.1111111111111111,
                          "#46039f"
                        ],
                        [
                          0.2222222222222222,
                          "#7201a8"
                        ],
                        [
                          0.3333333333333333,
                          "#9c179e"
                        ],
                        [
                          0.4444444444444444,
                          "#bd3786"
                        ],
                        [
                          0.5555555555555556,
                          "#d8576b"
                        ],
                        [
                          0.6666666666666666,
                          "#ed7953"
                        ],
                        [
                          0.7777777777777778,
                          "#fb9f3a"
                        ],
                        [
                          0.8888888888888888,
                          "#fdca26"
                        ],
                        [
                          1,
                          "#f0f921"
                        ]
                      ],
                      "sequentialminus": [
                        [
                          0,
                          "#0d0887"
                        ],
                        [
                          0.1111111111111111,
                          "#46039f"
                        ],
                        [
                          0.2222222222222222,
                          "#7201a8"
                        ],
                        [
                          0.3333333333333333,
                          "#9c179e"
                        ],
                        [
                          0.4444444444444444,
                          "#bd3786"
                        ],
                        [
                          0.5555555555555556,
                          "#d8576b"
                        ],
                        [
                          0.6666666666666666,
                          "#ed7953"
                        ],
                        [
                          0.7777777777777778,
                          "#fb9f3a"
                        ],
                        [
                          0.8888888888888888,
                          "#fdca26"
                        ],
                        [
                          1,
                          "#f0f921"
                        ]
                      ]
                    },
                    "colorway": [
                      "#636efa",
                      "#EF553B",
                      "#00cc96",
                      "#ab63fa",
                      "#FFA15A",
                      "#19d3f3",
                      "#FF6692",
                      "#B6E880",
                      "#FF97FF",
                      "#FECB52"
                    ],
                    "font": {
                      "color": "#2a3f5f"
                    },
                    "geo": {
                      "bgcolor": "white",
                      "lakecolor": "white",
                      "landcolor": "#E5ECF6",
                      "showlakes": true,
                      "showland": true,
                      "subunitcolor": "white"
                    },
                    "hoverlabel": {
                      "align": "left"
                    },
                    "hovermode": "closest",
                    "mapbox": {
                      "style": "light"
                    },
                    "paper_bgcolor": "white",
                    "plot_bgcolor": "#E5ECF6",
                    "polar": {
                      "angularaxis": {
                        "gridcolor": "white",
                        "linecolor": "white",
                        "ticks": ""
                      },
                      "bgcolor": "#E5ECF6",
                      "radialaxis": {
                        "gridcolor": "white",
                        "linecolor": "white",
                        "ticks": ""
                      }
                    },
                    "scene": {
                      "xaxis": {
                        "backgroundcolor": "#E5ECF6",
                        "gridcolor": "white",
                        "gridwidth": 2,
                        "linecolor": "white",
                        "showbackground": true,
                        "ticks": "",
                        "zerolinecolor": "white"
                      },
                      "yaxis": {
                        "backgroundcolor": "#E5ECF6",
                        "gridcolor": "white",
                        "gridwidth": 2,
                        "linecolor": "white",
                        "showbackground": true,
                        "ticks": "",
                        "zerolinecolor": "white"
                      },
                      "zaxis": {
                        "backgroundcolor": "#E5ECF6",
                        "gridcolor": "white",
                        "gridwidth": 2,
                        "linecolor": "white",
                        "showbackground": true,
                        "ticks": "",
                        "zerolinecolor": "white"
                      }
                    },
                    "shapedefaults": {
                      "line": {
                        "color": "#2a3f5f"
                      }
                    },
                    "ternary": {
                      "aaxis": {
                        "gridcolor": "white",
                        "linecolor": "white",
                        "ticks": ""
                      },
                      "baxis": {
                        "gridcolor": "white",
                        "linecolor": "white",
                        "ticks": ""
                      },
                      "bgcolor": "#E5ECF6",
                      "caxis": {
                        "gridcolor": "white",
                        "linecolor": "white",
                        "ticks": ""
                      }
                    },
                    "title": {
                      "x": 0.05
                    },
                    "xaxis": {
                      "automargin": true,
                      "gridcolor": "white",
                      "linecolor": "white",
                      "ticks": "",
                      "title": {
                        "standoff": 15
                      },
                      "zerolinecolor": "white",
                      "zerolinewidth": 2
                    },
                    "yaxis": {
                      "automargin": true,
                      "gridcolor": "white",
                      "linecolor": "white",
                      "ticks": "",
                      "title": {
                        "standoff": 15
                      },
                      "zerolinecolor": "white",
                      "zerolinewidth": 2
                    }
                  }
                },
                "title": {
                  "font": {
                    "size": 16
                  },
                  "text": ""
                },
                "width": 375,
                "xaxis": {
                  "autorange": true,
                  "showgrid": false,
                  "showline": false,
                  "showticklabels": false,
                  "ticks": "",
                  "visible": false,
                  "zeroline": false
                },
                "yaxis": {
                  "autorange": true,
                  "showgrid": false,
                  "showline": false,
                  "showticklabels": false,
                  "ticks": "",
                  "visible": false,
                  "zeroline": false
                }
              }
            }
          },
          "metadata": {},
          "output_type": "display_data"
        }
      ],
      "source": [
        "import networkx as nx\n",
        "from visualize import GraphVisualization\n",
        "\n",
        "def create_graph(graph):\n",
        "    g = to_networkx(graph)\n",
        "    pos = nx.spring_layout(g)\n",
        "    vis = GraphVisualization(\n",
        "        g,\n",
        "        pos,\n",
        "        node_text_position=\"top left\",\n",
        "        node_size=20,\n",
        "    )\n",
        "    fig = vis.create_figure()\n",
        "    return fig\n",
        "\n",
        "\n",
        "fig = create_graph(dataset[0])\n",
        "fig.show()"
      ]
    },
    {
      "cell_type": "markdown",
      "metadata": {},
      "source": [
        "# **GNN MODEL**"
      ]
    },
    {
      "cell_type": "markdown",
      "metadata": {},
      "source": [
        "Imports\n"
      ]
    },
    {
      "cell_type": "code",
      "execution_count": 99,
      "metadata": {},
      "outputs": [],
      "source": [
        "from torch.nn import Linear\n",
        "import torch.nn.functional as F\n",
        "from torch_geometric.nn import GCNConv\n",
        "from torch_geometric.nn import global_mean_pool"
      ]
    },
    {
      "cell_type": "markdown",
      "metadata": {},
      "source": [
        "Model definition\n"
      ]
    },
    {
      "cell_type": "code",
      "execution_count": 100,
      "metadata": {},
      "outputs": [],
      "source": [
        "\n",
        "class GCN(torch.nn.Module):\n",
        "    def __init__(self, in_features=dataset.num_node_features, hidden_channels=HIDDEN_NODE_COUNT, outfeatures = 2):\n",
        "        super(GCN, self).__init__()\n",
        "\n",
        "        # Input layer\n",
        "        self.conv1 = GCNConv(in_features, hidden_channels)\n",
        "\n",
        "        # Hidden layers\n",
        "        self.conv2 = GCNConv(hidden_channels, hidden_channels)\n",
        "        #self.conv3 = GCNConv(hidden_channels, hidden_channels)\n",
        "        #self.conv4 = GCNConv(hidden_channels, hidden_channels)\n",
        "        #self.conv5 = GCNConv(hidden_channels, hidden_channels)\n",
        "\n",
        "        # Output layer\n",
        "        self.lin = Linear(hidden_channels, outfeatures)\n",
        "\n",
        "    def forward(self, x, edge_index, batch):\n",
        "        # 1. Obtain node embeddings\n",
        "        x = self.conv1(x, edge_index)\n",
        "        x = x.relu()\n",
        "        x = self.conv2(x, edge_index)\n",
        "        x = x.relu()\n",
        "        #x = self.conv3(x, edge_index)\n",
        "        #x = x.relu()\n",
        "        #x = self.conv4(x, edge_index)\n",
        "        #x = x.relu()\n",
        "        #x = self.conv5(x, edge_index)\n",
        "\n",
        "        # 2. Readout layer\n",
        "        x = global_mean_pool(x, batch)  # [batch_size, hidden_channels]\n",
        "\n",
        "        # 3. Apply a final classifier\n",
        "        x = F.dropout(x, p=0.5, training=self.training)\n",
        "        x = self.lin(x)\n",
        "\n",
        "        return x"
      ]
    },
    {
      "cell_type": "markdown",
      "metadata": {},
      "source": [
        "super model"
      ]
    },
    {
      "cell_type": "code",
      "execution_count": 101,
      "metadata": {},
      "outputs": [],
      "source": [
        "class SuperModel():\n",
        "    def __init__(self, model: GCN, loss, optim):\n",
        "        self.model = model\n",
        "        self.loss_function = loss\n",
        "        self.optimizer = optim\n",
        "    "
      ]
    },
    {
      "cell_type": "markdown",
      "metadata": {},
      "source": [
        "Returned data model"
      ]
    },
    {
      "cell_type": "code",
      "execution_count": 102,
      "metadata": {},
      "outputs": [],
      "source": [
        "class TrainData():\n",
        "    def __init__(self):\n",
        "        self.train_losses = []\n",
        "        self.train_accuracies = []\n",
        "        self.train_labels = []\n",
        "        self.train_scores = []\n",
        "        \n",
        "class TestData():\n",
        "    def __init__(self):\n",
        "        self.test_losses = []\n",
        "        self.test_accuracies = []\n",
        "        self.test_scores = []\n",
        "        self.test_labels = []"
      ]
    },
    {
      "cell_type": "markdown",
      "metadata": {},
      "source": [
        "# **TRAINING & Test**"
      ]
    },
    {
      "cell_type": "code",
      "execution_count": 103,
      "metadata": {},
      "outputs": [],
      "source": [
        "from tqdm import trange"
      ]
    },
    {
      "cell_type": "markdown",
      "metadata": {},
      "source": [
        "Basic model training"
      ]
    },
    {
      "cell_type": "code",
      "execution_count": 104,
      "metadata": {},
      "outputs": [],
      "source": [
        "#def hyperParameterTester(hc=HIDDEN_NODE_COUNT, learn=LEARNING_RATE):\n",
        "#    \n",
        "#    torch.manual_seed(MANUAL_SEED)                              # Set manual seed\n",
        "#    model = GCN(hidden_channels=hc)                             # Initilialize model\n",
        "#    model.to(device=device)\n",
        "#\n",
        "#    optimizer = torch.optim.Adam(model.parameters(), lr=learn)  # Set optimizer with learning rate\n",
        "#    loss_function = torch.nn.CrossEntropyLoss()                 # Set loss function\n",
        "#\n",
        "#    returnData = GCNData()\n",
        "#\n",
        "#    for epoch in trange(1, EPOCHS):\n",
        "#        train()\n",
        "#    test(train_loader)\n",
        "#    \n",
        "#    return returnData\n"
      ]
    },
    {
      "cell_type": "markdown",
      "metadata": {},
      "source": [
        "## Train"
      ]
    },
    {
      "cell_type": "code",
      "execution_count": 105,
      "metadata": {},
      "outputs": [],
      "source": [
        "def train(model_env: SuperModel, data_loader, train_data: TestData):\n",
        "    model_env.model.train()\n",
        "    loss_ = 0\n",
        "    correct = 0\n",
        "    i = 0\n",
        "\n",
        "    for data in data_loader:  # Iterates the batches. We declared each batch to be of size 64\n",
        "        data = data.to(device, non_blocking=True)\n",
        "        # Calculate output, and get the maximum of those in order to obtain the predicted value\n",
        "        out = model_env.model(data.x, data.edge_index, data.batch)\n",
        "        cat = torch.argmax(out, dim=1)\n",
        "\n",
        "        correct += int((cat == data.y).sum())  # Check against ground-truth labels.\n",
        "        \n",
        "        loss = model_env.loss_function(out, data.y)\n",
        "        loss_ += loss.item()\n",
        "        \n",
        "        loss.backward()\n",
        "        model_env.optimizer.step()\n",
        "        model_env.optimizer.zero_grad()\n",
        "\n",
        "        i+=1\n",
        "\n",
        "        # Append actual and preddicted to respective array. Have to be converted to NumPy arrays in order to flatten them.\n",
        "        # We flatten them as 1D arrays are required by SK in order to calculate and plot ROC AUC\n",
        "        #This is not going to change for each epoch, so computational power is wasted here...\n",
        "        arrayLabel = np.array(data.y.to('cpu'))\n",
        "        for value in arrayLabel.flatten():\n",
        "            train_data.train_labels.append(value)\n",
        "\n",
        "        arrayCat = np.array(cat.to('cpu'))\n",
        "        for value in arrayCat.flatten():\n",
        "            train_data.train_scores.append(value)\n",
        "\n",
        "    #tt.set_description(\"loss: %2f. accuracy %2f.\" % (loss, correct/len(train_loader.dataset)))\n",
        "    train_data.train_losses.append(loss_/ i)\n",
        "    train_data.train_accuracies.append(correct/len(train_loader.dataset))"
      ]
    },
    {
      "cell_type": "markdown",
      "metadata": {},
      "source": [
        "## Test"
      ]
    },
    {
      "cell_type": "code",
      "execution_count": 118,
      "metadata": {},
      "outputs": [],
      "source": [
        "def test(model_env: SuperModel, data_loader, test_data: TestData):\n",
        "    model_env.model.eval()\n",
        "    correct = 0\n",
        "    loss_ = 0\n",
        "    i = 0\n",
        "    for data in data_loader:  # Iterate in batches over the training/test dataset.\n",
        "        data = data.to(device, non_blocking=True)\n",
        "        out = model_env.model(data.x, data.edge_index, data.batch)\n",
        "        cat = torch.argmax(out, dim=1)\n",
        "\n",
        "        correct += int((cat == data.y).sum())  # Check against ground-truth labels.\n",
        "\n",
        "        loss = model_env.loss_function(out, data.y)\n",
        "        loss_ += loss.item()\n",
        "\n",
        "        i+=1\n",
        "\n",
        "        arrayLabel = np.array(data.y.to('cpu'))\n",
        "        for value in arrayLabel.flatten():\n",
        "            test_data.test_labels.append(value)\n",
        "\n",
        "        arrayCat = np.array(cat.to('cpu'))\n",
        "        for value in arrayCat.flatten():\n",
        "            test_data.test_scores.append(value)\n",
        "        \n",
        "    \n",
        "    test_data.test_losses.append(loss_/ i)\n",
        "    test_data.test_accuracies.append(correct/len(data_loader.dataset))"
      ]
    },
    {
      "cell_type": "markdown",
      "metadata": {},
      "source": [
        "# **PLOTTING** "
      ]
    },
    {
      "cell_type": "code",
      "execution_count": 107,
      "metadata": {},
      "outputs": [],
      "source": [
        "import matplotlib.pyplot as plt\n",
        "import numpy as np\n",
        "import matplotlib.style as mplstyle\n",
        "import sklearn\n",
        "from sklearn import metrics\n",
        "from sklearn.metrics import RocCurveDisplay"
      ]
    },
    {
      "cell_type": "markdown",
      "metadata": {},
      "source": [
        "**Plotting helper functions** "
      ]
    },
    {
      "cell_type": "code",
      "execution_count": 108,
      "metadata": {},
      "outputs": [],
      "source": [
        "def GraphPrettifier(figname, ylabel, title):\n",
        "    figure = plt.figure(figname)\n",
        "    figure.patch.set_facecolor('lightgray')\n",
        "    plt.xlabel(\"# Epochs\")\n",
        "    plt.ylabel(ylabel)\n",
        "    plt.title(title)\n",
        "    plt.grid()\n",
        "    plt.legend()\n",
        "\n",
        "# Used for prettier graph\n",
        "def AvgCalculator(data, numChunks):\n",
        "    averageOfData = []\n",
        "    chunkSize = len(data) // numChunks\n",
        "    for i in range(0, len(data), chunkSize):\n",
        "        chunk = data[i:i+chunkSize]\n",
        "        chunkAvg = sum(chunk) / len(chunk)\n",
        "        averageOfData.append(chunkAvg)\n",
        "    return averageOfData\n",
        "\n",
        "# ROC AUC PLOT\n",
        "def plotROCAUC(labels, scores, title, ax):\n",
        "    # roc_auc = roc_auc_score(labels, scores)\n",
        "\n",
        "    fpr, tpr, _ = metrics.roc_curve(labels,  scores)\n",
        "    auc = metrics.roc_auc_score(labels, scores)\n",
        "    ax.set_title(title)\n",
        "    ax.plot(fpr,tpr)\n",
        "    ax.legend([\"auc=\"+str(round(auc, 2))], handlelength=0, handletextpad=0)\n",
        "\n",
        "    # RocCurveDisplay.from_predictions(labels, scores)\n",
        "\n",
        "    #plt.show()"
      ]
    },
    {
      "cell_type": "markdown",
      "metadata": {},
      "source": [
        "Create a class for plotting parameters"
      ]
    },
    {
      "cell_type": "code",
      "execution_count": 109,
      "metadata": {},
      "outputs": [],
      "source": [
        "class PP():\n",
        "    def __init__(self, value, colour):\n",
        "        self.value = value\n",
        "        self.colour = colour"
      ]
    },
    {
      "cell_type": "markdown",
      "metadata": {},
      "source": [
        "**Function for plotting the basic graph**"
      ]
    },
    {
      "cell_type": "code",
      "execution_count": 110,
      "metadata": {},
      "outputs": [],
      "source": [
        "def PlotBasic():\n",
        "    data = hyperParameterTester() # Get data\n",
        "    AndreasPlot(data)\n",
        "    X = np.arange(0, len(data.train_accuracies))\n",
        "    plt.figure('g', figsize=[10,5])\n",
        "    plt.plot(X, np.array(data.train_accuracies), c=\"indianred\", label=\"Accuracy\")\n",
        "    plt.plot(X, np.array(data.train_losses), c=\"navy\", label=\"Loss\")\n",
        "    GraphPrettifier('g', '', 'Accuracy and Loss')\n",
        "    plt.show()"
      ]
    },
    {
      "cell_type": "markdown",
      "metadata": {},
      "source": [
        "**Plotting learning rates**"
      ]
    },
    {
      "cell_type": "code",
      "execution_count": 111,
      "metadata": {},
      "outputs": [],
      "source": [
        "def PlotOverLR(para, cleanGraph=False, numChunks = 50):\n",
        "    EstNumData = (EPOCHS-1)*len(train_loader)\n",
        "    X = np.arange(0, (EPOCHS-1)*len(train_loader)) if not cleanGraph else np.arange(0, EstNumData, EstNumData//numChunks)\n",
        "\n",
        "    for p in para:\n",
        "        data = hyperParameterTester(learn = p.value) # Get data\n",
        "\n",
        "        plt.figure('Acc', figsize=[10,5]) # Activate figure with accuracy\n",
        "        accuracies = np.array(data.train_accuracies)\n",
        "        if not cleanGraph: plt.plot(X, accuracies, color=p.colour, label='Learning rate: {}'.format(p.value))\n",
        "\n",
        "        plt.figure('Loss', figsize=[10,5]) # Activate figure with loss\n",
        "        losses = np.array(data.train_losses)\n",
        "        if not cleanGraph: plt.plot(X, losses, color=p.colour, label='Learning rate: {}'.format(p.value))\n",
        "\n",
        "        if cleanGraph: # Taking averages for prettier graph\n",
        "            averageAcc = AvgCalculator(accuracies, numChunks)\n",
        "            averageLoss = AvgCalculator(losses, numChunks)\n",
        "            \n",
        "            plt.figure('Acc') # Activate figure with accuracy\n",
        "            plt.plot(X, averageAcc, color=p.colour, label='Learning rate: {}'.format(p.value))\n",
        "            plt.figure('Loss') # Activate figure with loss\n",
        "            plt.plot(X, averageLoss, color=p.colour, label='Learning rate: {}'.format(p.value))\n",
        "\n",
        "    script_dir = os.getcwd()\n",
        "    save_dir = os.path.join(script_dir, 'Figures/LR/')\n",
        "\n",
        "    if not os.path.isdir(save_dir):\n",
        "        os.makedirs(save_dir)\n",
        "\n",
        "    save_name = \"Accuracy.pdf\"\n",
        "    GraphPrettifier('Acc', 'Accuracy', 'Accuracy with different learning rates')\n",
        "    plt.savefig(save_dir + save_name)\n",
        "\n",
        "    save_name = \"Loss.pdf\"\n",
        "    GraphPrettifier('Loss', 'Loss', 'Loss with different learning rates')\n",
        "    plt.savefig(save_dir + save_name)\n",
        "\n",
        "    plt.show()"
      ]
    },
    {
      "cell_type": "markdown",
      "metadata": {},
      "source": [
        "**Plotting node count**"
      ]
    },
    {
      "cell_type": "code",
      "execution_count": 112,
      "metadata": {},
      "outputs": [],
      "source": [
        "def PlotOverHC(para, cleanGraph=False, numChunks = 50):\n",
        "    EstNumData = (EPOCHS-1)*len(train_loader)\n",
        "    X = np.arange(0, (EPOCHS-1)*len(train_loader)) if not cleanGraph else np.arange(0, EstNumData, EstNumData//numChunks)\n",
        "\n",
        "    for p in para:\n",
        "        data = hyperParameterTester(hc = p.value) # Get data\n",
        "\n",
        "        plt.figure('Acc', figsize=[10,5]) # Activate figure with accuracy\n",
        "        accuracies = np.array(data.train_accuracies)\n",
        "        if not cleanGraph: plt.plot(X, accuracies, color=p.colour, label='# Neurons: {}'.format(p.value))\n",
        "\n",
        "        plt.figure('Loss', figsize=[10,5]) # Activate figure with loss\n",
        "        losses = np.array(data.train_losses)\n",
        "        if not cleanGraph: plt.plot(X, losses, color=p.colour, label='# Neurons: {}'.format(p.value))\n",
        "\n",
        "        if cleanGraph: # Taking averages for prettier graph\n",
        "            averageAcc = AvgCalculator(accuracies, numChunks)\n",
        "            averageLoss = AvgCalculator(losses, numChunks)\n",
        "            \n",
        "            plt.figure('Acc') # Activate figure with accuracy\n",
        "            plt.plot(X, averageAcc, color=p.colour, label='# Neurons: {}'.format(p.value))\n",
        "            plt.figure('Loss') # Activate figure with loss\n",
        "            plt.plot(X, averageLoss, color=p.colour, label='# Neurons: {}'.format(p.value))\n",
        "\n",
        "    script_dir = os.getcwd()\n",
        "    save_dir = os.path.join(script_dir, 'Figures/HC/')\n",
        "\n",
        "    if not os.path.isdir(save_dir):\n",
        "        os.makedirs(save_dir)\n",
        "\n",
        "    save_name = \"Accuracy.pdf\"\n",
        "    GraphPrettifier('Acc', 'Accuracy', 'Accuracy with different neurons in the hidden layers')\n",
        "    plt.savefig(save_dir + save_name)\n",
        "\n",
        "    save_name = \"Loss.pdf\"\n",
        "    GraphPrettifier('Loss', 'Loss', 'Loss with different neurons in the hidden layers')\n",
        "    plt.savefig(save_dir + save_name)\n",
        "\n",
        "    plt.show()"
      ]
    },
    {
      "cell_type": "code",
      "execution_count": 113,
      "metadata": {},
      "outputs": [],
      "source": [
        "import matplotlib.gridspec as gridspec\n",
        "import matplotlib.patches as patches\n",
        "from datetime import datetime\n",
        "\n",
        "# ACCURACY PLOT\n",
        "def plotAccuracy(losses, accuracies, title, ax):\n",
        "    #fig, ax[0,1] = sub\n",
        "    ax.set_title(title)\n",
        "    ax.set_ylim(0, 1)\n",
        "    ax.plot(losses)\n",
        "    ax.plot(accuracies)\n",
        "    ax.plot(losses, label=\"Loss\")\n",
        "    ax.plot(accuracies, label=\"Accuracy\")\n",
        "    ax.legend(loc=\"lower center\")\n",
        "    \n",
        "    \n",
        "    #plt.show()\n",
        "\n",
        "def AndreasPlot(train_data: TrainData, test_data: TestData):\n",
        "    plot_training = True\n",
        "    plot_testing = True\n",
        "\n",
        "    plot_accuracy = True\n",
        "    plot_rocauc = True\n",
        "\n",
        "    fig = plt.figure(figsize=(8, 6))\n",
        "\n",
        "    gs = gridspec.GridSpec(3, 2)\n",
        "\n",
        "    ax1 = plt.subplot(gs[0, :])\n",
        "\n",
        "\n",
        "\n",
        "    table_data = [\n",
        "        [\"Seed\", \"Activation\", \"Weight Initializer\", \"Loss function\", \"Pooling\", \"Optimizer\", \"# GCN layers\", \"Neurons\", \"Split\", \"Epochs\", \"Batch Size\", \"LR\"],\n",
        "            [str(MANUAL_SEED), \"ReLU\", \"Default\", \"C-Entropy\", \"GMax Pooling\", \"Adam\", \"3\", \"7, 64, 64, 64, 2\", str(round(DATASPLIT/188, 2)), str(EPOCHS), \"64\", str(LEARNING_RATE)],\n",
        "    ]\n",
        "\n",
        "    table_data_1 = [table_data[0][:len(table_data[0]) // 2], table_data[1][:len(table_data[1]) // 2]]\n",
        "    table_data_2 = [table_data[0][len(table_data[0]) // 2:], table_data[1][len(table_data[1]) // 2:]]\n",
        "\n",
        "    # Create the first table in the top subplot (upper section)\n",
        "    table_1 = ax1.table(cellText=table_data_1, cellLoc='center', loc='center')\n",
        "    table_1.auto_set_font_size(False)\n",
        "    table_1.set_fontsize(12)\n",
        "    table_1.scale(1.2, 1.2)\n",
        "\n",
        "    # Create the second table in the top subplot (lower section)\n",
        "    table_2 = ax1.table(cellText=table_data_2, cellLoc='center', loc='bottom')\n",
        "    table_2.auto_set_font_size(False)\n",
        "    table_2.set_fontsize(12)\n",
        "    table_2.scale(1.2, 1.2)\n",
        "\n",
        "\n",
        "\n",
        "    # Hide axis and display the table\n",
        "    #ax1 = plt.gca()\n",
        "    ax1.axis('off')\n",
        "\n",
        "    #divider_y = -1.1  # Adjust the y-coordinate as needed\n",
        "    #ax1.axhline(divider_y, color='black')\n",
        "\n",
        "\n",
        "\n",
        "\n",
        "    # Plot for train\n",
        "    if(plot_training):\n",
        "        if(plot_accuracy):\n",
        "            #ax00 = ax[0, 0]\n",
        "            ax00 = plt.subplot(gs[1, 0])\n",
        "\n",
        "            plotAccuracy(train_data.train_losses, train_data.train_accuracies, \"Training: Accuracy & Loss\", ax00)\n",
        "\n",
        "        if(plot_rocauc):\n",
        "            #ax10 = ax[0, 1]\n",
        "            ax10 = plt.subplot(gs[2, 0])\n",
        "\n",
        "            plotROCAUC(train_data.train_labels, train_data.train_scores, \"Training: ROC AUC\", ax10)\n",
        "\n",
        "    # Plot for test\n",
        "    if(plot_testing):\n",
        "        if(plot_accuracy):\n",
        "            #ax01 = ax[1, 0]\n",
        "            ax01 = plt.subplot(gs[1, 1])\n",
        "\n",
        "            plotAccuracy(test_data.test_losses, test_data.test_accuracies, \"Testing: Accuracy & Loss\", ax01)\n",
        "\n",
        "        if(plot_rocauc):\n",
        "            #ax11 = ax[1, 1]\n",
        "            ax11 = plt.subplot(gs[2, 1])\n",
        "\n",
        "            plotROCAUC(test_data.test_labels, test_data.test_scores, \"Testing: ROC AUC\" ,ax11)\n",
        "\n",
        "    now = datetime.now()\n",
        "\n",
        "    title = \"Model algorithm/parameter & performance profile. Profiled on {}.\".format(now.strftime(\"%d/%m/%Y, %H:%M:%S\"))\n",
        "\n",
        "    fig.suptitle(title, fontsize=12, wrap=True)\n",
        "\n",
        "    plt.tight_layout()"
      ]
    },
    {
      "cell_type": "markdown",
      "metadata": {},
      "source": [
        "**Utilizing the two functions on some parameters**"
      ]
    },
    {
      "cell_type": "code",
      "execution_count": 114,
      "metadata": {},
      "outputs": [],
      "source": [
        "LRparameters = {PP(0.1, 'lightsalmon'), PP(0.01, 'goldenrod'), PP(0.001, 'mediumaquamarine'), PP(0.005, 'rosybrown')}\n",
        "HCparameters = {PP(5, 'firebrick'), PP(10, 'lightsalmon'), PP(20, 'darkgoldenrod'), PP(40, 'goldenrod'), PP(64, 'mediumaquamarine'), PP(100, 'black'), PP(200, 'rosybrown')}\n",
        "#PlotOverLR(LRparameters, cleanGraph=True)\n",
        "#PlotOverHC(HCparameters, cleanGraph=True)\n",
        "#PlotBasic()"
      ]
    },
    {
      "cell_type": "markdown",
      "metadata": {},
      "source": [
        "# Training a model"
      ]
    },
    {
      "cell_type": "code",
      "execution_count": 119,
      "metadata": {},
      "outputs": [
        {
          "name": "stderr",
          "output_type": "stream",
          "text": [
            "100%|██████████| 100/100 [00:05<00:00, 18.87it/s]\n"
          ]
        },
        {
          "data": {
            "image/png": "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",
            "text/plain": [
              "<Figure size 800x600 with 5 Axes>"
            ]
          },
          "metadata": {},
          "output_type": "display_data"
        }
      ],
      "source": [
        "model = GCN(hidden_channels=64)\n",
        "model.to(device=device)\n",
        "loss_func = torch.nn.CrossEntropyLoss()\n",
        "optim = torch.optim.Adam(model.parameters(), lr=0.001)\n",
        "super_model = SuperModel(model=model, loss = loss_func, optim=optim)\n",
        "\n",
        "train_data = TrainData()\n",
        "test_data = TestData()\n",
        "\n",
        "for i in trange(100):\n",
        "    train(super_model, train_loader, train_data)\n",
        "    test(super_model, train_loader, test_data)\n",
        "\n",
        "AndreasPlot(train_data=train_data, test_data=test_data)"
      ]
    }
  ],
  "metadata": {
    "interpreter": {
      "hash": "bf423cc7eddb4827927bca0f229b2eeb19fec3ab3cc0928d5038e56f63a54ddc"
    },
    "kernelspec": {
      "display_name": "Python 3.11.5 64-bit",
      "name": "python3"
    },
    "language_info": {
      "codemirror_mode": {
        "name": "ipython",
        "version": 3
      },
      "file_extension": ".py",
      "mimetype": "text/x-python",
      "name": "python",
      "nbconvert_exporter": "python",
      "pygments_lexer": "ipython3",
      "version": "3.11.5"
    }
  },
  {
   "cell_type": "markdown",
   "metadata": {},
   "source": [
    "Constants"
   ]
  },
  {
   "cell_type": "code",
   "execution_count": 1,
   "metadata": {},
   "outputs": [
    {
     "name": "stdout",
     "output_type": "stream",
     "text": [
      "%pylab is deprecated, use %matplotlib inline and import the required libraries.\n",
      "Populating the interactive namespace from numpy and matplotlib\n"
     ]
    }
   ],
   "source": [
    "EPOCHS = 300\n",
    "LEARNING_RATE = 0.01\n",
    "MANUAL_SEED = 12345\n",
    "HIDDEN_NODE_COUNT = 64\n",
    "DATASPLIT = 150\n",
    "BATCH_SIZE_TRAINING = 64\n",
    "BATCH_SIZE_TESTING = 1\n",
    "\n",
    "%pylab inline"
   ]
  },
  {
   "cell_type": "markdown",
   "metadata": {},
   "source": [
    "# **CLASSES**"
   ]
  },
  {
   "cell_type": "markdown",
   "metadata": {},
   "source": [
    "Imports\n"
   ]
  },
  {
   "cell_type": "code",
   "execution_count": 4,
   "metadata": {},
   "outputs": [],
   "source": [
    "import torch\n",
    "from torch.nn import Linear\n",
    "import torch.nn.functional as F\n",
    "from torch_geometric.nn import GCNConv\n",
    "from torch_geometric.nn import global_mean_pool"
   ]
  },
  {
   "cell_type": "markdown",
   "metadata": {},
   "source": [
    "Model definition\n"
   ]
  },
  {
   "cell_type": "code",
   "execution_count": 5,
   "metadata": {},
   "outputs": [],
   "source": [
    "\n",
    "class GCN(torch.nn.Module):\n",
    "    def __init__(self, in_features=7, hidden_channels=HIDDEN_NODE_COUNT, outfeatures = 2):\n",
    "        super(GCN, self).__init__()\n",
    "\n",
    "        # Input layer\n",
    "        self.conv1 = GCNConv(in_features, hidden_channels)\n",
    "\n",
    "        # Hidden layers\n",
    "        self.conv2 = GCNConv(hidden_channels, hidden_channels)\n",
    "        self.conv3 = GCNConv(hidden_channels, hidden_channels)\n",
    "        self.conv4 = GCNConv(hidden_channels, hidden_channels)\n",
    "        self.conv5 = GCNConv(hidden_channels, hidden_channels)\n",
    "\n",
    "        # Output layer\n",
    "        self.lin = Linear(hidden_channels, outfeatures)\n",
    "\n",
    "    def forward(self, x, edge_index, batch):\n",
    "        # 1. Obtain node embeddings\n",
    "        x = self.conv1(x, edge_index)\n",
    "        x = x.relu()\n",
    "        x = self.conv2(x, edge_index)\n",
    "        x = x.relu()\n",
    "        x = self.conv3(x, edge_index)\n",
    "        x = x.relu()\n",
    "        x = self.conv4(x, edge_index)\n",
    "        x = x.relu()\n",
    "        x = self.conv5(x, edge_index)\n",
    "\n",
    "        # 2. Readout layer\n",
    "        x = global_mean_pool(x, batch)  # [batch_size, hidden_channels]\n",
    "\n",
    "        # 3. Apply a final classifier\n",
    "        x = F.dropout(x, p=0.5, training=self.training)\n",
    "        x = self.lin(x)\n",
    "\n",
    "        return x"
   ]
  },
  {
   "cell_type": "code",
   "execution_count": 6,
   "metadata": {},
   "outputs": [],
   "source": [
    "class BaseModel():\n",
    "    def __init__(self, model: GCN, loss, optim):\n",
    "        self.model = model\n",
    "        self.loss_function = loss\n",
    "        self.optimizer = optim"
   ]
  },
  {
   "cell_type": "code",
   "execution_count": 38,
   "metadata": {},
   "outputs": [],
   "source": [
    "# The data generated by training the model over 1 epoch\n",
    "class TrainData():\n",
    "    def __init__(self):\n",
    "        self.train_losses = 0\n",
    "        self.train_accuracies = 0\n",
    "        self.train_labels = []\n",
    "        self.train_scores = []\n",
    "        \n",
    "# The data generated by Testing the model once\n",
    "class TestData():\n",
    "    def __init__(self):\n",
    "        self.test_losses = 0 \n",
    "        self.test_accuracies = 0\n",
    "        self.test_scores = []\n",
    "        self.test_labels = []\n",
    "\n",
    "# All data from a given set of hyperparameters.\n",
    "# Data passed to plotting functions\n",
    "class AllData():\n",
    "    def __init__(self):\n",
    "        self.train_accuracies = []\n",
    "        self.train_losses = []\n",
    "        self.train_labels = []\n",
    "        self.train_scores = []\n",
    "        self.test_losses = []\n",
    "        self.test_accuracies = []\n",
    "        self.test_scores = []\n",
    "        self.test_labels = []\n",
    "    def insert_train_data (self, data: TrainData):\n",
    "        self.train_accuracies.append(data.train_accuracies)\n",
    "        self.train_losses.append(data.train_losses)\n",
    "        self.train_labels.extend(data.train_labels)\n",
    "        self.train_scores.extend(data.train_scores)\n",
    "    def insert_test_data (self, data: TestData):\n",
    "        self.train_accuracies.append(data.test_accuracies)\n",
    "        self.train_losses.append(data.test_losses)\n",
    "        self.train_labels.extend(data.test_labels)\n",
    "        self.train_scores.extend(data.test_scores)\n",
    "\n"
   ]
  },
  {
   "cell_type": "markdown",
   "metadata": {},
   "source": [
    "# **Dataset import**"
   ]
  },
  {
   "cell_type": "code",
   "execution_count": 8,
   "metadata": {},
   "outputs": [],
   "source": [
    "import os\n",
    "import torch_geometric\n",
    "\n",
    "from torch_geometric.datasets import TUDataset\n",
    "from torch_geometric.utils import to_networkx\n",
    "from torch_geometric.loader import DataLoader"
   ]
  },
  {
   "cell_type": "code",
   "execution_count": 9,
   "metadata": {},
   "outputs": [],
   "source": [
    "dataset = TUDataset(root='dataset/Mutag', name='MUTAG')\n",
    "\n",
    "data_details = {\n",
    "    \"num_node_features\": dataset.num_node_features,\n",
    "    \"num_edge_features\": dataset.num_edge_features,\n",
    "    \"num_classes\": dataset.num_classes,\n",
    "    \"num_node_labels\": dataset.num_node_labels,\n",
    "    \"num_edge_labels\": dataset.num_edge_labels,\n",
    "}"
   ]
  },
  {
   "cell_type": "code",
   "execution_count": 10,
   "metadata": {},
   "outputs": [
    {
     "name": "stdout",
     "output_type": "stream",
     "text": [
      "{'num_node_features': 7, 'num_edge_features': 4, 'num_classes': 2, 'num_node_labels': 7, 'num_edge_labels': 4}\n"
     ]
    }
   ],
   "source": [
    "print(data_details)"
   ]
  },
  {
   "cell_type": "markdown",
   "metadata": {},
   "source": [
    "# **Getting device**\n"
   ]
  },
  {
   "cell_type": "code",
   "execution_count": 11,
   "metadata": {},
   "outputs": [
    {
     "name": "stdout",
     "output_type": "stream",
     "text": [
      "cpu\n"
     ]
    }
   ],
   "source": [
    "if torch.cuda.is_available():\n",
    "    device = torch.device('cuda')\n",
    "elif hasattr(torch.backends, 'mps') and torch.backends.mps.is_available():\n",
    "    # MPS is currently slower than CPU due to missing int64 min/max ops\n",
    "    device = torch.device('cpu')\n",
    "else:\n",
    "    device = torch.device('cpu')\n",
    "print(device)"
   ]
  },
  {
   "cell_type": "markdown",
   "metadata": {},
   "source": [
    "# **DATA SPLITTING**"
   ]
  },
  {
   "cell_type": "markdown",
   "metadata": {},
   "source": [
    "Shuffle data (optional)"
   ]
  },
  {
   "cell_type": "code",
   "execution_count": 12,
   "metadata": {},
   "outputs": [],
   "source": [
    "dataset = dataset.shuffle()"
   ]
  },
  {
   "cell_type": "markdown",
   "metadata": {},
   "source": [
    "Create training set and test set (size defined in constants)"
   ]
  },
  {
   "cell_type": "code",
   "execution_count": 13,
   "metadata": {},
   "outputs": [
    {
     "name": "stdout",
     "output_type": "stream",
     "text": [
      "150\n",
      "38\n"
     ]
    }
   ],
   "source": [
    "# Allocate for training\n",
    "train_dataset = dataset[:DATASPLIT]\n",
    "# Allocate the remainder for testing\n",
    "test_dataset = dataset[DATASPLIT:]\n",
    "\n",
    "# Define the data loaders. Used later for training, can be ignored for now\n",
    "train_loader = DataLoader(dataset=train_dataset, batch_size=BATCH_SIZE_TRAINING, shuffle=True)\n",
    "test_loader = DataLoader(dataset=test_dataset, batch_size=BATCH_SIZE_TESTING, shuffle=False)\n",
    "\n",
    "print(len(train_dataset))\n",
    "print(len(test_dataset))"
   ]
  },
  {
   "cell_type": "markdown",
   "metadata": {},
   "source": [
    "# **Model Functions**"
   ]
  },
  {
   "cell_type": "code",
   "execution_count": 22,
   "metadata": {},
   "outputs": [],
   "source": [
    "from tqdm import trange\n",
    "import numpy as np"
   ]
  },
  {
   "cell_type": "markdown",
   "metadata": {},
   "source": [
    "Training & Testing "
   ]
  },
  {
   "cell_type": "code",
   "execution_count": 32,
   "metadata": {},
   "outputs": [],
   "source": [
    "def train(model_env: BaseModel, data_loader):\n",
    "    model_env.model.train()\n",
    "    loss_ = 0\n",
    "    correct = 0\n",
    "    i = 0\n",
    "    returnData = TrainData()\n",
    "\n",
    "    for data in data_loader:  # Iterates the batches. We declared each batch to be of size 64\n",
    "        data = data.to(device, non_blocking=True)\n",
    "        # Calculate output, and get the maximum of those in order to obtain the predicted value\n",
    "        out = model_env.model(data.x, data.edge_index, data.batch)\n",
    "        cat = torch.argmax(out, dim=1)\n",
    "\n",
    "        correct += int((cat == data.y).sum())  # Check against ground-truth labels.\n",
    "        \n",
    "        loss = model_env.loss_function(out, data.y)\n",
    "        loss_ += loss.item()\n",
    "        \n",
    "        loss.backward()\n",
    "        model_env.optimizer.step()\n",
    "        model_env.optimizer.zero_grad()\n",
    "\n",
    "        i+=1\n",
    "\n",
    "        # Append actual and preddicted to respective array. Have to be converted to NumPy arrays in order to flatten them.\n",
    "        # We flatten them as 1D arrays are required by SK in order to calculate and plot ROC AUC\n",
    "        #This is not going to change for each epoch, so computational power is wasted here...\n",
    "        arrayLabel = np.array(data.y.to('cpu'))\n",
    "        for value in arrayLabel.flatten():\n",
    "            returnData.train_labels.append(value)\n",
    "\n",
    "        arrayCat = np.array(cat.to('cpu'))\n",
    "        for value in arrayCat.flatten():\n",
    "            returnData.train_scores.append(value)\n",
    "\n",
    "    returnData.train_accuracies = (correct/len(train_loader.dataset))\n",
    "    returnData.train_losses = (loss_/i)\n",
    "    #tt.set_description(\"loss: %2f. accuracy %2f.\" % (loss, correct/len(train_loader.dataset)))\n",
    "    return returnData\n",
    "\n",
    "\n",
    "def test(model_env: BaseModel, data_loader):\n",
    "    model_env.model.eval()\n",
    "    correct = 0\n",
    "    loss_ = 0\n",
    "    i = 0\n",
    "    returnData = TestData()\n",
    "\n",
    "    for data in data_loader:  # Iterate in batches over the training/test dataset.\n",
    "        data = data.to(device, non_blocking=True)\n",
    "        out = model_env.model(data.x, data.edge_index, data.batch)\n",
    "        cat = torch.argmax(out, dim=1)\n",
    "\n",
    "        correct += int((cat == data.y).sum())  # Check against ground-truth labels.\n",
    "\n",
    "        loss = model_env.loss_function(out, data.y)\n",
    "        loss_ += loss.item()\n",
    "\n",
    "        i+=1\n",
    "\n",
    "        arrayLabel = np.array(data.y.to('cpu'))\n",
    "        for value in arrayLabel.flatten():\n",
    "            returnData.test_labels.append(value)\n",
    "\n",
    "        arrayCat = np.array(cat.to('cpu'))\n",
    "        for value in arrayCat.flatten():\n",
    "            returnData.test_scores.append(value)\n",
    "\n",
    "    returnData.test_accuracies = (correct/len(data_loader.dataset))\n",
    "    returnData.test_losses = (loss_/ i)\n",
    "    \n",
    "    return returnData\n",
    "\n"
   ]
  },
  {
   "cell_type": "markdown",
   "metadata": {},
   "source": [
    "# **PLOTTING FUNCTIONS** "
   ]
  },
  {
   "cell_type": "code",
   "execution_count": 24,
   "metadata": {},
   "outputs": [],
   "source": [
    "import matplotlib.pyplot as plt\n",
    "import matplotlib.axes as axes\n",
    "import sklearn\n",
    "from sklearn import metrics\n",
    "from sklearn.metrics import RocCurveDisplay\n",
    "import matplotlib.gridspec as gridspec\n",
    "import matplotlib.patches as patches\n",
    "from datetime import datetime"
   ]
  },
  {
   "cell_type": "markdown",
   "metadata": {},
   "source": [
    "**Plotting helper functions** "
   ]
  },
  {
   "cell_type": "code",
   "execution_count": 25,
   "metadata": {},
   "outputs": [],
   "source": [
    "# Used for prettier graph\n",
    "def AvgCalculator(data, numChunks):\n",
    "    averageOfData = []\n",
    "    chunkSize = len(data) // numChunks\n",
    "    for i in range(0, len(data), chunkSize):\n",
    "        chunk = data[i:i+chunkSize]\n",
    "        chunkAvg = sum(chunk) / len(chunk)\n",
    "        averageOfData.append(chunkAvg)\n",
    "    return averageOfData\n",
    "\n",
    "# ROC AUC PLOT\n",
    "def plotROCAUC(labels, scores, title, ax):\n",
    "    # roc_auc = roc_auc_score(labels, scores)\n",
    "\n",
    "    fpr, tpr, _ = metrics.roc_curve(labels,  scores)\n",
    "    auc = metrics.roc_auc_score(labels, scores)\n",
    "    ax.set_title(title)\n",
    "    ax.plot(fpr,tpr)\n",
    "    ax.legend([\"auc=\"+str(round(auc, 2))], handlelength=0, handletextpad=0)\n",
    "\n",
    "    # RocCurveDisplay.from_predictions(labels, scores)\n",
    "\n",
    "    #plt.show()"
   ]
  },
  {
   "cell_type": "markdown",
   "metadata": {},
   "source": [
    "**Function for plotting the basic graph**"
   ]
  },
  {
   "cell_type": "code",
   "execution_count": 47,
   "metadata": {},
   "outputs": [],
   "source": [
    "def GraphPrettifier(ax: axes.Axes, title, xlabel, ylabel):\n",
    "    ax.set_title = title\n",
    "    ax.set_xlabel = xlabel\n",
    "    ax.set_ylabel = ylabel\n",
    "    ax.axis('on')\n",
    "    ax.set_facecolor('lightgray')\n",
    "    ax.grid()\n",
    "    ax.legend()\n",
    "\n",
    "def PlotGraph(data, ax: axes.Axes, label, color = \"black\", cleanGraph = False, numChunks = 20):\n",
    "    if not cleanGraph:\n",
    "        X = np.arange(0, len(data))\n",
    "    else:\n",
    "        X = np.arange(0, len(data), len(data)//numChunks)\n",
    "        data = AvgCalculator(data, numChunks)\n",
    "\n",
    "    ax.plot(X, data, c=color, label=label)\n",
    "    \n",
    "def MultiPlotter(allData: list[AllData], paramArray, paramName):\n",
    "    color_array = np.array([\"lightsalmon\", \"navy\", \"goldenrod\", \"aquamarine\", \"rosybrown\", \"darkgoldenrod\", \"cyan\", \"forestgreen\", \"wheat\", \"springgreen\", \"mediumpurple\", \"violet\", \"deeppink\", \"burlywood\", \"powderblue\", \"indigo\", \"azure\", \"chocolate\", \"saddlebrown\", \"linen\", \"chartreuse\", \"black\", \"floralwhite\", \"cornflowerblue\", \"fuchsia\", \"magenta\", \"orchid\", \"hotpink\", \"lightblue\", \"lime\", \"navajowhite\", \"royalblue\", \"teal\", \"ivory\", \"sienna\", \"sandybrown\"], dtype=str)\n",
    "\n",
    "\n",
    "\n",
    "    fig, ax = plt.subplots(2,2, figsize=(14,5)) # Initialize figure\n",
    "    i = 0\n",
    "    for data in allData: # Plot training data accuracies & loss\n",
    "        label = '{}: {}'.format(paramName, paramArray[i])\n",
    "        PlotGraph(data.train_accuracies, ax[0,0], label, color = np.random.choice(color_array, replace=False), cleanGraph=True, numChunks=40)\n",
    "        PlotGraph(data.train_losses, ax[0,1], label, color=np.random.choice(color_array, replace=False), cleanGraph=True, numChunks=40)\n",
    "        PlotGraph(data.test_accuracies, ax[1,0], label, color=np.random.choice(color_array, replace=False), cleanGraph=True, numChunks=40)\n",
    "        i += 1\n",
    "    GraphPrettifier(ax[0], \"Training: Accuracy over epochs\", \"# Epochs\", \"Accuracy\")\n",
    "    GraphPrettifier(ax[1], \"Training: Losses over epochs\", \"# Epochs\", \"Losses\")\n",
    "    \n",
    "\n",
    "    now = datetime.now()\n",
    "\n",
    "    title = \"Precision measurements using different values for {}. Profiled on {}\".format(paramName, now.strftime(\"%d/%m/%y), %H:%M:%S\"))\n",
    "    fig.suptitle(title, fontsize=12, wrap=True)\n",
    "    fig.show()"
   ]
  },
  {
   "cell_type": "code",
   "execution_count": 27,
   "metadata": {},
   "outputs": [],
   "source": [
    "import matplotlib.gridspec as gridspec\n",
    "import matplotlib.patches as patches\n",
    "from datetime import datetime\n",
    "\n",
    "# ACCURACY PLOT\n",
    "def plotAccuracy(losses, accuracies, title, ax):\n",
    "    #fig, ax[0,1] = sub\n",
    "    ax.set_title(title)\n",
    "    ax.set_ylim(0, 1)\n",
    "    ax.plot(losses)\n",
    "    ax.plot(accuracies)\n",
    "    ax.plot(losses, label=\"Loss\")\n",
    "    ax.plot(accuracies, label=\"Accuracy\")\n",
    "    ax.legend(loc=\"lower center\")\n",
    "    \n",
    "    \n",
    "    #plt.show()\n",
    "\n",
    "def AndreasPlot(trainData: TrainData, testData: TestData):\n",
    "    plot_training = True\n",
    "    plot_testing = True\n",
    "\n",
    "    plot_accuracy = True\n",
    "    plot_rocauc = True\n",
    "\n",
    "    fig = plt.figure(figsize=(8, 6))\n",
    "\n",
    "    gs = gridspec.GridSpec(3, 2)\n",
    "\n",
    "    ax1 = plt.subplot(gs[0, :])\n",
    "\n",
    "\n",
    "\n",
    "    table_data = [\n",
    "        [\"Seed\", \"Activation\", \"Weight Initializer\", \"Loss function\", \"Pooling\", \"Optimizer\", \"# GCN layers\", \"Neurons\", \"Split\", \"Epochs\", \"Batch Size\", \"LR\"],\n",
    "            [str(MANUAL_SEED), \"ReLU\", \"Default\", \"C-Entropy\", \"GMax Pooling\", \"Adam\", \"3\", \"7, 64, 64, 64, 2\", str(round(DATASPLIT/188, 2)), str(EPOCHS), \"64\", str(LEARNING_RATE)],\n",
    "    ]\n",
    "\n",
    "    table_data_1 = [table_data[0][:len(table_data[0]) // 2], table_data[1][:len(table_data[1]) // 2]]\n",
    "    table_data_2 = [table_data[0][len(table_data[0]) // 2:], table_data[1][len(table_data[1]) // 2:]]\n",
    "\n",
    "    # Create the first table in the top subplot (upper section)\n",
    "    table_1 = ax1.table(cellText=table_data_1, cellLoc='center', loc='center')\n",
    "    table_1.auto_set_font_size(False)\n",
    "    table_1.set_fontsize(12)\n",
    "    table_1.scale(1.2, 1.2)\n",
    "\n",
    "    # Create the second table in the top subplot (lower section)\n",
    "    table_2 = ax1.table(cellText=table_data_2, cellLoc='center', loc='bottom')\n",
    "    table_2.auto_set_font_size(False)\n",
    "    table_2.set_fontsize(12)\n",
    "    table_2.scale(1.2, 1.2)\n",
    "\n",
    "\n",
    "\n",
    "    # Hide axis and display the table\n",
    "    #ax1 = plt.gca()\n",
    "    ax1.axis('off')\n",
    "\n",
    "    #divider_y = -1.1  # Adjust the y-coordinate as needed\n",
    "    #ax1.axhline(divider_y, color='black')\n",
    "\n",
    "\n",
    "\n",
    "\n",
    "    # Plot for train\n",
    "    if(plot_training):\n",
    "        if(plot_accuracy):\n",
    "            #ax00 = ax[0, 0]\n",
    "            ax00 = plt.subplot(gs[1, 0])\n",
    "\n",
    "            plotAccuracy(trainData.train_losses, trainData.train_accuracies, \"Training: Accuracy & Loss\", ax00)\n",
    "\n",
    "        if(plot_rocauc):\n",
    "            #ax10 = ax[0, 1]\n",
    "            ax10 = plt.subplot(gs[2, 0])\n",
    "\n",
    "            plotROCAUC(trainData.train_labels, trainData.train_scores, \"Training: ROC AUC\", ax10)\n",
    "\n",
    "    # Plot for test\n",
    "    if(plot_testing):\n",
    "        if(plot_accuracy):\n",
    "            #ax01 = ax[1, 0]\n",
    "            ax01 = plt.subplot(gs[1, 1])\n",
    "            plotAccuracy(testData.test_losses, testData.test_accuracies, \"Testing: Accuracy & Loss\", ax01)\n",
    "\n",
    "        if(plot_rocauc):\n",
    "            #ax11 = ax[1, 1]\n",
    "            ax11 = plt.subplot(gs[2, 1])\n",
    "\n",
    "            plotROCAUC(testData.test_labels, testData.test_scores, \"Testing: ROC AUC\" ,ax11)\n",
    "\n",
    "    now = datetime.now()\n",
    "\n",
    "    title = \"Model algorithm/parameter & performance profile. Profiled on {}.\".format(now.strftime(\"%d/%m/%Y, %H:%M:%S\"))\n",
    "\n",
    "    fig.suptitle(title, fontsize=12, wrap=True)\n",
    "\n",
    "    plt.tight_layout()"
   ]
  },
  {
   "cell_type": "markdown",
   "metadata": {},
   "source": [
    "# **MODEL TRAINING AND PLOTTING**"
   ]
  },
  {
   "cell_type": "markdown",
   "metadata": {},
   "source": [
    "Initialize basic model"
   ]
  },
  {
   "cell_type": "code",
   "execution_count": 18,
   "metadata": {},
   "outputs": [],
   "source": [
    "gcn = GCN(in_features=dataset.num_node_features, hidden_channels=HIDDEN_NODE_COUNT)\n",
    "loss_f = torch.nn.CrossEntropyLoss()\n",
    "optimizer = torch.optim.Adam(gcn.parameters(), lr=LEARNING_RATE)\n",
    "\n",
    "model1 = BaseModel(gcn, loss_f, optimizer)"
   ]
  },
  {
   "cell_type": "markdown",
   "metadata": {},
   "source": [
    "Other models:"
   ]
  },
  {
   "cell_type": "code",
   "execution_count": 48,
   "metadata": {},
   "outputs": [
    {
     "name": "stderr",
     "output_type": "stream",
     "text": [
      "100%|██████████| 300/300 [00:09<00:00, 32.65it/s]\n",
      "100%|██████████| 300/300 [00:09<00:00, 32.51it/s]\n",
      "100%|██████████| 300/300 [00:09<00:00, 31.94it/s]\n",
      "100%|██████████| 300/300 [00:09<00:00, 30.48it/s]\n",
      "100%|██████████| 300/300 [00:13<00:00, 21.91it/s]\n",
      "100%|██████████| 300/300 [00:15<00:00, 19.50it/s]\n",
      "C:\\Users\\mikke\\AppData\\Local\\Temp\\ipykernel_35776\\411880589.py:39: UserWarning: FigureCanvasAgg is non-interactive, and thus cannot be shown\n",
      "  fig.show()\n"
     ]
    },
    {
     "data": {
      "image/png": "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",
      "text/plain": [
       "<Figure size 1400x500 with 2 Axes>"
      ]
     },
     "metadata": {},
     "output_type": "display_data"
    }
   ],
   "source": [
    "hc_array = [5, 10, 20, 40, 64, 100] # Længde = 7\n",
    "all_data_list = []\n",
    "\n",
    "\n",
    "for i in range(0, len(hc_array)): # Laver 7 basis modeller der kan trænes og testes senere\n",
    "    temp_all_data = AllData()\n",
    "    gcn = GCN(in_features=dataset.num_node_features, hidden_channels= hc_array[i]) # Gemmer i array, da jeg er usikker på om python passer by reference eller value???? \n",
    "    base_model = BaseModel(gcn, loss_f, torch.optim.Adam(gcn.parameters(), lr=LEARNING_RATE)) \n",
    "    for epoch in trange(0, EPOCHS):\n",
    "        temp = train(base_model, train_loader)\n",
    "        temp_all_data.insert_train_data(temp)\n",
    "        temp_all_data.insert_test_data(test(base_model, test_loader))\n",
    "\n",
    "    all_data_list.append(temp_all_data)\n",
    "\n",
    "MultiPlotter(all_data_list, hc_array, \"Hidden node count\")"
   ]
  },
  {
   "cell_type": "code",
   "execution_count": null,
   "metadata": {},
   "outputs": [],
   "source": []
  }
 ],
 "metadata": {
  "kernelspec": {
   "display_name": "Python 3",
   "language": "python",
   "name": "python3"
  },
  "language_info": {
   "codemirror_mode": {
    "name": "ipython",
    "version": 3
   },
   "file_extension": ".py",
   "mimetype": "text/x-python",
   "name": "python",
   "nbconvert_exporter": "python",
   "pygments_lexer": "ipython3",
   "version": "3.10.0"
  }
 },
 "nbformat": 4,
 "nbformat_minor": 2
}
