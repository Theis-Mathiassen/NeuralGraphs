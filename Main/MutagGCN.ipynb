{
  "cells": [
    {
      "cell_type": "markdown",
      "source": [
        "# **CONSTANTS & IMPORTS**"
      ],
      "metadata": {}
    },
    {
      "cell_type": "markdown",
      "source": [
        "Constants"
      ],
      "metadata": {}
    },
    {
      "cell_type": "code",
      "execution_count": 1,
      "source": [
        "EPOCHS = 300\r\n",
        "LEARNING_RATE = 0.01\r\n",
        "MANUAL_SEED = 12345\r\n",
        "HIDDEN_NODE_COUNT = 64\r\n",
        "DATASPLIT = 150\r\n",
        "BATCH_SIZE_TRAINING = 64\r\n",
        "BATCH_SIZE_TESTING = 1\r\n",
        "\r\n",
        "%pylab inline"
      ],
      "outputs": [
        {
          "output_type": "stream",
          "name": "stdout",
          "text": [
            "%pylab is deprecated, use %matplotlib inline and import the required libraries.\n",
            "Populating the interactive namespace from numpy and matplotlib\n"
          ]
        }
      ],
      "metadata": {}
    },
    {
      "cell_type": "markdown",
      "source": [
        "# **Dataset import**"
      ],
      "metadata": {}
    },
    {
      "cell_type": "code",
      "execution_count": 2,
      "source": [
        "import os\r\n",
        "import torch\r\n",
        "import torch_geometric\r\n",
        "\r\n",
        "from torch_geometric.datasets import TUDataset\r\n",
        "from torch_geometric.utils import to_networkx\r\n",
        "from torch_geometric.loader import DataLoader\r\n",
        "\r\n",
        "\r\n",
        "\r\n",
        "dataset = TUDataset(root='dataset/Mutag', name='MUTAG')\r\n",
        "\r\n",
        "data_details = {\r\n",
        "    \"num_node_features\": dataset.num_node_features,\r\n",
        "    \"num_edge_features\": dataset.num_edge_features,\r\n",
        "    \"num_classes\": dataset.num_classes,\r\n",
        "    \"num_node_labels\": dataset.num_node_labels,\r\n",
        "    \"num_edge_labels\": dataset.num_edge_labels,\r\n",
        "}"
      ],
      "outputs": [],
      "metadata": {}
    },
    {
      "cell_type": "code",
      "execution_count": 3,
      "source": [
        "print(data_details)"
      ],
      "outputs": [
        {
          "output_type": "stream",
          "name": "stdout",
          "text": [
            "{'num_node_features': 7, 'num_edge_features': 4, 'num_classes': 2, 'num_node_labels': 7, 'num_edge_labels': 4}\n"
          ]
        }
      ],
      "metadata": {}
    },
    {
      "cell_type": "markdown",
      "source": [
        "# **Getting device**\n"
      ],
      "metadata": {}
    },
    {
      "cell_type": "code",
      "execution_count": 4,
      "source": [
        "if torch.cuda.is_available():\r\n",
        "    device = torch.device('cuda')\r\n",
        "elif hasattr(torch.backends, 'mps') and torch.backends.mps.is_available():\r\n",
        "    # MPS is currently slower than CPU due to missing int64 min/max ops\r\n",
        "    device = torch.device('cpu')\r\n",
        "else:\r\n",
        "    device = torch.device('cpu')\r\n",
        "print(device)"
      ],
      "outputs": [
        {
          "output_type": "stream",
          "name": "stdout",
          "text": [
            "cpu\n"
          ]
        }
      ],
      "metadata": {}
    },
    {
      "cell_type": "markdown",
      "source": [
        "# **DATA SPLITTING**"
      ],
      "metadata": {}
    },
    {
      "cell_type": "markdown",
      "source": [
        "Shuffle data (optional)"
      ],
      "metadata": {}
    },
    {
      "cell_type": "code",
      "execution_count": 5,
      "source": [
        "dataset = dataset.shuffle()"
      ],
      "outputs": [],
      "metadata": {}
    },
    {
      "cell_type": "markdown",
      "source": [
        "Create training set and test set (size defined in constants)"
      ],
      "metadata": {}
    },
    {
      "cell_type": "code",
      "execution_count": 6,
      "source": [
        "# Allocate for training\r\n",
        "train_dataset = dataset[:DATASPLIT]\r\n",
        "# Allocate the remainder for testing\r\n",
        "test_dataset = dataset[DATASPLIT:]\r\n",
        "\r\n",
        "# Define the data loaders. Used later for training, can be ignored for now\r\n",
        "train_loader = DataLoader(dataset=train_dataset, batch_size=BATCH_SIZE_TRAINING, shuffle=True)\r\n",
        "test_loader = DataLoader(dataset=test_dataset, batch_size=BATCH_SIZE_TESTING, shuffle=False)\r\n",
        "\r\n",
        "%run visualize.py"
      ],
      "outputs": [],
      "metadata": {}
    },
    {
      "cell_type": "code",
      "execution_count": 7,
      "source": [
        "print(len(train_dataset))\r\n",
        "print(len(test_dataset))"
      ],
      "outputs": [
        {
          "output_type": "stream",
          "name": "stdout",
          "text": [
            "150\n",
            "38\n"
          ]
        }
      ],
      "metadata": {}
    },
    {
      "cell_type": "markdown",
      "source": [
        "#  **GRAPH VISUALIZATION EXAMPLE**"
      ],
      "metadata": {}
    },
    {
      "cell_type": "code",
      "execution_count": 8,
      "source": [
        "import networkx as nx\r\n",
        "from visualize import GraphVisualization\r\n",
        "\r\n",
        "def create_graph(graph):\r\n",
        "    g = to_networkx(graph)\r\n",
        "    pos = nx.spring_layout(g)\r\n",
        "    vis = GraphVisualization(\r\n",
        "        g,\r\n",
        "        pos,\r\n",
        "        node_text_position=\"top left\",\r\n",
        "        node_size=20,\r\n",
        "    )\r\n",
        "    fig = vis.create_figure()\r\n",
        "    return fig\r\n",
        "\r\n",
        "\r\n",
        "fig = create_graph(dataset[0])\r\n",
        "fig.show()"
      ],
      "outputs": [
        {
          "output_type": "display_data",
          "data": {
            "application/vnd.plotly.v1+json": {
              "data": [
                {
                  "hoverinfo": "none",
                  "line": {
                    "color": "#808080",
                    "width": 2
                  },
                  "mode": "lines",
                  "opacity": 0.8,
                  "x": [
                    -0.21691409680666107,
                    -0.3754502993716351,
                    null,
                    -0.21691409680666107,
                    -0.07157754889225233,
                    null,
                    -0.3754502993716351,
                    -0.21691409680666107,
                    null,
                    -0.3754502993716351,
                    -0.3399428278926999,
                    null,
                    -0.3399428278926999,
                    -0.3754502993716351,
                    null,
                    -0.3399428278926999,
                    -0.18442928346952464,
                    null,
                    -0.18442928346952464,
                    -0.3399428278926999,
                    null,
                    -0.18442928346952464,
                    -0.020435099283605,
                    null,
                    -0.18442928346952464,
                    -0.07472909728255474,
                    null,
                    -0.020435099283605,
                    -0.18442928346952464,
                    null,
                    -0.020435099283605,
                    -0.07157754889225233,
                    null,
                    -0.020435099283605,
                    0.08203412646832949,
                    null,
                    -0.07157754889225233,
                    -0.21691409680666107,
                    null,
                    -0.07157754889225233,
                    -0.020435099283605,
                    null,
                    0.08203412646832949,
                    -0.020435099283605,
                    null,
                    0.08203412646832949,
                    0.05880945537006383,
                    null,
                    0.08203412646832949,
                    0.0995989747291754,
                    null,
                    0.05880945537006383,
                    0.08203412646832949,
                    null,
                    0.05880945537006383,
                    -0.12512978176008904,
                    null,
                    -0.12512978176008904,
                    0.05880945537006383,
                    null,
                    -0.12512978176008904,
                    -0.22116946221808195,
                    null,
                    -0.22116946221808195,
                    -0.12512978176008904,
                    null,
                    -0.22116946221808195,
                    0.11117291316657281,
                    null,
                    -0.22116946221808195,
                    -0.5388960626443174,
                    null,
                    0.11117291316657281,
                    -0.22116946221808195,
                    null,
                    0.11117291316657281,
                    0.0995989747291754,
                    null,
                    0.11117291316657281,
                    0.4214389906345784,
                    null,
                    0.0995989747291754,
                    0.08203412646832949,
                    null,
                    0.0995989747291754,
                    0.11117291316657281,
                    null,
                    0.0995989747291754,
                    -0.07472909728255474,
                    null,
                    -0.07472909728255474,
                    -0.18442928346952464,
                    null,
                    -0.07472909728255474,
                    0.0995989747291754,
                    null,
                    -0.07472909728255474,
                    0.04453066987417148,
                    null,
                    0.04453066987417148,
                    -0.07472909728255474,
                    null,
                    0.04453066987417148,
                    0.23257498098541804,
                    null,
                    0.23257498098541804,
                    0.04453066987417148,
                    null,
                    0.23257498098541804,
                    0.4214389906345784,
                    null,
                    0.4214389906345784,
                    0.11117291316657281,
                    null,
                    0.4214389906345784,
                    0.23257498098541804,
                    null,
                    0.4214389906345784,
                    0.7408983173610616,
                    null,
                    0.7408983173610616,
                    0.4214389906345784,
                    null,
                    0.7408983173610616,
                    0.9131750524530404,
                    null,
                    0.7408983173610616,
                    0.927336978384133,
                    null,
                    0.9131750524530404,
                    0.7408983173610616,
                    null,
                    0.927336978384133,
                    0.7408983173610616,
                    null,
                    -0.5388960626443174,
                    -0.22116946221808195,
                    null,
                    -0.5388960626443174,
                    -0.6963959987405117,
                    null,
                    -0.5388960626443174,
                    -0.766500901064611,
                    null,
                    -0.6963959987405117,
                    -0.5388960626443174,
                    null,
                    -0.766500901064611,
                    -0.5388960626443174,
                    null
                  ],
                  "y": [
                    -1,
                    -0.8975954582812234,
                    null,
                    -1,
                    -0.830436931203859,
                    null,
                    -0.8975954582812234,
                    -1,
                    null,
                    -0.8975954582812234,
                    -0.6703823748447038,
                    null,
                    -0.6703823748447038,
                    -0.8975954582812234,
                    null,
                    -0.6703823748447038,
                    -0.4323091222373046,
                    null,
                    -0.4323091222373046,
                    -0.6703823748447038,
                    null,
                    -0.4323091222373046,
                    -0.5622378282841999,
                    null,
                    -0.4323091222373046,
                    -0.11148964504360447,
                    null,
                    -0.5622378282841999,
                    -0.4323091222373046,
                    null,
                    -0.5622378282841999,
                    -0.830436931203859,
                    null,
                    -0.5622378282841999,
                    -0.2871191321283788,
                    null,
                    -0.830436931203859,
                    -1,
                    null,
                    -0.830436931203859,
                    -0.5622378282841999,
                    null,
                    -0.2871191321283788,
                    -0.5622378282841999,
                    null,
                    -0.2871191321283788,
                    -0.10120341291443884,
                    null,
                    -0.2871191321283788,
                    -0.002499524587570809,
                    null,
                    -0.10120341291443884,
                    -0.2871191321283788,
                    null,
                    -0.10120341291443884,
                    0.12631301486589575,
                    null,
                    0.12631301486589575,
                    -0.10120341291443884,
                    null,
                    0.12631301486589575,
                    0.3612126273482391,
                    null,
                    0.3612126273482391,
                    0.12631301486589575,
                    null,
                    0.3612126273482391,
                    0.309874750850614,
                    null,
                    0.3612126273482391,
                    0.48455507713622,
                    null,
                    0.309874750850614,
                    0.3612126273482391,
                    null,
                    0.309874750850614,
                    -0.002499524587570809,
                    null,
                    0.309874750850614,
                    0.4342794246417095,
                    null,
                    -0.002499524587570809,
                    -0.2871191321283788,
                    null,
                    -0.002499524587570809,
                    0.309874750850614,
                    null,
                    -0.002499524587570809,
                    -0.11148964504360447,
                    null,
                    -0.11148964504360447,
                    -0.4323091222373046,
                    null,
                    -0.11148964504360447,
                    -0.002499524587570809,
                    null,
                    -0.11148964504360447,
                    0.1933835296977462,
                    null,
                    0.1933835296977462,
                    -0.11148964504360447,
                    null,
                    0.1933835296977462,
                    0.403462320512939,
                    null,
                    0.403462320512939,
                    0.1933835296977462,
                    null,
                    0.403462320512939,
                    0.4342794246417095,
                    null,
                    0.4342794246417095,
                    0.309874750850614,
                    null,
                    0.4342794246417095,
                    0.403462320512939,
                    null,
                    0.4342794246417095,
                    0.49076484063671355,
                    null,
                    0.49076484063671355,
                    0.4342794246417095,
                    null,
                    0.49076484063671355,
                    0.358296548602202,
                    null,
                    0.49076484063671355,
                    0.6215461576123358,
                    null,
                    0.358296548602202,
                    0.49076484063671355,
                    null,
                    0.6215461576123358,
                    0.49076484063671355,
                    null,
                    0.48455507713622,
                    0.3612126273482391,
                    null,
                    0.48455507713622,
                    0.644998649726377,
                    null,
                    0.48455507713622,
                    0.46658648789429263,
                    null,
                    0.644998649726377,
                    0.48455507713622,
                    null,
                    0.46658648789429263,
                    0.48455507713622,
                    null
                  ],
                  "type": "scatter"
                },
                {
                  "hoverinfo": "text",
                  "marker": {
                    "color": "#fcfcfc",
                    "colorbar": {
                      "thickness": 15,
                      "title": {
                        "side": "right",
                        "text": ""
                      },
                      "xanchor": "left"
                    },
                    "colorscale": [
                      [
                        0,
                        "rgb(255,255,217)"
                      ],
                      [
                        0.125,
                        "rgb(237,248,177)"
                      ],
                      [
                        0.25,
                        "rgb(199,233,180)"
                      ],
                      [
                        0.375,
                        "rgb(127,205,187)"
                      ],
                      [
                        0.5,
                        "rgb(65,182,196)"
                      ],
                      [
                        0.625,
                        "rgb(29,145,192)"
                      ],
                      [
                        0.75,
                        "rgb(34,94,168)"
                      ],
                      [
                        0.875,
                        "rgb(37,52,148)"
                      ],
                      [
                        1,
                        "rgb(8,29,88)"
                      ]
                    ],
                    "line": {
                      "color": "#333333",
                      "width": 2
                    },
                    "reversescale": false,
                    "showscale": false,
                    "size": 20
                  },
                  "mode": "markers+text",
                  "opacity": 0.8,
                  "text": [
                    "0",
                    "1",
                    "2",
                    "3",
                    "4",
                    "5",
                    "6",
                    "7",
                    "8",
                    "9",
                    "10",
                    "11",
                    "12",
                    "13",
                    "14",
                    "15",
                    "16",
                    "17",
                    "18",
                    "19",
                    "20",
                    "21"
                  ],
                  "textfont": {
                    "color": "#000000",
                    "family": "Arial",
                    "size": 14
                  },
                  "textposition": "top left",
                  "x": [
                    -0.21691409680666107,
                    -0.3754502993716351,
                    -0.3399428278926999,
                    -0.18442928346952464,
                    -0.020435099283605,
                    -0.07157754889225233,
                    0.08203412646832949,
                    0.05880945537006383,
                    -0.12512978176008904,
                    -0.22116946221808195,
                    0.11117291316657281,
                    0.0995989747291754,
                    -0.07472909728255474,
                    0.04453066987417148,
                    0.23257498098541804,
                    0.4214389906345784,
                    0.7408983173610616,
                    0.9131750524530404,
                    0.927336978384133,
                    -0.5388960626443174,
                    -0.6963959987405117,
                    -0.766500901064611
                  ],
                  "y": [
                    -1,
                    -0.8975954582812234,
                    -0.6703823748447038,
                    -0.4323091222373046,
                    -0.5622378282841999,
                    -0.830436931203859,
                    -0.2871191321283788,
                    -0.10120341291443884,
                    0.12631301486589575,
                    0.3612126273482391,
                    0.309874750850614,
                    -0.002499524587570809,
                    -0.11148964504360447,
                    0.1933835296977462,
                    0.403462320512939,
                    0.4342794246417095,
                    0.49076484063671355,
                    0.358296548602202,
                    0.6215461576123358,
                    0.48455507713622,
                    0.644998649726377,
                    0.46658648789429263
                  ],
                  "type": "scatter"
                }
              ],
              "layout": {
                "autosize": false,
                "height": 400,
                "hovermode": "closest",
                "margin": {
                  "b": 5,
                  "l": 0,
                  "r": 0,
                  "t": 20
                },
                "paper_bgcolor": "rgba(255,255,255,255)",
                "plot_bgcolor": "rgba(0,0,0,0)",
                "scene": {
                  "xaxis": {
                    "autorange": true,
                    "showgrid": false,
                    "showline": false,
                    "showticklabels": false,
                    "ticks": "",
                    "visible": false,
                    "zeroline": false
                  },
                  "yaxis": {
                    "autorange": true,
                    "showgrid": false,
                    "showline": false,
                    "showticklabels": false,
                    "ticks": "",
                    "visible": false,
                    "zeroline": false
                  },
                  "zaxis": {
                    "autorange": true,
                    "showgrid": false,
                    "showline": false,
                    "showticklabels": false,
                    "ticks": "",
                    "visible": false,
                    "zeroline": false
                  }
                },
                "showlegend": false,
                "title": {
                  "font": {
                    "size": 16
                  },
                  "text": ""
                },
                "width": 375,
                "xaxis": {
                  "autorange": true,
                  "showgrid": false,
                  "showline": false,
                  "showticklabels": false,
                  "ticks": "",
                  "visible": false,
                  "zeroline": false
                },
                "yaxis": {
                  "autorange": true,
                  "showgrid": false,
                  "showline": false,
                  "showticklabels": false,
                  "ticks": "",
                  "visible": false,
                  "zeroline": false
                },
                "template": {
                  "data": {
                    "histogram2dcontour": [
                      {
                        "type": "histogram2dcontour",
                        "colorbar": {
                          "outlinewidth": 0,
                          "ticks": ""
                        },
                        "colorscale": [
                          [
                            0,
                            "#0d0887"
                          ],
                          [
                            0.1111111111111111,
                            "#46039f"
                          ],
                          [
                            0.2222222222222222,
                            "#7201a8"
                          ],
                          [
                            0.3333333333333333,
                            "#9c179e"
                          ],
                          [
                            0.4444444444444444,
                            "#bd3786"
                          ],
                          [
                            0.5555555555555556,
                            "#d8576b"
                          ],
                          [
                            0.6666666666666666,
                            "#ed7953"
                          ],
                          [
                            0.7777777777777778,
                            "#fb9f3a"
                          ],
                          [
                            0.8888888888888888,
                            "#fdca26"
                          ],
                          [
                            1,
                            "#f0f921"
                          ]
                        ]
                      }
                    ],
                    "choropleth": [
                      {
                        "type": "choropleth",
                        "colorbar": {
                          "outlinewidth": 0,
                          "ticks": ""
                        }
                      }
                    ],
                    "histogram2d": [
                      {
                        "type": "histogram2d",
                        "colorbar": {
                          "outlinewidth": 0,
                          "ticks": ""
                        },
                        "colorscale": [
                          [
                            0,
                            "#0d0887"
                          ],
                          [
                            0.1111111111111111,
                            "#46039f"
                          ],
                          [
                            0.2222222222222222,
                            "#7201a8"
                          ],
                          [
                            0.3333333333333333,
                            "#9c179e"
                          ],
                          [
                            0.4444444444444444,
                            "#bd3786"
                          ],
                          [
                            0.5555555555555556,
                            "#d8576b"
                          ],
                          [
                            0.6666666666666666,
                            "#ed7953"
                          ],
                          [
                            0.7777777777777778,
                            "#fb9f3a"
                          ],
                          [
                            0.8888888888888888,
                            "#fdca26"
                          ],
                          [
                            1,
                            "#f0f921"
                          ]
                        ]
                      }
                    ],
                    "heatmap": [
                      {
                        "type": "heatmap",
                        "colorbar": {
                          "outlinewidth": 0,
                          "ticks": ""
                        },
                        "colorscale": [
                          [
                            0,
                            "#0d0887"
                          ],
                          [
                            0.1111111111111111,
                            "#46039f"
                          ],
                          [
                            0.2222222222222222,
                            "#7201a8"
                          ],
                          [
                            0.3333333333333333,
                            "#9c179e"
                          ],
                          [
                            0.4444444444444444,
                            "#bd3786"
                          ],
                          [
                            0.5555555555555556,
                            "#d8576b"
                          ],
                          [
                            0.6666666666666666,
                            "#ed7953"
                          ],
                          [
                            0.7777777777777778,
                            "#fb9f3a"
                          ],
                          [
                            0.8888888888888888,
                            "#fdca26"
                          ],
                          [
                            1,
                            "#f0f921"
                          ]
                        ]
                      }
                    ],
                    "heatmapgl": [
                      {
                        "type": "heatmapgl",
                        "colorbar": {
                          "outlinewidth": 0,
                          "ticks": ""
                        },
                        "colorscale": [
                          [
                            0,
                            "#0d0887"
                          ],
                          [
                            0.1111111111111111,
                            "#46039f"
                          ],
                          [
                            0.2222222222222222,
                            "#7201a8"
                          ],
                          [
                            0.3333333333333333,
                            "#9c179e"
                          ],
                          [
                            0.4444444444444444,
                            "#bd3786"
                          ],
                          [
                            0.5555555555555556,
                            "#d8576b"
                          ],
                          [
                            0.6666666666666666,
                            "#ed7953"
                          ],
                          [
                            0.7777777777777778,
                            "#fb9f3a"
                          ],
                          [
                            0.8888888888888888,
                            "#fdca26"
                          ],
                          [
                            1,
                            "#f0f921"
                          ]
                        ]
                      }
                    ],
                    "contourcarpet": [
                      {
                        "type": "contourcarpet",
                        "colorbar": {
                          "outlinewidth": 0,
                          "ticks": ""
                        }
                      }
                    ],
                    "contour": [
                      {
                        "type": "contour",
                        "colorbar": {
                          "outlinewidth": 0,
                          "ticks": ""
                        },
                        "colorscale": [
                          [
                            0,
                            "#0d0887"
                          ],
                          [
                            0.1111111111111111,
                            "#46039f"
                          ],
                          [
                            0.2222222222222222,
                            "#7201a8"
                          ],
                          [
                            0.3333333333333333,
                            "#9c179e"
                          ],
                          [
                            0.4444444444444444,
                            "#bd3786"
                          ],
                          [
                            0.5555555555555556,
                            "#d8576b"
                          ],
                          [
                            0.6666666666666666,
                            "#ed7953"
                          ],
                          [
                            0.7777777777777778,
                            "#fb9f3a"
                          ],
                          [
                            0.8888888888888888,
                            "#fdca26"
                          ],
                          [
                            1,
                            "#f0f921"
                          ]
                        ]
                      }
                    ],
                    "surface": [
                      {
                        "type": "surface",
                        "colorbar": {
                          "outlinewidth": 0,
                          "ticks": ""
                        },
                        "colorscale": [
                          [
                            0,
                            "#0d0887"
                          ],
                          [
                            0.1111111111111111,
                            "#46039f"
                          ],
                          [
                            0.2222222222222222,
                            "#7201a8"
                          ],
                          [
                            0.3333333333333333,
                            "#9c179e"
                          ],
                          [
                            0.4444444444444444,
                            "#bd3786"
                          ],
                          [
                            0.5555555555555556,
                            "#d8576b"
                          ],
                          [
                            0.6666666666666666,
                            "#ed7953"
                          ],
                          [
                            0.7777777777777778,
                            "#fb9f3a"
                          ],
                          [
                            0.8888888888888888,
                            "#fdca26"
                          ],
                          [
                            1,
                            "#f0f921"
                          ]
                        ]
                      }
                    ],
                    "mesh3d": [
                      {
                        "type": "mesh3d",
                        "colorbar": {
                          "outlinewidth": 0,
                          "ticks": ""
                        }
                      }
                    ],
                    "scatter": [
                      {
                        "fillpattern": {
                          "fillmode": "overlay",
                          "size": 10,
                          "solidity": 0.2
                        },
                        "type": "scatter"
                      }
                    ],
                    "parcoords": [
                      {
                        "type": "parcoords",
                        "line": {
                          "colorbar": {
                            "outlinewidth": 0,
                            "ticks": ""
                          }
                        }
                      }
                    ],
                    "scatterpolargl": [
                      {
                        "type": "scatterpolargl",
                        "marker": {
                          "colorbar": {
                            "outlinewidth": 0,
                            "ticks": ""
                          }
                        }
                      }
                    ],
                    "bar": [
                      {
                        "error_x": {
                          "color": "#2a3f5f"
                        },
                        "error_y": {
                          "color": "#2a3f5f"
                        },
                        "marker": {
                          "line": {
                            "color": "#E5ECF6",
                            "width": 0.5
                          },
                          "pattern": {
                            "fillmode": "overlay",
                            "size": 10,
                            "solidity": 0.2
                          }
                        },
                        "type": "bar"
                      }
                    ],
                    "scattergeo": [
                      {
                        "type": "scattergeo",
                        "marker": {
                          "colorbar": {
                            "outlinewidth": 0,
                            "ticks": ""
                          }
                        }
                      }
                    ],
                    "scatterpolar": [
                      {
                        "type": "scatterpolar",
                        "marker": {
                          "colorbar": {
                            "outlinewidth": 0,
                            "ticks": ""
                          }
                        }
                      }
                    ],
                    "histogram": [
                      {
                        "marker": {
                          "pattern": {
                            "fillmode": "overlay",
                            "size": 10,
                            "solidity": 0.2
                          }
                        },
                        "type": "histogram"
                      }
                    ],
                    "scattergl": [
                      {
                        "type": "scattergl",
                        "marker": {
                          "colorbar": {
                            "outlinewidth": 0,
                            "ticks": ""
                          }
                        }
                      }
                    ],
                    "scatter3d": [
                      {
                        "type": "scatter3d",
                        "line": {
                          "colorbar": {
                            "outlinewidth": 0,
                            "ticks": ""
                          }
                        },
                        "marker": {
                          "colorbar": {
                            "outlinewidth": 0,
                            "ticks": ""
                          }
                        }
                      }
                    ],
                    "scattermapbox": [
                      {
                        "type": "scattermapbox",
                        "marker": {
                          "colorbar": {
                            "outlinewidth": 0,
                            "ticks": ""
                          }
                        }
                      }
                    ],
                    "scatterternary": [
                      {
                        "type": "scatterternary",
                        "marker": {
                          "colorbar": {
                            "outlinewidth": 0,
                            "ticks": ""
                          }
                        }
                      }
                    ],
                    "scattercarpet": [
                      {
                        "type": "scattercarpet",
                        "marker": {
                          "colorbar": {
                            "outlinewidth": 0,
                            "ticks": ""
                          }
                        }
                      }
                    ],
                    "carpet": [
                      {
                        "aaxis": {
                          "endlinecolor": "#2a3f5f",
                          "gridcolor": "white",
                          "linecolor": "white",
                          "minorgridcolor": "white",
                          "startlinecolor": "#2a3f5f"
                        },
                        "baxis": {
                          "endlinecolor": "#2a3f5f",
                          "gridcolor": "white",
                          "linecolor": "white",
                          "minorgridcolor": "white",
                          "startlinecolor": "#2a3f5f"
                        },
                        "type": "carpet"
                      }
                    ],
                    "table": [
                      {
                        "cells": {
                          "fill": {
                            "color": "#EBF0F8"
                          },
                          "line": {
                            "color": "white"
                          }
                        },
                        "header": {
                          "fill": {
                            "color": "#C8D4E3"
                          },
                          "line": {
                            "color": "white"
                          }
                        },
                        "type": "table"
                      }
                    ],
                    "barpolar": [
                      {
                        "marker": {
                          "line": {
                            "color": "#E5ECF6",
                            "width": 0.5
                          },
                          "pattern": {
                            "fillmode": "overlay",
                            "size": 10,
                            "solidity": 0.2
                          }
                        },
                        "type": "barpolar"
                      }
                    ],
                    "pie": [
                      {
                        "automargin": true,
                        "type": "pie"
                      }
                    ]
                  },
                  "layout": {
                    "autotypenumbers": "strict",
                    "colorway": [
                      "#636efa",
                      "#EF553B",
                      "#00cc96",
                      "#ab63fa",
                      "#FFA15A",
                      "#19d3f3",
                      "#FF6692",
                      "#B6E880",
                      "#FF97FF",
                      "#FECB52"
                    ],
                    "font": {
                      "color": "#2a3f5f"
                    },
                    "hovermode": "closest",
                    "hoverlabel": {
                      "align": "left"
                    },
                    "paper_bgcolor": "white",
                    "plot_bgcolor": "#E5ECF6",
                    "polar": {
                      "bgcolor": "#E5ECF6",
                      "angularaxis": {
                        "gridcolor": "white",
                        "linecolor": "white",
                        "ticks": ""
                      },
                      "radialaxis": {
                        "gridcolor": "white",
                        "linecolor": "white",
                        "ticks": ""
                      }
                    },
                    "ternary": {
                      "bgcolor": "#E5ECF6",
                      "aaxis": {
                        "gridcolor": "white",
                        "linecolor": "white",
                        "ticks": ""
                      },
                      "baxis": {
                        "gridcolor": "white",
                        "linecolor": "white",
                        "ticks": ""
                      },
                      "caxis": {
                        "gridcolor": "white",
                        "linecolor": "white",
                        "ticks": ""
                      }
                    },
                    "coloraxis": {
                      "colorbar": {
                        "outlinewidth": 0,
                        "ticks": ""
                      }
                    },
                    "colorscale": {
                      "sequential": [
                        [
                          0,
                          "#0d0887"
                        ],
                        [
                          0.1111111111111111,
                          "#46039f"
                        ],
                        [
                          0.2222222222222222,
                          "#7201a8"
                        ],
                        [
                          0.3333333333333333,
                          "#9c179e"
                        ],
                        [
                          0.4444444444444444,
                          "#bd3786"
                        ],
                        [
                          0.5555555555555556,
                          "#d8576b"
                        ],
                        [
                          0.6666666666666666,
                          "#ed7953"
                        ],
                        [
                          0.7777777777777778,
                          "#fb9f3a"
                        ],
                        [
                          0.8888888888888888,
                          "#fdca26"
                        ],
                        [
                          1,
                          "#f0f921"
                        ]
                      ],
                      "sequentialminus": [
                        [
                          0,
                          "#0d0887"
                        ],
                        [
                          0.1111111111111111,
                          "#46039f"
                        ],
                        [
                          0.2222222222222222,
                          "#7201a8"
                        ],
                        [
                          0.3333333333333333,
                          "#9c179e"
                        ],
                        [
                          0.4444444444444444,
                          "#bd3786"
                        ],
                        [
                          0.5555555555555556,
                          "#d8576b"
                        ],
                        [
                          0.6666666666666666,
                          "#ed7953"
                        ],
                        [
                          0.7777777777777778,
                          "#fb9f3a"
                        ],
                        [
                          0.8888888888888888,
                          "#fdca26"
                        ],
                        [
                          1,
                          "#f0f921"
                        ]
                      ],
                      "diverging": [
                        [
                          0,
                          "#8e0152"
                        ],
                        [
                          0.1,
                          "#c51b7d"
                        ],
                        [
                          0.2,
                          "#de77ae"
                        ],
                        [
                          0.3,
                          "#f1b6da"
                        ],
                        [
                          0.4,
                          "#fde0ef"
                        ],
                        [
                          0.5,
                          "#f7f7f7"
                        ],
                        [
                          0.6,
                          "#e6f5d0"
                        ],
                        [
                          0.7,
                          "#b8e186"
                        ],
                        [
                          0.8,
                          "#7fbc41"
                        ],
                        [
                          0.9,
                          "#4d9221"
                        ],
                        [
                          1,
                          "#276419"
                        ]
                      ]
                    },
                    "xaxis": {
                      "gridcolor": "white",
                      "linecolor": "white",
                      "ticks": "",
                      "title": {
                        "standoff": 15
                      },
                      "zerolinecolor": "white",
                      "automargin": true,
                      "zerolinewidth": 2
                    },
                    "yaxis": {
                      "gridcolor": "white",
                      "linecolor": "white",
                      "ticks": "",
                      "title": {
                        "standoff": 15
                      },
                      "zerolinecolor": "white",
                      "automargin": true,
                      "zerolinewidth": 2
                    },
                    "scene": {
                      "xaxis": {
                        "backgroundcolor": "#E5ECF6",
                        "gridcolor": "white",
                        "linecolor": "white",
                        "showbackground": true,
                        "ticks": "",
                        "zerolinecolor": "white",
                        "gridwidth": 2
                      },
                      "yaxis": {
                        "backgroundcolor": "#E5ECF6",
                        "gridcolor": "white",
                        "linecolor": "white",
                        "showbackground": true,
                        "ticks": "",
                        "zerolinecolor": "white",
                        "gridwidth": 2
                      },
                      "zaxis": {
                        "backgroundcolor": "#E5ECF6",
                        "gridcolor": "white",
                        "linecolor": "white",
                        "showbackground": true,
                        "ticks": "",
                        "zerolinecolor": "white",
                        "gridwidth": 2
                      }
                    },
                    "shapedefaults": {
                      "line": {
                        "color": "#2a3f5f"
                      }
                    },
                    "annotationdefaults": {
                      "arrowcolor": "#2a3f5f",
                      "arrowhead": 0,
                      "arrowwidth": 1
                    },
                    "geo": {
                      "bgcolor": "white",
                      "landcolor": "#E5ECF6",
                      "subunitcolor": "white",
                      "showland": true,
                      "showlakes": true,
                      "lakecolor": "white"
                    },
                    "title": {
                      "x": 0.05
                    },
                    "mapbox": {
                      "style": "light"
                    }
                  }
                }
              },
              "config": {
                "plotlyServerURL": "https://plot.ly"
              }
            }
          },
          "metadata": {}
        }
      ],
      "metadata": {}
    },
    {
      "cell_type": "markdown",
      "source": [
        "# **GNN MODEL**"
      ],
      "metadata": {}
    },
    {
      "cell_type": "markdown",
      "source": [
        "Imports\n"
      ],
      "metadata": {}
    },
    {
      "cell_type": "code",
      "execution_count": 9,
      "source": [
        "from torch.nn import Linear\r\n",
        "import torch.nn.functional as F\r\n",
        "from torch_geometric.nn import GCNConv\r\n",
        "from torch_geometric.nn import global_mean_pool"
      ],
      "outputs": [],
      "metadata": {}
    },
    {
      "cell_type": "markdown",
      "source": [
        "Model definition\n"
      ],
      "metadata": {}
    },
    {
      "cell_type": "code",
      "execution_count": 10,
      "source": [
        "\r\n",
        "class GCN(torch.nn.Module):\r\n",
        "    def __init__(self, in_features=dataset.num_node_features, hidden_channels=HIDDEN_NODE_COUNT, outfeatures = 2):\r\n",
        "        super(GCN, self).__init__()\r\n",
        "\r\n",
        "        # Input layer\r\n",
        "        self.conv1 = GCNConv(in_features, hidden_channels)\r\n",
        "\r\n",
        "        # Hidden layers\r\n",
        "        self.conv2 = GCNConv(hidden_channels, hidden_channels)\r\n",
        "        #self.conv3 = GCNConv(hidden_channels, hidden_channels)\r\n",
        "        #self.conv4 = GCNConv(hidden_channels, hidden_channels)\r\n",
        "        #self.conv5 = GCNConv(hidden_channels, hidden_channels)\r\n",
        "\r\n",
        "        # Output layer\r\n",
        "        self.lin = Linear(hidden_channels, outfeatures)\r\n",
        "\r\n",
        "    def forward(self, x, edge_index, batch):\r\n",
        "        # 1. Obtain node embeddings\r\n",
        "        x = self.conv1(x, edge_index)\r\n",
        "        x = x.relu()\r\n",
        "        x = self.conv2(x, edge_index)\r\n",
        "        x = x.relu()\r\n",
        "        #x = self.conv3(x, edge_index)\r\n",
        "        #x = x.relu()\r\n",
        "        #x = self.conv4(x, edge_index)\r\n",
        "        #x = x.relu()\r\n",
        "        #x = self.conv5(x, edge_index)\r\n",
        "\r\n",
        "        # 2. Readout layer\r\n",
        "        x = global_mean_pool(x, batch)  # [batch_size, hidden_channels]\r\n",
        "\r\n",
        "        # 3. Apply a final classifier\r\n",
        "        x = F.dropout(x, p=0.5, training=self.training)\r\n",
        "        x = self.lin(x)\r\n",
        "\r\n",
        "        return x"
      ],
      "outputs": [],
      "metadata": {}
    },
    {
      "cell_type": "markdown",
      "source": [
        "super model"
      ],
      "metadata": {}
    },
    {
      "cell_type": "code",
      "execution_count": null,
      "source": [
        "class SuperModel():\r\n",
        "    def __init__(self, model: GCN, loss, optim):\r\n",
        "        self.model = model\r\n",
        "        self.loss_function = loss\r\n",
        "        self.optimizer = optim\r\n",
        "    "
      ],
      "outputs": [],
      "metadata": {}
    },
    {
      "cell_type": "markdown",
      "source": [
        "Returned data model"
      ],
      "metadata": {}
    },
    {
      "cell_type": "code",
      "execution_count": 11,
      "source": [
        "class TrainData():\r\n",
        "    def __init__(self):\r\n",
        "        self.train_losses = []\r\n",
        "        self.train_accuracies = []\r\n",
        "        self.train_labels = []\r\n",
        "        self.train_scores = []\r\n",
        "        \r\n",
        "class TestData():\r\n",
        "    def __init__(self):\r\n",
        "        self.test_losses = []\r\n",
        "        self.test_accuracies = []\r\n",
        "        self.test_scores = []\r\n",
        "        self.test_labels = []"
      ],
      "outputs": [],
      "metadata": {}
    },
    {
      "cell_type": "markdown",
      "source": [
        "# **TRAINING**"
      ],
      "metadata": {}
    },
    {
      "cell_type": "code",
      "execution_count": 12,
      "source": [
        "from tqdm import trange"
      ],
      "outputs": [],
      "metadata": {}
    },
    {
      "cell_type": "markdown",
      "source": [
        "Set loss function"
      ],
      "metadata": {}
    },
    {
      "cell_type": "code",
      "execution_count": 13,
      "source": [
        "loss_function = torch.nn.CrossEntropyLoss()"
      ],
      "outputs": [],
      "metadata": {}
    },
    {
      "cell_type": "markdown",
      "source": [
        "Basic model training"
      ],
      "metadata": {}
    },
    {
      "cell_type": "code",
      "execution_count": 14,
      "source": [
        "def hyperParameterTester(create_table=False, hc=HIDDEN_NODE_COUNT, learn=LEARNING_RATE):\r\n",
        "    \r\n",
        "    torch.manual_seed(MANUAL_SEED)                              # Set manual seed\r\n",
        "    model = GCN(hidden_channels=hc)                             # Initilialize model\r\n",
        "    model.to(device=device)\r\n",
        "\r\n",
        "    optimizer = torch.optim.Adam(model.parameters(), lr=learn)  # Set optimizer with learning rate\r\n",
        "    loss_function = torch.nn.CrossEntropyLoss()                 # Set loss function\r\n",
        "\r\n",
        "    returnData = GCNData()\r\n",
        "\r\n",
        "def train(model: GCN):\r\n",
        "    model.train()\r\n",
        "    loss_ = 0\r\n",
        "    correct = 0\r\n",
        "    i = 0\r\n",
        "\r\n",
        "    for data in train_loader:  # Iterates the batches. We declared each batch to be of size 64\r\n",
        "        data = data.to(device, non_blocking=True)\r\n",
        "        # Calculate output, and get the maximum of those in order to obtain the predicted value\r\n",
        "        out = model(data.x, data.edge_index, data.batch)\r\n",
        "        cat = torch.argmax(out, dim=1)\r\n",
        "\r\n",
        "        correct += int((cat == data.y).sum())  # Check against ground-truth labels.\r\n",
        "        \r\n",
        "        loss = loss_function(out, data.y)\r\n",
        "        loss_ += loss.item()\r\n",
        "        \r\n",
        "        loss.backward()\r\n",
        "        optimizer.step()\r\n",
        "        optimizer.zero_grad()\r\n",
        "\r\n",
        "        i+=1\r\n",
        "\r\n",
        "        # Append actual and preddicted to respective array. Have to be converted to NumPy arrays in order to flatten them.\r\n",
        "        # We flatten them as 1D arrays are required by SK in order to calculate and plot ROC AUC\r\n",
        "        arrayLabel = np.array(data.y.to('cpu'))\r\n",
        "        for value in arrayLabel.flatten():\r\n",
        "            returnData.train_labels.append(value)\r\n",
        "\r\n",
        "        arrayCat = np.array(cat.to('cpu'))\r\n",
        "        for value in arrayCat.flatten():\r\n",
        "            returnData.train_scores.append(value)\r\n",
        "    \r\n",
        "        #tt.set_description(\"loss: %2f. accuracy %2f.\" % (loss, correct/len(train_loader.dataset)))\r\n",
        "        returnData.train_losses.append(loss_/ i)\r\n",
        "        returnData.train_accuracies.append(correct/len(train_loader.dataset))\r\n",
        "\r\n",
        "    def test(loader):\r\n",
        "        model.eval()\r\n",
        "        correct = 0\r\n",
        "        loss_ = 0\r\n",
        "        i = 0\r\n",
        "        for data in loader:  # Iterate in batches over the training/test dataset.\r\n",
        "            data = data.to(device, non_blocking=True)\r\n",
        "            out = model(data.x, data.edge_index, data.batch)\r\n",
        "            cat = torch.argmax(out, dim=1)\r\n",
        "\r\n",
        "            correct += int((cat == data.y).sum())  # Check against ground-truth labels.\r\n",
        "\r\n",
        "            loss = loss_function(out, data.y)\r\n",
        "            loss_ += loss.item()\r\n",
        "\r\n",
        "            arrayLabel = np.array(data.y.to('cpu'))\r\n",
        "            for value in arrayLabel.flatten():\r\n",
        "                returnData.test_labels.append(value)\r\n",
        "\r\n",
        "            arrayCat = np.array(cat.to('cpu'))\r\n",
        "            for value in arrayCat.flatten():\r\n",
        "                returnData.test_scores.append(value)\r\n",
        "            \r\n",
        "            i+=1\r\n",
        "        \r\n",
        "        returnData.test_losses.append(loss_/ i)\r\n",
        "        returnData.test_accuracies.append(correct/len(loader.dataset))\r\n",
        "\r\n",
        "    for epoch in trange(1, EPOCHS):\r\n",
        "        train()\r\n",
        "    test(train_loader)\r\n",
        "    \r\n",
        "    return returnData\r\n",
        "\r\n"
      ],
      "outputs": [],
      "metadata": {}
    },
    {
      "cell_type": "markdown",
      "source": [
        "# **PLOTTING** "
      ],
      "metadata": {}
    },
    {
      "cell_type": "code",
      "execution_count": 15,
      "source": [
        "import matplotlib.pyplot as plt\n",
        "import numpy as np\n",
        "import matplotlib.style as mplstyle\n",
        "import sklearn\n",
        "from sklearn import metrics\n",
        "from sklearn.metrics import RocCurveDisplay"
      ],
      "outputs": [],
      "metadata": {}
    },
    {
      "cell_type": "markdown",
      "source": [
        "**Plotting helper functions** "
      ],
      "metadata": {}
    },
    {
      "cell_type": "code",
      "execution_count": 16,
      "source": [
        "def GraphPrettifier(figname, ylabel, title):\n",
        "    figure = plt.figure(figname)\n",
        "    figure.patch.set_facecolor('lightgray')\n",
        "    plt.xlabel(\"# Epochs\")\n",
        "    plt.ylabel(ylabel)\n",
        "    plt.title(title)\n",
        "    plt.grid()\n",
        "    plt.legend()\n",
        "\n",
        "# Used for prettier graph\n",
        "def AvgCalculator(data, numChunks):\n",
        "    averageOfData = []\n",
        "    chunkSize = len(data) // numChunks\n",
        "    for i in range(0, len(data), chunkSize):\n",
        "        chunk = data[i:i+chunkSize]\n",
        "        chunkAvg = sum(chunk) / len(chunk)\n",
        "        averageOfData.append(chunkAvg)\n",
        "    return averageOfData\n",
        "\n",
        "# ROC AUC PLOT\n",
        "def plotROCAUC(labels, scores, title, ax):\n",
        "    # roc_auc = roc_auc_score(labels, scores)\n",
        "\n",
        "    fpr, tpr, _ = metrics.roc_curve(labels,  scores)\n",
        "    auc = metrics.roc_auc_score(labels, scores)\n",
        "    ax.set_title(title)\n",
        "    ax.plot(fpr,tpr)\n",
        "    ax.legend([\"auc=\"+str(round(auc, 2))], handlelength=0, handletextpad=0)\n",
        "\n",
        "    # RocCurveDisplay.from_predictions(labels, scores)\n",
        "\n",
        "    #plt.show()"
      ],
      "outputs": [],
      "metadata": {}
    },
    {
      "cell_type": "markdown",
      "source": [
        "Create a class for plotting parameters"
      ],
      "metadata": {}
    },
    {
      "cell_type": "code",
      "execution_count": 17,
      "source": [
        "class PP():\n",
        "    def __init__(self, value, colour):\n",
        "        self.value = value\n",
        "        self.colour = colour"
      ],
      "outputs": [],
      "metadata": {}
    },
    {
      "cell_type": "markdown",
      "source": [
        "**Function for plotting the basic graph**"
      ],
      "metadata": {}
    },
    {
      "cell_type": "code",
      "execution_count": 18,
      "source": [
        "def PlotBasic():\n",
        "    data = hyperParameterTester() # Get data\n",
        "    AndreasPlot(data)\n",
        "    X = np.arange(0, len(data.train_accuracies))\n",
        "    plt.figure('g', figsize=[10,5])\n",
        "    plt.plot(X, np.array(data.train_accuracies), c=\"indianred\", label=\"Accuracy\")\n",
        "    plt.plot(X, np.array(data.train_losses), c=\"navy\", label=\"Loss\")\n",
        "    GraphPrettifier('g', '', 'Accuracy and Loss')\n",
        "    plt.show()"
      ],
      "outputs": [],
      "metadata": {}
    },
    {
      "cell_type": "markdown",
      "source": [
        "**Plotting learning rates**"
      ],
      "metadata": {}
    },
    {
      "cell_type": "code",
      "execution_count": 19,
      "source": [
        "def PlotOverLR(para: GCNData, cleanGraph=False, numChunks = 50):\n",
        "    EstNumData = (EPOCHS-1)*len(train_loader)\n",
        "    X = np.arange(0, (EPOCHS-1)*len(train_loader)) if not cleanGraph else np.arange(0, EstNumData, EstNumData//numChunks)\n",
        "\n",
        "    for p in para:\n",
        "        data = hyperParameterTester(learn = p.value) # Get data\n",
        "\n",
        "        plt.figure('Acc', figsize=[10,5]) # Activate figure with accuracy\n",
        "        accuracies = np.array(data.train_accuracies)\n",
        "        if not cleanGraph: plt.plot(X, accuracies, color=p.colour, label='Learning rate: {}'.format(p.value))\n",
        "\n",
        "        plt.figure('Loss', figsize=[10,5]) # Activate figure with loss\n",
        "        losses = np.array(data.train_losses)\n",
        "        if not cleanGraph: plt.plot(X, losses, color=p.colour, label='Learning rate: {}'.format(p.value))\n",
        "\n",
        "        if cleanGraph: # Taking averages for prettier graph\n",
        "            averageAcc = AvgCalculator(accuracies, numChunks)\n",
        "            averageLoss = AvgCalculator(losses, numChunks)\n",
        "            \n",
        "            plt.figure('Acc') # Activate figure with accuracy\n",
        "            plt.plot(X, averageAcc, color=p.colour, label='Learning rate: {}'.format(p.value))\n",
        "            plt.figure('Loss') # Activate figure with loss\n",
        "            plt.plot(X, averageLoss, color=p.colour, label='Learning rate: {}'.format(p.value))\n",
        "\n",
        "    script_dir = os.getcwd()\n",
        "    save_dir = os.path.join(script_dir, 'Figures/LR/')\n",
        "\n",
        "    if not os.path.isdir(save_dir):\n",
        "        os.makedirs(save_dir)\n",
        "\n",
        "    save_name = \"Accuracy.pdf\"\n",
        "    GraphPrettifier('Acc', 'Accuracy', 'Accuracy with different learning rates')\n",
        "    plt.savefig(save_dir + save_name)\n",
        "\n",
        "    save_name = \"Loss.pdf\"\n",
        "    GraphPrettifier('Loss', 'Loss', 'Loss with different learning rates')\n",
        "    plt.savefig(save_dir + save_name)\n",
        "\n",
        "    plt.show()"
      ],
      "outputs": [],
      "metadata": {}
    },
    {
      "cell_type": "markdown",
      "source": [
        "**Plotting node count**"
      ],
      "metadata": {}
    },
    {
      "cell_type": "code",
      "execution_count": 20,
      "source": [
        "def PlotOverHC(para: GCNData, cleanGraph=False, numChunks = 50):\n",
        "    EstNumData = (EPOCHS-1)*len(train_loader)\n",
        "    X = np.arange(0, (EPOCHS-1)*len(train_loader)) if not cleanGraph else np.arange(0, EstNumData, EstNumData//numChunks)\n",
        "\n",
        "    for p in para:\n",
        "        data = hyperParameterTester(hc = p.value) # Get data\n",
        "\n",
        "        plt.figure('Acc', figsize=[10,5]) # Activate figure with accuracy\n",
        "        accuracies = np.array(data.train_accuracies)\n",
        "        if not cleanGraph: plt.plot(X, accuracies, color=p.colour, label='# Neurons: {}'.format(p.value))\n",
        "\n",
        "        plt.figure('Loss', figsize=[10,5]) # Activate figure with loss\n",
        "        losses = np.array(data.train_losses)\n",
        "        if not cleanGraph: plt.plot(X, losses, color=p.colour, label='# Neurons: {}'.format(p.value))\n",
        "\n",
        "        if cleanGraph: # Taking averages for prettier graph\n",
        "            averageAcc = AvgCalculator(accuracies, numChunks)\n",
        "            averageLoss = AvgCalculator(losses, numChunks)\n",
        "            \n",
        "            plt.figure('Acc') # Activate figure with accuracy\n",
        "            plt.plot(X, averageAcc, color=p.colour, label='# Neurons: {}'.format(p.value))\n",
        "            plt.figure('Loss') # Activate figure with loss\n",
        "            plt.plot(X, averageLoss, color=p.colour, label='# Neurons: {}'.format(p.value))\n",
        "\n",
        "    script_dir = os.getcwd()\n",
        "    save_dir = os.path.join(script_dir, 'Figures/HC/')\n",
        "\n",
        "    if not os.path.isdir(save_dir):\n",
        "        os.makedirs(save_dir)\n",
        "\n",
        "    save_name = \"Accuracy.pdf\"\n",
        "    GraphPrettifier('Acc', 'Accuracy', 'Accuracy with different neurons in the hidden layers')\n",
        "    plt.savefig(save_dir + save_name)\n",
        "\n",
        "    save_name = \"Loss.pdf\"\n",
        "    GraphPrettifier('Loss', 'Loss', 'Loss with different neurons in the hidden layers')\n",
        "    plt.savefig(save_dir + save_name)\n",
        "\n",
        "    plt.show()"
      ],
      "outputs": [],
      "metadata": {}
    },
    {
      "cell_type": "code",
      "execution_count": 21,
      "source": [
        "import matplotlib.gridspec as gridspec\n",
        "import matplotlib.patches as patches\n",
        "from datetime import datetime\n",
        "\n",
        "# ACCURACY PLOT\n",
        "def plotAccuracy(losses, accuracies, title, ax):\n",
        "    #fig, ax[0,1] = sub\n",
        "    ax.set_title(title)\n",
        "    ax.set_ylim(0, 1)\n",
        "    ax.plot(losses)\n",
        "    ax.plot(accuracies)\n",
        "    ax.plot(losses, label=\"Loss\")\n",
        "    ax.plot(accuracies, label=\"Accuracy\")\n",
        "    ax.legend(loc=\"lower center\")\n",
        "    \n",
        "    \n",
        "    #plt.show()\n",
        "\n",
        "def AndreasPlot(data: GCNData):\n",
        "    plot_training = True\n",
        "    plot_testing = True\n",
        "\n",
        "    plot_accuracy = True\n",
        "    plot_rocauc = True\n",
        "\n",
        "    fig = plt.figure(figsize=(8, 6))\n",
        "\n",
        "    gs = gridspec.GridSpec(3, 2)\n",
        "\n",
        "    ax1 = plt.subplot(gs[0, :])\n",
        "\n",
        "\n",
        "\n",
        "    table_data = [\n",
        "        [\"Seed\", \"Activation\", \"Weight Initializer\", \"Loss function\", \"Pooling\", \"Optimizer\", \"# GCN layers\", \"Neurons\", \"Split\", \"Epochs\", \"Batch Size\", \"LR\"],\n",
        "            [str(MANUAL_SEED), \"ReLU\", \"Default\", \"C-Entropy\", \"GMax Pooling\", \"Adam\", \"3\", \"7, 64, 64, 64, 2\", str(round(DATASPLIT/188, 2)), str(EPOCHS), \"64\", str(LEARNING_RATE)],\n",
        "    ]\n",
        "\n",
        "    table_data_1 = [table_data[0][:len(table_data[0]) // 2], table_data[1][:len(table_data[1]) // 2]]\n",
        "    table_data_2 = [table_data[0][len(table_data[0]) // 2:], table_data[1][len(table_data[1]) // 2:]]\n",
        "\n",
        "    # Create the first table in the top subplot (upper section)\n",
        "    table_1 = ax1.table(cellText=table_data_1, cellLoc='center', loc='center')\n",
        "    table_1.auto_set_font_size(False)\n",
        "    table_1.set_fontsize(12)\n",
        "    table_1.scale(1.2, 1.2)\n",
        "\n",
        "    # Create the second table in the top subplot (lower section)\n",
        "    table_2 = ax1.table(cellText=table_data_2, cellLoc='center', loc='bottom')\n",
        "    table_2.auto_set_font_size(False)\n",
        "    table_2.set_fontsize(12)\n",
        "    table_2.scale(1.2, 1.2)\n",
        "\n",
        "\n",
        "\n",
        "    # Hide axis and display the table\n",
        "    #ax1 = plt.gca()\n",
        "    ax1.axis('off')\n",
        "\n",
        "    #divider_y = -1.1  # Adjust the y-coordinate as needed\n",
        "    #ax1.axhline(divider_y, color='black')\n",
        "\n",
        "\n",
        "\n",
        "\n",
        "    # Plot for train\n",
        "    if(plot_training):\n",
        "        if(plot_accuracy):\n",
        "            #ax00 = ax[0, 0]\n",
        "            ax00 = plt.subplot(gs[1, 0])\n",
        "\n",
        "            plotAccuracy(data.train_losses, data.train_accuracies, \"Training: Accuracy & Loss\", ax00)\n",
        "\n",
        "        if(plot_rocauc):\n",
        "            #ax10 = ax[0, 1]\n",
        "            ax10 = plt.subplot(gs[2, 0])\n",
        "\n",
        "            plotROCAUC(data.train_labels, data.train_scores, \"Training: ROC AUC\", ax10)\n",
        "\n",
        "    # Plot for test\n",
        "    if(plot_testing):\n",
        "        if(plot_accuracy):\n",
        "            #ax01 = ax[1, 0]\n",
        "            ax01 = plt.subplot(gs[1, 1])\n",
        "\n",
        "            plotAccuracy(data.test_losses, data.test_accuracies, \"Testing: Accuracy & Loss\", ax01)\n",
        "\n",
        "        if(plot_rocauc):\n",
        "            #ax11 = ax[1, 1]\n",
        "            ax11 = plt.subplot(gs[2, 1])\n",
        "\n",
        "            plotROCAUC(data.test_labels, data.test_scores, \"Testing: ROC AUC\" ,ax11)\n",
        "\n",
        "    now = datetime.now()\n",
        "\n",
        "    title = \"Model algorithm/parameter & performance profile. Profiled on {}.\".format(now.strftime(\"%d/%m/%Y, %H:%M:%S\"))\n",
        "\n",
        "    fig.suptitle(title, fontsize=12, wrap=True)\n",
        "\n",
        "    plt.tight_layout()"
      ],
      "outputs": [],
      "metadata": {}
    },
    {
      "cell_type": "markdown",
      "source": [
        "**Utilizing the two functions on some parameters**"
      ],
      "metadata": {}
    },
    {
      "cell_type": "code",
      "execution_count": 22,
      "source": [
        "LRparameters = {PP(0.1, 'lightsalmon'), PP(0.01, 'goldenrod'), PP(0.001, 'mediumaquamarine'), PP(0.005, 'rosybrown')}\n",
        "HCparameters = {PP(5, 'firebrick'), PP(10, 'lightsalmon'), PP(20, 'darkgoldenrod'), PP(40, 'goldenrod'), PP(64, 'mediumaquamarine'), PP(100, 'black'), PP(200, 'rosybrown')}\n",
        "#PlotOverLR(LRparameters, cleanGraph=True)\n",
        "#PlotOverHC(HCparameters, cleanGraph=True)\n",
        "PlotBasic()"
      ],
      "outputs": [
        {
          "output_type": "stream",
          "name": "stderr",
          "text": [
            "100%|██████████| 299/299 [00:13<00:00, 22.52it/s]\n"
          ]
        },
        {
          "output_type": "display_data",
          "data": {
            "image/png": "[encoded data removed]",
            "text/plain": [
              "<Figure size 800x600 with 5 Axes>"
            ]
          },
          "metadata": {}
        },
        {
          "output_type": "display_data",
          "data": {
            "image/png": "[encoded data removed]",
            "text/plain": [
              "<Figure size 1000x500 with 1 Axes>"
            ]
          },
          "metadata": {}
        }
      ],
      "metadata": {}
    }
  ],
  "metadata": {
    "kernelspec": {
      "name": "python3",
      "display_name": "Python 3.11.5 64-bit"
    },
    "language_info": {
      "codemirror_mode": {
        "name": "ipython",
        "version": 3
      },
      "file_extension": ".py",
      "mimetype": "text/x-python",
      "name": "python",
      "nbconvert_exporter": "python",
      "pygments_lexer": "ipython3",
      "version": "3.11.5"
    },
    "interpreter": {
      "hash": "bf423cc7eddb4827927bca0f229b2eeb19fec3ab3cc0928d5038e56f63a54ddc"
    }
  },
  "nbformat": 4,
  "nbformat_minor": 2
}
