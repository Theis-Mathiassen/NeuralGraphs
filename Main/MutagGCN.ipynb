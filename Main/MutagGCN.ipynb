{
 "cells": [
  {
   "cell_type": "markdown",
   "metadata": {},
   "source": [
    "# **CONSTANTS & IMPORTS**"
   ]
  },
  {
   "cell_type": "markdown",
   "metadata": {},
   "source": [
    "Constants"
   ]
  },
  {
   "cell_type": "code",
   "execution_count": 527,
   "metadata": {},
   "outputs": [
    {
     "name": "stdout",
     "output_type": "stream",
     "text": [
      "%pylab is deprecated, use %matplotlib inline and import the required libraries.\n",
      "Populating the interactive namespace from numpy and matplotlib\n"
     ]
    },
    {
     "name": "stderr",
     "output_type": "stream",
     "text": [
      "C:\\Users\\theis\\AppData\\Roaming\\Python\\Python311\\site-packages\\IPython\\core\\magics\\pylab.py:162: UserWarning:\n",
      "\n",
      "pylab import has clobbered these variables: ['datetime']\n",
      "`%matplotlib` prevents importing * from pylab and numpy\n",
      "\n"
     ]
    }
   ],
   "source": [
    "EPOCHS = 300\n",
    "LEARNING_RATE = 0.01\n",
    "MANUAL_SEED = 12345\n",
    "HIDDEN_NODE_COUNT = 64\n",
    "DATASPLIT = 150\n",
    "BATCH_SIZE_TRAINING = 64\n",
    "BATCH_SIZE_TESTING = 1\n",
    "\n",
    "%pylab inline"
   ]
  },
  {
   "cell_type": "markdown",
   "metadata": {},
   "source": [
    "# **Dataset import**"
   ]
  },
  {
   "cell_type": "code",
   "execution_count": 528,
   "metadata": {},
   "outputs": [],
   "source": [
    "import os\n",
    "import torch\n",
    "import torch_geometric\n",
    "\n",
    "from torch_geometric.datasets import TUDataset\n",
    "from torch_geometric.utils import to_networkx\n",
    "from torch_geometric.loader import DataLoader\n",
    "\n",
    "\n",
    "\n",
    "dataset = TUDataset(root='dataset/Mutag', name='MUTAG')\n",
    "\n",
    "data_details = {\n",
    "    \"num_node_features\": dataset.num_node_features,\n",
    "    \"num_edge_features\": dataset.num_edge_features,\n",
    "    \"num_classes\": dataset.num_classes,\n",
    "    \"num_node_labels\": dataset.num_node_labels,\n",
    "    \"num_edge_labels\": dataset.num_edge_labels,\n",
    "}"
   ]
  },
  {
   "cell_type": "code",
   "execution_count": 529,
   "metadata": {},
   "outputs": [
    {
     "name": "stdout",
     "output_type": "stream",
     "text": [
      "{'num_node_features': 7, 'num_edge_features': 4, 'num_classes': 2, 'num_node_labels': 7, 'num_edge_labels': 4}\n"
     ]
    }
   ],
   "source": [
    "print(data_details)"
   ]
  },
  {
   "cell_type": "markdown",
   "metadata": {},
   "source": [
    "# **Getting device**\n"
   ]
  },
  {
   "cell_type": "code",
   "execution_count": 530,
   "metadata": {},
   "outputs": [
    {
     "name": "stdout",
     "output_type": "stream",
     "text": [
      "cuda\n"
     ]
    }
   ],
   "source": [
    "if torch.cuda.is_available():\n",
    "    device = torch.device('cuda')\n",
    "elif hasattr(torch.backends, 'mps') and torch.backends.mps.is_available():\n",
    "    # MPS is currently slower than CPU due to missing int64 min/max ops\n",
    "    device = torch.device('cpu')\n",
    "else:\n",
    "    device = torch.device('cpu')\n",
    "print(device)"
   ]
  },
  {
   "cell_type": "markdown",
   "metadata": {},
   "source": [
    "# **DATA SPLITTING**"
   ]
  },
  {
   "cell_type": "markdown",
   "metadata": {},
   "source": [
    "Shuffle data (optional)"
   ]
  },
  {
   "cell_type": "code",
   "execution_count": 531,
   "metadata": {},
   "outputs": [],
   "source": [
    "dataset = dataset.shuffle()"
   ]
  },
  {
   "cell_type": "markdown",
   "metadata": {},
   "source": [
    "Create training set and test set (size defined in constants)"
   ]
  },
  {
   "cell_type": "code",
   "execution_count": 532,
   "metadata": {},
   "outputs": [
    {
     "data": {
      "text/plain": [
       "<Figure size 640x480 with 0 Axes>"
      ]
     },
     "metadata": {},
     "output_type": "display_data"
    }
   ],
   "source": [
    "# Allocate for training\n",
    "train_dataset = dataset[:DATASPLIT]\n",
    "# Allocate the remainder for testing\n",
    "test_dataset = dataset[DATASPLIT:]\n",
    "\n",
    "# Define the data loaders. Used later for training, can be ignored for now\n",
    "train_loader = DataLoader(dataset=train_dataset, batch_size=BATCH_SIZE_TRAINING, shuffle=True)\n",
    "test_loader = DataLoader(dataset=test_dataset, batch_size=BATCH_SIZE_TESTING, shuffle=False)\n",
    "\n",
    "%run visualize.py"
   ]
  },
  {
   "cell_type": "code",
   "execution_count": 533,
   "metadata": {},
   "outputs": [
    {
     "name": "stdout",
     "output_type": "stream",
     "text": [
      "150\n",
      "38\n"
     ]
    }
   ],
   "source": [
    "print(len(train_dataset))\n",
    "print(len(test_dataset))"
   ]
  },
  {
   "cell_type": "markdown",
   "metadata": {},
   "source": [
    "#  **GRAPH VISUALIZATION EXAMPLE**"
   ]
  },
  {
   "cell_type": "code",
   "execution_count": 534,
   "metadata": {},
   "outputs": [
    {
     "data": {
      "application/vnd.plotly.v1+json": {
       "config": {
        "plotlyServerURL": "https://plot.ly"
       },
       "data": [
        {
         "hoverinfo": "none",
         "line": {
          "color": "#808080",
          "width": 2
         },
         "mode": "lines",
         "opacity": 0.8,
         "type": "scatter",
         "x": [
          -0.20364001272569365,
          -0.399556521245519,
          null,
          -0.20364001272569365,
          0.035928826962763456,
          null,
          -0.399556521245519,
          -0.20364001272569365,
          null,
          -0.399556521245519,
          -0.3687826580977478,
          null,
          -0.3687826580977478,
          -0.399556521245519,
          null,
          -0.3687826580977478,
          -0.2880724757205585,
          null,
          -0.3687826580977478,
          -0.23971588290593013,
          null,
          -0.2880724757205585,
          -0.3687826580977478,
          null,
          -0.2880724757205585,
          -0.5744817858491187,
          null,
          -0.5744817858491187,
          -0.2880724757205585,
          null,
          -0.5744817858491187,
          -0.7512744540543228,
          null,
          -0.7512744540543228,
          -0.5744817858491187,
          null,
          -0.7512744540543228,
          -0.4285052926085066,
          null,
          -0.7512744540543228,
          -1,
          null,
          -0.4285052926085066,
          -0.7512744540543228,
          null,
          -0.4285052926085066,
          -0.23971588290593013,
          null,
          -0.4285052926085066,
          -0.14173977157517437,
          null,
          -0.23971588290593013,
          -0.3687826580977478,
          null,
          -0.23971588290593013,
          -0.4285052926085066,
          null,
          -0.23971588290593013,
          0.04309798168804618,
          null,
          0.04309798168804618,
          -0.23971588290593013,
          null,
          0.04309798168804618,
          0.035928826962763456,
          null,
          0.04309798168804618,
          0.32672867829477475,
          null,
          0.035928826962763456,
          -0.20364001272569365,
          null,
          0.035928826962763456,
          0.04309798168804618,
          null,
          0.035928826962763456,
          0.2694652178204766,
          null,
          0.2694652178204766,
          0.035928826962763456,
          null,
          0.2694652178204766,
          0.49723797420413424,
          null,
          0.49723797420413424,
          0.2694652178204766,
          null,
          0.49723797420413424,
          0.5845314780031821,
          null,
          0.5845314780031821,
          0.49723797420413424,
          null,
          0.5845314780031821,
          0.32672867829477475,
          null,
          0.5845314780031821,
          0.7644016723474468,
          null,
          0.32672867829477475,
          0.04309798168804618,
          null,
          0.32672867829477475,
          0.5845314780031821,
          null,
          0.32672867829477475,
          0.1404340357054529,
          null,
          0.1404340357054529,
          0.32672867829477475,
          null,
          0.1404340357054529,
          -0.14173977157517437,
          null,
          -0.14173977157517437,
          -0.4285052926085066,
          null,
          -0.14173977157517437,
          0.1404340357054529,
          null,
          0.7644016723474468,
          0.5845314780031821,
          null,
          0.7644016723474468,
          0.7642584356714058,
          null,
          0.7644016723474468,
          0.9696845540848887,
          null,
          0.7642584356714058,
          0.7644016723474468,
          null,
          0.9696845540848887,
          0.7644016723474468,
          null,
          -1,
          -0.7512744540543228,
          null
         ],
         "y": [
          -0.36652800472774216,
          -0.23599624296780777,
          null,
          -0.36652800472774216,
          -0.23047787137283177,
          null,
          -0.23599624296780777,
          -0.36652800472774216,
          null,
          -0.23599624296780777,
          0.04557264100552764,
          null,
          0.04557264100552764,
          -0.23599624296780777,
          null,
          0.04557264100552764,
          0.2207871689885184,
          null,
          0.04557264100552764,
          0.3014217589409976,
          null,
          0.2207871689885184,
          0.04557264100552764,
          null,
          0.2207871689885184,
          0.30657330733947546,
          null,
          0.30657330733947546,
          0.2207871689885184,
          null,
          0.30657330733947546,
          0.419205693638779,
          null,
          0.419205693638779,
          0.30657330733947546,
          null,
          0.419205693638779,
          0.5342009241585525,
          null,
          0.419205693638779,
          0.2659035612722846,
          null,
          0.5342009241585525,
          0.419205693638779,
          null,
          0.5342009241585525,
          0.3014217589409976,
          null,
          0.5342009241585525,
          0.6494087398554556,
          null,
          0.3014217589409976,
          0.04557264100552764,
          null,
          0.3014217589409976,
          0.5342009241585525,
          null,
          0.3014217589409976,
          0.09542313682475137,
          null,
          0.09542313682475137,
          0.3014217589409976,
          null,
          0.09542313682475137,
          -0.23047787137283177,
          null,
          0.09542313682475137,
          0.17429525407996838,
          null,
          -0.23047787137283177,
          -0.36652800472774216,
          null,
          -0.23047787137283177,
          0.09542313682475137,
          null,
          -0.23047787137283177,
          -0.36646522350910865,
          null,
          -0.36646522350910865,
          -0.23047787137283177,
          null,
          -0.36646522350910865,
          -0.3317377133279479,
          null,
          -0.3317377133279479,
          -0.36646522350910865,
          null,
          -0.3317377133279479,
          -0.14961450678663288,
          null,
          -0.14961450678663288,
          -0.3317377133279479,
          null,
          -0.14961450678663288,
          0.17429525407996838,
          null,
          -0.14961450678663288,
          -0.4748858941620434,
          null,
          0.17429525407996838,
          0.09542313682475137,
          null,
          0.17429525407996838,
          -0.14961450678663288,
          null,
          0.17429525407996838,
          0.4980395806293988,
          null,
          0.4980395806293988,
          0.17429525407996838,
          null,
          0.4980395806293988,
          0.6494087398554556,
          null,
          0.6494087398554556,
          0.5342009241585525,
          null,
          0.6494087398554556,
          0.4980395806293988,
          null,
          -0.4748858941620434,
          -0.14961450678663288,
          null,
          -0.4748858941620434,
          -0.7378550994530128,
          null,
          -0.4748858941620434,
          -0.6172712104265814,
          null,
          -0.7378550994530128,
          -0.4748858941620434,
          null,
          -0.6172712104265814,
          -0.4748858941620434,
          null,
          0.2659035612722846,
          0.419205693638779,
          null
         ]
        },
        {
         "hoverinfo": "text",
         "marker": {
          "color": "#fcfcfc",
          "colorbar": {
           "thickness": 15,
           "title": {
            "side": "right",
            "text": ""
           },
           "xanchor": "left"
          },
          "colorscale": [
           [
            0,
            "rgb(255,255,217)"
           ],
           [
            0.125,
            "rgb(237,248,177)"
           ],
           [
            0.25,
            "rgb(199,233,180)"
           ],
           [
            0.375,
            "rgb(127,205,187)"
           ],
           [
            0.5,
            "rgb(65,182,196)"
           ],
           [
            0.625,
            "rgb(29,145,192)"
           ],
           [
            0.75,
            "rgb(34,94,168)"
           ],
           [
            0.875,
            "rgb(37,52,148)"
           ],
           [
            1,
            "rgb(8,29,88)"
           ]
          ],
          "line": {
           "color": "#333333",
           "width": 2
          },
          "reversescale": false,
          "showscale": false,
          "size": 20
         },
         "mode": "markers+text",
         "opacity": 0.8,
         "text": [
          "0",
          "1",
          "2",
          "3",
          "4",
          "5",
          "6",
          "7",
          "8",
          "9",
          "10",
          "11",
          "12",
          "13",
          "14",
          "15",
          "16",
          "17",
          "18",
          "19"
         ],
         "textfont": {
          "color": "#000000",
          "family": "Arial",
          "size": 14
         },
         "textposition": "top left",
         "type": "scatter",
         "x": [
          -0.20364001272569365,
          -0.399556521245519,
          -0.3687826580977478,
          -0.2880724757205585,
          -0.5744817858491187,
          -0.7512744540543228,
          -0.4285052926085066,
          -0.23971588290593013,
          0.04309798168804618,
          0.035928826962763456,
          0.2694652178204766,
          0.49723797420413424,
          0.5845314780031821,
          0.32672867829477475,
          0.1404340357054529,
          -0.14173977157517437,
          0.7644016723474468,
          0.7642584356714058,
          0.9696845540848887,
          -1
         ],
         "y": [
          -0.36652800472774216,
          -0.23599624296780777,
          0.04557264100552764,
          0.2207871689885184,
          0.30657330733947546,
          0.419205693638779,
          0.5342009241585525,
          0.3014217589409976,
          0.09542313682475137,
          -0.23047787137283177,
          -0.36646522350910865,
          -0.3317377133279479,
          -0.14961450678663288,
          0.17429525407996838,
          0.4980395806293988,
          0.6494087398554556,
          -0.4748858941620434,
          -0.7378550994530128,
          -0.6172712104265814,
          0.2659035612722846
         ]
        }
       ],
       "layout": {
        "autosize": false,
        "height": 400,
        "hovermode": "closest",
        "margin": {
         "b": 5,
         "l": 0,
         "r": 0,
         "t": 20
        },
        "paper_bgcolor": "rgba(255,255,255,255)",
        "plot_bgcolor": "rgba(0,0,0,0)",
        "scene": {
         "xaxis": {
          "autorange": true,
          "showgrid": false,
          "showline": false,
          "showticklabels": false,
          "ticks": "",
          "visible": false,
          "zeroline": false
         },
         "yaxis": {
          "autorange": true,
          "showgrid": false,
          "showline": false,
          "showticklabels": false,
          "ticks": "",
          "visible": false,
          "zeroline": false
         },
         "zaxis": {
          "autorange": true,
          "showgrid": false,
          "showline": false,
          "showticklabels": false,
          "ticks": "",
          "visible": false,
          "zeroline": false
         }
        },
        "showlegend": false,
        "template": {
         "data": {
          "bar": [
           {
            "error_x": {
             "color": "#2a3f5f"
            },
            "error_y": {
             "color": "#2a3f5f"
            },
            "marker": {
             "line": {
              "color": "#E5ECF6",
              "width": 0.5
             },
             "pattern": {
              "fillmode": "overlay",
              "size": 10,
              "solidity": 0.2
             }
            },
            "type": "bar"
           }
          ],
          "barpolar": [
           {
            "marker": {
             "line": {
              "color": "#E5ECF6",
              "width": 0.5
             },
             "pattern": {
              "fillmode": "overlay",
              "size": 10,
              "solidity": 0.2
             }
            },
            "type": "barpolar"
           }
          ],
          "carpet": [
           {
            "aaxis": {
             "endlinecolor": "#2a3f5f",
             "gridcolor": "white",
             "linecolor": "white",
             "minorgridcolor": "white",
             "startlinecolor": "#2a3f5f"
            },
            "baxis": {
             "endlinecolor": "#2a3f5f",
             "gridcolor": "white",
             "linecolor": "white",
             "minorgridcolor": "white",
             "startlinecolor": "#2a3f5f"
            },
            "type": "carpet"
           }
          ],
          "choropleth": [
           {
            "colorbar": {
             "outlinewidth": 0,
             "ticks": ""
            },
            "type": "choropleth"
           }
          ],
          "contour": [
           {
            "colorbar": {
             "outlinewidth": 0,
             "ticks": ""
            },
            "colorscale": [
             [
              0,
              "#0d0887"
             ],
             [
              0.1111111111111111,
              "#46039f"
             ],
             [
              0.2222222222222222,
              "#7201a8"
             ],
             [
              0.3333333333333333,
              "#9c179e"
             ],
             [
              0.4444444444444444,
              "#bd3786"
             ],
             [
              0.5555555555555556,
              "#d8576b"
             ],
             [
              0.6666666666666666,
              "#ed7953"
             ],
             [
              0.7777777777777778,
              "#fb9f3a"
             ],
             [
              0.8888888888888888,
              "#fdca26"
             ],
             [
              1,
              "#f0f921"
             ]
            ],
            "type": "contour"
           }
          ],
          "contourcarpet": [
           {
            "colorbar": {
             "outlinewidth": 0,
             "ticks": ""
            },
            "type": "contourcarpet"
           }
          ],
          "heatmap": [
           {
            "colorbar": {
             "outlinewidth": 0,
             "ticks": ""
            },
            "colorscale": [
             [
              0,
              "#0d0887"
             ],
             [
              0.1111111111111111,
              "#46039f"
             ],
             [
              0.2222222222222222,
              "#7201a8"
             ],
             [
              0.3333333333333333,
              "#9c179e"
             ],
             [
              0.4444444444444444,
              "#bd3786"
             ],
             [
              0.5555555555555556,
              "#d8576b"
             ],
             [
              0.6666666666666666,
              "#ed7953"
             ],
             [
              0.7777777777777778,
              "#fb9f3a"
             ],
             [
              0.8888888888888888,
              "#fdca26"
             ],
             [
              1,
              "#f0f921"
             ]
            ],
            "type": "heatmap"
           }
          ],
          "heatmapgl": [
           {
            "colorbar": {
             "outlinewidth": 0,
             "ticks": ""
            },
            "colorscale": [
             [
              0,
              "#0d0887"
             ],
             [
              0.1111111111111111,
              "#46039f"
             ],
             [
              0.2222222222222222,
              "#7201a8"
             ],
             [
              0.3333333333333333,
              "#9c179e"
             ],
             [
              0.4444444444444444,
              "#bd3786"
             ],
             [
              0.5555555555555556,
              "#d8576b"
             ],
             [
              0.6666666666666666,
              "#ed7953"
             ],
             [
              0.7777777777777778,
              "#fb9f3a"
             ],
             [
              0.8888888888888888,
              "#fdca26"
             ],
             [
              1,
              "#f0f921"
             ]
            ],
            "type": "heatmapgl"
           }
          ],
          "histogram": [
           {
            "marker": {
             "pattern": {
              "fillmode": "overlay",
              "size": 10,
              "solidity": 0.2
             }
            },
            "type": "histogram"
           }
          ],
          "histogram2d": [
           {
            "colorbar": {
             "outlinewidth": 0,
             "ticks": ""
            },
            "colorscale": [
             [
              0,
              "#0d0887"
             ],
             [
              0.1111111111111111,
              "#46039f"
             ],
             [
              0.2222222222222222,
              "#7201a8"
             ],
             [
              0.3333333333333333,
              "#9c179e"
             ],
             [
              0.4444444444444444,
              "#bd3786"
             ],
             [
              0.5555555555555556,
              "#d8576b"
             ],
             [
              0.6666666666666666,
              "#ed7953"
             ],
             [
              0.7777777777777778,
              "#fb9f3a"
             ],
             [
              0.8888888888888888,
              "#fdca26"
             ],
             [
              1,
              "#f0f921"
             ]
            ],
            "type": "histogram2d"
           }
          ],
          "histogram2dcontour": [
           {
            "colorbar": {
             "outlinewidth": 0,
             "ticks": ""
            },
            "colorscale": [
             [
              0,
              "#0d0887"
             ],
             [
              0.1111111111111111,
              "#46039f"
             ],
             [
              0.2222222222222222,
              "#7201a8"
             ],
             [
              0.3333333333333333,
              "#9c179e"
             ],
             [
              0.4444444444444444,
              "#bd3786"
             ],
             [
              0.5555555555555556,
              "#d8576b"
             ],
             [
              0.6666666666666666,
              "#ed7953"
             ],
             [
              0.7777777777777778,
              "#fb9f3a"
             ],
             [
              0.8888888888888888,
              "#fdca26"
             ],
             [
              1,
              "#f0f921"
             ]
            ],
            "type": "histogram2dcontour"
           }
          ],
          "mesh3d": [
           {
            "colorbar": {
             "outlinewidth": 0,
             "ticks": ""
            },
            "type": "mesh3d"
           }
          ],
          "parcoords": [
           {
            "line": {
             "colorbar": {
              "outlinewidth": 0,
              "ticks": ""
             }
            },
            "type": "parcoords"
           }
          ],
          "pie": [
           {
            "automargin": true,
            "type": "pie"
           }
          ],
          "scatter": [
           {
            "fillpattern": {
             "fillmode": "overlay",
             "size": 10,
             "solidity": 0.2
            },
            "type": "scatter"
           }
          ],
          "scatter3d": [
           {
            "line": {
             "colorbar": {
              "outlinewidth": 0,
              "ticks": ""
             }
            },
            "marker": {
             "colorbar": {
              "outlinewidth": 0,
              "ticks": ""
             }
            },
            "type": "scatter3d"
           }
          ],
          "scattercarpet": [
           {
            "marker": {
             "colorbar": {
              "outlinewidth": 0,
              "ticks": ""
             }
            },
            "type": "scattercarpet"
           }
          ],
          "scattergeo": [
           {
            "marker": {
             "colorbar": {
              "outlinewidth": 0,
              "ticks": ""
             }
            },
            "type": "scattergeo"
           }
          ],
          "scattergl": [
           {
            "marker": {
             "colorbar": {
              "outlinewidth": 0,
              "ticks": ""
             }
            },
            "type": "scattergl"
           }
          ],
          "scattermapbox": [
           {
            "marker": {
             "colorbar": {
              "outlinewidth": 0,
              "ticks": ""
             }
            },
            "type": "scattermapbox"
           }
          ],
          "scatterpolar": [
           {
            "marker": {
             "colorbar": {
              "outlinewidth": 0,
              "ticks": ""
             }
            },
            "type": "scatterpolar"
           }
          ],
          "scatterpolargl": [
           {
            "marker": {
             "colorbar": {
              "outlinewidth": 0,
              "ticks": ""
             }
            },
            "type": "scatterpolargl"
           }
          ],
          "scatterternary": [
           {
            "marker": {
             "colorbar": {
              "outlinewidth": 0,
              "ticks": ""
             }
            },
            "type": "scatterternary"
           }
          ],
          "surface": [
           {
            "colorbar": {
             "outlinewidth": 0,
             "ticks": ""
            },
            "colorscale": [
             [
              0,
              "#0d0887"
             ],
             [
              0.1111111111111111,
              "#46039f"
             ],
             [
              0.2222222222222222,
              "#7201a8"
             ],
             [
              0.3333333333333333,
              "#9c179e"
             ],
             [
              0.4444444444444444,
              "#bd3786"
             ],
             [
              0.5555555555555556,
              "#d8576b"
             ],
             [
              0.6666666666666666,
              "#ed7953"
             ],
             [
              0.7777777777777778,
              "#fb9f3a"
             ],
             [
              0.8888888888888888,
              "#fdca26"
             ],
             [
              1,
              "#f0f921"
             ]
            ],
            "type": "surface"
           }
          ],
          "table": [
           {
            "cells": {
             "fill": {
              "color": "#EBF0F8"
             },
             "line": {
              "color": "white"
             }
            },
            "header": {
             "fill": {
              "color": "#C8D4E3"
             },
             "line": {
              "color": "white"
             }
            },
            "type": "table"
           }
          ]
         },
         "layout": {
          "annotationdefaults": {
           "arrowcolor": "#2a3f5f",
           "arrowhead": 0,
           "arrowwidth": 1
          },
          "autotypenumbers": "strict",
          "coloraxis": {
           "colorbar": {
            "outlinewidth": 0,
            "ticks": ""
           }
          },
          "colorscale": {
           "diverging": [
            [
             0,
             "#8e0152"
            ],
            [
             0.1,
             "#c51b7d"
            ],
            [
             0.2,
             "#de77ae"
            ],
            [
             0.3,
             "#f1b6da"
            ],
            [
             0.4,
             "#fde0ef"
            ],
            [
             0.5,
             "#f7f7f7"
            ],
            [
             0.6,
             "#e6f5d0"
            ],
            [
             0.7,
             "#b8e186"
            ],
            [
             0.8,
             "#7fbc41"
            ],
            [
             0.9,
             "#4d9221"
            ],
            [
             1,
             "#276419"
            ]
           ],
           "sequential": [
            [
             0,
             "#0d0887"
            ],
            [
             0.1111111111111111,
             "#46039f"
            ],
            [
             0.2222222222222222,
             "#7201a8"
            ],
            [
             0.3333333333333333,
             "#9c179e"
            ],
            [
             0.4444444444444444,
             "#bd3786"
            ],
            [
             0.5555555555555556,
             "#d8576b"
            ],
            [
             0.6666666666666666,
             "#ed7953"
            ],
            [
             0.7777777777777778,
             "#fb9f3a"
            ],
            [
             0.8888888888888888,
             "#fdca26"
            ],
            [
             1,
             "#f0f921"
            ]
           ],
           "sequentialminus": [
            [
             0,
             "#0d0887"
            ],
            [
             0.1111111111111111,
             "#46039f"
            ],
            [
             0.2222222222222222,
             "#7201a8"
            ],
            [
             0.3333333333333333,
             "#9c179e"
            ],
            [
             0.4444444444444444,
             "#bd3786"
            ],
            [
             0.5555555555555556,
             "#d8576b"
            ],
            [
             0.6666666666666666,
             "#ed7953"
            ],
            [
             0.7777777777777778,
             "#fb9f3a"
            ],
            [
             0.8888888888888888,
             "#fdca26"
            ],
            [
             1,
             "#f0f921"
            ]
           ]
          },
          "colorway": [
           "#636efa",
           "#EF553B",
           "#00cc96",
           "#ab63fa",
           "#FFA15A",
           "#19d3f3",
           "#FF6692",
           "#B6E880",
           "#FF97FF",
           "#FECB52"
          ],
          "font": {
           "color": "#2a3f5f"
          },
          "geo": {
           "bgcolor": "white",
           "lakecolor": "white",
           "landcolor": "#E5ECF6",
           "showlakes": true,
           "showland": true,
           "subunitcolor": "white"
          },
          "hoverlabel": {
           "align": "left"
          },
          "hovermode": "closest",
          "mapbox": {
           "style": "light"
          },
          "paper_bgcolor": "white",
          "plot_bgcolor": "#E5ECF6",
          "polar": {
           "angularaxis": {
            "gridcolor": "white",
            "linecolor": "white",
            "ticks": ""
           },
           "bgcolor": "#E5ECF6",
           "radialaxis": {
            "gridcolor": "white",
            "linecolor": "white",
            "ticks": ""
           }
          },
          "scene": {
           "xaxis": {
            "backgroundcolor": "#E5ECF6",
            "gridcolor": "white",
            "gridwidth": 2,
            "linecolor": "white",
            "showbackground": true,
            "ticks": "",
            "zerolinecolor": "white"
           },
           "yaxis": {
            "backgroundcolor": "#E5ECF6",
            "gridcolor": "white",
            "gridwidth": 2,
            "linecolor": "white",
            "showbackground": true,
            "ticks": "",
            "zerolinecolor": "white"
           },
           "zaxis": {
            "backgroundcolor": "#E5ECF6",
            "gridcolor": "white",
            "gridwidth": 2,
            "linecolor": "white",
            "showbackground": true,
            "ticks": "",
            "zerolinecolor": "white"
           }
          },
          "shapedefaults": {
           "line": {
            "color": "#2a3f5f"
           }
          },
          "ternary": {
           "aaxis": {
            "gridcolor": "white",
            "linecolor": "white",
            "ticks": ""
           },
           "baxis": {
            "gridcolor": "white",
            "linecolor": "white",
            "ticks": ""
           },
           "bgcolor": "#E5ECF6",
           "caxis": {
            "gridcolor": "white",
            "linecolor": "white",
            "ticks": ""
           }
          },
          "title": {
           "x": 0.05
          },
          "xaxis": {
           "automargin": true,
           "gridcolor": "white",
           "linecolor": "white",
           "ticks": "",
           "title": {
            "standoff": 15
           },
           "zerolinecolor": "white",
           "zerolinewidth": 2
          },
          "yaxis": {
           "automargin": true,
           "gridcolor": "white",
           "linecolor": "white",
           "ticks": "",
           "title": {
            "standoff": 15
           },
           "zerolinecolor": "white",
           "zerolinewidth": 2
          }
         }
        },
        "title": {
         "font": {
          "size": 16
         },
         "text": ""
        },
        "width": 375,
        "xaxis": {
         "autorange": true,
         "showgrid": false,
         "showline": false,
         "showticklabels": false,
         "ticks": "",
         "visible": false,
         "zeroline": false
        },
        "yaxis": {
         "autorange": true,
         "showgrid": false,
         "showline": false,
         "showticklabels": false,
         "ticks": "",
         "visible": false,
         "zeroline": false
        }
       }
      }
     },
     "metadata": {},
     "output_type": "display_data"
    }
   ],
   "source": [
    "import networkx as nx\n",
    "from visualize import GraphVisualization\n",
    "\n",
    "def create_graph(graph):\n",
    "    g = to_networkx(graph)\n",
    "    pos = nx.spring_layout(g)\n",
    "    vis = GraphVisualization(\n",
    "        g,\n",
    "        pos,\n",
    "        node_text_position=\"top left\",\n",
    "        node_size=20,\n",
    "    )\n",
    "    fig = vis.create_figure()\n",
    "    return fig\n",
    "\n",
    "\n",
    "fig = create_graph(dataset[0])\n",
    "fig.show()"
   ]
  },
  {
   "cell_type": "markdown",
   "metadata": {},
   "source": [
    "# **GNN MODEL**"
   ]
  },
  {
   "cell_type": "markdown",
   "metadata": {},
   "source": [
    "Imports\n"
   ]
  },
  {
   "cell_type": "code",
   "execution_count": 535,
   "metadata": {},
   "outputs": [],
   "source": [
    "from torch.nn import Linear\n",
    "import torch.nn.functional as F\n",
    "from torch_geometric.nn import GCNConv\n",
    "from torch_geometric.nn import global_mean_pool"
   ]
  },
  {
   "cell_type": "markdown",
   "metadata": {},
   "source": [
    "Model definition\n"
   ]
  },
  {
   "cell_type": "code",
   "execution_count": 536,
   "metadata": {},
   "outputs": [],
   "source": [
    "\n",
    "class GCN(torch.nn.Module):\n",
    "    def __init__(self, in_features=dataset.num_node_features, hidden_channels=HIDDEN_NODE_COUNT, outfeatures = 2):\n",
    "        super(GCN, self).__init__()\n",
    "\n",
    "        # Input layer\n",
    "        self.conv1 = GCNConv(in_features, hidden_channels)\n",
    "\n",
    "        # Hidden layers\n",
    "        self.conv2 = GCNConv(hidden_channels, hidden_channels)\n",
    "        #self.conv3 = GCNConv(hidden_channels, hidden_channels)\n",
    "        #self.conv4 = GCNConv(hidden_channels, hidden_channels)\n",
    "        #self.conv5 = GCNConv(hidden_channels, hidden_channels)\n",
    "\n",
    "        # Output layer\n",
    "        self.lin = Linear(hidden_channels, outfeatures)\n",
    "\n",
    "    def forward(self, x, edge_index, batch):\n",
    "        # 1. Obtain node embeddings\n",
    "        x = self.conv1(x, edge_index)\n",
    "        x = x.relu()\n",
    "        x = self.conv2(x, edge_index)\n",
    "        x = x.relu()\n",
    "        #x = self.conv3(x, edge_index)\n",
    "        #x = x.relu()\n",
    "        #x = self.conv4(x, edge_index)\n",
    "        #x = x.relu()\n",
    "        #x = self.conv5(x, edge_index)\n",
    "\n",
    "        # 2. Readout layer\n",
    "        x = global_mean_pool(x, batch)  # [batch_size, hidden_channels]\n",
    "\n",
    "        # 3. Apply a final classifier\n",
    "        x = F.dropout(x, p=0.5, training=self.training)\n",
    "        x = self.lin(x)\n",
    "\n",
    "        return x"
   ]
  },
  {
   "cell_type": "markdown",
   "metadata": {},
   "source": [
    "Returned data model"
   ]
  },
  {
   "cell_type": "code",
   "execution_count": 537,
   "metadata": {},
   "outputs": [],
   "source": [
    "class GCNData():\n",
    "    def __init__(self):\n",
    "        self.train_losses = []\n",
    "        self.train_accuracies = []\n",
    "        self.train_labels = []\n",
    "        self.train_scores = []\n",
    "        self.test_losses = []\n",
    "        self.test_accuracies = []\n",
    "        self.test_scores = []\n",
    "        self.test_labels = []"
   ]
  },
  {
   "cell_type": "markdown",
   "metadata": {},
   "source": [
    "# **TRAINING**"
   ]
  },
  {
   "cell_type": "code",
   "execution_count": 538,
   "metadata": {},
   "outputs": [],
   "source": [
    "from tqdm import trange"
   ]
  },
  {
   "cell_type": "markdown",
   "metadata": {},
   "source": [
    "Set loss function"
   ]
  },
  {
   "cell_type": "code",
   "execution_count": 539,
   "metadata": {},
   "outputs": [],
   "source": [
    "loss_function = torch.nn.CrossEntropyLoss()"
   ]
  },
  {
   "cell_type": "markdown",
   "metadata": {},
   "source": [
    "Basic model training"
   ]
  },
  {
   "cell_type": "code",
   "execution_count": 540,
   "metadata": {},
   "outputs": [],
   "source": [
    "def hyperParameterTester(create_table=False, hc=HIDDEN_NODE_COUNT, learn=LEARNING_RATE):\n",
    "    \n",
    "    torch.manual_seed(MANUAL_SEED)                              # Set manual seed\n",
    "    model = GCN(hidden_channels=hc)                             # Initilialize model\n",
    "    model.to(device=device)\n",
    "\n",
    "    optimizer = torch.optim.Adam(model.parameters(), lr=learn)  # Set optimizer with learning rate\n",
    "    loss_function = torch.nn.CrossEntropyLoss()                 # Set loss function\n",
    "\n",
    "    returnData = GCNData()\n",
    "\n",
    "    def train():\n",
    "        model.train()\n",
    "        loss_ = 0\n",
    "        correct = 0\n",
    "        i = 0\n",
    "\n",
    "        for data in train_loader:  # Iterates the batches. We declared each batch to be of size 64\n",
    "            data = data.to(device, non_blocking=True)\n",
    "            # Calculate output, and get the maximum of those in order to obtain the predicted value\n",
    "            out = model(data.x, data.edge_index, data.batch)\n",
    "            cat = torch.argmax(out, dim=1)\n",
    "\n",
    "            correct += int((cat == data.y).sum())  # Check against ground-truth labels.\n",
    "            \n",
    "            loss = loss_function(out, data.y)\n",
    "            loss_ += loss.item()\n",
    "            \n",
    "            loss.backward()\n",
    "            optimizer.step()\n",
    "            optimizer.zero_grad()\n",
    "\n",
    "            i+=1\n",
    "\n",
    "            # Append actual and preddicted to respective array. Have to be converted to NumPy arrays in order to flatten them.\n",
    "            # We flatten them as 1D arrays are required by SK in order to calculate and plot ROC AUC\n",
    "            arrayLabel = np.array(data.y.to('cpu'))\n",
    "            for value in arrayLabel.flatten():\n",
    "                returnData.train_labels.append(value)\n",
    "\n",
    "            arrayCat = np.array(cat.to('cpu'))\n",
    "            for value in arrayCat.flatten():\n",
    "                returnData.train_scores.append(value)\n",
    "        \n",
    "        #tt.set_description(\"loss: %2f. accuracy %2f.\" % (loss, correct/len(train_loader.dataset)))\n",
    "        returnData.train_losses.append(loss_/ i)\n",
    "        returnData.train_accuracies.append(correct/len(train_loader.dataset))\n",
    "\n",
    "    def test(loader):\n",
    "        model.eval()\n",
    "        correct = 0\n",
    "        loss_ = 0\n",
    "        i = 0\n",
    "        for data in loader:  # Iterate in batches over the training/test dataset.\n",
    "            data = data.to(device, non_blocking=True)\n",
    "            out = model(data.x, data.edge_index, data.batch)\n",
    "            cat = torch.argmax(out, dim=1)\n",
    "\n",
    "            correct += int((cat == data.y).sum())  # Check against ground-truth labels.\n",
    "\n",
    "            loss = loss_function(out, data.y)\n",
    "            loss_ += loss.item()\n",
    "\n",
    "            arrayLabel = np.array(data.y.to('cpu'))\n",
    "            for value in arrayLabel.flatten():\n",
    "                returnData.test_labels.append(value)\n",
    "\n",
    "            arrayCat = np.array(cat.to('cpu'))\n",
    "            for value in arrayCat.flatten():\n",
    "                returnData.test_scores.append(value)\n",
    "            \n",
    "            i+=1\n",
    "        \n",
    "        returnData.test_losses.append(loss_/ i)\n",
    "        returnData.test_accuracies.append(correct/len(loader.dataset))\n",
    "\n",
    "    for epoch in trange(1, EPOCHS):\n",
    "        train()\n",
    "    test(train_loader)\n",
    "    \n",
    "    return returnData\n",
    "\n"
   ]
  },
  {
   "cell_type": "markdown",
   "metadata": {},
   "source": [
    "# **PLOTTING** "
   ]
  },
  {
   "cell_type": "code",
   "execution_count": 541,
   "metadata": {},
   "outputs": [],
   "source": [
    "import matplotlib.pyplot as plt\n",
    "import numpy as np\n",
    "import matplotlib.style as mplstyle\n",
    "import sklearn\n",
    "from sklearn import metrics\n",
    "from sklearn.metrics import RocCurveDisplay"
   ]
  },
  {
   "cell_type": "markdown",
   "metadata": {},
   "source": [
    "**Plotting helper functions** "
   ]
  },
  {
   "cell_type": "code",
   "execution_count": 542,
   "metadata": {},
   "outputs": [],
   "source": [
    "def GraphPrettifier(figname, ylabel, title):\n",
    "    figure = plt.figure(figname)\n",
    "    figure.patch.set_facecolor('lightgray')\n",
    "    plt.xlabel(\"# Epochs\")\n",
    "    plt.ylabel(ylabel)\n",
    "    plt.title(title)\n",
    "    plt.grid()\n",
    "    plt.legend()\n",
    "\n",
    "# Used for prettier graph\n",
    "def AvgCalculator(data, numChunks):\n",
    "    averageOfData = []\n",
    "    chunkSize = len(data) // numChunks\n",
    "    for i in range(0, len(data), chunkSize):\n",
    "        chunk = data[i:i+chunkSize]\n",
    "        chunkAvg = sum(chunk) / len(chunk)\n",
    "        averageOfData.append(chunkAvg)\n",
    "    return averageOfData\n",
    "\n",
    "# ROC AUC PLOT\n",
    "def plotROCAUC(labels, scores, title, ax):\n",
    "    # roc_auc = roc_auc_score(labels, scores)\n",
    "\n",
    "    fpr, tpr, _ = metrics.roc_curve(labels,  scores)\n",
    "    auc = metrics.roc_auc_score(labels, scores)\n",
    "    ax.set_title(title)\n",
    "    ax.plot(fpr,tpr)\n",
    "    ax.legend([\"auc=\"+str(round(auc, 2))], handlelength=0, handletextpad=0)\n",
    "\n",
    "    # RocCurveDisplay.from_predictions(labels, scores)\n",
    "\n",
    "    #plt.show()"
   ]
  },
  {
   "cell_type": "markdown",
   "metadata": {},
   "source": [
    "Create a class for plotting parameters"
   ]
  },
  {
   "cell_type": "code",
   "execution_count": 543,
   "metadata": {},
   "outputs": [],
   "source": [
    "class PP():\n",
    "    def __init__(self, value, colour):\n",
    "        self.value = value\n",
    "        self.colour = colour"
   ]
  },
  {
   "cell_type": "markdown",
   "metadata": {},
   "source": [
    "**Function for plotting the basic graph**"
   ]
  },
  {
   "cell_type": "code",
   "execution_count": 544,
   "metadata": {},
   "outputs": [],
   "source": [
    "def PlotBasic():\n",
    "    data = hyperParameterTester() # Get data\n",
    "    AndreasPlot(data)\n",
    "    X = np.arange(0, len(data.train_accuracies))\n",
    "    plt.figure('g', figsize=[10,5])\n",
    "    plt.plot(X, np.array(data.train_accuracies), c=\"indianred\", label=\"Accuracy\")\n",
    "    plt.plot(X, np.array(data.train_losses), c=\"navy\", label=\"Loss\")\n",
    "    GraphPrettifier('g', '', 'Accuracy and Loss')\n",
    "    plt.show()"
   ]
  },
  {
   "cell_type": "markdown",
   "metadata": {},
   "source": [
    "**Plotting learning rates**"
   ]
  },
  {
   "cell_type": "code",
   "execution_count": 545,
   "metadata": {},
   "outputs": [],
   "source": [
    "def PlotOverLR(para: GCNData, cleanGraph=False, numChunks = 50):\n",
    "    EstNumData = (EPOCHS-1)*len(train_loader)\n",
    "    X = np.arange(0, (EPOCHS-1)*len(train_loader)) if not cleanGraph else np.arange(0, EstNumData, EstNumData//numChunks)\n",
    "\n",
    "    for p in para:\n",
    "        data = hyperParameterTester(learn = p.value) # Get data\n",
    "\n",
    "        plt.figure('Acc', figsize=[10,5]) # Activate figure with accuracy\n",
    "        accuracies = np.array(data.train_accuracies)\n",
    "        if not cleanGraph: plt.plot(X, accuracies, color=p.colour, label='Learning rate: {}'.format(p.value))\n",
    "\n",
    "        plt.figure('Loss', figsize=[10,5]) # Activate figure with loss\n",
    "        losses = np.array(data.train_losses)\n",
    "        if not cleanGraph: plt.plot(X, losses, color=p.colour, label='Learning rate: {}'.format(p.value))\n",
    "\n",
    "        if cleanGraph: # Taking averages for prettier graph\n",
    "            averageAcc = AvgCalculator(accuracies, numChunks)\n",
    "            averageLoss = AvgCalculator(losses, numChunks)\n",
    "            \n",
    "            plt.figure('Acc') # Activate figure with accuracy\n",
    "            plt.plot(X, averageAcc, color=p.colour, label='Learning rate: {}'.format(p.value))\n",
    "            plt.figure('Loss') # Activate figure with loss\n",
    "            plt.plot(X, averageLoss, color=p.colour, label='Learning rate: {}'.format(p.value))\n",
    "\n",
    "    script_dir = os.getcwd()\n",
    "    save_dir = os.path.join(script_dir, 'Figures/LR/')\n",
    "\n",
    "    if not os.path.isdir(save_dir):\n",
    "        os.makedirs(save_dir)\n",
    "\n",
    "    save_name = \"Accuracy.pdf\"\n",
    "    GraphPrettifier('Acc', 'Accuracy', 'Accuracy with different learning rates')\n",
    "    plt.savefig(save_dir + save_name)\n",
    "\n",
    "    save_name = \"Loss.pdf\"\n",
    "    GraphPrettifier('Loss', 'Loss', 'Loss with different learning rates')\n",
    "    plt.savefig(save_dir + save_name)\n",
    "\n",
    "    plt.show()"
   ]
  },
  {
   "cell_type": "markdown",
   "metadata": {},
   "source": [
    "**Plotting node count**"
   ]
  },
  {
   "cell_type": "code",
   "execution_count": 546,
   "metadata": {},
   "outputs": [],
   "source": [
    "def PlotOverHC(para: GCNData, cleanGraph=False, numChunks = 50):\n",
    "    EstNumData = (EPOCHS-1)*len(train_loader)\n",
    "    X = np.arange(0, (EPOCHS-1)*len(train_loader)) if not cleanGraph else np.arange(0, EstNumData, EstNumData//numChunks)\n",
    "\n",
    "    for p in para:\n",
    "        data = hyperParameterTester(hc = p.value) # Get data\n",
    "\n",
    "        plt.figure('Acc', figsize=[10,5]) # Activate figure with accuracy\n",
    "        accuracies = np.array(data.train_accuracies)\n",
    "        if not cleanGraph: plt.plot(X, accuracies, color=p.colour, label='# Neurons: {}'.format(p.value))\n",
    "\n",
    "        plt.figure('Loss', figsize=[10,5]) # Activate figure with loss\n",
    "        losses = np.array(data.train_losses)\n",
    "        if not cleanGraph: plt.plot(X, losses, color=p.colour, label='# Neurons: {}'.format(p.value))\n",
    "\n",
    "        if cleanGraph: # Taking averages for prettier graph\n",
    "            averageAcc = AvgCalculator(accuracies, numChunks)\n",
    "            averageLoss = AvgCalculator(losses, numChunks)\n",
    "            \n",
    "            plt.figure('Acc') # Activate figure with accuracy\n",
    "            plt.plot(X, averageAcc, color=p.colour, label='# Neurons: {}'.format(p.value))\n",
    "            plt.figure('Loss') # Activate figure with loss\n",
    "            plt.plot(X, averageLoss, color=p.colour, label='# Neurons: {}'.format(p.value))\n",
    "\n",
    "    script_dir = os.getcwd()\n",
    "    save_dir = os.path.join(script_dir, 'Figures/HC/')\n",
    "\n",
    "    if not os.path.isdir(save_dir):\n",
    "        os.makedirs(save_dir)\n",
    "\n",
    "    save_name = \"Accuracy.pdf\"\n",
    "    GraphPrettifier('Acc', 'Accuracy', 'Accuracy with different neurons in the hidden layers')\n",
    "    plt.savefig(save_dir + save_name)\n",
    "\n",
    "    save_name = \"Loss.pdf\"\n",
    "    GraphPrettifier('Loss', 'Loss', 'Loss with different neurons in the hidden layers')\n",
    "    plt.savefig(save_dir + save_name)\n",
    "\n",
    "    plt.show()"
   ]
  },
  {
   "cell_type": "code",
   "execution_count": 547,
   "metadata": {},
   "outputs": [],
   "source": [
    "import matplotlib.gridspec as gridspec\n",
    "import matplotlib.patches as patches\n",
    "from datetime import datetime\n",
    "\n",
    "# ACCURACY PLOT\n",
    "def plotAccuracy(losses, accuracies, title, ax):\n",
    "    #fig, ax[0,1] = sub\n",
    "    ax.set_title(title)\n",
    "    ax.set_ylim(0, 1)\n",
    "    ax.plot(losses)\n",
    "    ax.plot(accuracies)\n",
    "    ax.plot(losses, label=\"Loss\")\n",
    "    ax.plot(accuracies, label=\"Accuracy\")\n",
    "    ax.legend(loc=\"lower center\")\n",
    "    \n",
    "    \n",
    "    #plt.show()\n",
    "\n",
    "def AndreasPlot(data: GCNData):\n",
    "    plot_training = True\n",
    "    plot_testing = True\n",
    "\n",
    "    plot_accuracy = True\n",
    "    plot_rocauc = True\n",
    "\n",
    "    fig = plt.figure(figsize=(8, 6))\n",
    "\n",
    "    gs = gridspec.GridSpec(3, 2)\n",
    "\n",
    "    ax1 = plt.subplot(gs[0, :])\n",
    "\n",
    "\n",
    "\n",
    "    table_data = [\n",
    "        [\"Seed\", \"Activation\", \"Weight Initializer\", \"Loss function\", \"Pooling\", \"Optimizer\", \"# GCN layers\", \"Neurons\", \"Split\", \"Epochs\", \"Batch Size\", \"LR\"],\n",
    "            [str(MANUAL_SEED), \"ReLU\", \"Default\", \"C-Entropy\", \"GMax Pooling\", \"Adam\", \"3\", \"7, 64, 64, 64, 2\", str(round(DATASPLIT/188, 2)), str(EPOCHS), \"64\", str(LEARNING_RATE)],\n",
    "    ]\n",
    "\n",
    "    table_data_1 = [table_data[0][:len(table_data[0]) // 2], table_data[1][:len(table_data[1]) // 2]]\n",
    "    table_data_2 = [table_data[0][len(table_data[0]) // 2:], table_data[1][len(table_data[1]) // 2:]]\n",
    "\n",
    "    # Create the first table in the top subplot (upper section)\n",
    "    table_1 = ax1.table(cellText=table_data_1, cellLoc='center', loc='center')\n",
    "    table_1.auto_set_font_size(False)\n",
    "    table_1.set_fontsize(12)\n",
    "    table_1.scale(1.2, 1.2)\n",
    "\n",
    "    # Create the second table in the top subplot (lower section)\n",
    "    table_2 = ax1.table(cellText=table_data_2, cellLoc='center', loc='bottom')\n",
    "    table_2.auto_set_font_size(False)\n",
    "    table_2.set_fontsize(12)\n",
    "    table_2.scale(1.2, 1.2)\n",
    "\n",
    "\n",
    "\n",
    "    # Hide axis and display the table\n",
    "    #ax1 = plt.gca()\n",
    "    ax1.axis('off')\n",
    "\n",
    "    #divider_y = -1.1  # Adjust the y-coordinate as needed\n",
    "    #ax1.axhline(divider_y, color='black')\n",
    "\n",
    "\n",
    "\n",
    "\n",
    "    # Plot for train\n",
    "    if(plot_training):\n",
    "        if(plot_accuracy):\n",
    "            #ax00 = ax[0, 0]\n",
    "            ax00 = plt.subplot(gs[1, 0])\n",
    "\n",
    "            plotAccuracy(data.train_losses, data.train_accuracies, \"Training: Accuracy & Loss\", ax00)\n",
    "\n",
    "        if(plot_rocauc):\n",
    "            #ax10 = ax[0, 1]\n",
    "            ax10 = plt.subplot(gs[2, 0])\n",
    "\n",
    "            plotROCAUC(data.train_labels, data.train_scores, \"Training: ROC AUC\", ax10)\n",
    "\n",
    "    # Plot for test\n",
    "    if(plot_testing):\n",
    "        if(plot_accuracy):\n",
    "            #ax01 = ax[1, 0]\n",
    "            ax01 = plt.subplot(gs[1, 1])\n",
    "            plotAccuracy(data.test_losses, data.test_accuracies, \"Testing: Accuracy & Loss\", ax01)\n",
    "\n",
    "        if(plot_rocauc):\n",
    "            #ax11 = ax[1, 1]\n",
    "            ax11 = plt.subplot(gs[2, 1])\n",
    "\n",
    "            plotROCAUC(data.test_labels, data.test_scores, \"Testing: ROC AUC\" ,ax11)\n",
    "\n",
    "    now = datetime.now()\n",
    "\n",
    "    title = \"Model algorithm/parameter & performance profile. Profiled on {}.\".format(now.strftime(\"%d/%m/%Y, %H:%M:%S\"))\n",
    "\n",
    "    fig.suptitle(title, fontsize=12, wrap=True)\n",
    "\n",
    "    plt.tight_layout()"
   ]
  },
  {
   "cell_type": "markdown",
   "metadata": {},
   "source": [
    "**Utilizing the two functions on some parameters**"
   ]
  },
  {
   "cell_type": "code",
   "execution_count": 549,
   "metadata": {},
   "outputs": [
    {
     "name": "stderr",
     "output_type": "stream",
     "text": [
      "  0%|          | 0/299 [00:00<?, ?it/s]"
     ]
    },
    {
     "name": "stderr",
     "output_type": "stream",
     "text": [
      "100%|██████████| 299/299 [00:15<00:00, 19.68it/s]\n"
     ]
    },
    {
     "ename": "ValueError",
     "evalue": "y_true takes value in {} and pos_label is not specified: either make y_true take value in {0, 1} or {-1, 1} or pass pos_label explicitly.",
     "output_type": "error",
     "traceback": [
      "\u001b[1;31m---------------------------------------------------------------------------\u001b[0m",
      "\u001b[1;31mValueError\u001b[0m                                Traceback (most recent call last)",
      "\u001b[1;32me:\\GITHUB\\NeuralGraphs\\Main\\MutagGCN.ipynb Cell 44\u001b[0m line \u001b[0;36m5\n\u001b[0;32m      <a href='vscode-notebook-cell:/e%3A/GITHUB/NeuralGraphs/Main/MutagGCN.ipynb#X55sZmlsZQ%3D%3D?line=1'>2</a>\u001b[0m HCparameters \u001b[39m=\u001b[39m {PP(\u001b[39m5\u001b[39m, \u001b[39m'\u001b[39m\u001b[39mfirebrick\u001b[39m\u001b[39m'\u001b[39m), PP(\u001b[39m10\u001b[39m, \u001b[39m'\u001b[39m\u001b[39mlightsalmon\u001b[39m\u001b[39m'\u001b[39m), PP(\u001b[39m20\u001b[39m, \u001b[39m'\u001b[39m\u001b[39mdarkgoldenrod\u001b[39m\u001b[39m'\u001b[39m), PP(\u001b[39m40\u001b[39m, \u001b[39m'\u001b[39m\u001b[39mgoldenrod\u001b[39m\u001b[39m'\u001b[39m), PP(\u001b[39m64\u001b[39m, \u001b[39m'\u001b[39m\u001b[39mmediumaquamarine\u001b[39m\u001b[39m'\u001b[39m), PP(\u001b[39m100\u001b[39m, \u001b[39m'\u001b[39m\u001b[39mblack\u001b[39m\u001b[39m'\u001b[39m), PP(\u001b[39m200\u001b[39m, \u001b[39m'\u001b[39m\u001b[39mrosybrown\u001b[39m\u001b[39m'\u001b[39m)}\n\u001b[0;32m      <a href='vscode-notebook-cell:/e%3A/GITHUB/NeuralGraphs/Main/MutagGCN.ipynb#X55sZmlsZQ%3D%3D?line=2'>3</a>\u001b[0m \u001b[39m#PlotOverLR(LRparameters, cleanGraph=True)\u001b[39;00m\n\u001b[0;32m      <a href='vscode-notebook-cell:/e%3A/GITHUB/NeuralGraphs/Main/MutagGCN.ipynb#X55sZmlsZQ%3D%3D?line=3'>4</a>\u001b[0m \u001b[39m#PlotOverHC(HCparameters, cleanGraph=True)\u001b[39;00m\n\u001b[1;32m----> <a href='vscode-notebook-cell:/e%3A/GITHUB/NeuralGraphs/Main/MutagGCN.ipynb#X55sZmlsZQ%3D%3D?line=4'>5</a>\u001b[0m PlotBasic()\n",
      "\u001b[1;32me:\\GITHUB\\NeuralGraphs\\Main\\MutagGCN.ipynb Cell 44\u001b[0m line \u001b[0;36m3\n\u001b[0;32m      <a href='vscode-notebook-cell:/e%3A/GITHUB/NeuralGraphs/Main/MutagGCN.ipynb#X55sZmlsZQ%3D%3D?line=0'>1</a>\u001b[0m \u001b[39mdef\u001b[39;00m \u001b[39mPlotBasic\u001b[39m():\n\u001b[0;32m      <a href='vscode-notebook-cell:/e%3A/GITHUB/NeuralGraphs/Main/MutagGCN.ipynb#X55sZmlsZQ%3D%3D?line=1'>2</a>\u001b[0m     data \u001b[39m=\u001b[39m hyperParameterTester() \u001b[39m# Get data\u001b[39;00m\n\u001b[1;32m----> <a href='vscode-notebook-cell:/e%3A/GITHUB/NeuralGraphs/Main/MutagGCN.ipynb#X55sZmlsZQ%3D%3D?line=2'>3</a>\u001b[0m     AndreasPlot(data)\n\u001b[0;32m      <a href='vscode-notebook-cell:/e%3A/GITHUB/NeuralGraphs/Main/MutagGCN.ipynb#X55sZmlsZQ%3D%3D?line=3'>4</a>\u001b[0m     X \u001b[39m=\u001b[39m np\u001b[39m.\u001b[39marange(\u001b[39m0\u001b[39m, \u001b[39mlen\u001b[39m(data\u001b[39m.\u001b[39mtrain_accuracies))\n\u001b[0;32m      <a href='vscode-notebook-cell:/e%3A/GITHUB/NeuralGraphs/Main/MutagGCN.ipynb#X55sZmlsZQ%3D%3D?line=4'>5</a>\u001b[0m     plt\u001b[39m.\u001b[39mfigure(\u001b[39m'\u001b[39m\u001b[39mg\u001b[39m\u001b[39m'\u001b[39m, figsize\u001b[39m=\u001b[39m[\u001b[39m10\u001b[39m,\u001b[39m5\u001b[39m])\n",
      "\u001b[1;32me:\\GITHUB\\NeuralGraphs\\Main\\MutagGCN.ipynb Cell 44\u001b[0m line \u001b[0;36m7\n\u001b[0;32m     <a href='vscode-notebook-cell:/e%3A/GITHUB/NeuralGraphs/Main/MutagGCN.ipynb#X55sZmlsZQ%3D%3D?line=73'>74</a>\u001b[0m     \u001b[39mif\u001b[39;00m(plot_rocauc):\n\u001b[0;32m     <a href='vscode-notebook-cell:/e%3A/GITHUB/NeuralGraphs/Main/MutagGCN.ipynb#X55sZmlsZQ%3D%3D?line=74'>75</a>\u001b[0m         \u001b[39m#ax10 = ax[0, 1]\u001b[39;00m\n\u001b[0;32m     <a href='vscode-notebook-cell:/e%3A/GITHUB/NeuralGraphs/Main/MutagGCN.ipynb#X55sZmlsZQ%3D%3D?line=75'>76</a>\u001b[0m         ax10 \u001b[39m=\u001b[39m plt\u001b[39m.\u001b[39msubplot(gs[\u001b[39m2\u001b[39m, \u001b[39m0\u001b[39m])\n\u001b[1;32m---> <a href='vscode-notebook-cell:/e%3A/GITHUB/NeuralGraphs/Main/MutagGCN.ipynb#X55sZmlsZQ%3D%3D?line=77'>78</a>\u001b[0m         plotROCAUC(data\u001b[39m.\u001b[39;49mtrain_labels, data\u001b[39m.\u001b[39;49mtrain_scores, \u001b[39m\"\u001b[39;49m\u001b[39mTraining: ROC AUC\u001b[39;49m\u001b[39m\"\u001b[39;49m, ax10)\n\u001b[0;32m     <a href='vscode-notebook-cell:/e%3A/GITHUB/NeuralGraphs/Main/MutagGCN.ipynb#X55sZmlsZQ%3D%3D?line=79'>80</a>\u001b[0m \u001b[39m# Plot for test\u001b[39;00m\n\u001b[0;32m     <a href='vscode-notebook-cell:/e%3A/GITHUB/NeuralGraphs/Main/MutagGCN.ipynb#X55sZmlsZQ%3D%3D?line=80'>81</a>\u001b[0m \u001b[39mif\u001b[39;00m(plot_testing):\n",
      "\u001b[1;32me:\\GITHUB\\NeuralGraphs\\Main\\MutagGCN.ipynb Cell 44\u001b[0m line \u001b[0;36m2\n\u001b[0;32m     <a href='vscode-notebook-cell:/e%3A/GITHUB/NeuralGraphs/Main/MutagGCN.ipynb#X55sZmlsZQ%3D%3D?line=20'>21</a>\u001b[0m \u001b[39mdef\u001b[39;00m \u001b[39mplotROCAUC\u001b[39m(labels, scores, title, ax):\n\u001b[0;32m     <a href='vscode-notebook-cell:/e%3A/GITHUB/NeuralGraphs/Main/MutagGCN.ipynb#X55sZmlsZQ%3D%3D?line=21'>22</a>\u001b[0m     \u001b[39m# roc_auc = roc_auc_score(labels, scores)\u001b[39;00m\n\u001b[1;32m---> <a href='vscode-notebook-cell:/e%3A/GITHUB/NeuralGraphs/Main/MutagGCN.ipynb#X55sZmlsZQ%3D%3D?line=23'>24</a>\u001b[0m     fpr, tpr, _ \u001b[39m=\u001b[39m metrics\u001b[39m.\u001b[39;49mroc_curve(labels,  scores)\n\u001b[0;32m     <a href='vscode-notebook-cell:/e%3A/GITHUB/NeuralGraphs/Main/MutagGCN.ipynb#X55sZmlsZQ%3D%3D?line=24'>25</a>\u001b[0m     auc \u001b[39m=\u001b[39m metrics\u001b[39m.\u001b[39mroc_auc_score(labels, scores)\n\u001b[0;32m     <a href='vscode-notebook-cell:/e%3A/GITHUB/NeuralGraphs/Main/MutagGCN.ipynb#X55sZmlsZQ%3D%3D?line=25'>26</a>\u001b[0m     ax\u001b[39m.\u001b[39mset_title(title)\n",
      "File \u001b[1;32mc:\\Users\\theis\\AppData\\Local\\Programs\\Python\\Python311\\Lib\\site-packages\\sklearn\\utils\\_param_validation.py:211\u001b[0m, in \u001b[0;36mvalidate_params.<locals>.decorator.<locals>.wrapper\u001b[1;34m(*args, **kwargs)\u001b[0m\n\u001b[0;32m    205\u001b[0m \u001b[39mtry\u001b[39;00m:\n\u001b[0;32m    206\u001b[0m     \u001b[39mwith\u001b[39;00m config_context(\n\u001b[0;32m    207\u001b[0m         skip_parameter_validation\u001b[39m=\u001b[39m(\n\u001b[0;32m    208\u001b[0m             prefer_skip_nested_validation \u001b[39mor\u001b[39;00m global_skip_validation\n\u001b[0;32m    209\u001b[0m         )\n\u001b[0;32m    210\u001b[0m     ):\n\u001b[1;32m--> 211\u001b[0m         \u001b[39mreturn\u001b[39;00m func(\u001b[39m*\u001b[39;49margs, \u001b[39m*\u001b[39;49m\u001b[39m*\u001b[39;49mkwargs)\n\u001b[0;32m    212\u001b[0m \u001b[39mexcept\u001b[39;00m InvalidParameterError \u001b[39mas\u001b[39;00m e:\n\u001b[0;32m    213\u001b[0m     \u001b[39m# When the function is just a wrapper around an estimator, we allow\u001b[39;00m\n\u001b[0;32m    214\u001b[0m     \u001b[39m# the function to delegate validation to the estimator, but we replace\u001b[39;00m\n\u001b[0;32m    215\u001b[0m     \u001b[39m# the name of the estimator by the name of the function in the error\u001b[39;00m\n\u001b[0;32m    216\u001b[0m     \u001b[39m# message to avoid confusion.\u001b[39;00m\n\u001b[0;32m    217\u001b[0m     msg \u001b[39m=\u001b[39m re\u001b[39m.\u001b[39msub(\n\u001b[0;32m    218\u001b[0m         \u001b[39mr\u001b[39m\u001b[39m\"\u001b[39m\u001b[39mparameter of \u001b[39m\u001b[39m\\\u001b[39m\u001b[39mw+ must be\u001b[39m\u001b[39m\"\u001b[39m,\n\u001b[0;32m    219\u001b[0m         \u001b[39mf\u001b[39m\u001b[39m\"\u001b[39m\u001b[39mparameter of \u001b[39m\u001b[39m{\u001b[39;00mfunc\u001b[39m.\u001b[39m\u001b[39m__qualname__\u001b[39m\u001b[39m}\u001b[39;00m\u001b[39m must be\u001b[39m\u001b[39m\"\u001b[39m,\n\u001b[0;32m    220\u001b[0m         \u001b[39mstr\u001b[39m(e),\n\u001b[0;32m    221\u001b[0m     )\n",
      "File \u001b[1;32mc:\\Users\\theis\\AppData\\Local\\Programs\\Python\\Python311\\Lib\\site-packages\\sklearn\\metrics\\_ranking.py:1095\u001b[0m, in \u001b[0;36mroc_curve\u001b[1;34m(y_true, y_score, pos_label, sample_weight, drop_intermediate)\u001b[0m\n\u001b[0;32m    993\u001b[0m \u001b[39m@validate_params\u001b[39m(\n\u001b[0;32m    994\u001b[0m     {\n\u001b[0;32m    995\u001b[0m         \u001b[39m\"\u001b[39m\u001b[39my_true\u001b[39m\u001b[39m\"\u001b[39m: [\u001b[39m\"\u001b[39m\u001b[39marray-like\u001b[39m\u001b[39m\"\u001b[39m],\n\u001b[1;32m   (...)\u001b[0m\n\u001b[0;32m   1004\u001b[0m     y_true, y_score, \u001b[39m*\u001b[39m, pos_label\u001b[39m=\u001b[39m\u001b[39mNone\u001b[39;00m, sample_weight\u001b[39m=\u001b[39m\u001b[39mNone\u001b[39;00m, drop_intermediate\u001b[39m=\u001b[39m\u001b[39mTrue\u001b[39;00m\n\u001b[0;32m   1005\u001b[0m ):\n\u001b[0;32m   1006\u001b[0m \u001b[39m    \u001b[39m\u001b[39m\"\"\"Compute Receiver operating characteristic (ROC).\u001b[39;00m\n\u001b[0;32m   1007\u001b[0m \n\u001b[0;32m   1008\u001b[0m \u001b[39m    Note: this implementation is restricted to the binary classification task.\u001b[39;00m\n\u001b[1;32m   (...)\u001b[0m\n\u001b[0;32m   1093\u001b[0m \u001b[39m    array([ inf, 0.8 , 0.4 , 0.35, 0.1 ])\u001b[39;00m\n\u001b[0;32m   1094\u001b[0m \u001b[39m    \"\"\"\u001b[39;00m\n\u001b[1;32m-> 1095\u001b[0m     fps, tps, thresholds \u001b[39m=\u001b[39m _binary_clf_curve(\n\u001b[0;32m   1096\u001b[0m         y_true, y_score, pos_label\u001b[39m=\u001b[39;49mpos_label, sample_weight\u001b[39m=\u001b[39;49msample_weight\n\u001b[0;32m   1097\u001b[0m     )\n\u001b[0;32m   1099\u001b[0m     \u001b[39m# Attempt to drop thresholds corresponding to points in between and\u001b[39;00m\n\u001b[0;32m   1100\u001b[0m     \u001b[39m# collinear with other points. These are always suboptimal and do not\u001b[39;00m\n\u001b[0;32m   1101\u001b[0m     \u001b[39m# appear on a plotted ROC curve (and thus do not affect the AUC).\u001b[39;00m\n\u001b[1;32m   (...)\u001b[0m\n\u001b[0;32m   1106\u001b[0m     \u001b[39m# but does not drop more complicated cases like fps = [1, 3, 7],\u001b[39;00m\n\u001b[0;32m   1107\u001b[0m     \u001b[39m# tps = [1, 2, 4]; there is no harm in keeping too many thresholds.\u001b[39;00m\n\u001b[0;32m   1108\u001b[0m     \u001b[39mif\u001b[39;00m drop_intermediate \u001b[39mand\u001b[39;00m \u001b[39mlen\u001b[39m(fps) \u001b[39m>\u001b[39m \u001b[39m2\u001b[39m:\n",
      "File \u001b[1;32mc:\\Users\\theis\\AppData\\Local\\Programs\\Python\\Python311\\Lib\\site-packages\\sklearn\\metrics\\_ranking.py:821\u001b[0m, in \u001b[0;36m_binary_clf_curve\u001b[1;34m(y_true, y_score, pos_label, sample_weight)\u001b[0m\n\u001b[0;32m    818\u001b[0m     y_score \u001b[39m=\u001b[39m y_score[nonzero_weight_mask]\n\u001b[0;32m    819\u001b[0m     sample_weight \u001b[39m=\u001b[39m sample_weight[nonzero_weight_mask]\n\u001b[1;32m--> 821\u001b[0m pos_label \u001b[39m=\u001b[39m _check_pos_label_consistency(pos_label, y_true)\n\u001b[0;32m    823\u001b[0m \u001b[39m# make y_true a boolean vector\u001b[39;00m\n\u001b[0;32m    824\u001b[0m y_true \u001b[39m=\u001b[39m y_true \u001b[39m==\u001b[39m pos_label\n",
      "File \u001b[1;32mc:\\Users\\theis\\AppData\\Local\\Programs\\Python\\Python311\\Lib\\site-packages\\sklearn\\utils\\validation.py:2245\u001b[0m, in \u001b[0;36m_check_pos_label_consistency\u001b[1;34m(pos_label, y_true)\u001b[0m\n\u001b[0;32m   2234\u001b[0m \u001b[39mif\u001b[39;00m pos_label \u001b[39mis\u001b[39;00m \u001b[39mNone\u001b[39;00m \u001b[39mand\u001b[39;00m (\n\u001b[0;32m   2235\u001b[0m     classes\u001b[39m.\u001b[39mdtype\u001b[39m.\u001b[39mkind \u001b[39min\u001b[39;00m \u001b[39m\"\u001b[39m\u001b[39mOUS\u001b[39m\u001b[39m\"\u001b[39m\n\u001b[0;32m   2236\u001b[0m     \u001b[39mor\u001b[39;00m \u001b[39mnot\u001b[39;00m (\n\u001b[1;32m   (...)\u001b[0m\n\u001b[0;32m   2242\u001b[0m     )\n\u001b[0;32m   2243\u001b[0m ):\n\u001b[0;32m   2244\u001b[0m     classes_repr \u001b[39m=\u001b[39m \u001b[39m\"\u001b[39m\u001b[39m, \u001b[39m\u001b[39m\"\u001b[39m\u001b[39m.\u001b[39mjoin([\u001b[39mrepr\u001b[39m(c) \u001b[39mfor\u001b[39;00m c \u001b[39min\u001b[39;00m classes\u001b[39m.\u001b[39mtolist()])\n\u001b[1;32m-> 2245\u001b[0m     \u001b[39mraise\u001b[39;00m \u001b[39mValueError\u001b[39;00m(\n\u001b[0;32m   2246\u001b[0m         \u001b[39mf\u001b[39m\u001b[39m\"\u001b[39m\u001b[39my_true takes value in \u001b[39m\u001b[39m{{\u001b[39;00m\u001b[39m{\u001b[39;00mclasses_repr\u001b[39m}\u001b[39;00m\u001b[39m}}\u001b[39;00m\u001b[39m and pos_label is not \u001b[39m\u001b[39m\"\u001b[39m\n\u001b[0;32m   2247\u001b[0m         \u001b[39m\"\u001b[39m\u001b[39mspecified: either make y_true take value in \u001b[39m\u001b[39m{\u001b[39m\u001b[39m0, 1} or \u001b[39m\u001b[39m\"\u001b[39m\n\u001b[0;32m   2248\u001b[0m         \u001b[39m\"\u001b[39m\u001b[39m{\u001b[39m\u001b[39m-1, 1} or pass pos_label explicitly.\u001b[39m\u001b[39m\"\u001b[39m\n\u001b[0;32m   2249\u001b[0m     )\n\u001b[0;32m   2250\u001b[0m \u001b[39melif\u001b[39;00m pos_label \u001b[39mis\u001b[39;00m \u001b[39mNone\u001b[39;00m:\n\u001b[0;32m   2251\u001b[0m     pos_label \u001b[39m=\u001b[39m \u001b[39m1\u001b[39m\n",
      "\u001b[1;31mValueError\u001b[0m: y_true takes value in {} and pos_label is not specified: either make y_true take value in {0, 1} or {-1, 1} or pass pos_label explicitly."
     ]
    },
    {
     "data": {
      "image/png": "[encoded data removed]",
      "text/plain": [
       "<Figure size 800x600 with 3 Axes>"
      ]
     },
     "metadata": {},
     "output_type": "display_data"
    }
   ],
   "source": [
    "LRparameters = {PP(0.1, 'lightsalmon'), PP(0.01, 'goldenrod'), PP(0.001, 'mediumaquamarine'), PP(0.005, 'rosybrown')}\n",
    "HCparameters = {PP(5, 'firebrick'), PP(10, 'lightsalmon'), PP(20, 'darkgoldenrod'), PP(40, 'goldenrod'), PP(64, 'mediumaquamarine'), PP(100, 'black'), PP(200, 'rosybrown')}\n",
    "#PlotOverLR(LRparameters, cleanGraph=True)\n",
    "#PlotOverHC(HCparameters, cleanGraph=True)\n",
    "PlotBasic()"
   ]
  }
 ],
 "metadata": {
  "kernelspec": {
   "display_name": "Python 3",
   "language": "python",
   "name": "python3"
  },
  "language_info": {
   "codemirror_mode": {
    "name": "ipython",
    "version": 3
   },
   "file_extension": ".py",
   "mimetype": "text/x-python",
   "name": "python",
   "nbconvert_exporter": "python",
   "pygments_lexer": "ipython3",
   "version": "3.11.5"
  }
 },
 "nbformat": 4,
 "nbformat_minor": 2
}
