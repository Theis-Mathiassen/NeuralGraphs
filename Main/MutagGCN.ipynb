{
 "cells": [
  {
   "cell_type": "markdown",
   "metadata": {},
   "source": [
    "# **CONSTANTS & IMPORTS**"
   ]
  },
  {
   "cell_type": "markdown",
   "metadata": {},
   "source": [
    "Constants"
   ]
  },
  {
   "cell_type": "code",
   "execution_count": 417,
   "metadata": {},
   "outputs": [
    {
     "name": "stdout",
     "output_type": "stream",
     "text": [
      "%pylab is deprecated, use %matplotlib inline and import the required libraries.\n",
      "Populating the interactive namespace from numpy and matplotlib\n"
     ]
    },
    {
     "name": "stderr",
     "output_type": "stream",
     "text": [
      "C:\\Users\\theis\\AppData\\Roaming\\Python\\Python311\\site-packages\\IPython\\core\\magics\\pylab.py:162: UserWarning:\n",
      "\n",
      "pylab import has clobbered these variables: ['datetime']\n",
      "`%matplotlib` prevents importing * from pylab and numpy\n",
      "\n"
     ]
    }
   ],
   "source": [
    "EPOCHS = 300\n",
    "LEARNING_RATE = 0.01\n",
    "MANUAL_SEED = 12345\n",
    "HIDDEN_NODE_COUNT = 64\n",
    "DATASPLIT = 150\n",
    "BATCH_SIZE_TRAINING = 64\n",
    "BATCH_SIZE_TESTING = 1\n",
    "\n",
    "%pylab inline"
   ]
  },
  {
   "cell_type": "markdown",
   "metadata": {},
   "source": [
    "# **Dataset import**"
   ]
  },
  {
   "cell_type": "code",
   "execution_count": 418,
   "metadata": {},
   "outputs": [],
   "source": [
    "import os\n",
    "import torch\n",
    "import torch_geometric\n",
    "\n",
    "from torch_geometric.datasets import TUDataset\n",
    "from torch_geometric.utils import to_networkx\n",
    "from torch_geometric.loader import DataLoader\n",
    "\n",
    "\n",
    "\n",
    "dataset = TUDataset(root='dataset/Mutag', name='MUTAG')\n",
    "\n",
    "data_details = {\n",
    "    \"num_node_features\": dataset.num_node_features,\n",
    "    \"num_edge_features\": dataset.num_edge_features,\n",
    "    \"num_classes\": dataset.num_classes,\n",
    "    \"num_node_labels\": dataset.num_node_labels,\n",
    "    \"num_edge_labels\": dataset.num_edge_labels,\n",
    "}"
   ]
  },
  {
   "cell_type": "code",
   "execution_count": 419,
   "metadata": {},
   "outputs": [
    {
     "name": "stdout",
     "output_type": "stream",
     "text": [
      "{'num_node_features': 7, 'num_edge_features': 4, 'num_classes': 2, 'num_node_labels': 7, 'num_edge_labels': 4}\n"
     ]
    }
   ],
   "source": [
    "print(data_details)"
   ]
  },
  {
   "cell_type": "markdown",
   "metadata": {},
   "source": [
    "# **Getting device**\n"
   ]
  },
  {
   "cell_type": "code",
   "execution_count": 420,
   "metadata": {},
   "outputs": [
    {
     "name": "stdout",
     "output_type": "stream",
     "text": [
      "cuda\n"
     ]
    }
   ],
   "source": [
    "if torch.cuda.is_available():\n",
    "    device = torch.device('cuda')\n",
    "elif hasattr(torch.backends, 'mps') and torch.backends.mps.is_available():\n",
    "    # MPS is currently slower than CPU due to missing int64 min/max ops\n",
    "    device = torch.device('cpu')\n",
    "else:\n",
    "    device = torch.device('cpu')\n",
    "print(device)"
   ]
  },
  {
   "cell_type": "markdown",
   "metadata": {},
   "source": [
    "# **DATA SPLITTING**"
   ]
  },
  {
   "cell_type": "markdown",
   "metadata": {},
   "source": [
    "Shuffle data (optional)"
   ]
  },
  {
   "cell_type": "code",
   "execution_count": 421,
   "metadata": {},
   "outputs": [],
   "source": [
    "dataset = dataset.shuffle()"
   ]
  },
  {
   "cell_type": "markdown",
   "metadata": {},
   "source": [
    "Create training set and test set (size defined in constants)"
   ]
  },
  {
   "cell_type": "code",
   "execution_count": 422,
   "metadata": {},
   "outputs": [],
   "source": [
    "# Allocate for training\n",
    "train_dataset = dataset[:DATASPLIT]\n",
    "# Allocate the remainder for testing\n",
    "test_dataset = dataset[DATASPLIT:]\n",
    "\n",
    "# Define the data loaders. Used later for training, can be ignored for now\n",
    "train_loader = DataLoader(dataset=train_dataset, batch_size=BATCH_SIZE_TRAINING, shuffle=True)\n",
    "test_loader = DataLoader(dataset=test_dataset, batch_size=BATCH_SIZE_TESTING, shuffle=False)\n",
    "\n",
    "%run visualize.py"
   ]
  },
  {
   "cell_type": "code",
   "execution_count": 423,
   "metadata": {},
   "outputs": [
    {
     "name": "stdout",
     "output_type": "stream",
     "text": [
      "150\n",
      "38\n"
     ]
    }
   ],
   "source": [
    "print(len(train_dataset))\n",
    "print(len(test_dataset))"
   ]
  },
  {
   "cell_type": "markdown",
   "metadata": {},
   "source": [
    "#  **GRAPH VISUALIZATION EXAMPLE**"
   ]
  },
  {
   "cell_type": "code",
   "execution_count": 424,
   "metadata": {},
   "outputs": [
    {
     "data": {
      "application/vnd.plotly.v1+json": {
       "config": {
        "plotlyServerURL": "https://plot.ly"
       },
       "data": [
        {
         "hoverinfo": "none",
         "line": {
          "color": "#808080",
          "width": 2
         },
         "mode": "lines",
         "opacity": 0.8,
         "type": "scatter",
         "x": [
          -0.5179035386777232,
          -0.7189289602695502,
          null,
          -0.5179035386777232,
          -0.24716507676938954,
          null,
          -0.7189289602695502,
          -0.5179035386777232,
          null,
          -0.7189289602695502,
          -0.5840981557834627,
          null,
          -0.5840981557834627,
          -0.7189289602695502,
          null,
          -0.5840981557834627,
          -0.6209033762240227,
          null,
          -0.5840981557834627,
          -0.28257474137458444,
          null,
          -0.6209033762240227,
          -0.5840981557834627,
          null,
          -0.6209033762240227,
          -0.37901615088215235,
          null,
          -0.37901615088215235,
          -0.6209033762240227,
          null,
          -0.37901615088215235,
          -0.06760108064666287,
          null,
          -0.06760108064666287,
          -0.37901615088215235,
          null,
          -0.06760108064666287,
          0.006186379360130696,
          null,
          -0.06760108064666287,
          0.1745984095855911,
          null,
          0.006186379360130696,
          -0.06760108064666287,
          null,
          0.006186379360130696,
          -0.28257474137458444,
          null,
          0.006186379360130696,
          0.27988924956277195,
          null,
          -0.28257474137458444,
          -0.5840981557834627,
          null,
          -0.28257474137458444,
          0.006186379360130696,
          null,
          -0.28257474137458444,
          -0.12257570445688655,
          null,
          -0.12257570445688655,
          -0.28257474137458444,
          null,
          -0.12257570445688655,
          -0.24716507676938954,
          null,
          -0.12257570445688655,
          0.12529586511473007,
          null,
          -0.24716507676938954,
          -0.5179035386777232,
          null,
          -0.24716507676938954,
          -0.12257570445688655,
          null,
          -0.24716507676938954,
          0.025497269877199524,
          null,
          0.025497269877199524,
          -0.24716507676938954,
          null,
          0.025497269877199524,
          0.1734230461739922,
          null,
          0.1734230461739922,
          0.025497269877199524,
          null,
          0.1734230461739922,
          0.28446508678901117,
          null,
          0.28446508678901117,
          0.1734230461739922,
          null,
          0.28446508678901117,
          0.12529586511473007,
          null,
          0.28446508678901117,
          0.4422467022139701,
          null,
          0.12529586511473007,
          -0.12257570445688655,
          null,
          0.12529586511473007,
          0.28446508678901117,
          null,
          0.12529586511473007,
          0.3435460025366127,
          null,
          0.3435460025366127,
          0.12529586511473007,
          null,
          0.3435460025366127,
          0.27988924956277195,
          null,
          0.27988924956277195,
          0.006186379360130696,
          null,
          0.27988924956277195,
          0.3435460025366127,
          null,
          0.4422467022139701,
          0.28446508678901117,
          null,
          0.4422467022139701,
          0.44345231860915235,
          null,
          0.4422467022139701,
          0.6235260635415941,
          null,
          0.44345231860915235,
          0.4422467022139701,
          null,
          0.6235260635415941,
          0.4422467022139701,
          null,
          0.1745984095855911,
          -0.06760108064666287,
          null,
          0.1745984095855911,
          0.38692521265410756,
          null,
          0.1745984095855911,
          0.23171517906557157,
          null,
          0.38692521265410756,
          0.1745984095855911,
          null,
          0.23171517906557157,
          0.1745984095855911,
          null
         ],
         "y": [
          0.3798265435838565,
          0.3178590798224099,
          null,
          0.3798265435838565,
          0.2425703474461514,
          null,
          0.3178590798224099,
          0.3798265435838565,
          null,
          0.3178590798224099,
          0.13177587476285157,
          null,
          0.13177587476285157,
          0.3178590798224099,
          null,
          0.13177587476285157,
          -0.005337354990444252,
          null,
          0.13177587476285157,
          0.03712921817081983,
          null,
          -0.005337354990444252,
          0.13177587476285157,
          null,
          -0.005337354990444252,
          0.08414711258646036,
          null,
          0.08414711258646036,
          -0.005337354990444252,
          null,
          0.08414711258646036,
          0.27030797329443734,
          null,
          0.27030797329443734,
          0.08414711258646036,
          null,
          0.27030797329443734,
          0.07273940430188118,
          null,
          0.27030797329443734,
          0.5647947875434481,
          null,
          0.07273940430188118,
          0.27030797329443734,
          null,
          0.07273940430188118,
          0.03712921817081983,
          null,
          0.07273940430188118,
          -0.008837063706973812,
          null,
          0.03712921817081983,
          0.13177587476285157,
          null,
          0.03712921817081983,
          0.07273940430188118,
          null,
          0.03712921817081983,
          -0.04314020719543997,
          null,
          -0.04314020719543997,
          0.03712921817081983,
          null,
          -0.04314020719543997,
          0.2425703474461514,
          null,
          -0.04314020719543997,
          -0.27349019905466104,
          null,
          0.2425703474461514,
          0.3798265435838565,
          null,
          0.2425703474461514,
          -0.04314020719543997,
          null,
          0.2425703474461514,
          0.20684349097413068,
          null,
          0.20684349097413068,
          0.2425703474461514,
          null,
          0.20684349097413068,
          -0.11977575571320946,
          null,
          -0.11977575571320946,
          0.20684349097413068,
          null,
          -0.11977575571320946,
          -0.4524324520879389,
          null,
          -0.4524324520879389,
          -0.11977575571320946,
          null,
          -0.4524324520879389,
          -0.27349019905466104,
          null,
          -0.4524324520879389,
          -0.7710880626445712,
          null,
          -0.27349019905466104,
          -0.04314020719543997,
          null,
          -0.27349019905466104,
          -0.4524324520879389,
          null,
          -0.27349019905466104,
          -0.20494728398723092,
          null,
          -0.20494728398723092,
          -0.27349019905466104,
          null,
          -0.20494728398723092,
          -0.008837063706973812,
          null,
          -0.008837063706973812,
          0.07273940430188118,
          null,
          -0.008837063706973812,
          -0.20494728398723092,
          null,
          -0.7710880626445712,
          -0.4524324520879389,
          null,
          -0.7710880626445712,
          -1,
          null,
          -0.7710880626445712,
          -0.924735047595441,
          null,
          -1,
          -0.7710880626445712,
          null,
          -0.924735047595441,
          -0.7710880626445712,
          null,
          0.5647947875434481,
          0.27030797329443734,
          null,
          0.5647947875434481,
          0.6924231063178312,
          null,
          0.5647947875434481,
          0.8033664881716318,
          null,
          0.6924231063178312,
          0.5647947875434481,
          null,
          0.8033664881716318,
          0.5647947875434481,
          null
         ]
        },
        {
         "hoverinfo": "text",
         "marker": {
          "color": "#fcfcfc",
          "colorbar": {
           "thickness": 15,
           "title": {
            "side": "right",
            "text": ""
           },
           "xanchor": "left"
          },
          "colorscale": [
           [
            0,
            "rgb(255,255,217)"
           ],
           [
            0.125,
            "rgb(237,248,177)"
           ],
           [
            0.25,
            "rgb(199,233,180)"
           ],
           [
            0.375,
            "rgb(127,205,187)"
           ],
           [
            0.5,
            "rgb(65,182,196)"
           ],
           [
            0.625,
            "rgb(29,145,192)"
           ],
           [
            0.75,
            "rgb(34,94,168)"
           ],
           [
            0.875,
            "rgb(37,52,148)"
           ],
           [
            1,
            "rgb(8,29,88)"
           ]
          ],
          "line": {
           "color": "#333333",
           "width": 2
          },
          "reversescale": false,
          "showscale": false,
          "size": 20
         },
         "mode": "markers+text",
         "opacity": 0.8,
         "text": [
          "0",
          "1",
          "2",
          "3",
          "4",
          "5",
          "6",
          "7",
          "8",
          "9",
          "10",
          "11",
          "12",
          "13",
          "14",
          "15",
          "16",
          "17",
          "18",
          "19",
          "20",
          "21"
         ],
         "textfont": {
          "color": "#000000",
          "family": "Arial",
          "size": 14
         },
         "textposition": "top left",
         "type": "scatter",
         "x": [
          -0.5179035386777232,
          -0.7189289602695502,
          -0.5840981557834627,
          -0.6209033762240227,
          -0.37901615088215235,
          -0.06760108064666287,
          0.006186379360130696,
          -0.28257474137458444,
          -0.12257570445688655,
          -0.24716507676938954,
          0.025497269877199524,
          0.1734230461739922,
          0.28446508678901117,
          0.12529586511473007,
          0.3435460025366127,
          0.27988924956277195,
          0.4422467022139701,
          0.44345231860915235,
          0.6235260635415941,
          0.1745984095855911,
          0.38692521265410756,
          0.23171517906557157
         ],
         "y": [
          0.3798265435838565,
          0.3178590798224099,
          0.13177587476285157,
          -0.005337354990444252,
          0.08414711258646036,
          0.27030797329443734,
          0.07273940430188118,
          0.03712921817081983,
          -0.04314020719543997,
          0.2425703474461514,
          0.20684349097413068,
          -0.11977575571320946,
          -0.4524324520879389,
          -0.27349019905466104,
          -0.20494728398723092,
          -0.008837063706973812,
          -0.7710880626445712,
          -1,
          -0.924735047595441,
          0.5647947875434481,
          0.6924231063178312,
          0.8033664881716318
         ]
        }
       ],
       "layout": {
        "autosize": false,
        "height": 400,
        "hovermode": "closest",
        "margin": {
         "b": 5,
         "l": 0,
         "r": 0,
         "t": 20
        },
        "paper_bgcolor": "rgba(255,255,255,255)",
        "plot_bgcolor": "rgba(0,0,0,0)",
        "scene": {
         "xaxis": {
          "autorange": true,
          "showgrid": false,
          "showline": false,
          "showticklabels": false,
          "ticks": "",
          "visible": false,
          "zeroline": false
         },
         "yaxis": {
          "autorange": true,
          "showgrid": false,
          "showline": false,
          "showticklabels": false,
          "ticks": "",
          "visible": false,
          "zeroline": false
         },
         "zaxis": {
          "autorange": true,
          "showgrid": false,
          "showline": false,
          "showticklabels": false,
          "ticks": "",
          "visible": false,
          "zeroline": false
         }
        },
        "showlegend": false,
        "template": {
         "data": {
          "bar": [
           {
            "error_x": {
             "color": "#2a3f5f"
            },
            "error_y": {
             "color": "#2a3f5f"
            },
            "marker": {
             "line": {
              "color": "#E5ECF6",
              "width": 0.5
             },
             "pattern": {
              "fillmode": "overlay",
              "size": 10,
              "solidity": 0.2
             }
            },
            "type": "bar"
           }
          ],
          "barpolar": [
           {
            "marker": {
             "line": {
              "color": "#E5ECF6",
              "width": 0.5
             },
             "pattern": {
              "fillmode": "overlay",
              "size": 10,
              "solidity": 0.2
             }
            },
            "type": "barpolar"
           }
          ],
          "carpet": [
           {
            "aaxis": {
             "endlinecolor": "#2a3f5f",
             "gridcolor": "white",
             "linecolor": "white",
             "minorgridcolor": "white",
             "startlinecolor": "#2a3f5f"
            },
            "baxis": {
             "endlinecolor": "#2a3f5f",
             "gridcolor": "white",
             "linecolor": "white",
             "minorgridcolor": "white",
             "startlinecolor": "#2a3f5f"
            },
            "type": "carpet"
           }
          ],
          "choropleth": [
           {
            "colorbar": {
             "outlinewidth": 0,
             "ticks": ""
            },
            "type": "choropleth"
           }
          ],
          "contour": [
           {
            "colorbar": {
             "outlinewidth": 0,
             "ticks": ""
            },
            "colorscale": [
             [
              0,
              "#0d0887"
             ],
             [
              0.1111111111111111,
              "#46039f"
             ],
             [
              0.2222222222222222,
              "#7201a8"
             ],
             [
              0.3333333333333333,
              "#9c179e"
             ],
             [
              0.4444444444444444,
              "#bd3786"
             ],
             [
              0.5555555555555556,
              "#d8576b"
             ],
             [
              0.6666666666666666,
              "#ed7953"
             ],
             [
              0.7777777777777778,
              "#fb9f3a"
             ],
             [
              0.8888888888888888,
              "#fdca26"
             ],
             [
              1,
              "#f0f921"
             ]
            ],
            "type": "contour"
           }
          ],
          "contourcarpet": [
           {
            "colorbar": {
             "outlinewidth": 0,
             "ticks": ""
            },
            "type": "contourcarpet"
           }
          ],
          "heatmap": [
           {
            "colorbar": {
             "outlinewidth": 0,
             "ticks": ""
            },
            "colorscale": [
             [
              0,
              "#0d0887"
             ],
             [
              0.1111111111111111,
              "#46039f"
             ],
             [
              0.2222222222222222,
              "#7201a8"
             ],
             [
              0.3333333333333333,
              "#9c179e"
             ],
             [
              0.4444444444444444,
              "#bd3786"
             ],
             [
              0.5555555555555556,
              "#d8576b"
             ],
             [
              0.6666666666666666,
              "#ed7953"
             ],
             [
              0.7777777777777778,
              "#fb9f3a"
             ],
             [
              0.8888888888888888,
              "#fdca26"
             ],
             [
              1,
              "#f0f921"
             ]
            ],
            "type": "heatmap"
           }
          ],
          "heatmapgl": [
           {
            "colorbar": {
             "outlinewidth": 0,
             "ticks": ""
            },
            "colorscale": [
             [
              0,
              "#0d0887"
             ],
             [
              0.1111111111111111,
              "#46039f"
             ],
             [
              0.2222222222222222,
              "#7201a8"
             ],
             [
              0.3333333333333333,
              "#9c179e"
             ],
             [
              0.4444444444444444,
              "#bd3786"
             ],
             [
              0.5555555555555556,
              "#d8576b"
             ],
             [
              0.6666666666666666,
              "#ed7953"
             ],
             [
              0.7777777777777778,
              "#fb9f3a"
             ],
             [
              0.8888888888888888,
              "#fdca26"
             ],
             [
              1,
              "#f0f921"
             ]
            ],
            "type": "heatmapgl"
           }
          ],
          "histogram": [
           {
            "marker": {
             "pattern": {
              "fillmode": "overlay",
              "size": 10,
              "solidity": 0.2
             }
            },
            "type": "histogram"
           }
          ],
          "histogram2d": [
           {
            "colorbar": {
             "outlinewidth": 0,
             "ticks": ""
            },
            "colorscale": [
             [
              0,
              "#0d0887"
             ],
             [
              0.1111111111111111,
              "#46039f"
             ],
             [
              0.2222222222222222,
              "#7201a8"
             ],
             [
              0.3333333333333333,
              "#9c179e"
             ],
             [
              0.4444444444444444,
              "#bd3786"
             ],
             [
              0.5555555555555556,
              "#d8576b"
             ],
             [
              0.6666666666666666,
              "#ed7953"
             ],
             [
              0.7777777777777778,
              "#fb9f3a"
             ],
             [
              0.8888888888888888,
              "#fdca26"
             ],
             [
              1,
              "#f0f921"
             ]
            ],
            "type": "histogram2d"
           }
          ],
          "histogram2dcontour": [
           {
            "colorbar": {
             "outlinewidth": 0,
             "ticks": ""
            },
            "colorscale": [
             [
              0,
              "#0d0887"
             ],
             [
              0.1111111111111111,
              "#46039f"
             ],
             [
              0.2222222222222222,
              "#7201a8"
             ],
             [
              0.3333333333333333,
              "#9c179e"
             ],
             [
              0.4444444444444444,
              "#bd3786"
             ],
             [
              0.5555555555555556,
              "#d8576b"
             ],
             [
              0.6666666666666666,
              "#ed7953"
             ],
             [
              0.7777777777777778,
              "#fb9f3a"
             ],
             [
              0.8888888888888888,
              "#fdca26"
             ],
             [
              1,
              "#f0f921"
             ]
            ],
            "type": "histogram2dcontour"
           }
          ],
          "mesh3d": [
           {
            "colorbar": {
             "outlinewidth": 0,
             "ticks": ""
            },
            "type": "mesh3d"
           }
          ],
          "parcoords": [
           {
            "line": {
             "colorbar": {
              "outlinewidth": 0,
              "ticks": ""
             }
            },
            "type": "parcoords"
           }
          ],
          "pie": [
           {
            "automargin": true,
            "type": "pie"
           }
          ],
          "scatter": [
           {
            "fillpattern": {
             "fillmode": "overlay",
             "size": 10,
             "solidity": 0.2
            },
            "type": "scatter"
           }
          ],
          "scatter3d": [
           {
            "line": {
             "colorbar": {
              "outlinewidth": 0,
              "ticks": ""
             }
            },
            "marker": {
             "colorbar": {
              "outlinewidth": 0,
              "ticks": ""
             }
            },
            "type": "scatter3d"
           }
          ],
          "scattercarpet": [
           {
            "marker": {
             "colorbar": {
              "outlinewidth": 0,
              "ticks": ""
             }
            },
            "type": "scattercarpet"
           }
          ],
          "scattergeo": [
           {
            "marker": {
             "colorbar": {
              "outlinewidth": 0,
              "ticks": ""
             }
            },
            "type": "scattergeo"
           }
          ],
          "scattergl": [
           {
            "marker": {
             "colorbar": {
              "outlinewidth": 0,
              "ticks": ""
             }
            },
            "type": "scattergl"
           }
          ],
          "scattermapbox": [
           {
            "marker": {
             "colorbar": {
              "outlinewidth": 0,
              "ticks": ""
             }
            },
            "type": "scattermapbox"
           }
          ],
          "scatterpolar": [
           {
            "marker": {
             "colorbar": {
              "outlinewidth": 0,
              "ticks": ""
             }
            },
            "type": "scatterpolar"
           }
          ],
          "scatterpolargl": [
           {
            "marker": {
             "colorbar": {
              "outlinewidth": 0,
              "ticks": ""
             }
            },
            "type": "scatterpolargl"
           }
          ],
          "scatterternary": [
           {
            "marker": {
             "colorbar": {
              "outlinewidth": 0,
              "ticks": ""
             }
            },
            "type": "scatterternary"
           }
          ],
          "surface": [
           {
            "colorbar": {
             "outlinewidth": 0,
             "ticks": ""
            },
            "colorscale": [
             [
              0,
              "#0d0887"
             ],
             [
              0.1111111111111111,
              "#46039f"
             ],
             [
              0.2222222222222222,
              "#7201a8"
             ],
             [
              0.3333333333333333,
              "#9c179e"
             ],
             [
              0.4444444444444444,
              "#bd3786"
             ],
             [
              0.5555555555555556,
              "#d8576b"
             ],
             [
              0.6666666666666666,
              "#ed7953"
             ],
             [
              0.7777777777777778,
              "#fb9f3a"
             ],
             [
              0.8888888888888888,
              "#fdca26"
             ],
             [
              1,
              "#f0f921"
             ]
            ],
            "type": "surface"
           }
          ],
          "table": [
           {
            "cells": {
             "fill": {
              "color": "#EBF0F8"
             },
             "line": {
              "color": "white"
             }
            },
            "header": {
             "fill": {
              "color": "#C8D4E3"
             },
             "line": {
              "color": "white"
             }
            },
            "type": "table"
           }
          ]
         },
         "layout": {
          "annotationdefaults": {
           "arrowcolor": "#2a3f5f",
           "arrowhead": 0,
           "arrowwidth": 1
          },
          "autotypenumbers": "strict",
          "coloraxis": {
           "colorbar": {
            "outlinewidth": 0,
            "ticks": ""
           }
          },
          "colorscale": {
           "diverging": [
            [
             0,
             "#8e0152"
            ],
            [
             0.1,
             "#c51b7d"
            ],
            [
             0.2,
             "#de77ae"
            ],
            [
             0.3,
             "#f1b6da"
            ],
            [
             0.4,
             "#fde0ef"
            ],
            [
             0.5,
             "#f7f7f7"
            ],
            [
             0.6,
             "#e6f5d0"
            ],
            [
             0.7,
             "#b8e186"
            ],
            [
             0.8,
             "#7fbc41"
            ],
            [
             0.9,
             "#4d9221"
            ],
            [
             1,
             "#276419"
            ]
           ],
           "sequential": [
            [
             0,
             "#0d0887"
            ],
            [
             0.1111111111111111,
             "#46039f"
            ],
            [
             0.2222222222222222,
             "#7201a8"
            ],
            [
             0.3333333333333333,
             "#9c179e"
            ],
            [
             0.4444444444444444,
             "#bd3786"
            ],
            [
             0.5555555555555556,
             "#d8576b"
            ],
            [
             0.6666666666666666,
             "#ed7953"
            ],
            [
             0.7777777777777778,
             "#fb9f3a"
            ],
            [
             0.8888888888888888,
             "#fdca26"
            ],
            [
             1,
             "#f0f921"
            ]
           ],
           "sequentialminus": [
            [
             0,
             "#0d0887"
            ],
            [
             0.1111111111111111,
             "#46039f"
            ],
            [
             0.2222222222222222,
             "#7201a8"
            ],
            [
             0.3333333333333333,
             "#9c179e"
            ],
            [
             0.4444444444444444,
             "#bd3786"
            ],
            [
             0.5555555555555556,
             "#d8576b"
            ],
            [
             0.6666666666666666,
             "#ed7953"
            ],
            [
             0.7777777777777778,
             "#fb9f3a"
            ],
            [
             0.8888888888888888,
             "#fdca26"
            ],
            [
             1,
             "#f0f921"
            ]
           ]
          },
          "colorway": [
           "#636efa",
           "#EF553B",
           "#00cc96",
           "#ab63fa",
           "#FFA15A",
           "#19d3f3",
           "#FF6692",
           "#B6E880",
           "#FF97FF",
           "#FECB52"
          ],
          "font": {
           "color": "#2a3f5f"
          },
          "geo": {
           "bgcolor": "white",
           "lakecolor": "white",
           "landcolor": "#E5ECF6",
           "showlakes": true,
           "showland": true,
           "subunitcolor": "white"
          },
          "hoverlabel": {
           "align": "left"
          },
          "hovermode": "closest",
          "mapbox": {
           "style": "light"
          },
          "paper_bgcolor": "white",
          "plot_bgcolor": "#E5ECF6",
          "polar": {
           "angularaxis": {
            "gridcolor": "white",
            "linecolor": "white",
            "ticks": ""
           },
           "bgcolor": "#E5ECF6",
           "radialaxis": {
            "gridcolor": "white",
            "linecolor": "white",
            "ticks": ""
           }
          },
          "scene": {
           "xaxis": {
            "backgroundcolor": "#E5ECF6",
            "gridcolor": "white",
            "gridwidth": 2,
            "linecolor": "white",
            "showbackground": true,
            "ticks": "",
            "zerolinecolor": "white"
           },
           "yaxis": {
            "backgroundcolor": "#E5ECF6",
            "gridcolor": "white",
            "gridwidth": 2,
            "linecolor": "white",
            "showbackground": true,
            "ticks": "",
            "zerolinecolor": "white"
           },
           "zaxis": {
            "backgroundcolor": "#E5ECF6",
            "gridcolor": "white",
            "gridwidth": 2,
            "linecolor": "white",
            "showbackground": true,
            "ticks": "",
            "zerolinecolor": "white"
           }
          },
          "shapedefaults": {
           "line": {
            "color": "#2a3f5f"
           }
          },
          "ternary": {
           "aaxis": {
            "gridcolor": "white",
            "linecolor": "white",
            "ticks": ""
           },
           "baxis": {
            "gridcolor": "white",
            "linecolor": "white",
            "ticks": ""
           },
           "bgcolor": "#E5ECF6",
           "caxis": {
            "gridcolor": "white",
            "linecolor": "white",
            "ticks": ""
           }
          },
          "title": {
           "x": 0.05
          },
          "xaxis": {
           "automargin": true,
           "gridcolor": "white",
           "linecolor": "white",
           "ticks": "",
           "title": {
            "standoff": 15
           },
           "zerolinecolor": "white",
           "zerolinewidth": 2
          },
          "yaxis": {
           "automargin": true,
           "gridcolor": "white",
           "linecolor": "white",
           "ticks": "",
           "title": {
            "standoff": 15
           },
           "zerolinecolor": "white",
           "zerolinewidth": 2
          }
         }
        },
        "title": {
         "font": {
          "size": 16
         },
         "text": ""
        },
        "width": 375,
        "xaxis": {
         "autorange": true,
         "showgrid": false,
         "showline": false,
         "showticklabels": false,
         "ticks": "",
         "visible": false,
         "zeroline": false
        },
        "yaxis": {
         "autorange": true,
         "showgrid": false,
         "showline": false,
         "showticklabels": false,
         "ticks": "",
         "visible": false,
         "zeroline": false
        }
       }
      }
     },
     "metadata": {},
     "output_type": "display_data"
    }
   ],
   "source": [
    "import networkx as nx\n",
    "from visualize import GraphVisualization\n",
    "\n",
    "def create_graph(graph):\n",
    "    g = to_networkx(graph)\n",
    "    pos = nx.spring_layout(g)\n",
    "    vis = GraphVisualization(\n",
    "        g,\n",
    "        pos,\n",
    "        node_text_position=\"top left\",\n",
    "        node_size=20,\n",
    "    )\n",
    "    fig = vis.create_figure()\n",
    "    return fig\n",
    "\n",
    "\n",
    "fig = create_graph(dataset[0])\n",
    "fig.show()"
   ]
  },
  {
   "cell_type": "markdown",
   "metadata": {},
   "source": [
    "# **GNN MODEL**"
   ]
  },
  {
   "cell_type": "markdown",
   "metadata": {},
   "source": [
    "Imports\n"
   ]
  },
  {
   "cell_type": "code",
   "execution_count": 425,
   "metadata": {},
   "outputs": [],
   "source": [
    "from torch.nn import Linear\n",
    "import torch.nn.functional as F\n",
    "from torch_geometric.nn import GCNConv\n",
    "from torch_geometric.nn import global_mean_pool"
   ]
  },
  {
   "cell_type": "markdown",
   "metadata": {},
   "source": [
    "Model definition\n"
   ]
  },
  {
   "cell_type": "code",
   "execution_count": 426,
   "metadata": {},
   "outputs": [],
   "source": [
    "\n",
    "class GCN(torch.nn.Module):\n",
    "    def __init__(self, in_features=dataset.num_node_features, hidden_channels=HIDDEN_NODE_COUNT, outfeatures = 2):\n",
    "        super(GCN, self).__init__()\n",
    "\n",
    "        # Input layer\n",
    "        self.conv1 = GCNConv(in_features, hidden_channels)\n",
    "\n",
    "        # Hidden layers\n",
    "        self.conv2 = GCNConv(hidden_channels, hidden_channels)\n",
    "        self.conv3 = GCNConv(hidden_channels, hidden_channels)\n",
    "        self.conv4 = GCNConv(hidden_channels, hidden_channels)\n",
    "        self.conv5 = GCNConv(hidden_channels, hidden_channels)\n",
    "\n",
    "        # Output layer\n",
    "        self.lin = Linear(hidden_channels, outfeatures)\n",
    "\n",
    "    def forward(self, x, edge_index, batch):\n",
    "        # 1. Obtain node embeddings\n",
    "        x = self.conv1(x, edge_index)\n",
    "        x = x.relu()\n",
    "        x = self.conv2(x, edge_index)\n",
    "        x = x.relu()\n",
    "        x = self.conv3(x, edge_index)\n",
    "        x = x.relu()\n",
    "        x = self.conv4(x, edge_index)\n",
    "        x = x.relu()\n",
    "        x = self.conv5(x, edge_index)\n",
    "\n",
    "        # 2. Readout layer\n",
    "        x = global_mean_pool(x, batch)  # [batch_size, hidden_channels]\n",
    "\n",
    "        # 3. Apply a final classifier\n",
    "        x = F.dropout(x, p=0.5, training=self.training)\n",
    "        x = self.lin(x)\n",
    "\n",
    "        return x"
   ]
  },
  {
   "cell_type": "markdown",
   "metadata": {},
   "source": [
    "Returned data model"
   ]
  },
  {
   "cell_type": "code",
   "execution_count": 427,
   "metadata": {},
   "outputs": [],
   "source": [
    "class GCNData():\n",
    "    def __init__(self):\n",
    "        self.train_losses = []\n",
    "        self.train_accuracies = []\n",
    "        self.train_labels = []\n",
    "        self.train_scores = []\n",
    "        self.test_losses = []\n",
    "        self.test_accuracies = []\n",
    "        self.test_scores = []\n",
    "        self.test_labels = []"
   ]
  },
  {
   "cell_type": "markdown",
   "metadata": {},
   "source": [
    "# **TRAINING**"
   ]
  },
  {
   "cell_type": "code",
   "execution_count": 428,
   "metadata": {},
   "outputs": [],
   "source": [
    "from tqdm import trange"
   ]
  },
  {
   "cell_type": "markdown",
   "metadata": {},
   "source": [
    "Set loss function"
   ]
  },
  {
   "cell_type": "code",
   "execution_count": 429,
   "metadata": {},
   "outputs": [],
   "source": [
    "loss_function = torch.nn.CrossEntropyLoss()"
   ]
  },
  {
   "cell_type": "markdown",
   "metadata": {},
   "source": [
    "Basic model training"
   ]
  },
  {
   "cell_type": "code",
   "execution_count": 430,
   "metadata": {},
   "outputs": [],
   "source": [
    "def hyperParameterTester(create_table=False, hc=HIDDEN_NODE_COUNT, learn=LEARNING_RATE):\n",
    "    \n",
    "    torch.manual_seed(MANUAL_SEED)                              # Set manual seed\n",
    "    model = GCN(hidden_channels=hc)                             # Initilialize model\n",
    "    model.to(device=device)\n",
    "\n",
    "    optimizer = torch.optim.Adam(model.parameters(), lr=learn)  # Set optimizer with learning rate\n",
    "    loss_function = torch.nn.CrossEntropyLoss()                 # Set loss function\n",
    "\n",
    "    returnData = GCNData()\n",
    "\n",
    "    def train(tt):\n",
    "        model.train()\n",
    "        loss_ = 0\n",
    "        correct = 0\n",
    "        i = 0\n",
    "\n",
    "        for data in train_loader:  # Iterates the batches. We declared each batch to be of size 64\n",
    "            data = data.to(device, non_blocking=True)\n",
    "            # Calculate output, and get the maximum of those in order to obtain the predicted value\n",
    "            out = model(data.x, data.edge_index, data.batch)\n",
    "            cat = torch.argmax(out, dim=1)\n",
    "\n",
    "            correct += int((cat == data.y).sum())  # Check against ground-truth labels.\n",
    "            \n",
    "            loss = loss_function(out, data.y)\n",
    "            loss_ += loss.item()\n",
    "            \n",
    "            loss.backward()\n",
    "            optimizer.step()\n",
    "            optimizer.zero_grad()\n",
    "\n",
    "            i+=1\n",
    "\n",
    "            # Append actual and preddicted to respective array. Have to be converted to NumPy arrays in order to flatten them.\n",
    "            # We flatten them as 1D arrays are required by SK in order to calculate and plot ROC AUC\n",
    "            arrayLabel = np.array(data.y.to('cpu'))\n",
    "            for value in arrayLabel.flatten():\n",
    "                returnData.train_labels.append(value)\n",
    "\n",
    "            arrayCat = np.array(cat.to('cpu'))\n",
    "            for value in arrayCat.flatten():\n",
    "                returnData.train_scores.append(value)\n",
    "        \n",
    "        tt.set_description(\"loss: %2f. accuracy %2f.\" % (loss, correct/len(train_loader.dataset)))\n",
    "        returnData.train_losses.append(loss_/ i)\n",
    "        returnData.train_accuracies.append(correct/len(train_loader.dataset))\n",
    "\n",
    "    def test(loader):\n",
    "        model.eval()\n",
    "        correct = 0\n",
    "        loss_ = 0\n",
    "        i = 0\n",
    "        for data in loader:  # Iterate in batches over the training/test dataset.\n",
    "            data = data.to(device, non_blocking=True)\n",
    "            out = model(data.x, data.edge_index, data.batch)\n",
    "            cat = torch.argmax(out, dim=1)\n",
    "\n",
    "            correct += int((cat == data.y).sum())  # Check against ground-truth labels.\n",
    "\n",
    "            loss = loss_function(out, data.y)\n",
    "            loss_ += loss.item()\n",
    "\n",
    "            arrayLabel = np.array(data.y.to('cpu'))\n",
    "            for value in arrayLabel.flatten():\n",
    "                returnData.test_labels.append(value)\n",
    "\n",
    "            arrayCat = np.array(cat.to('cpu'))\n",
    "            for value in arrayCat.flatten():\n",
    "                returnData.test_scores.append(value)\n",
    "            \n",
    "            i+=1\n",
    "        \n",
    "        returnData.test_losses.append(loss_/ i)\n",
    "        returnData.test_accuracies.append(correct/len(loader.dataset))\n",
    "\n",
    "    for epoch in (t := trange(1, EPOCHS)):\n",
    "        train(t)\n",
    "        test(train_loader)\n",
    "    \n",
    "    return returnData\n",
    "\n"
   ]
  },
  {
   "cell_type": "markdown",
   "metadata": {},
   "source": [
    "# **PLOTTING** "
   ]
  },
  {
   "cell_type": "code",
   "execution_count": 431,
   "metadata": {},
   "outputs": [],
   "source": [
    "import matplotlib.pyplot as plt\n",
    "import numpy as np\n",
    "import matplotlib.style as mplstyle\n",
    "import sklearn\n",
    "from sklearn import metrics\n",
    "from sklearn.metrics import RocCurveDisplay"
   ]
  },
  {
   "cell_type": "markdown",
   "metadata": {},
   "source": [
    "**Plotting helper functions** "
   ]
  },
  {
   "cell_type": "code",
   "execution_count": 432,
   "metadata": {},
   "outputs": [],
   "source": [
    "def GraphPrettifier(figname, ylabel, title):\n",
    "    figure = plt.figure(figname)\n",
    "    figure.patch.set_facecolor('lightgray')\n",
    "    plt.xlabel(\"# Epochs\")\n",
    "    plt.ylabel(ylabel)\n",
    "    plt.title(title)\n",
    "    plt.grid()\n",
    "    plt.legend()\n",
    "\n",
    "# Used for prettier graph\n",
    "def AvgCalculator(data, numChunks):\n",
    "    averageOfData = []\n",
    "    chunkSize = len(data) // numChunks\n",
    "    for i in range(0, len(data), chunkSize):\n",
    "        chunk = data[i:i+chunkSize]\n",
    "        chunkAvg = sum(chunk) / len(chunk)\n",
    "        averageOfData.append(chunkAvg)\n",
    "    return averageOfData\n",
    "\n",
    "# ROC AUC PLOT\n",
    "def plotROCAUC(labels, scores, title, ax):\n",
    "    # roc_auc = roc_auc_score(labels, scores)\n",
    "\n",
    "    fpr, tpr, _ = metrics.roc_curve(labels,  scores)\n",
    "    auc = metrics.roc_auc_score(labels, scores)\n",
    "    ax.set_title(title)\n",
    "    ax.plot(fpr,tpr)\n",
    "    ax.legend([\"auc=\"+str(round(auc, 2))], handlelength=0, handletextpad=0)\n",
    "\n",
    "    # RocCurveDisplay.from_predictions(labels, scores)\n",
    "\n",
    "    #plt.show()"
   ]
  },
  {
   "cell_type": "markdown",
   "metadata": {},
   "source": [
    "Create a class for plotting parameters"
   ]
  },
  {
   "cell_type": "code",
   "execution_count": 433,
   "metadata": {},
   "outputs": [],
   "source": [
    "class PP():\n",
    "    def __init__(self, value, colour):\n",
    "        self.value = value\n",
    "        self.colour = colour"
   ]
  },
  {
   "cell_type": "markdown",
   "metadata": {},
   "source": [
    "**Function for plotting the basic graph**"
   ]
  },
  {
   "cell_type": "code",
   "execution_count": 434,
   "metadata": {},
   "outputs": [],
   "source": [
    "def PlotBasic():\n",
    "    data = hyperParameterTester() # Get data\n",
    "    AndreasPlot(data)\n",
    "    X = np.arange(0, len(data.train_accuracies))\n",
    "    plt.figure('g', figsize=[10,5])\n",
    "    plt.plot(X, np.array(data.train_accuracies), c=\"indianred\", label=\"Accuracy\")\n",
    "    plt.plot(X, np.array(data.train_losses), c=\"navy\", label=\"Loss\")\n",
    "    GraphPrettifier('g', '', 'Accuracy and Loss')\n",
    "    plt.show()"
   ]
  },
  {
   "cell_type": "markdown",
   "metadata": {},
   "source": [
    "**Plotting learning rates**"
   ]
  },
  {
   "cell_type": "code",
   "execution_count": 435,
   "metadata": {},
   "outputs": [],
   "source": [
    "def PlotOverLR(para: GCNData, cleanGraph=False, numChunks = 50):\n",
    "    EstNumData = (EPOCHS-1)*len(train_loader)\n",
    "    X = np.arange(0, (EPOCHS-1)*len(train_loader)) if not cleanGraph else np.arange(0, EstNumData, EstNumData//numChunks)\n",
    "\n",
    "    for p in para:\n",
    "        data = hyperParameterTester(learn = p.value) # Get data\n",
    "\n",
    "        plt.figure('Acc', figsize=[10,5]) # Activate figure with accuracy\n",
    "        accuracies = np.array(data.train_accuracies)\n",
    "        if not cleanGraph: plt.plot(X, accuracies, color=p.colour, label='Learning rate: {}'.format(p.value))\n",
    "\n",
    "        plt.figure('Loss', figsize=[10,5]) # Activate figure with loss\n",
    "        losses = np.array(data.train_losses)\n",
    "        if not cleanGraph: plt.plot(X, losses, color=p.colour, label='Learning rate: {}'.format(p.value))\n",
    "\n",
    "        if cleanGraph: # Taking averages for prettier graph\n",
    "            averageAcc = AvgCalculator(accuracies, numChunks)\n",
    "            averageLoss = AvgCalculator(losses, numChunks)\n",
    "            \n",
    "            plt.figure('Acc') # Activate figure with accuracy\n",
    "            plt.plot(X, averageAcc, color=p.colour, label='Learning rate: {}'.format(p.value))\n",
    "            plt.figure('Loss') # Activate figure with loss\n",
    "            plt.plot(X, averageLoss, color=p.colour, label='Learning rate: {}'.format(p.value))\n",
    "\n",
    "    script_dir = os.getcwd()\n",
    "    save_dir = os.path.join(script_dir, 'Figures/LR/')\n",
    "\n",
    "    if not os.path.isdir(save_dir):\n",
    "        os.makedirs(save_dir)\n",
    "\n",
    "    save_name = \"Accuracy.pdf\"\n",
    "    GraphPrettifier('Acc', 'Accuracy', 'Accuracy with different learning rates')\n",
    "    plt.savefig(save_dir + save_name)\n",
    "\n",
    "    save_name = \"Loss.pdf\"\n",
    "    GraphPrettifier('Loss', 'Loss', 'Loss with different learning rates')\n",
    "    plt.savefig(save_dir + save_name)\n",
    "\n",
    "    plt.show()"
   ]
  },
  {
   "cell_type": "markdown",
   "metadata": {},
   "source": [
    "**Plotting node count**"
   ]
  },
  {
   "cell_type": "code",
   "execution_count": 436,
   "metadata": {},
   "outputs": [],
   "source": [
    "def PlotOverHC(para: GCNData, cleanGraph=False, numChunks = 50):\n",
    "    EstNumData = (EPOCHS-1)*len(train_loader)\n",
    "    X = np.arange(0, (EPOCHS-1)*len(train_loader)) if not cleanGraph else np.arange(0, EstNumData, EstNumData//numChunks)\n",
    "\n",
    "    for p in para:\n",
    "        data = hyperParameterTester(hc = p.value) # Get data\n",
    "\n",
    "        plt.figure('Acc', figsize=[10,5]) # Activate figure with accuracy\n",
    "        accuracies = np.array(data.train_accuracies)\n",
    "        if not cleanGraph: plt.plot(X, accuracies, color=p.colour, label='# Neurons: {}'.format(p.value))\n",
    "\n",
    "        plt.figure('Loss', figsize=[10,5]) # Activate figure with loss\n",
    "        losses = np.array(data.train_losses)\n",
    "        if not cleanGraph: plt.plot(X, losses, color=p.colour, label='# Neurons: {}'.format(p.value))\n",
    "\n",
    "        if cleanGraph: # Taking averages for prettier graph\n",
    "            averageAcc = AvgCalculator(accuracies, numChunks)\n",
    "            averageLoss = AvgCalculator(losses, numChunks)\n",
    "            \n",
    "            plt.figure('Acc') # Activate figure with accuracy\n",
    "            plt.plot(X, averageAcc, color=p.colour, label='# Neurons: {}'.format(p.value))\n",
    "            plt.figure('Loss') # Activate figure with loss\n",
    "            plt.plot(X, averageLoss, color=p.colour, label='# Neurons: {}'.format(p.value))\n",
    "\n",
    "    script_dir = os.getcwd()\n",
    "    save_dir = os.path.join(script_dir, 'Figures/HC/')\n",
    "\n",
    "    if not os.path.isdir(save_dir):\n",
    "        os.makedirs(save_dir)\n",
    "\n",
    "    save_name = \"Accuracy.pdf\"\n",
    "    GraphPrettifier('Acc', 'Accuracy', 'Accuracy with different neurons in the hidden layers')\n",
    "    plt.savefig(save_dir + save_name)\n",
    "\n",
    "    save_name = \"Loss.pdf\"\n",
    "    GraphPrettifier('Loss', 'Loss', 'Loss with different neurons in the hidden layers')\n",
    "    plt.savefig(save_dir + save_name)\n",
    "\n",
    "    plt.show()"
   ]
  },
  {
   "cell_type": "code",
   "execution_count": 437,
   "metadata": {},
   "outputs": [],
   "source": [
    "import matplotlib.gridspec as gridspec\n",
    "import matplotlib.patches as patches\n",
    "from datetime import datetime\n",
    "\n",
    "# ACCURACY PLOT\n",
    "def plotAccuracy(losses, accuracies, title, ax):\n",
    "    #fig, ax[0,1] = sub\n",
    "    ax.set_title(title)\n",
    "    ax.set_ylim(0, 1)\n",
    "    ax.plot(losses)\n",
    "    ax.plot(accuracies)\n",
    "    ax.plot(losses, label=\"Loss\")\n",
    "    ax.plot(accuracies, label=\"Accuracy\")\n",
    "    ax.legend(loc=\"lower center\")\n",
    "    \n",
    "    \n",
    "    #plt.show()\n",
    "\n",
    "def AndreasPlot(data: GCNData):\n",
    "    plot_training = True\n",
    "    plot_testing = True\n",
    "\n",
    "    plot_accuracy = True\n",
    "    plot_rocauc = True\n",
    "\n",
    "    fig = plt.figure(figsize=(8, 6))\n",
    "\n",
    "    gs = gridspec.GridSpec(3, 2)\n",
    "\n",
    "    ax1 = plt.subplot(gs[0, :])\n",
    "\n",
    "\n",
    "\n",
    "    table_data = [\n",
    "        [\"Seed\", \"Activation\", \"Weight Initializer\", \"Loss function\", \"Pooling\", \"Optimizer\", \"# GCN layers\", \"Neurons\", \"Split\", \"Epochs\", \"Batch Size\", \"LR\"],\n",
    "            [str(MANUAL_SEED), \"ReLU\", \"Default\", \"C-Entropy\", \"GMax Pooling\", \"Adam\", \"3\", \"7, 64, 64, 64, 2\", str(round(DATASPLIT/188, 2)), str(EPOCHS), \"64\", str(LEARNING_RATE)],\n",
    "    ]\n",
    "\n",
    "    table_data_1 = [table_data[0][:len(table_data[0]) // 2], table_data[1][:len(table_data[1]) // 2]]\n",
    "    table_data_2 = [table_data[0][len(table_data[0]) // 2:], table_data[1][len(table_data[1]) // 2:]]\n",
    "\n",
    "    # Create the first table in the top subplot (upper section)\n",
    "    table_1 = ax1.table(cellText=table_data_1, cellLoc='center', loc='center')\n",
    "    table_1.auto_set_font_size(False)\n",
    "    table_1.set_fontsize(12)\n",
    "    table_1.scale(1.2, 1.2)\n",
    "\n",
    "    # Create the second table in the top subplot (lower section)\n",
    "    table_2 = ax1.table(cellText=table_data_2, cellLoc='center', loc='bottom')\n",
    "    table_2.auto_set_font_size(False)\n",
    "    table_2.set_fontsize(12)\n",
    "    table_2.scale(1.2, 1.2)\n",
    "\n",
    "\n",
    "\n",
    "    # Hide axis and display the table\n",
    "    #ax1 = plt.gca()\n",
    "    ax1.axis('off')\n",
    "\n",
    "    #divider_y = -1.1  # Adjust the y-coordinate as needed\n",
    "    #ax1.axhline(divider_y, color='black')\n",
    "\n",
    "\n",
    "\n",
    "\n",
    "    # Plot for train\n",
    "    if(plot_training):\n",
    "        if(plot_accuracy):\n",
    "            #ax00 = ax[0, 0]\n",
    "            ax00 = plt.subplot(gs[1, 0])\n",
    "\n",
    "            plotAccuracy(data.train_losses, data.train_accuracies, \"Training: Accuracy & Loss\", ax00)\n",
    "\n",
    "        if(plot_rocauc):\n",
    "            #ax10 = ax[0, 1]\n",
    "            ax10 = plt.subplot(gs[2, 0])\n",
    "\n",
    "            plotROCAUC(data.train_labels, data.train_scores, \"Training: ROC AUC\", ax10)\n",
    "\n",
    "    # Plot for test\n",
    "    if(plot_testing):\n",
    "        if(plot_accuracy):\n",
    "            #ax01 = ax[1, 0]\n",
    "            ax01 = plt.subplot(gs[1, 1])\n",
    "            plotAccuracy(data.test_losses, data.test_accuracies, \"Testing: Accuracy & Loss\", ax01)\n",
    "\n",
    "        if(plot_rocauc):\n",
    "            #ax11 = ax[1, 1]\n",
    "            ax11 = plt.subplot(gs[2, 1])\n",
    "\n",
    "            plotROCAUC(data.test_labels, data.test_scores, \"Testing: ROC AUC\" ,ax11)\n",
    "\n",
    "    now = datetime.now()\n",
    "\n",
    "    title = \"Model algorithm/parameter & performance profile. Profiled on {}.\".format(now.strftime(\"%d/%m/%Y, %H:%M:%S\"))\n",
    "\n",
    "    fig.suptitle(title, fontsize=12, wrap=True)\n",
    "\n",
    "    plt.tight_layout()"
   ]
  },
  {
   "cell_type": "markdown",
   "metadata": {},
   "source": [
    "**Utilizing the two functions on some parameters**"
   ]
  },
  {
   "cell_type": "code",
   "execution_count": 438,
   "metadata": {},
   "outputs": [
    {
     "ename": "TypeError",
     "evalue": "tensor() missing 1 required positional arguments: \"data\"",
     "output_type": "error",
     "traceback": [
      "\u001b[1;31m---------------------------------------------------------------------------\u001b[0m",
      "\u001b[1;31mTypeError\u001b[0m                                 Traceback (most recent call last)",
      "\u001b[1;32me:\\GITHUB\\NeuralGraphs\\Main\\MutagGCN.ipynb Cell 44\u001b[0m line \u001b[0;36m5\n\u001b[0;32m      <a href='vscode-notebook-cell:/e%3A/GITHUB/NeuralGraphs/Main/MutagGCN.ipynb#X55sZmlsZQ%3D%3D?line=1'>2</a>\u001b[0m HCparameters \u001b[39m=\u001b[39m {PP(\u001b[39m5\u001b[39m, \u001b[39m'\u001b[39m\u001b[39mfirebrick\u001b[39m\u001b[39m'\u001b[39m), PP(\u001b[39m10\u001b[39m, \u001b[39m'\u001b[39m\u001b[39mlightsalmon\u001b[39m\u001b[39m'\u001b[39m), PP(\u001b[39m20\u001b[39m, \u001b[39m'\u001b[39m\u001b[39mdarkgoldenrod\u001b[39m\u001b[39m'\u001b[39m), PP(\u001b[39m40\u001b[39m, \u001b[39m'\u001b[39m\u001b[39mgoldenrod\u001b[39m\u001b[39m'\u001b[39m), PP(\u001b[39m64\u001b[39m, \u001b[39m'\u001b[39m\u001b[39mmediumaquamarine\u001b[39m\u001b[39m'\u001b[39m), PP(\u001b[39m100\u001b[39m, \u001b[39m'\u001b[39m\u001b[39mblack\u001b[39m\u001b[39m'\u001b[39m), PP(\u001b[39m200\u001b[39m, \u001b[39m'\u001b[39m\u001b[39mrosybrown\u001b[39m\u001b[39m'\u001b[39m)}\n\u001b[0;32m      <a href='vscode-notebook-cell:/e%3A/GITHUB/NeuralGraphs/Main/MutagGCN.ipynb#X55sZmlsZQ%3D%3D?line=2'>3</a>\u001b[0m \u001b[39m#PlotOverLR(LRparameters, cleanGraph=True)\u001b[39;00m\n\u001b[0;32m      <a href='vscode-notebook-cell:/e%3A/GITHUB/NeuralGraphs/Main/MutagGCN.ipynb#X55sZmlsZQ%3D%3D?line=3'>4</a>\u001b[0m \u001b[39m#PlotOverHC(HCparameters, cleanGraph=True)\u001b[39;00m\n\u001b[1;32m----> <a href='vscode-notebook-cell:/e%3A/GITHUB/NeuralGraphs/Main/MutagGCN.ipynb#X55sZmlsZQ%3D%3D?line=4'>5</a>\u001b[0m PlotBasic()\n",
      "\u001b[1;32me:\\GITHUB\\NeuralGraphs\\Main\\MutagGCN.ipynb Cell 44\u001b[0m line \u001b[0;36m2\n\u001b[0;32m      <a href='vscode-notebook-cell:/e%3A/GITHUB/NeuralGraphs/Main/MutagGCN.ipynb#X55sZmlsZQ%3D%3D?line=0'>1</a>\u001b[0m \u001b[39mdef\u001b[39;00m \u001b[39mPlotBasic\u001b[39m():\n\u001b[1;32m----> <a href='vscode-notebook-cell:/e%3A/GITHUB/NeuralGraphs/Main/MutagGCN.ipynb#X55sZmlsZQ%3D%3D?line=1'>2</a>\u001b[0m     data \u001b[39m=\u001b[39m hyperParameterTester() \u001b[39m# Get data\u001b[39;00m\n\u001b[0;32m      <a href='vscode-notebook-cell:/e%3A/GITHUB/NeuralGraphs/Main/MutagGCN.ipynb#X55sZmlsZQ%3D%3D?line=2'>3</a>\u001b[0m     AndreasPlot(data)\n\u001b[0;32m      <a href='vscode-notebook-cell:/e%3A/GITHUB/NeuralGraphs/Main/MutagGCN.ipynb#X55sZmlsZQ%3D%3D?line=3'>4</a>\u001b[0m     X \u001b[39m=\u001b[39m np\u001b[39m.\u001b[39marange(\u001b[39m0\u001b[39m, \u001b[39mlen\u001b[39m(data\u001b[39m.\u001b[39mtrain_accuracies))\n",
      "\u001b[1;32me:\\GITHUB\\NeuralGraphs\\Main\\MutagGCN.ipynb Cell 44\u001b[0m line \u001b[0;36m4\n\u001b[0;32m      <a href='vscode-notebook-cell:/e%3A/GITHUB/NeuralGraphs/Main/MutagGCN.ipynb#X55sZmlsZQ%3D%3D?line=0'>1</a>\u001b[0m \u001b[39mdef\u001b[39;00m \u001b[39mhyperParameterTester\u001b[39m(create_table\u001b[39m=\u001b[39m\u001b[39mFalse\u001b[39;00m, hc\u001b[39m=\u001b[39mHIDDEN_NODE_COUNT, learn\u001b[39m=\u001b[39mLEARNING_RATE):\n\u001b[0;32m      <a href='vscode-notebook-cell:/e%3A/GITHUB/NeuralGraphs/Main/MutagGCN.ipynb#X55sZmlsZQ%3D%3D?line=2'>3</a>\u001b[0m     torch\u001b[39m.\u001b[39mmanual_seed(MANUAL_SEED)                              \u001b[39m# Set manual seed\u001b[39;00m\n\u001b[1;32m----> <a href='vscode-notebook-cell:/e%3A/GITHUB/NeuralGraphs/Main/MutagGCN.ipynb#X55sZmlsZQ%3D%3D?line=3'>4</a>\u001b[0m     model \u001b[39m=\u001b[39m GCN(hidden_channels\u001b[39m=\u001b[39;49mhc)                             \u001b[39m# Initilialize model\u001b[39;00m\n\u001b[0;32m      <a href='vscode-notebook-cell:/e%3A/GITHUB/NeuralGraphs/Main/MutagGCN.ipynb#X55sZmlsZQ%3D%3D?line=4'>5</a>\u001b[0m     model\u001b[39m.\u001b[39mto(device\u001b[39m=\u001b[39mdevice)\n\u001b[0;32m      <a href='vscode-notebook-cell:/e%3A/GITHUB/NeuralGraphs/Main/MutagGCN.ipynb#X55sZmlsZQ%3D%3D?line=6'>7</a>\u001b[0m     optimizer \u001b[39m=\u001b[39m torch\u001b[39m.\u001b[39moptim\u001b[39m.\u001b[39mAdam(model\u001b[39m.\u001b[39mparameters(), lr\u001b[39m=\u001b[39mlearn)  \u001b[39m# Set optimizer with learning rate\u001b[39;00m\n",
      "\u001b[1;32me:\\GITHUB\\NeuralGraphs\\Main\\MutagGCN.ipynb Cell 44\u001b[0m line \u001b[0;36m9\n\u001b[0;32m      <a href='vscode-notebook-cell:/e%3A/GITHUB/NeuralGraphs/Main/MutagGCN.ipynb#X55sZmlsZQ%3D%3D?line=5'>6</a>\u001b[0m \u001b[39mself\u001b[39m\u001b[39m.\u001b[39mconv1 \u001b[39m=\u001b[39m GCNConv(in_features, hidden_channels)\n\u001b[0;32m      <a href='vscode-notebook-cell:/e%3A/GITHUB/NeuralGraphs/Main/MutagGCN.ipynb#X55sZmlsZQ%3D%3D?line=7'>8</a>\u001b[0m \u001b[39m# Hidden layers\u001b[39;00m\n\u001b[1;32m----> <a href='vscode-notebook-cell:/e%3A/GITHUB/NeuralGraphs/Main/MutagGCN.ipynb#X55sZmlsZQ%3D%3D?line=8'>9</a>\u001b[0m \u001b[39mself\u001b[39m\u001b[39m.\u001b[39mhconv \u001b[39m=\u001b[39m torch\u001b[39m.\u001b[39;49mtensor(size\u001b[39m=\u001b[39;49m[\u001b[39m4\u001b[39;49m])\n\u001b[0;32m     <a href='vscode-notebook-cell:/e%3A/GITHUB/NeuralGraphs/Main/MutagGCN.ipynb#X55sZmlsZQ%3D%3D?line=9'>10</a>\u001b[0m \u001b[39mfor\u001b[39;00m i \u001b[39min\u001b[39;00m \u001b[39mrange\u001b[39m(num_hidden_layers):\n\u001b[0;32m     <a href='vscode-notebook-cell:/e%3A/GITHUB/NeuralGraphs/Main/MutagGCN.ipynb#X55sZmlsZQ%3D%3D?line=10'>11</a>\u001b[0m     \u001b[39mself\u001b[39m\u001b[39m.\u001b[39mhconv[i] \u001b[39m=\u001b[39m (GCNConv(hidden_channels, hidden_channels))\n",
      "\u001b[1;31mTypeError\u001b[0m: tensor() missing 1 required positional arguments: \"data\""
     ]
    }
   ],
   "source": [
    "LRparameters = {PP(0.1, 'lightsalmon'), PP(0.01, 'goldenrod'), PP(0.001, 'mediumaquamarine'), PP(0.005, 'rosybrown')}\n",
    "HCparameters = {PP(5, 'firebrick'), PP(10, 'lightsalmon'), PP(20, 'darkgoldenrod'), PP(40, 'goldenrod'), PP(64, 'mediumaquamarine'), PP(100, 'black'), PP(200, 'rosybrown')}\n",
    "#PlotOverLR(LRparameters, cleanGraph=True)\n",
    "#PlotOverHC(HCparameters, cleanGraph=True)\n",
    "PlotBasic()"
   ]
  },
  {
   "cell_type": "markdown",
   "metadata": {},
   "source": [
    "# **Testing**"
   ]
  },
  {
   "cell_type": "code",
   "execution_count": null,
   "metadata": {},
   "outputs": [],
   "source": []
  }
 ],
 "metadata": {
  "kernelspec": {
   "display_name": "Python 3",
   "language": "python",
   "name": "python3"
  },
  "language_info": {
   "codemirror_mode": {
    "name": "ipython",
    "version": 3
   },
   "file_extension": ".py",
   "mimetype": "text/x-python",
   "name": "python",
   "nbconvert_exporter": "python",
   "pygments_lexer": "ipython3",
   "version": "3.11.5"
  }
 },
 "nbformat": 4,
 "nbformat_minor": 2
}
