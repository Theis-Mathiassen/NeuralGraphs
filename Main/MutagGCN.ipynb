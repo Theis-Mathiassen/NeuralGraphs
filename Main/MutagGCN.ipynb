{
 "cells": [
  {
   "cell_type": "markdown",
   "metadata": {},
   "source": [
    "# **CONSTANTS & IMPORTS**"
   ]
  },
  {
   "cell_type": "markdown",
   "metadata": {},
   "source": [
    "Constants"
   ]
  },
  {
   "cell_type": "code",
   "execution_count": 55,
   "metadata": {},
   "outputs": [
    {
     "name": "stdout",
     "output_type": "stream",
     "text": [
      "%pylab is deprecated, use %matplotlib inline and import the required libraries.\n",
      "Populating the interactive namespace from numpy and matplotlib\n"
     ]
    },
    {
     "name": "stderr",
     "output_type": "stream",
     "text": [
      "C:\\Users\\mikke\\AppData\\Roaming\\Python\\Python310\\site-packages\\IPython\\core\\magics\\pylab.py:162: UserWarning:\n",
      "\n",
      "pylab import has clobbered these variables: ['random']\n",
      "`%matplotlib` prevents importing * from pylab and numpy\n",
      "\n"
     ]
    }
   ],
   "source": [
    "EPOCHS = 300\n",
    "LEARNING_RATE = 0.01\n",
    "MANUAL_SEED = 12345\n",
    "HIDDEN_NODE_COUNT = 64\n",
    "DATASPLIT = 150\n",
    "BATCH_SIZE_TRAINING = 64\n",
    "BATCH_SIZE_TESTING = 1\n",
    "\n",
    "%pylab inline"
   ]
  },
  {
   "cell_type": "markdown",
   "metadata": {},
   "source": [
    "# **Dataset import**"
   ]
  },
  {
   "cell_type": "code",
   "execution_count": 5,
   "metadata": {},
   "outputs": [],
   "source": [
    "import os\n",
    "import torch\n",
    "import torch_geometric\n",
    "\n",
    "from torch_geometric.datasets import TUDataset\n",
    "from torch_geometric.utils import to_networkx\n",
    "from torch_geometric.loader import DataLoader\n",
    "\n",
    "\n",
    "\n",
    "dataset = TUDataset(root='dataset/Mutag', name='MUTAG')\n",
    "\n",
    "data_details = {\n",
    "    \"num_node_features\": dataset.num_node_features,\n",
    "    \"num_edge_features\": dataset.num_edge_features,\n",
    "    \"num_classes\": dataset.num_classes,\n",
    "    \"num_node_labels\": dataset.num_node_labels,\n",
    "    \"num_edge_labels\": dataset.num_edge_labels,\n",
    "}"
   ]
  },
  {
   "cell_type": "code",
   "execution_count": 6,
   "metadata": {},
   "outputs": [
    {
     "name": "stdout",
     "output_type": "stream",
     "text": [
      "{'num_node_features': 7, 'num_edge_features': 4, 'num_classes': 2, 'num_node_labels': 7, 'num_edge_labels': 4}\n"
     ]
    }
   ],
   "source": [
    "print(data_details)"
   ]
  },
  {
   "cell_type": "markdown",
   "metadata": {},
   "source": [
    "# **DATA SPLITTING**"
   ]
  },
  {
   "cell_type": "markdown",
   "metadata": {},
   "source": [
    "Shuffle data (optional)"
   ]
  },
  {
   "cell_type": "code",
   "execution_count": 7,
   "metadata": {},
   "outputs": [],
   "source": [
    "dataset = dataset.shuffle()"
   ]
  },
  {
   "cell_type": "markdown",
   "metadata": {},
   "source": [
    "Create training set and test set (size defined in constants)"
   ]
  },
  {
   "cell_type": "code",
   "execution_count": 8,
   "metadata": {},
   "outputs": [],
   "source": [
    "# Allocate for training\n",
    "train_dataset = dataset[:DATASPLIT]\n",
    "# Allocate the remainder for testing\n",
    "test_dataset = dataset[DATASPLIT:]\n",
    "\n",
    "# Define the data loaders. Used later for training, can be ignored for now\n",
    "train_loader = DataLoader(dataset=dataset, batch_size=BATCH_SIZE_TRAINING, shuffle=True)\n",
    "test_loader = DataLoader(dataset=dataset, batch_size=BATCH_SIZE_TESTING, shuffle=False)\n",
    "\n",
    "%run visualize.py"
   ]
  },
  {
   "cell_type": "code",
   "execution_count": 9,
   "metadata": {},
   "outputs": [
    {
     "name": "stdout",
     "output_type": "stream",
     "text": [
      "150\n",
      "38\n"
     ]
    }
   ],
   "source": [
    "print(len(train_dataset))\n",
    "print(len(test_dataset))"
   ]
  },
  {
   "cell_type": "markdown",
   "metadata": {},
   "source": [
    "#  **GRAPH VISUALIZATION EXAMPLE**"
   ]
  },
  {
   "cell_type": "code",
   "execution_count": 10,
   "metadata": {},
   "outputs": [
    {
     "data": {
      "application/vnd.plotly.v1+json": {
       "config": {
        "plotlyServerURL": "https://plot.ly"
       },
       "data": [
        {
         "hoverinfo": "none",
         "line": {
          "color": "#808080",
          "width": 2
         },
         "mode": "lines",
         "opacity": 0.8,
         "type": "scatter",
         "x": [
          0.20153193174862563,
          0.09768183868008133,
          null,
          0.20153193174862563,
          0.14799530165678276,
          null,
          0.09768183868008133,
          0.20153193174862563,
          null,
          0.09768183868008133,
          -0.12461899764340284,
          null,
          -0.12461899764340284,
          0.09768183868008133,
          null,
          -0.12461899764340284,
          -0.19039146911332117,
          null,
          -0.12461899764340284,
          -0.21054557290694384,
          null,
          -0.19039146911332117,
          -0.12461899764340284,
          null,
          -0.19039146911332117,
          -0.09225506329631115,
          null,
          -0.09225506329631115,
          -0.19039146911332117,
          null,
          -0.09225506329631115,
          0.14799530165678276,
          null,
          0.14799530165678276,
          0.20153193174862563,
          null,
          0.14799530165678276,
          -0.09225506329631115,
          null,
          0.14799530165678276,
          0.2838137652953225,
          null,
          0.2838137652953225,
          0.14799530165678276,
          null,
          0.2838137652953225,
          0.40040339440236433,
          null,
          0.40040339440236433,
          0.2838137652953225,
          null,
          -0.21054557290694384,
          -0.12461899764340284,
          null,
          -0.21054557290694384,
          -0.3998560838582685,
          null,
          -0.21054557290694384,
          -0.11375904496492917,
          null,
          -0.3998560838582685,
          -0.21054557290694384,
          null,
          -0.11375904496492917,
          -0.21054557290694384,
          null
         ],
         "y": [
          -0.19245670423373484,
          0.09242652723245019,
          null,
          -0.19245670423373484,
          -0.4790861108586096,
          null,
          0.09242652723245019,
          -0.19245670423373484,
          null,
          0.09242652723245019,
          0.29563563121366937,
          null,
          0.29563563121366937,
          0.09242652723245019,
          null,
          0.29563563121366937,
          -0.010513572857127307,
          null,
          0.29563563121366937,
          0.6488473609881774,
          null,
          -0.010513572857127307,
          0.29563563121366937,
          null,
          -0.010513572857127307,
          -0.30248785127300226,
          null,
          -0.30248785127300226,
          -0.010513572857127307,
          null,
          -0.30248785127300226,
          -0.4790861108586096,
          null,
          -0.4790861108586096,
          -0.19245670423373484,
          null,
          -0.4790861108586096,
          -0.30248785127300226,
          null,
          -0.4790861108586096,
          -0.7730477291397135,
          null,
          -0.7730477291397135,
          -0.4790861108586096,
          null,
          -0.7730477291397135,
          -1,
          null,
          -1,
          -0.7730477291397135,
          null,
          0.6488473609881774,
          0.29563563121366937,
          null,
          0.6488473609881774,
          0.8298143594490839,
          null,
          0.6488473609881774,
          0.8908680894788065,
          null,
          0.8298143594490839,
          0.6488473609881774,
          null,
          0.8908680894788065,
          0.6488473609881774,
          null
         ]
        },
        {
         "hoverinfo": "text",
         "marker": {
          "color": "#fcfcfc",
          "colorbar": {
           "thickness": 15,
           "title": {
            "side": "right",
            "text": ""
           },
           "xanchor": "left"
          },
          "colorscale": [
           [
            0,
            "rgb(255,255,217)"
           ],
           [
            0.125,
            "rgb(237,248,177)"
           ],
           [
            0.25,
            "rgb(199,233,180)"
           ],
           [
            0.375,
            "rgb(127,205,187)"
           ],
           [
            0.5,
            "rgb(65,182,196)"
           ],
           [
            0.625,
            "rgb(29,145,192)"
           ],
           [
            0.75,
            "rgb(34,94,168)"
           ],
           [
            0.875,
            "rgb(37,52,148)"
           ],
           [
            1,
            "rgb(8,29,88)"
           ]
          ],
          "line": {
           "color": "#333333",
           "width": 2
          },
          "reversescale": false,
          "showscale": false,
          "size": 20
         },
         "mode": "markers+text",
         "opacity": 0.8,
         "text": [
          "0",
          "1",
          "2",
          "3",
          "4",
          "5",
          "6",
          "7",
          "8",
          "9",
          "10"
         ],
         "textfont": {
          "color": "#000000",
          "family": "Arial",
          "size": 14
         },
         "textposition": "top left",
         "type": "scatter",
         "x": [
          0.20153193174862563,
          0.09768183868008133,
          -0.12461899764340284,
          -0.19039146911332117,
          -0.09225506329631115,
          0.14799530165678276,
          0.2838137652953225,
          0.40040339440236433,
          -0.21054557290694384,
          -0.3998560838582685,
          -0.11375904496492917
         ],
         "y": [
          -0.19245670423373484,
          0.09242652723245019,
          0.29563563121366937,
          -0.010513572857127307,
          -0.30248785127300226,
          -0.4790861108586096,
          -0.7730477291397135,
          -1,
          0.6488473609881774,
          0.8298143594490839,
          0.8908680894788065
         ]
        }
       ],
       "layout": {
        "autosize": false,
        "height": 400,
        "hovermode": "closest",
        "margin": {
         "b": 5,
         "l": 0,
         "r": 0,
         "t": 20
        },
        "paper_bgcolor": "rgba(255,255,255,255)",
        "plot_bgcolor": "rgba(0,0,0,0)",
        "scene": {
         "xaxis": {
          "autorange": true,
          "showgrid": false,
          "showline": false,
          "showticklabels": false,
          "ticks": "",
          "visible": false,
          "zeroline": false
         },
         "yaxis": {
          "autorange": true,
          "showgrid": false,
          "showline": false,
          "showticklabels": false,
          "ticks": "",
          "visible": false,
          "zeroline": false
         },
         "zaxis": {
          "autorange": true,
          "showgrid": false,
          "showline": false,
          "showticklabels": false,
          "ticks": "",
          "visible": false,
          "zeroline": false
         }
        },
        "showlegend": false,
        "template": {
         "data": {
          "bar": [
           {
            "error_x": {
             "color": "#2a3f5f"
            },
            "error_y": {
             "color": "#2a3f5f"
            },
            "marker": {
             "line": {
              "color": "#E5ECF6",
              "width": 0.5
             },
             "pattern": {
              "fillmode": "overlay",
              "size": 10,
              "solidity": 0.2
             }
            },
            "type": "bar"
           }
          ],
          "barpolar": [
           {
            "marker": {
             "line": {
              "color": "#E5ECF6",
              "width": 0.5
             },
             "pattern": {
              "fillmode": "overlay",
              "size": 10,
              "solidity": 0.2
             }
            },
            "type": "barpolar"
           }
          ],
          "carpet": [
           {
            "aaxis": {
             "endlinecolor": "#2a3f5f",
             "gridcolor": "white",
             "linecolor": "white",
             "minorgridcolor": "white",
             "startlinecolor": "#2a3f5f"
            },
            "baxis": {
             "endlinecolor": "#2a3f5f",
             "gridcolor": "white",
             "linecolor": "white",
             "minorgridcolor": "white",
             "startlinecolor": "#2a3f5f"
            },
            "type": "carpet"
           }
          ],
          "choropleth": [
           {
            "colorbar": {
             "outlinewidth": 0,
             "ticks": ""
            },
            "type": "choropleth"
           }
          ],
          "contour": [
           {
            "colorbar": {
             "outlinewidth": 0,
             "ticks": ""
            },
            "colorscale": [
             [
              0,
              "#0d0887"
             ],
             [
              0.1111111111111111,
              "#46039f"
             ],
             [
              0.2222222222222222,
              "#7201a8"
             ],
             [
              0.3333333333333333,
              "#9c179e"
             ],
             [
              0.4444444444444444,
              "#bd3786"
             ],
             [
              0.5555555555555556,
              "#d8576b"
             ],
             [
              0.6666666666666666,
              "#ed7953"
             ],
             [
              0.7777777777777778,
              "#fb9f3a"
             ],
             [
              0.8888888888888888,
              "#fdca26"
             ],
             [
              1,
              "#f0f921"
             ]
            ],
            "type": "contour"
           }
          ],
          "contourcarpet": [
           {
            "colorbar": {
             "outlinewidth": 0,
             "ticks": ""
            },
            "type": "contourcarpet"
           }
          ],
          "heatmap": [
           {
            "colorbar": {
             "outlinewidth": 0,
             "ticks": ""
            },
            "colorscale": [
             [
              0,
              "#0d0887"
             ],
             [
              0.1111111111111111,
              "#46039f"
             ],
             [
              0.2222222222222222,
              "#7201a8"
             ],
             [
              0.3333333333333333,
              "#9c179e"
             ],
             [
              0.4444444444444444,
              "#bd3786"
             ],
             [
              0.5555555555555556,
              "#d8576b"
             ],
             [
              0.6666666666666666,
              "#ed7953"
             ],
             [
              0.7777777777777778,
              "#fb9f3a"
             ],
             [
              0.8888888888888888,
              "#fdca26"
             ],
             [
              1,
              "#f0f921"
             ]
            ],
            "type": "heatmap"
           }
          ],
          "heatmapgl": [
           {
            "colorbar": {
             "outlinewidth": 0,
             "ticks": ""
            },
            "colorscale": [
             [
              0,
              "#0d0887"
             ],
             [
              0.1111111111111111,
              "#46039f"
             ],
             [
              0.2222222222222222,
              "#7201a8"
             ],
             [
              0.3333333333333333,
              "#9c179e"
             ],
             [
              0.4444444444444444,
              "#bd3786"
             ],
             [
              0.5555555555555556,
              "#d8576b"
             ],
             [
              0.6666666666666666,
              "#ed7953"
             ],
             [
              0.7777777777777778,
              "#fb9f3a"
             ],
             [
              0.8888888888888888,
              "#fdca26"
             ],
             [
              1,
              "#f0f921"
             ]
            ],
            "type": "heatmapgl"
           }
          ],
          "histogram": [
           {
            "marker": {
             "pattern": {
              "fillmode": "overlay",
              "size": 10,
              "solidity": 0.2
             }
            },
            "type": "histogram"
           }
          ],
          "histogram2d": [
           {
            "colorbar": {
             "outlinewidth": 0,
             "ticks": ""
            },
            "colorscale": [
             [
              0,
              "#0d0887"
             ],
             [
              0.1111111111111111,
              "#46039f"
             ],
             [
              0.2222222222222222,
              "#7201a8"
             ],
             [
              0.3333333333333333,
              "#9c179e"
             ],
             [
              0.4444444444444444,
              "#bd3786"
             ],
             [
              0.5555555555555556,
              "#d8576b"
             ],
             [
              0.6666666666666666,
              "#ed7953"
             ],
             [
              0.7777777777777778,
              "#fb9f3a"
             ],
             [
              0.8888888888888888,
              "#fdca26"
             ],
             [
              1,
              "#f0f921"
             ]
            ],
            "type": "histogram2d"
           }
          ],
          "histogram2dcontour": [
           {
            "colorbar": {
             "outlinewidth": 0,
             "ticks": ""
            },
            "colorscale": [
             [
              0,
              "#0d0887"
             ],
             [
              0.1111111111111111,
              "#46039f"
             ],
             [
              0.2222222222222222,
              "#7201a8"
             ],
             [
              0.3333333333333333,
              "#9c179e"
             ],
             [
              0.4444444444444444,
              "#bd3786"
             ],
             [
              0.5555555555555556,
              "#d8576b"
             ],
             [
              0.6666666666666666,
              "#ed7953"
             ],
             [
              0.7777777777777778,
              "#fb9f3a"
             ],
             [
              0.8888888888888888,
              "#fdca26"
             ],
             [
              1,
              "#f0f921"
             ]
            ],
            "type": "histogram2dcontour"
           }
          ],
          "mesh3d": [
           {
            "colorbar": {
             "outlinewidth": 0,
             "ticks": ""
            },
            "type": "mesh3d"
           }
          ],
          "parcoords": [
           {
            "line": {
             "colorbar": {
              "outlinewidth": 0,
              "ticks": ""
             }
            },
            "type": "parcoords"
           }
          ],
          "pie": [
           {
            "automargin": true,
            "type": "pie"
           }
          ],
          "scatter": [
           {
            "fillpattern": {
             "fillmode": "overlay",
             "size": 10,
             "solidity": 0.2
            },
            "type": "scatter"
           }
          ],
          "scatter3d": [
           {
            "line": {
             "colorbar": {
              "outlinewidth": 0,
              "ticks": ""
             }
            },
            "marker": {
             "colorbar": {
              "outlinewidth": 0,
              "ticks": ""
             }
            },
            "type": "scatter3d"
           }
          ],
          "scattercarpet": [
           {
            "marker": {
             "colorbar": {
              "outlinewidth": 0,
              "ticks": ""
             }
            },
            "type": "scattercarpet"
           }
          ],
          "scattergeo": [
           {
            "marker": {
             "colorbar": {
              "outlinewidth": 0,
              "ticks": ""
             }
            },
            "type": "scattergeo"
           }
          ],
          "scattergl": [
           {
            "marker": {
             "colorbar": {
              "outlinewidth": 0,
              "ticks": ""
             }
            },
            "type": "scattergl"
           }
          ],
          "scattermapbox": [
           {
            "marker": {
             "colorbar": {
              "outlinewidth": 0,
              "ticks": ""
             }
            },
            "type": "scattermapbox"
           }
          ],
          "scatterpolar": [
           {
            "marker": {
             "colorbar": {
              "outlinewidth": 0,
              "ticks": ""
             }
            },
            "type": "scatterpolar"
           }
          ],
          "scatterpolargl": [
           {
            "marker": {
             "colorbar": {
              "outlinewidth": 0,
              "ticks": ""
             }
            },
            "type": "scatterpolargl"
           }
          ],
          "scatterternary": [
           {
            "marker": {
             "colorbar": {
              "outlinewidth": 0,
              "ticks": ""
             }
            },
            "type": "scatterternary"
           }
          ],
          "surface": [
           {
            "colorbar": {
             "outlinewidth": 0,
             "ticks": ""
            },
            "colorscale": [
             [
              0,
              "#0d0887"
             ],
             [
              0.1111111111111111,
              "#46039f"
             ],
             [
              0.2222222222222222,
              "#7201a8"
             ],
             [
              0.3333333333333333,
              "#9c179e"
             ],
             [
              0.4444444444444444,
              "#bd3786"
             ],
             [
              0.5555555555555556,
              "#d8576b"
             ],
             [
              0.6666666666666666,
              "#ed7953"
             ],
             [
              0.7777777777777778,
              "#fb9f3a"
             ],
             [
              0.8888888888888888,
              "#fdca26"
             ],
             [
              1,
              "#f0f921"
             ]
            ],
            "type": "surface"
           }
          ],
          "table": [
           {
            "cells": {
             "fill": {
              "color": "#EBF0F8"
             },
             "line": {
              "color": "white"
             }
            },
            "header": {
             "fill": {
              "color": "#C8D4E3"
             },
             "line": {
              "color": "white"
             }
            },
            "type": "table"
           }
          ]
         },
         "layout": {
          "annotationdefaults": {
           "arrowcolor": "#2a3f5f",
           "arrowhead": 0,
           "arrowwidth": 1
          },
          "autotypenumbers": "strict",
          "coloraxis": {
           "colorbar": {
            "outlinewidth": 0,
            "ticks": ""
           }
          },
          "colorscale": {
           "diverging": [
            [
             0,
             "#8e0152"
            ],
            [
             0.1,
             "#c51b7d"
            ],
            [
             0.2,
             "#de77ae"
            ],
            [
             0.3,
             "#f1b6da"
            ],
            [
             0.4,
             "#fde0ef"
            ],
            [
             0.5,
             "#f7f7f7"
            ],
            [
             0.6,
             "#e6f5d0"
            ],
            [
             0.7,
             "#b8e186"
            ],
            [
             0.8,
             "#7fbc41"
            ],
            [
             0.9,
             "#4d9221"
            ],
            [
             1,
             "#276419"
            ]
           ],
           "sequential": [
            [
             0,
             "#0d0887"
            ],
            [
             0.1111111111111111,
             "#46039f"
            ],
            [
             0.2222222222222222,
             "#7201a8"
            ],
            [
             0.3333333333333333,
             "#9c179e"
            ],
            [
             0.4444444444444444,
             "#bd3786"
            ],
            [
             0.5555555555555556,
             "#d8576b"
            ],
            [
             0.6666666666666666,
             "#ed7953"
            ],
            [
             0.7777777777777778,
             "#fb9f3a"
            ],
            [
             0.8888888888888888,
             "#fdca26"
            ],
            [
             1,
             "#f0f921"
            ]
           ],
           "sequentialminus": [
            [
             0,
             "#0d0887"
            ],
            [
             0.1111111111111111,
             "#46039f"
            ],
            [
             0.2222222222222222,
             "#7201a8"
            ],
            [
             0.3333333333333333,
             "#9c179e"
            ],
            [
             0.4444444444444444,
             "#bd3786"
            ],
            [
             0.5555555555555556,
             "#d8576b"
            ],
            [
             0.6666666666666666,
             "#ed7953"
            ],
            [
             0.7777777777777778,
             "#fb9f3a"
            ],
            [
             0.8888888888888888,
             "#fdca26"
            ],
            [
             1,
             "#f0f921"
            ]
           ]
          },
          "colorway": [
           "#636efa",
           "#EF553B",
           "#00cc96",
           "#ab63fa",
           "#FFA15A",
           "#19d3f3",
           "#FF6692",
           "#B6E880",
           "#FF97FF",
           "#FECB52"
          ],
          "font": {
           "color": "#2a3f5f"
          },
          "geo": {
           "bgcolor": "white",
           "lakecolor": "white",
           "landcolor": "#E5ECF6",
           "showlakes": true,
           "showland": true,
           "subunitcolor": "white"
          },
          "hoverlabel": {
           "align": "left"
          },
          "hovermode": "closest",
          "mapbox": {
           "style": "light"
          },
          "paper_bgcolor": "white",
          "plot_bgcolor": "#E5ECF6",
          "polar": {
           "angularaxis": {
            "gridcolor": "white",
            "linecolor": "white",
            "ticks": ""
           },
           "bgcolor": "#E5ECF6",
           "radialaxis": {
            "gridcolor": "white",
            "linecolor": "white",
            "ticks": ""
           }
          },
          "scene": {
           "xaxis": {
            "backgroundcolor": "#E5ECF6",
            "gridcolor": "white",
            "gridwidth": 2,
            "linecolor": "white",
            "showbackground": true,
            "ticks": "",
            "zerolinecolor": "white"
           },
           "yaxis": {
            "backgroundcolor": "#E5ECF6",
            "gridcolor": "white",
            "gridwidth": 2,
            "linecolor": "white",
            "showbackground": true,
            "ticks": "",
            "zerolinecolor": "white"
           },
           "zaxis": {
            "backgroundcolor": "#E5ECF6",
            "gridcolor": "white",
            "gridwidth": 2,
            "linecolor": "white",
            "showbackground": true,
            "ticks": "",
            "zerolinecolor": "white"
           }
          },
          "shapedefaults": {
           "line": {
            "color": "#2a3f5f"
           }
          },
          "ternary": {
           "aaxis": {
            "gridcolor": "white",
            "linecolor": "white",
            "ticks": ""
           },
           "baxis": {
            "gridcolor": "white",
            "linecolor": "white",
            "ticks": ""
           },
           "bgcolor": "#E5ECF6",
           "caxis": {
            "gridcolor": "white",
            "linecolor": "white",
            "ticks": ""
           }
          },
          "title": {
           "x": 0.05
          },
          "xaxis": {
           "automargin": true,
           "gridcolor": "white",
           "linecolor": "white",
           "ticks": "",
           "title": {
            "standoff": 15
           },
           "zerolinecolor": "white",
           "zerolinewidth": 2
          },
          "yaxis": {
           "automargin": true,
           "gridcolor": "white",
           "linecolor": "white",
           "ticks": "",
           "title": {
            "standoff": 15
           },
           "zerolinecolor": "white",
           "zerolinewidth": 2
          }
         }
        },
        "title": {
         "font": {
          "size": 16
         },
         "text": ""
        },
        "width": 375,
        "xaxis": {
         "autorange": true,
         "showgrid": false,
         "showline": false,
         "showticklabels": false,
         "ticks": "",
         "visible": false,
         "zeroline": false
        },
        "yaxis": {
         "autorange": true,
         "showgrid": false,
         "showline": false,
         "showticklabels": false,
         "ticks": "",
         "visible": false,
         "zeroline": false
        }
       }
      }
     },
     "metadata": {},
     "output_type": "display_data"
    }
   ],
   "source": [
    "import networkx as nx\n",
    "from visualize import GraphVisualization\n",
    "\n",
    "def create_graph(graph):\n",
    "    g = to_networkx(graph)\n",
    "    pos = nx.spring_layout(g)\n",
    "    vis = GraphVisualization(\n",
    "        g,\n",
    "        pos,\n",
    "        node_text_position=\"top left\",\n",
    "        node_size=20,\n",
    "    )\n",
    "    fig = vis.create_figure()\n",
    "    return fig\n",
    "\n",
    "\n",
    "fig = create_graph(dataset[0])\n",
    "fig.show()"
   ]
  },
  {
   "cell_type": "markdown",
   "metadata": {},
   "source": [
    "# **GNN MODEL**"
   ]
  },
  {
   "cell_type": "markdown",
   "metadata": {},
   "source": [
    "Imports\n"
   ]
  },
  {
   "cell_type": "code",
   "execution_count": 11,
   "metadata": {},
   "outputs": [],
   "source": [
    "from torch.nn import Linear\n",
    "import torch.nn.functional as F\n",
    "from torch_geometric.nn import GCNConv\n",
    "from torch_geometric.nn import global_mean_pool"
   ]
  },
  {
   "cell_type": "markdown",
   "metadata": {},
   "source": [
    "Model definition\n"
   ]
  },
  {
   "cell_type": "code",
   "execution_count": 12,
   "metadata": {},
   "outputs": [],
   "source": [
    "class GCN(torch.nn.Module):\n",
    "    def __init__(self, in_features=dataset.num_node_features, hidden_channels=HIDDEN_NODE_COUNT, outfeatures = 2):\n",
    "        super(GCN, self).__init__()\n",
    "\n",
    "        # Input layer\n",
    "        self.conv1 = GCNConv(in_features, hidden_channels)\n",
    "\n",
    "        # Hidden layers\n",
    "        self.conv2 = GCNConv(hidden_channels, hidden_channels)\n",
    "        self.conv3 = GCNConv(hidden_channels, hidden_channels)\n",
    "        self.conv4 = GCNConv(hidden_channels, hidden_channels)\n",
    "        self.conv5 = GCNConv(hidden_channels, hidden_channels)\n",
    "\n",
    "        # Output layer\n",
    "        self.lin = Linear(hidden_channels, outfeatures)\n",
    "\n",
    "    def forward(self, x, edge_index, batch):\n",
    "        # 1. Obtain node embeddings\n",
    "        x = self.conv1(x, edge_index)\n",
    "        x = x.relu()\n",
    "        x = self.conv2(x, edge_index)\n",
    "        x = x.relu()\n",
    "        x = self.conv3(x, edge_index)\n",
    "        x = x.relu()\n",
    "        x = self.conv4(x, edge_index)\n",
    "        x = x.relu()\n",
    "        x = self.conv5(x, edge_index)\n",
    "\n",
    "        # 2. Readout layer\n",
    "        x = global_mean_pool(x, batch)  # [batch_size, hidden_channels]\n",
    "\n",
    "        # 3. Apply a final classifier\n",
    "        x = F.dropout(x, p=0.5, training=self.training)\n",
    "        x = self.lin(x)\n",
    "\n",
    "        return x"
   ]
  },
  {
   "cell_type": "markdown",
   "metadata": {},
   "source": [
    "Returned data model"
   ]
  },
  {
   "cell_type": "code",
   "execution_count": 71,
   "metadata": {},
   "outputs": [],
   "source": [
    "class GCNData():\n",
    "    def __init__(self):\n",
    "        self.train_losses = []\n",
    "        self.train_accuracies = []\n",
    "        self.train_labels = []\n",
    "        self.train_scores = []\n",
    "        self.test_losses = []\n",
    "        self.test_accuracies = []\n",
    "        self.test_scores = []\n",
    "        self.test_labels = []"
   ]
  },
  {
   "cell_type": "markdown",
   "metadata": {},
   "source": [
    "# **TRAINING**"
   ]
  },
  {
   "cell_type": "code",
   "execution_count": 72,
   "metadata": {},
   "outputs": [],
   "source": [
    "from tqdm import trange"
   ]
  },
  {
   "cell_type": "markdown",
   "metadata": {},
   "source": [
    "Set loss function"
   ]
  },
  {
   "cell_type": "code",
   "execution_count": 73,
   "metadata": {},
   "outputs": [],
   "source": [
    "loss_function = torch.nn.CrossEntropyLoss()"
   ]
  },
  {
   "cell_type": "markdown",
   "metadata": {},
   "source": [
    "Basic model training"
   ]
  },
  {
   "cell_type": "code",
   "execution_count": 74,
   "metadata": {},
   "outputs": [],
   "source": [
    "def hyperParameterTester(create_table=False, hc=HIDDEN_NODE_COUNT, learn=LEARNING_RATE):\n",
    "    \n",
    "    torch.manual_seed(MANUAL_SEED)                              # Set manual seed\n",
    "    model = GCN(hidden_channels=hc)                             # Initilialize model\n",
    "\n",
    "    optimizer = torch.optim.Adam(model.parameters(), lr=learn)  # Set optimizer with learning rate\n",
    "    loss_function = torch.nn.CrossEntropyLoss()                 # Set loss function\n",
    "\n",
    "    returnData = GCNData()\n",
    "\n",
    "    def train(tt):\n",
    "        model.train()\n",
    "\n",
    "        for data in train_loader:  # Iterates the batches. We declared each batch to be of size 64\n",
    "\n",
    "            # Calculate output, and get the maximum of those in order to obtain the predicted value\n",
    "            out = model(data.x, data.edge_index, data.batch)\n",
    "            cat = torch.argmax(out, dim=1)\n",
    "\n",
    "            accuracy = (cat == data.y).float().mean()\n",
    "            returnData.train_accuracies.append(accuracy.item())\n",
    "            loss = loss_function(out, data.y)\n",
    "            tt.set_description(\"loss: %2f. accuracy %2f.\" % (loss, accuracy))\n",
    "            returnData.train_losses.append(loss.item())\n",
    "            loss.backward()\n",
    "            optimizer.step()\n",
    "            optimizer.zero_grad()\n",
    "\n",
    "            # Append actual and preddicted to respective array. Have to be converted to NumPy arrays in order to flatten them.\n",
    "            # We flatten them as 1D arrays are required by SK in order to calculate and plot ROC AUC\n",
    "            arrayLabel = np.array(data.y)\n",
    "            for value in arrayLabel.flatten():\n",
    "                returnData.train_labels.append(value)\n",
    "\n",
    "            arrayCat = np.array(cat)\n",
    "            for value in arrayCat.flatten():\n",
    "                returnData.train_scores.append(value)\n",
    "\n",
    "    def test(loader):\n",
    "        model.eval()\n",
    "\n",
    "        for data in loader:  # Iterate in batches over the training/test dataset.\n",
    "            out = model(data.x, data.edge_index, data.batch)\n",
    "            cat = torch.argmax(out, dim=1)\n",
    "\n",
    "            accuracy = (cat == data.y).float().mean()\n",
    "            returnData.test_accuracies.append(accuracy.item())\n",
    "\n",
    "            loss = loss_function(out, data.y)\n",
    "            returnData.test_losses.append(loss.item())\n",
    "\n",
    "            arrayLabel = np.array(data.y)\n",
    "            for value in arrayLabel.flatten():\n",
    "                returnData.test_labels.append(value)\n",
    "\n",
    "            arrayCat = np.array(cat)\n",
    "            for value in arrayCat.flatten():\n",
    "                returnData.test_scores.append(value)\n",
    "\n",
    "    for epoch in (t := trange(1, EPOCHS)):\n",
    "        train(t)\n",
    "        test(train_loader)\n",
    "    \n",
    "    return returnData\n",
    "\n"
   ]
  },
  {
   "cell_type": "markdown",
   "metadata": {},
   "source": [
    "# **PLOTTING** "
   ]
  },
  {
   "cell_type": "code",
   "execution_count": 82,
   "metadata": {},
   "outputs": [],
   "source": [
    "import matplotlib.pyplot as plt\n",
    "import numpy as np\n",
    "import matplotlib.style as mplstyle\n",
    "import sklearn\n",
    "from sklearn import metrics\n",
    "from sklearn.metrics import RocCurveDisplay"
   ]
  },
  {
   "cell_type": "markdown",
   "metadata": {},
   "source": [
    "**Plotting helper functions** "
   ]
  },
  {
   "cell_type": "code",
   "execution_count": 83,
   "metadata": {},
   "outputs": [],
   "source": [
    "def GraphPrettifier(figname, ylabel, title):\n",
    "    figure = plt.figure(figname)\n",
    "    figure.patch.set_facecolor('lightgray')\n",
    "    plt.xlabel(\"# Epochs\")\n",
    "    plt.ylabel(ylabel)\n",
    "    plt.title(title)\n",
    "    plt.grid()\n",
    "    plt.legend()\n",
    "\n",
    "# Used for prettier graph\n",
    "def AvgCalculator(data, numChunks):\n",
    "    averageOfData = []\n",
    "    chunkSize = len(data) // numChunks\n",
    "    for i in range(0, len(data), chunkSize):\n",
    "        chunk = data[i:i+chunkSize]\n",
    "        chunkAvg = sum(chunk) / len(chunk)\n",
    "        averageOfData.append(chunkAvg)\n",
    "    return averageOfData\n",
    "\n",
    "# ROC AUC PLOT\n",
    "def plotROCAUC(labels, scores, title, ax):\n",
    "    # roc_auc = roc_auc_score(labels, scores)\n",
    "\n",
    "    fpr, tpr, _ = metrics.roc_curve(labels,  scores)\n",
    "    auc = metrics.roc_auc_score(labels, scores)\n",
    "    ax.set_title(title)\n",
    "    ax.plot(fpr,tpr)\n",
    "    ax.legend([\"auc=\"+str(round(auc, 2))], handlelength=0, handletextpad=0)\n",
    "\n",
    "    # RocCurveDisplay.from_predictions(labels, scores)\n",
    "\n",
    "    plt.show()"
   ]
  },
  {
   "cell_type": "markdown",
   "metadata": {},
   "source": [
    "Create a class for plotting parameters"
   ]
  },
  {
   "cell_type": "code",
   "execution_count": 77,
   "metadata": {},
   "outputs": [],
   "source": [
    "class PP():\n",
    "    def __init__(self, value, colour):\n",
    "        self.value = value\n",
    "        self.colour = colour"
   ]
  },
  {
   "cell_type": "markdown",
   "metadata": {},
   "source": [
    "**Function for plotting the basic graph**"
   ]
  },
  {
   "cell_type": "code",
   "execution_count": 85,
   "metadata": {},
   "outputs": [],
   "source": [
    "def PlotBasic():\n",
    "    data = hyperParameterTester() # Get data\n",
    "    AndreasPlot(data)\n",
    "    X = np.arange(0, len(data.train_accuracies))\n",
    "    plt.figure('g', figsize=[10,5])\n",
    "    plt.plot(X, np.array(data.train_accuracies), c=\"indianred\", label=\"Accuracy\")\n",
    "    plt.plot(X, np.array(data.train_losses), c=\"navy\", label=\"Loss\")\n",
    "    GraphPrettifier('g', '', 'Accuracy and Loss')\n",
    "    plt.show()"
   ]
  },
  {
   "cell_type": "markdown",
   "metadata": {},
   "source": [
    "**Plotting learning rates**"
   ]
  },
  {
   "cell_type": "code",
   "execution_count": 79,
   "metadata": {},
   "outputs": [],
   "source": [
    "def PlotOverLR(para: GCNData, cleanGraph=False, numChunks = 50):\n",
    "    EstNumData = (EPOCHS-1)*len(train_loader)\n",
    "    X = np.arange(0, (EPOCHS-1)*len(train_loader)) if not cleanGraph else np.arange(0, EstNumData, EstNumData//numChunks)\n",
    "\n",
    "    for p in para:\n",
    "        data = hyperParameterTester(learn = p.value) # Get data\n",
    "\n",
    "        plt.figure('Acc', figsize=[10,5]) # Activate figure with accuracy\n",
    "        accuracies = np.array(data.train_accuracies)\n",
    "        if not cleanGraph: plt.plot(X, accuracies, color=p.colour, label='Learning rate: {}'.format(p.value))\n",
    "\n",
    "        plt.figure('Loss', figsize=[10,5]) # Activate figure with loss\n",
    "        losses = np.array(data.train_losses)\n",
    "        if not cleanGraph: plt.plot(X, losses, color=p.colour, label='Learning rate: {}'.format(p.value))\n",
    "\n",
    "        if cleanGraph: # Taking averages for prettier graph\n",
    "            averageAcc = AvgCalculator(accuracies, numChunks)\n",
    "            averageLoss = AvgCalculator(losses, numChunks)\n",
    "            \n",
    "            plt.figure('Acc') # Activate figure with accuracy\n",
    "            plt.plot(X, averageAcc, color=p.colour, label='Learning rate: {}'.format(p.value))\n",
    "            plt.figure('Loss') # Activate figure with loss\n",
    "            plt.plot(X, averageLoss, color=p.colour, label='Learning rate: {}'.format(p.value))\n",
    "\n",
    "    script_dir = os.getcwd()\n",
    "    save_dir = os.path.join(script_dir, 'Figures/LR/')\n",
    "\n",
    "    if not os.path.isdir(save_dir):\n",
    "        os.makedirs(save_dir)\n",
    "\n",
    "    save_name = \"Accuracy.pdf\"\n",
    "    GraphPrettifier('Acc', 'Accuracy', 'Accuracy with different learning rates')\n",
    "    plt.savefig(save_dir + save_name)\n",
    "\n",
    "    save_name = \"Loss.pdf\"\n",
    "    GraphPrettifier('Loss', 'Loss', 'Loss with different learning rates')\n",
    "    plt.savefig(save_dir + save_name)\n",
    "\n",
    "    plt.show()"
   ]
  },
  {
   "cell_type": "markdown",
   "metadata": {},
   "source": [
    "**Plotting node count**"
   ]
  },
  {
   "cell_type": "code",
   "execution_count": 80,
   "metadata": {},
   "outputs": [],
   "source": [
    "def PlotOverHC(para: GCNData, cleanGraph=False, numChunks = 50):\n",
    "    EstNumData = (EPOCHS-1)*len(train_loader)\n",
    "    X = np.arange(0, (EPOCHS-1)*len(train_loader)) if not cleanGraph else np.arange(0, EstNumData, EstNumData//numChunks)\n",
    "\n",
    "    for p in para:\n",
    "        data = hyperParameterTester(hc = p.value) # Get data\n",
    "\n",
    "        plt.figure('Acc', figsize=[10,5]) # Activate figure with accuracy\n",
    "        accuracies = np.array(data.train_accuracies)\n",
    "        if not cleanGraph: plt.plot(X, accuracies, color=p.colour, label='# Neurons: {}'.format(p.value))\n",
    "\n",
    "        plt.figure('Loss', figsize=[10,5]) # Activate figure with loss\n",
    "        losses = np.array(data.train_losses)\n",
    "        if not cleanGraph: plt.plot(X, losses, color=p.colour, label='# Neurons: {}'.format(p.value))\n",
    "\n",
    "        if cleanGraph: # Taking averages for prettier graph\n",
    "            averageAcc = AvgCalculator(accuracies, numChunks)\n",
    "            averageLoss = AvgCalculator(losses, numChunks)\n",
    "            \n",
    "            plt.figure('Acc') # Activate figure with accuracy\n",
    "            plt.plot(X, averageAcc, color=p.colour, label='# Neurons: {}'.format(p.value))\n",
    "            plt.figure('Loss') # Activate figure with loss\n",
    "            plt.plot(X, averageLoss, color=p.colour, label='# Neurons: {}'.format(p.value))\n",
    "\n",
    "    script_dir = os.getcwd()\n",
    "    save_dir = os.path.join(script_dir, 'Figures/HC/')\n",
    "\n",
    "    if not os.path.isdir(save_dir):\n",
    "        os.makedirs(save_dir)\n",
    "\n",
    "    save_name = \"Accuracy.pdf\"\n",
    "    GraphPrettifier('Acc', 'Accuracy', 'Accuracy with different neurons in the hidden layers')\n",
    "    plt.savefig(save_dir + save_name)\n",
    "\n",
    "    save_name = \"Loss.pdf\"\n",
    "    GraphPrettifier('Loss', 'Loss', 'Loss with different neurons in the hidden layers')\n",
    "    plt.savefig(save_dir + save_name)\n",
    "\n",
    "    plt.show()"
   ]
  },
  {
   "cell_type": "markdown",
   "metadata": {},
   "source": [
    "**Utilizing the two functions on some parameters**"
   ]
  },
  {
   "cell_type": "code",
   "execution_count": 86,
   "metadata": {},
   "outputs": [
    {
     "name": "stderr",
     "output_type": "stream",
     "text": [
      "loss: 0.399536. accuracy 0.816667.: 100%|██████████| 299/299 [00:23<00:00, 12.65it/s]\n"
     ]
    },
    {
     "data": {
      "image/png": "[encoded data removed]",
      "text/plain": [
       "<Figure size 800x600 with 2 Axes>"
      ]
     },
     "metadata": {},
     "output_type": "display_data"
    },
    {
     "data": {
      "image/png": "[encoded data removed]",
      "text/plain": [
       "<Figure size 640x480 with 1 Axes>"
      ]
     },
     "metadata": {},
     "output_type": "display_data"
    },
    {
     "data": {
      "image/png": "[encoded data removed]",
      "text/plain": [
       "<Figure size 640x480 with 1 Axes>"
      ]
     },
     "metadata": {},
     "output_type": "display_data"
    },
    {
     "data": {
      "image/png": "[encoded data removed]",
      "text/plain": [
       "<Figure size 640x480 with 1 Axes>"
      ]
     },
     "metadata": {},
     "output_type": "display_data"
    },
    {
     "data": {
      "text/plain": [
       "<Figure size 640x480 with 0 Axes>"
      ]
     },
     "metadata": {},
     "output_type": "display_data"
    },
    {
     "data": {
      "image/png": "[encoded data removed]",
      "text/plain": [
       "<Figure size 1000x500 with 1 Axes>"
      ]
     },
     "metadata": {},
     "output_type": "display_data"
    }
   ],
   "source": [
    "LRparameters = {PP(0.1, 'lightsalmon'), PP(0.01, 'goldenrod'), PP(0.001, 'mediumaquamarine'), PP(0.005, 'rosybrown')}\n",
    "HCparameters = {PP(5, 'firebrick'), PP(10, 'lightsalmon'), PP(20, 'darkgoldenrod'), PP(40, 'goldenrod'), PP(64, 'mediumaquamarine'), PP(100, 'black'), PP(200, 'rosybrown')}\n",
    "#PlotOverLR(LRparameters, cleanGraph=True)\n",
    "#PlotOverHC(HCparameters, cleanGraph=True)\n",
    "PlotBasic()"
   ]
  },
  {
   "cell_type": "code",
   "execution_count": 66,
   "metadata": {},
   "outputs": [],
   "source": [
    "import matplotlib.gridspec as gridspec\n",
    "import matplotlib.patches as patches\n",
    "from datetime import datetime\n",
    "\n",
    "# ACCURACY PLOT\n",
    "def plotAccuracy(losses, accuracies, title, ax):\n",
    "    #fig, ax[0,1] = sub\n",
    "    ax.set_title(title)\n",
    "    ax.set_ylim(0, 1)\n",
    "    ax.plot(losses)\n",
    "    ax.plot(accuracies)\n",
    "    ax.plot(losses, label=\"Loss\")\n",
    "    ax.plot(accuracies, label=\"Accuracy\")\n",
    "    ax.legend(loc=\"lower center\")\n",
    "    \n",
    "    \n",
    "    plt.show()\n",
    "\n",
    "def AndreasPlot(data: GCNData):\n",
    "    plot_training = True\n",
    "    plot_testing = True\n",
    "\n",
    "    plot_accuracy = True\n",
    "    plot_rocauc = True\n",
    "\n",
    "    fig = plt.figure(figsize=(8, 6))\n",
    "\n",
    "    gs = gridspec.GridSpec(3, 2)\n",
    "\n",
    "    ax1 = plt.subplot(gs[0, :])\n",
    "\n",
    "\n",
    "\n",
    "    table_data = [\n",
    "        [\"Seed\", \"Activation\", \"Weight Initializer\", \"Loss function\", \"Pooling\", \"Optimizer\", \"# GCN layers\", \"Neurons\", \"Split\", \"Epochs\", \"Batch Size\", \"LR\"],\n",
    "            [str(MANUAL_SEED), \"ReLU\", \"Default\", \"C-Entropy\", \"GMax Pooling\", \"Adam\", \"3\", \"7, 64, 64, 64, 2\", str(round(DATASPLIT/188, 2)), str(EPOCHS), \"64\", str(LEARNING_RATE)],\n",
    "    ]\n",
    "\n",
    "    table_data_1 = [table_data[0][:len(table_data[0]) // 2], table_data[1][:len(table_data[1]) // 2]]\n",
    "    table_data_2 = [table_data[0][len(table_data[0]) // 2:], table_data[1][len(table_data[1]) // 2:]]\n",
    "\n",
    "    # Create the first table in the top subplot (upper section)\n",
    "    table_1 = ax1.table(cellText=table_data_1, cellLoc='center', loc='center')\n",
    "    table_1.auto_set_font_size(False)\n",
    "    table_1.set_fontsize(12)\n",
    "    table_1.scale(1.2, 1.2)\n",
    "\n",
    "    # Create the second table in the top subplot (lower section)\n",
    "    table_2 = ax1.table(cellText=table_data_2, cellLoc='center', loc='bottom')\n",
    "    table_2.auto_set_font_size(False)\n",
    "    table_2.set_fontsize(12)\n",
    "    table_2.scale(1.2, 1.2)\n",
    "\n",
    "\n",
    "\n",
    "    # Hide axis and display the table\n",
    "    #ax1 = plt.gca()\n",
    "    ax1.axis('off')\n",
    "\n",
    "    #divider_y = -1.1  # Adjust the y-coordinate as needed\n",
    "    #ax1.axhline(divider_y, color='black')\n",
    "\n",
    "\n",
    "\n",
    "\n",
    "    # Plot for train\n",
    "    if(plot_training):\n",
    "        if(plot_accuracy):\n",
    "            #ax00 = ax[0, 0]\n",
    "            ax00 = plt.subplot(gs[1, 0])\n",
    "\n",
    "            plotAccuracy(data.train_losses, data.train_accuracies, \"Training: Accuracy & Loss\", ax00)\n",
    "\n",
    "        if(plot_rocauc):\n",
    "            #ax10 = ax[0, 1]\n",
    "            ax10 = plt.subplot(gs[2, 0])\n",
    "\n",
    "            plotROCAUC(data.train_labels, data.train_scores, \"Training: ROC AUC\", ax10)\n",
    "\n",
    "    # Plot for test\n",
    "    if(plot_testing):\n",
    "        if(plot_accuracy):\n",
    "            #ax01 = ax[1, 0]\n",
    "            ax01 = plt.subplot(gs[1, 1])\n",
    "            plotAccuracy(data.test_losses, data.test_accuracies, \"Testing: Accuracy & Loss\", ax01)\n",
    "\n",
    "        if(plot_rocauc):\n",
    "            #ax11 = ax[1, 1]\n",
    "            ax11 = plt.subplot(gs[2, 1])\n",
    "\n",
    "            plotROCAUC(data.test_labels, data.test_scores, \"Testing: ROC AUC\" ,ax11)\n",
    "\n",
    "    now = datetime.now()\n",
    "\n",
    "    title = \"Model algorithm/parameter & performance profile. Profiled on {}.\".format(now.strftime(\"%d/%m/%Y, %H:%M:%S\"))\n",
    "\n",
    "    fig.suptitle(title, fontsize=12, wrap=True)\n",
    "\n",
    "    plt.tight_layout()"
   ]
  },
  {
   "cell_type": "code",
   "execution_count": null,
   "metadata": {},
   "outputs": [],
   "source": []
  }
 ],
 "metadata": {
  "kernelspec": {
   "display_name": "Python 3",
   "language": "python",
   "name": "python3"
  },
  "language_info": {
   "codemirror_mode": {
    "name": "ipython",
    "version": 3
   },
   "file_extension": ".py",
   "mimetype": "text/x-python",
   "name": "python",
   "nbconvert_exporter": "python",
   "pygments_lexer": "ipython3",
   "version": "3.10.0"
  }
 },
 "nbformat": 4,
 "nbformat_minor": 2
}
