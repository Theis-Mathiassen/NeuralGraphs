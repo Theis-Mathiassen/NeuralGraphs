{
 "cells": [
  {
   "cell_type": "code",
   "execution_count": 1,
   "metadata": {},
   "outputs": [],
   "source": [
    "import torch \n",
    "import torch.nn as nn\n",
    "import torch.nn.functional as F\n"
   ]
  },
  {
   "cell_type": "code",
   "execution_count": 4,
   "metadata": {},
   "outputs": [],
   "source": [
    "#create a Model Class that inherits nn.Module\n",
    "class Model(nn.Module) : \n",
    "    #input layer (4 features of the flower) --> \n",
    "    # Hidden layer1 (#neurons) --> \n",
    "    # H2 (n) --> \n",
    "    # output (3 classes of iris flowers)\n",
    "\n",
    "    def __init__(self, in_features=4, h1=8, h2=9, out_features=3) : #the formal parameters define the size of the various layers\n",
    "        super().__init__() # instantiates our nn.module\n",
    "        self.fc1 = nn.Linear(in_features, h1) #setting up the layers (fc1 = fully connected 1)\n",
    "        self.fc2 = nn.Linear(h1, h2) # linear = linear model\n",
    "        self.out = nn.Linear(h2, out_features)\n",
    "    \n",
    "    # forward prop --> this pushes the data through the layers into the output layer\n",
    "    def forward(self, x) :\n",
    "        x = F.relu(self.fc1(x)) # rectified linear unit, activation function\n",
    "        x = F.relu(self.fc2(x))\n",
    "        x = self.out(x)\n",
    "\n",
    "        return x\n",
    "    "
   ]
  },
  {
   "cell_type": "code",
   "execution_count": 5,
   "metadata": {},
   "outputs": [],
   "source": [
    "# picka manual seed for randomization\n",
    "torch.manual_seed(41)\n",
    "\n",
    "model = Model()"
   ]
  },
  {
   "cell_type": "code",
   "execution_count": null,
   "metadata": {},
   "outputs": [],
   "source": []
  }
 ],
 "metadata": {
  "kernelspec": {
   "display_name": "Python 3",
   "language": "python",
   "name": "python3"
  },
  "language_info": {
   "codemirror_mode": {
    "name": "ipython",
    "version": 3
   },
   "file_extension": ".py",
   "mimetype": "text/x-python",
   "name": "python",
   "nbconvert_exporter": "python",
   "pygments_lexer": "ipython3",
   "version": "3.11.6"
  }
 },
 "nbformat": 4,
 "nbformat_minor": 2
}
