{
 "cells": [
  {
   "cell_type": "code",
   "execution_count": 106,
   "metadata": {},
   "outputs": [],
   "source": [
    "import torch \n",
    "import torch.nn as nn\n",
    "import torch.nn.functional as F"
   ]
  },
  {
   "cell_type": "code",
   "execution_count": 107,
   "metadata": {},
   "outputs": [],
   "source": [
    "#create a Model Class that inherits nn.Module\n",
    "class Model(nn.Module) : \n",
    "    #input layer (4 features of the flower) --> \n",
    "    # Hidden layer1 (#neurons) --> \n",
    "    # H2 (n) --> \n",
    "    # output (3 classes of iris flowers)\n",
    "\n",
    "    def __init__(self, in_features=4, h1=8, h2=9, out_features=3) : #the formal parameters define the size of the various layers\n",
    "        super().__init__() # instantiates our nn.module\n",
    "        self.fc1 = nn.Linear(in_features, h1) #setting up the layers (fc1 = fully connected 1)\n",
    "        self.fc2 = nn.Linear(h1, h2) # linear = linear model\n",
    "        self.out = nn.Linear(h2, out_features)\n",
    "    \n",
    "    # forward prop --> this pushes the data through the layers into the output layer\n",
    "    def forward(self, x) :\n",
    "        x = F.relu(self.fc1(x)) # rectified linear unit, activation function\n",
    "        x = F.relu(self.fc2(x))\n",
    "        x = self.out(x)\n",
    "\n",
    "        return x\n",
    "    "
   ]
  },
  {
   "cell_type": "code",
   "execution_count": 108,
   "metadata": {},
   "outputs": [],
   "source": [
    "# picka manual seed for randomization\n",
    "torch.manual_seed(41)\n",
    "\n",
    "# instatntiate the model\n",
    "model = Model()"
   ]
  },
  {
   "cell_type": "code",
   "execution_count": 109,
   "metadata": {},
   "outputs": [],
   "source": [
    "import pandas as pd\n",
    "import matplotlib.pyplot as plt\n",
    "%matplotlib inline\n"
   ]
  },
  {
   "cell_type": "code",
   "execution_count": 110,
   "metadata": {},
   "outputs": [],
   "source": [
    "url = 'https://gist.githubusercontent.com/netj/8836201/raw/6f9306ad21398ea43cba4f7d537619d0e07d5ae3/iris.csv'\n",
    "my_df = pd.read_csv(url)"
   ]
  },
  {
   "cell_type": "code",
   "execution_count": 111,
   "metadata": {},
   "outputs": [],
   "source": [
    "#my_df"
   ]
  },
  {
   "cell_type": "code",
   "execution_count": 112,
   "metadata": {},
   "outputs": [
    {
     "data": {
      "text/html": [
       "<div>\n",
       "<style scoped>\n",
       "    .dataframe tbody tr th:only-of-type {\n",
       "        vertical-align: middle;\n",
       "    }\n",
       "\n",
       "    .dataframe tbody tr th {\n",
       "        vertical-align: top;\n",
       "    }\n",
       "\n",
       "    .dataframe thead th {\n",
       "        text-align: right;\n",
       "    }\n",
       "</style>\n",
       "<table border=\"1\" class=\"dataframe\">\n",
       "  <thead>\n",
       "    <tr style=\"text-align: right;\">\n",
       "      <th></th>\n",
       "      <th>sepal.length</th>\n",
       "      <th>sepal.width</th>\n",
       "      <th>petal.length</th>\n",
       "      <th>petal.width</th>\n",
       "      <th>variety</th>\n",
       "    </tr>\n",
       "  </thead>\n",
       "  <tbody>\n",
       "    <tr>\n",
       "      <th>0</th>\n",
       "      <td>5.1</td>\n",
       "      <td>3.5</td>\n",
       "      <td>1.4</td>\n",
       "      <td>0.2</td>\n",
       "      <td>0.0</td>\n",
       "    </tr>\n",
       "    <tr>\n",
       "      <th>1</th>\n",
       "      <td>4.9</td>\n",
       "      <td>3.0</td>\n",
       "      <td>1.4</td>\n",
       "      <td>0.2</td>\n",
       "      <td>0.0</td>\n",
       "    </tr>\n",
       "    <tr>\n",
       "      <th>2</th>\n",
       "      <td>4.7</td>\n",
       "      <td>3.2</td>\n",
       "      <td>1.3</td>\n",
       "      <td>0.2</td>\n",
       "      <td>0.0</td>\n",
       "    </tr>\n",
       "    <tr>\n",
       "      <th>3</th>\n",
       "      <td>4.6</td>\n",
       "      <td>3.1</td>\n",
       "      <td>1.5</td>\n",
       "      <td>0.2</td>\n",
       "      <td>0.0</td>\n",
       "    </tr>\n",
       "    <tr>\n",
       "      <th>4</th>\n",
       "      <td>5.0</td>\n",
       "      <td>3.6</td>\n",
       "      <td>1.4</td>\n",
       "      <td>0.2</td>\n",
       "      <td>0.0</td>\n",
       "    </tr>\n",
       "    <tr>\n",
       "      <th>...</th>\n",
       "      <td>...</td>\n",
       "      <td>...</td>\n",
       "      <td>...</td>\n",
       "      <td>...</td>\n",
       "      <td>...</td>\n",
       "    </tr>\n",
       "    <tr>\n",
       "      <th>145</th>\n",
       "      <td>6.7</td>\n",
       "      <td>3.0</td>\n",
       "      <td>5.2</td>\n",
       "      <td>2.3</td>\n",
       "      <td>2.0</td>\n",
       "    </tr>\n",
       "    <tr>\n",
       "      <th>146</th>\n",
       "      <td>6.3</td>\n",
       "      <td>2.5</td>\n",
       "      <td>5.0</td>\n",
       "      <td>1.9</td>\n",
       "      <td>2.0</td>\n",
       "    </tr>\n",
       "    <tr>\n",
       "      <th>147</th>\n",
       "      <td>6.5</td>\n",
       "      <td>3.0</td>\n",
       "      <td>5.2</td>\n",
       "      <td>2.0</td>\n",
       "      <td>2.0</td>\n",
       "    </tr>\n",
       "    <tr>\n",
       "      <th>148</th>\n",
       "      <td>6.2</td>\n",
       "      <td>3.4</td>\n",
       "      <td>5.4</td>\n",
       "      <td>2.3</td>\n",
       "      <td>2.0</td>\n",
       "    </tr>\n",
       "    <tr>\n",
       "      <th>149</th>\n",
       "      <td>5.9</td>\n",
       "      <td>3.0</td>\n",
       "      <td>5.1</td>\n",
       "      <td>1.8</td>\n",
       "      <td>2.0</td>\n",
       "    </tr>\n",
       "  </tbody>\n",
       "</table>\n",
       "<p>150 rows × 5 columns</p>\n",
       "</div>"
      ],
      "text/plain": [
       "     sepal.length  sepal.width  petal.length  petal.width  variety\n",
       "0             5.1          3.5           1.4          0.2      0.0\n",
       "1             4.9          3.0           1.4          0.2      0.0\n",
       "2             4.7          3.2           1.3          0.2      0.0\n",
       "3             4.6          3.1           1.5          0.2      0.0\n",
       "4             5.0          3.6           1.4          0.2      0.0\n",
       "..            ...          ...           ...          ...      ...\n",
       "145           6.7          3.0           5.2          2.3      2.0\n",
       "146           6.3          2.5           5.0          1.9      2.0\n",
       "147           6.5          3.0           5.2          2.0      2.0\n",
       "148           6.2          3.4           5.4          2.3      2.0\n",
       "149           5.9          3.0           5.1          1.8      2.0\n",
       "\n",
       "[150 rows x 5 columns]"
      ]
     },
     "execution_count": 112,
     "metadata": {},
     "output_type": "execute_result"
    }
   ],
   "source": [
    "# change last columns from strings to integers\n",
    "my_df['variety'] = my_df['variety'].replace('Setosa', 0.0)\n",
    "my_df['variety'] = my_df['variety'].replace('Versicolor', 1.0)\n",
    "my_df['variety'] = my_df['variety'].replace('Virginica', 2.0)\n",
    "my_df"
   ]
  },
  {
   "cell_type": "code",
   "execution_count": 113,
   "metadata": {},
   "outputs": [],
   "source": [
    "# train test split! set x, y\n",
    "X = my_df.drop('variety', axis=1) # we are dropping the label of the data (i.e. the outcome)\n",
    "y = my_df['variety']"
   ]
  },
  {
   "cell_type": "code",
   "execution_count": 114,
   "metadata": {},
   "outputs": [],
   "source": [
    "# convert these to numpy arrays\n",
    "X = X.values\n",
    "y = y.values"
   ]
  },
  {
   "cell_type": "code",
   "execution_count": 115,
   "metadata": {},
   "outputs": [],
   "source": [
    "from sklearn.model_selection import train_test_split # import\n",
    "\n",
    "#train test split --\n",
    "\n",
    "# setting our train partition to 20% of the dataset, the rest 80 is test\n",
    "X_train, X_test, y_train, y_test = train_test_split(X, y, test_size=0.2, random_state=41) \n"
   ]
  },
  {
   "cell_type": "code",
   "execution_count": 116,
   "metadata": {},
   "outputs": [],
   "source": [
    "# convert X features to float tensors\n",
    "X_train = torch.FloatTensor(X_train)\n",
    "X_test = torch.FloatTensor(X_test)\n",
    "\n",
    "#convert y labels to tensors long\n",
    "y_train = torch.LongTensor(y_train)\n",
    "y_test = torch.LongTensor(y_test)\n"
   ]
  },
  {
   "cell_type": "code",
   "execution_count": 117,
   "metadata": {},
   "outputs": [],
   "source": [
    "# set the criterion of the model to meaaure the error, i.e. how far off the predictions are from the data\n",
    "criterion = nn.CrossEntropyLoss() # LOSS FUNCTION\n",
    "\n",
    "# choose OPTIMIZER, lr = learning rate (if our error doesn't go down after a bunch of iterations (epochs), then \n",
    "#   we want to lower the learning rate)\n",
    "optimizer = torch.optim.Adam(model.parameters(), lr=0.01)"
   ]
  },
  {
   "cell_type": "code",
   "execution_count": 118,
   "metadata": {},
   "outputs": [
    {
     "data": {
      "text/plain": [
       "<bound method Module.parameters of Model(\n",
       "  (fc1): Linear(in_features=4, out_features=8, bias=True)\n",
       "  (fc2): Linear(in_features=8, out_features=9, bias=True)\n",
       "  (out): Linear(in_features=9, out_features=3, bias=True)\n",
       ")>"
      ]
     },
     "execution_count": 118,
     "metadata": {},
     "output_type": "execute_result"
    }
   ],
   "source": [
    "model.parameters #our 2 layers, fc1 and fc2, and our output layer, out"
   ]
  },
  {
   "cell_type": "code",
   "execution_count": 119,
   "metadata": {},
   "outputs": [
    {
     "name": "stdout",
     "output_type": "stream",
     "text": [
      "Epoch: 0 and loss: 1.125203251838684\n",
      "Epoch: 10 and loss: 1.0097211599349976\n",
      "Epoch: 20 and loss: 0.8162347674369812\n",
      "Epoch: 30 and loss: 0.5859933495521545\n",
      "Epoch: 40 and loss: 0.4003390073776245\n",
      "Epoch: 50 and loss: 0.26794716715812683\n",
      "Epoch: 60 and loss: 0.17963500320911407\n",
      "Epoch: 70 and loss: 0.12165629118680954\n",
      "Epoch: 80 and loss: 0.08606518059968948\n",
      "Epoch: 90 and loss: 0.06522618234157562\n"
     ]
    }
   ],
   "source": [
    "# TRAIN our model\n",
    "\n",
    "# number of epochs? (each epoch runs through all the training data in our network)\n",
    "epochs = 100\n",
    "#array to store losses for each epoch\n",
    "losses = []\n",
    "\n",
    "\n",
    "for i in range(epochs):\n",
    "    #go forward and get a prediction\n",
    "    y_pred = model.forward(X_train) # get predicted results based on the features of the data\n",
    "\n",
    "    # measure the loss/error, gonna be high at first\n",
    "    loss = criterion(y_pred, y_train) # predicted values vs the y_train\n",
    "\n",
    "    # keep track of our losses (helps keep track of whether the model is learning)\n",
    "    losses.append(loss.detach().numpy())\n",
    "\n",
    "    # print every 10 epochs\n",
    "    if(i % 10 == 0) : \n",
    "        print(f'Epoch: {i} and loss: {loss}')\n",
    "\n",
    "    # do some back propagation: take the error rate of forward prop and feeed it back through the network to finetune the weights\n",
    "    optimizer.zero_grad()\n",
    "    loss.backward()\n",
    "    optimizer.step()"
   ]
  },
  {
   "cell_type": "code",
   "execution_count": 120,
   "metadata": {},
   "outputs": [
    {
     "data": {
      "text/plain": [
       "Text(0.5, 0, 'Epochs')"
      ]
     },
     "execution_count": 120,
     "metadata": {},
     "output_type": "execute_result"
    },
    {
     "data": {
      "image/png": "[encoded data removed]",
      "text/plain": [
       "<Figure size 640x480 with 1 Axes>"
      ]
     },
     "metadata": {},
     "output_type": "display_data"
    }
   ],
   "source": [
    "# graphing out the loss\n",
    "plt.plot(range(epochs), losses)\n",
    "plt.ylabel(\"Loss/Error\")\n",
    "plt.xlabel(\"Epochs\")"
   ]
  },
  {
   "cell_type": "code",
   "execution_count": 121,
   "metadata": {},
   "outputs": [],
   "source": [
    "# Evaluate Model on Test Data (validate model on test set)\n",
    "with torch.no_grad(): # basically turn of back propagation (bc we are testing the model on test data)\n",
    "    y_eval = model.forward(X_test) # X_test are features from our test set, y_eval will be predictions\n",
    "    loss = criterion(y_eval, y_test) # find the loss or error"
   ]
  },
  {
   "cell_type": "code",
   "execution_count": 122,
   "metadata": {},
   "outputs": [
    {
     "data": {
      "text/plain": [
       "tensor(0.1315)"
      ]
     },
     "execution_count": 122,
     "metadata": {},
     "output_type": "execute_result"
    }
   ],
   "source": [
    "loss # compare this value to the loss values we got from the training data\n",
    "\n",
    "# --> it's pretty obvious this isn't a great outcome, should hopefully be a smaller number "
   ]
  },
  {
   "cell_type": "code",
   "execution_count": 127,
   "metadata": {},
   "outputs": [
    {
     "name": "stdout",
     "output_type": "stream",
     "text": [
      "1.) tensor([-5.8771,  4.4629,  6.5155]) \t 2 \t 2\n",
      "2.) tensor([-7.5451,  4.1668,  9.7293]) \t 2 \t 2\n",
      "3.) tensor([-8.4517,  5.1275, 10.2015]) \t 2 \t 2\n",
      "4.) tensor([-4.3411,  5.6280,  2.5636]) \t 1 \t 1\n",
      "5.) tensor([-7.1838,  4.8757,  8.3023]) \t 2 \t 2\n",
      "6.) tensor([-3.3940,  5.3421,  1.2802]) \t 1 \t 1\n",
      "7.) tensor([-5.9240,  4.9826,  6.0025]) \t 2 \t 2\n",
      "8.) tensor([-4.2895,  5.7016,  2.3920]) \t 1 \t 1\n",
      "9.) tensor([-6.5369,  4.9261,  7.1291]) \t 2 \t 2\n",
      "10.) tensor([-8.0526,  4.4129, 10.3325]) \t 2 \t 2\n",
      "11.) tensor([-5.6775,  4.9505,  5.6248]) \t 2 \t 2\n",
      "12.) tensor([ 4.5748, -2.2579, -2.8925]) \t 0 \t 0\n",
      "13.) tensor([ 4.2646, -2.0055, -2.7342]) \t 0 \t 0\n",
      "14.) tensor([-2.1081,  4.0482,  0.5803]) \t 1 \t 1\n",
      "15.) tensor([ 3.4608, -1.2147, -2.3488]) \t 0 \t 0\n",
      "16.) tensor([-5.4739,  5.1174,  5.0966]) \t 2 \t 1\n",
      "17.) tensor([ 4.0637, -1.8045, -2.6504]) \t 0 \t 0\n",
      "18.) tensor([-5.8090,  4.6057,  6.2494]) \t 1 \t 2\n",
      "19.) tensor([ 4.9250, -2.5763, -3.0545]) \t 0 \t 0\n",
      "20.) tensor([ 3.4559, -1.2559, -2.3637]) \t 0 \t 0\n",
      "21.) tensor([-2.6161,  4.5584,  0.8575]) \t 1 \t 1\n",
      "22.) tensor([-7.7427,  4.7379,  9.4233]) \t 2 \t 2\n",
      "23.) tensor([ 3.5777, -1.3269, -2.4109]) \t 0 \t 0\n",
      "24.) tensor([ 4.5445, -2.2478, -2.8698]) \t 0 \t 0\n",
      "25.) tensor([-2.6548,  4.6138,  0.8825]) \t 1 \t 1\n",
      "26.) tensor([-3.2832,  5.2189,  1.2163]) \t 1 \t 1\n",
      "27.) tensor([-4.6527,  5.7790,  2.9302]) \t 1 \t 1\n",
      "28.) tensor([-2.9436,  4.8858,  1.0381]) \t 1 \t 1\n",
      "29.) tensor([ 4.5932, -2.2788, -2.8989]) \t 0 \t 0\n",
      "30.) tensor([-4.5797,  5.4566,  3.1690]) \t 1 \t 1\n",
      "we got 28 correct!\n"
     ]
    }
   ],
   "source": [
    "correct = 0\n",
    "\n",
    "with torch.no_grad():\n",
    "    for i, data in enumerate(X_test):\n",
    "        y_val = model.forward(data)\n",
    "\n",
    "        # tells us what type/ class of iris our network thinks it is\n",
    "        print(f'{i+1}.) {str(y_val)} \\t {y_test[i]} \\t {y_val.argmax().item()}')\n",
    "        # the highest number out of the 3 columns in the data below is what our network thinks that the flower is\n",
    "        #   the \"t {y_test[i]}\" portion prints out the label of the data\n",
    "\n",
    "\n",
    "        # correct or not\n",
    "        if y_val.argmax().item() == y_test[i]:\n",
    "            correct += 1\n",
    "\n",
    "print(f'we got {correct} correct!')"
   ]
  },
  {
   "cell_type": "code",
   "execution_count": null,
   "metadata": {},
   "outputs": [],
   "source": []
  }
 ],
 "metadata": {
  "kernelspec": {
   "display_name": "Python 3",
   "language": "python",
   "name": "python3"
  },
  "language_info": {
   "codemirror_mode": {
    "name": "ipython",
    "version": 3
   },
   "file_extension": ".py",
   "mimetype": "text/x-python",
   "name": "python",
   "nbconvert_exporter": "python",
   "pygments_lexer": "ipython3",
   "version": "3.11.6"
  }
 },
 "nbformat": 4,
 "nbformat_minor": 2
}
