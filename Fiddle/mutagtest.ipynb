{
 "cells": [
  {
   "cell_type": "markdown",
   "metadata": {},
   "source": [
    "# CONSTANTS"
   ]
  },
  {
   "cell_type": "code",
   "execution_count": 1135,
   "metadata": {},
   "outputs": [],
   "source": [
    "EPOCHS = 171\n",
    "LEARNING_RATE = 0.01\n",
    "MANUAL_SEED = 12345\n",
    "HIDDEN_NODE_COUNT = 64\n",
    "DATASPLIT = 150\n"
   ]
  },
  {
   "cell_type": "code",
   "execution_count": 1136,
   "metadata": {},
   "outputs": [
    {
     "name": "stdout",
     "output_type": "stream",
     "text": [
      "%pylab is deprecated, use %matplotlib inline and import the required libraries.\n",
      "Populating the interactive namespace from numpy and matplotlib\n"
     ]
    },
    {
     "name": "stderr",
     "output_type": "stream",
     "text": [
      "c:\\Users\\andwh\\AppData\\Local\\Programs\\Python\\Python311\\Lib\\site-packages\\IPython\\core\\magics\\pylab.py:162: UserWarning:\n",
      "\n",
      "pylab import has clobbered these variables: ['datetime', 'title']\n",
      "`%matplotlib` prevents importing * from pylab and numpy\n",
      "\n"
     ]
    }
   ],
   "source": [
    "%pylab inline"
   ]
  },
  {
   "cell_type": "markdown",
   "metadata": {},
   "source": [
    "# DATASET IMPORT"
   ]
  },
  {
   "cell_type": "code",
   "execution_count": 1137,
   "metadata": {},
   "outputs": [
    {
     "data": {
      "text/plain": [
       "<Figure size 640x480 with 0 Axes>"
      ]
     },
     "metadata": {},
     "output_type": "display_data"
    }
   ],
   "source": [
    "from visualize import GraphVisualization\n",
    "from networkx.algorithms import community\n",
    "import networkx as nx\n",
    "import plotly\n",
    "import os\n",
    "import torch\n",
    "\n",
    "import torch_geometric\n",
    "from torch_geometric.datasets import TUDataset\n",
    "from torch_geometric.utils import to_networkx\n",
    "from torch_geometric.loader import DataLoader\n",
    "\n",
    "%run visualize.py\n",
    "\n",
    "\n",
    "dataset = TUDataset(root='dataset/Mutag', name='MUTAG')\n"
   ]
  },
  {
   "cell_type": "code",
   "execution_count": 1138,
   "metadata": {},
   "outputs": [
    {
     "name": "stdout",
     "output_type": "stream",
     "text": [
      "{'num_node_features': 7, 'num_edge_features': 4, 'num_classes': 2, 'num_node_labels': 7, 'num_edge_labels': 4}\n"
     ]
    }
   ],
   "source": [
    "data_details = {\n",
    "    \"num_node_features\": dataset.num_node_features,\n",
    "    \"num_edge_features\": dataset.num_edge_features,\n",
    "    \"num_classes\": dataset.num_classes,\n",
    "    \"num_node_labels\": dataset.num_node_labels,\n",
    "    \"num_edge_labels\": dataset.num_edge_labels,\n",
    "}\n",
    "\n",
    "print(data_details)\n",
    "\n"
   ]
  },
  {
   "cell_type": "markdown",
   "metadata": {},
   "source": [
    "# VISUALIZATION"
   ]
  },
  {
   "cell_type": "code",
   "execution_count": 1139,
   "metadata": {},
   "outputs": [
    {
     "data": {
      "application/vnd.plotly.v1+json": {
       "config": {
        "plotlyServerURL": "https://plot.ly"
       },
       "data": [
        {
         "hoverinfo": "none",
         "line": {
          "color": "#808080",
          "width": 2
         },
         "mode": "lines",
         "opacity": 0.8,
         "type": "scatter",
         "x": [
          -0.7798943608115955,
          -0.8169840696199022,
          null,
          -0.7798943608115955,
          -0.5909414099189277,
          null,
          -0.8169840696199022,
          -0.7798943608115955,
          null,
          -0.8169840696199022,
          -0.6587235734691479,
          null,
          -0.6587235734691479,
          -0.8169840696199022,
          null,
          -0.6587235734691479,
          -0.40670302984318624,
          null,
          -0.40670302984318624,
          -0.6587235734691479,
          null,
          -0.40670302984318624,
          -0.4169595349239639,
          null,
          -0.40670302984318624,
          -0.14050394440481118,
          null,
          -0.4169595349239639,
          -0.40670302984318624,
          null,
          -0.4169595349239639,
          -0.5909414099189277,
          null,
          -0.4169595349239639,
          -0.2020190774717032,
          null,
          -0.5909414099189277,
          -0.7798943608115955,
          null,
          -0.5909414099189277,
          -0.4169595349239639,
          null,
          -0.2020190774717032,
          -0.4169595349239639,
          null,
          -0.2020190774717032,
          -0.027167404751405062,
          null,
          -0.027167404751405062,
          -0.2020190774717032,
          null,
          -0.027167404751405062,
          0.07658349784916961,
          null,
          0.07658349784916961,
          -0.027167404751405062,
          null,
          0.07658349784916961,
          -0.14050394440481118,
          null,
          0.07658349784916961,
          0.32266145334415264,
          null,
          -0.14050394440481118,
          -0.40670302984318624,
          null,
          -0.14050394440481118,
          0.07658349784916961,
          null,
          -0.14050394440481118,
          0.05366181989724764,
          null,
          0.05366181989724764,
          -0.14050394440481118,
          null,
          0.05366181989724764,
          0.30347621953244236,
          null,
          0.30347621953244236,
          0.05366181989724764,
          null,
          0.30347621953244236,
          0.52807206434399,
          null,
          0.52807206434399,
          0.30347621953244236,
          null,
          0.52807206434399,
          0.32266145334415264,
          null,
          0.52807206434399,
          0.8099087830852353,
          null,
          0.32266145334415264,
          0.07658349784916961,
          null,
          0.32266145334415264,
          0.52807206434399,
          null,
          0.8099087830852353,
          0.52807206434399,
          null,
          0.8099087830852353,
          0.9455325671624055,
          null,
          0.8099087830852353,
          1,
          null,
          0.9455325671624055,
          0.8099087830852353,
          null,
          1,
          0.8099087830852353,
          null
         ],
         "y": [
          0.45870719746485117,
          0.27699706474638375,
          null,
          0.45870719746485117,
          0.4379353404114082,
          null,
          0.27699706474638375,
          0.45870719746485117,
          null,
          0.27699706474638375,
          0.11644134792371402,
          null,
          0.11644134792371402,
          0.27699706474638375,
          null,
          0.11644134792371402,
          0.03932571433950801,
          null,
          0.03932571433950801,
          0.11644134792371402,
          null,
          0.03932571433950801,
          0.27676249644592343,
          null,
          0.03932571433950801,
          -0.1420692144863415,
          null,
          0.27676249644592343,
          0.03932571433950801,
          null,
          0.27676249644592343,
          0.4379353404114082,
          null,
          0.27676249644592343,
          0.27420607578685813,
          null,
          0.4379353404114082,
          0.45870719746485117,
          null,
          0.4379353404114082,
          0.27676249644592343,
          null,
          0.27420607578685813,
          0.27676249644592343,
          null,
          0.27420607578685813,
          0.14394393327786076,
          null,
          0.14394393327786076,
          0.27420607578685813,
          null,
          0.14394393327786076,
          -0.06305013432699773,
          null,
          -0.06305013432699773,
          0.14394393327786076,
          null,
          -0.06305013432699773,
          -0.1420692144863415,
          null,
          -0.06305013432699773,
          -0.16133879906980653,
          null,
          -0.1420692144863415,
          0.03932571433950801,
          null,
          -0.1420692144863415,
          -0.06305013432699773,
          null,
          -0.1420692144863415,
          -0.33371313553883586,
          null,
          -0.33371313553883586,
          -0.1420692144863415,
          null,
          -0.33371313553883586,
          -0.3844151985995131,
          null,
          -0.3844151985995131,
          -0.33371313553883586,
          null,
          -0.3844151985995131,
          -0.28229865880455224,
          null,
          -0.28229865880455224,
          -0.3844151985995131,
          null,
          -0.28229865880455224,
          -0.16133879906980653,
          null,
          -0.28229865880455224,
          -0.24738612987091874,
          null,
          -0.16133879906980653,
          -0.06305013432699773,
          null,
          -0.16133879906980653,
          -0.28229865880455224,
          null,
          -0.24738612987091874,
          -0.28229865880455224,
          null,
          -0.24738612987091874,
          -0.10283905514199365,
          null,
          -0.24738612987091874,
          -0.307208844557548,
          null,
          -0.10283905514199365,
          -0.24738612987091874,
          null,
          -0.307208844557548,
          -0.24738612987091874,
          null
         ]
        },
        {
         "hoverinfo": "text",
         "marker": {
          "color": "#fcfcfc",
          "colorbar": {
           "thickness": 15,
           "title": {
            "side": "right",
            "text": ""
           },
           "xanchor": "left"
          },
          "colorscale": [
           [
            0,
            "rgb(255,255,217)"
           ],
           [
            0.125,
            "rgb(237,248,177)"
           ],
           [
            0.25,
            "rgb(199,233,180)"
           ],
           [
            0.375,
            "rgb(127,205,187)"
           ],
           [
            0.5,
            "rgb(65,182,196)"
           ],
           [
            0.625,
            "rgb(29,145,192)"
           ],
           [
            0.75,
            "rgb(34,94,168)"
           ],
           [
            0.875,
            "rgb(37,52,148)"
           ],
           [
            1,
            "rgb(8,29,88)"
           ]
          ],
          "line": {
           "color": "#333333",
           "width": 2
          },
          "reversescale": false,
          "showscale": false,
          "size": 20
         },
         "mode": "markers+text",
         "opacity": 0.8,
         "text": [
          "0",
          "1",
          "2",
          "3",
          "4",
          "5",
          "6",
          "7",
          "8",
          "9",
          "10",
          "11",
          "12",
          "13",
          "14",
          "15",
          "16"
         ],
         "textfont": {
          "color": "#000000",
          "family": "Arial",
          "size": 14
         },
         "textposition": "top left",
         "type": "scatter",
         "x": [
          -0.7798943608115955,
          -0.8169840696199022,
          -0.6587235734691479,
          -0.40670302984318624,
          -0.4169595349239639,
          -0.5909414099189277,
          -0.2020190774717032,
          -0.027167404751405062,
          0.07658349784916961,
          -0.14050394440481118,
          0.05366181989724764,
          0.30347621953244236,
          0.52807206434399,
          0.32266145334415264,
          0.8099087830852353,
          0.9455325671624055,
          1
         ],
         "y": [
          0.45870719746485117,
          0.27699706474638375,
          0.11644134792371402,
          0.03932571433950801,
          0.27676249644592343,
          0.4379353404114082,
          0.27420607578685813,
          0.14394393327786076,
          -0.06305013432699773,
          -0.1420692144863415,
          -0.33371313553883586,
          -0.3844151985995131,
          -0.28229865880455224,
          -0.16133879906980653,
          -0.24738612987091874,
          -0.10283905514199365,
          -0.307208844557548
         ]
        }
       ],
       "layout": {
        "autosize": false,
        "height": 400,
        "hovermode": "closest",
        "margin": {
         "b": 5,
         "l": 0,
         "r": 0,
         "t": 20
        },
        "paper_bgcolor": "rgba(255,255,255,255)",
        "plot_bgcolor": "rgba(0,0,0,0)",
        "scene": {
         "xaxis": {
          "autorange": true,
          "showgrid": false,
          "showline": false,
          "showticklabels": false,
          "ticks": "",
          "visible": false,
          "zeroline": false
         },
         "yaxis": {
          "autorange": true,
          "showgrid": false,
          "showline": false,
          "showticklabels": false,
          "ticks": "",
          "visible": false,
          "zeroline": false
         },
         "zaxis": {
          "autorange": true,
          "showgrid": false,
          "showline": false,
          "showticklabels": false,
          "ticks": "",
          "visible": false,
          "zeroline": false
         }
        },
        "showlegend": false,
        "template": {
         "data": {
          "bar": [
           {
            "error_x": {
             "color": "#2a3f5f"
            },
            "error_y": {
             "color": "#2a3f5f"
            },
            "marker": {
             "line": {
              "color": "#E5ECF6",
              "width": 0.5
             },
             "pattern": {
              "fillmode": "overlay",
              "size": 10,
              "solidity": 0.2
             }
            },
            "type": "bar"
           }
          ],
          "barpolar": [
           {
            "marker": {
             "line": {
              "color": "#E5ECF6",
              "width": 0.5
             },
             "pattern": {
              "fillmode": "overlay",
              "size": 10,
              "solidity": 0.2
             }
            },
            "type": "barpolar"
           }
          ],
          "carpet": [
           {
            "aaxis": {
             "endlinecolor": "#2a3f5f",
             "gridcolor": "white",
             "linecolor": "white",
             "minorgridcolor": "white",
             "startlinecolor": "#2a3f5f"
            },
            "baxis": {
             "endlinecolor": "#2a3f5f",
             "gridcolor": "white",
             "linecolor": "white",
             "minorgridcolor": "white",
             "startlinecolor": "#2a3f5f"
            },
            "type": "carpet"
           }
          ],
          "choropleth": [
           {
            "colorbar": {
             "outlinewidth": 0,
             "ticks": ""
            },
            "type": "choropleth"
           }
          ],
          "contour": [
           {
            "colorbar": {
             "outlinewidth": 0,
             "ticks": ""
            },
            "colorscale": [
             [
              0,
              "#0d0887"
             ],
             [
              0.1111111111111111,
              "#46039f"
             ],
             [
              0.2222222222222222,
              "#7201a8"
             ],
             [
              0.3333333333333333,
              "#9c179e"
             ],
             [
              0.4444444444444444,
              "#bd3786"
             ],
             [
              0.5555555555555556,
              "#d8576b"
             ],
             [
              0.6666666666666666,
              "#ed7953"
             ],
             [
              0.7777777777777778,
              "#fb9f3a"
             ],
             [
              0.8888888888888888,
              "#fdca26"
             ],
             [
              1,
              "#f0f921"
             ]
            ],
            "type": "contour"
           }
          ],
          "contourcarpet": [
           {
            "colorbar": {
             "outlinewidth": 0,
             "ticks": ""
            },
            "type": "contourcarpet"
           }
          ],
          "heatmap": [
           {
            "colorbar": {
             "outlinewidth": 0,
             "ticks": ""
            },
            "colorscale": [
             [
              0,
              "#0d0887"
             ],
             [
              0.1111111111111111,
              "#46039f"
             ],
             [
              0.2222222222222222,
              "#7201a8"
             ],
             [
              0.3333333333333333,
              "#9c179e"
             ],
             [
              0.4444444444444444,
              "#bd3786"
             ],
             [
              0.5555555555555556,
              "#d8576b"
             ],
             [
              0.6666666666666666,
              "#ed7953"
             ],
             [
              0.7777777777777778,
              "#fb9f3a"
             ],
             [
              0.8888888888888888,
              "#fdca26"
             ],
             [
              1,
              "#f0f921"
             ]
            ],
            "type": "heatmap"
           }
          ],
          "heatmapgl": [
           {
            "colorbar": {
             "outlinewidth": 0,
             "ticks": ""
            },
            "colorscale": [
             [
              0,
              "#0d0887"
             ],
             [
              0.1111111111111111,
              "#46039f"
             ],
             [
              0.2222222222222222,
              "#7201a8"
             ],
             [
              0.3333333333333333,
              "#9c179e"
             ],
             [
              0.4444444444444444,
              "#bd3786"
             ],
             [
              0.5555555555555556,
              "#d8576b"
             ],
             [
              0.6666666666666666,
              "#ed7953"
             ],
             [
              0.7777777777777778,
              "#fb9f3a"
             ],
             [
              0.8888888888888888,
              "#fdca26"
             ],
             [
              1,
              "#f0f921"
             ]
            ],
            "type": "heatmapgl"
           }
          ],
          "histogram": [
           {
            "marker": {
             "pattern": {
              "fillmode": "overlay",
              "size": 10,
              "solidity": 0.2
             }
            },
            "type": "histogram"
           }
          ],
          "histogram2d": [
           {
            "colorbar": {
             "outlinewidth": 0,
             "ticks": ""
            },
            "colorscale": [
             [
              0,
              "#0d0887"
             ],
             [
              0.1111111111111111,
              "#46039f"
             ],
             [
              0.2222222222222222,
              "#7201a8"
             ],
             [
              0.3333333333333333,
              "#9c179e"
             ],
             [
              0.4444444444444444,
              "#bd3786"
             ],
             [
              0.5555555555555556,
              "#d8576b"
             ],
             [
              0.6666666666666666,
              "#ed7953"
             ],
             [
              0.7777777777777778,
              "#fb9f3a"
             ],
             [
              0.8888888888888888,
              "#fdca26"
             ],
             [
              1,
              "#f0f921"
             ]
            ],
            "type": "histogram2d"
           }
          ],
          "histogram2dcontour": [
           {
            "colorbar": {
             "outlinewidth": 0,
             "ticks": ""
            },
            "colorscale": [
             [
              0,
              "#0d0887"
             ],
             [
              0.1111111111111111,
              "#46039f"
             ],
             [
              0.2222222222222222,
              "#7201a8"
             ],
             [
              0.3333333333333333,
              "#9c179e"
             ],
             [
              0.4444444444444444,
              "#bd3786"
             ],
             [
              0.5555555555555556,
              "#d8576b"
             ],
             [
              0.6666666666666666,
              "#ed7953"
             ],
             [
              0.7777777777777778,
              "#fb9f3a"
             ],
             [
              0.8888888888888888,
              "#fdca26"
             ],
             [
              1,
              "#f0f921"
             ]
            ],
            "type": "histogram2dcontour"
           }
          ],
          "mesh3d": [
           {
            "colorbar": {
             "outlinewidth": 0,
             "ticks": ""
            },
            "type": "mesh3d"
           }
          ],
          "parcoords": [
           {
            "line": {
             "colorbar": {
              "outlinewidth": 0,
              "ticks": ""
             }
            },
            "type": "parcoords"
           }
          ],
          "pie": [
           {
            "automargin": true,
            "type": "pie"
           }
          ],
          "scatter": [
           {
            "fillpattern": {
             "fillmode": "overlay",
             "size": 10,
             "solidity": 0.2
            },
            "type": "scatter"
           }
          ],
          "scatter3d": [
           {
            "line": {
             "colorbar": {
              "outlinewidth": 0,
              "ticks": ""
             }
            },
            "marker": {
             "colorbar": {
              "outlinewidth": 0,
              "ticks": ""
             }
            },
            "type": "scatter3d"
           }
          ],
          "scattercarpet": [
           {
            "marker": {
             "colorbar": {
              "outlinewidth": 0,
              "ticks": ""
             }
            },
            "type": "scattercarpet"
           }
          ],
          "scattergeo": [
           {
            "marker": {
             "colorbar": {
              "outlinewidth": 0,
              "ticks": ""
             }
            },
            "type": "scattergeo"
           }
          ],
          "scattergl": [
           {
            "marker": {
             "colorbar": {
              "outlinewidth": 0,
              "ticks": ""
             }
            },
            "type": "scattergl"
           }
          ],
          "scattermapbox": [
           {
            "marker": {
             "colorbar": {
              "outlinewidth": 0,
              "ticks": ""
             }
            },
            "type": "scattermapbox"
           }
          ],
          "scatterpolar": [
           {
            "marker": {
             "colorbar": {
              "outlinewidth": 0,
              "ticks": ""
             }
            },
            "type": "scatterpolar"
           }
          ],
          "scatterpolargl": [
           {
            "marker": {
             "colorbar": {
              "outlinewidth": 0,
              "ticks": ""
             }
            },
            "type": "scatterpolargl"
           }
          ],
          "scatterternary": [
           {
            "marker": {
             "colorbar": {
              "outlinewidth": 0,
              "ticks": ""
             }
            },
            "type": "scatterternary"
           }
          ],
          "surface": [
           {
            "colorbar": {
             "outlinewidth": 0,
             "ticks": ""
            },
            "colorscale": [
             [
              0,
              "#0d0887"
             ],
             [
              0.1111111111111111,
              "#46039f"
             ],
             [
              0.2222222222222222,
              "#7201a8"
             ],
             [
              0.3333333333333333,
              "#9c179e"
             ],
             [
              0.4444444444444444,
              "#bd3786"
             ],
             [
              0.5555555555555556,
              "#d8576b"
             ],
             [
              0.6666666666666666,
              "#ed7953"
             ],
             [
              0.7777777777777778,
              "#fb9f3a"
             ],
             [
              0.8888888888888888,
              "#fdca26"
             ],
             [
              1,
              "#f0f921"
             ]
            ],
            "type": "surface"
           }
          ],
          "table": [
           {
            "cells": {
             "fill": {
              "color": "#EBF0F8"
             },
             "line": {
              "color": "white"
             }
            },
            "header": {
             "fill": {
              "color": "#C8D4E3"
             },
             "line": {
              "color": "white"
             }
            },
            "type": "table"
           }
          ]
         },
         "layout": {
          "annotationdefaults": {
           "arrowcolor": "#2a3f5f",
           "arrowhead": 0,
           "arrowwidth": 1
          },
          "autotypenumbers": "strict",
          "coloraxis": {
           "colorbar": {
            "outlinewidth": 0,
            "ticks": ""
           }
          },
          "colorscale": {
           "diverging": [
            [
             0,
             "#8e0152"
            ],
            [
             0.1,
             "#c51b7d"
            ],
            [
             0.2,
             "#de77ae"
            ],
            [
             0.3,
             "#f1b6da"
            ],
            [
             0.4,
             "#fde0ef"
            ],
            [
             0.5,
             "#f7f7f7"
            ],
            [
             0.6,
             "#e6f5d0"
            ],
            [
             0.7,
             "#b8e186"
            ],
            [
             0.8,
             "#7fbc41"
            ],
            [
             0.9,
             "#4d9221"
            ],
            [
             1,
             "#276419"
            ]
           ],
           "sequential": [
            [
             0,
             "#0d0887"
            ],
            [
             0.1111111111111111,
             "#46039f"
            ],
            [
             0.2222222222222222,
             "#7201a8"
            ],
            [
             0.3333333333333333,
             "#9c179e"
            ],
            [
             0.4444444444444444,
             "#bd3786"
            ],
            [
             0.5555555555555556,
             "#d8576b"
            ],
            [
             0.6666666666666666,
             "#ed7953"
            ],
            [
             0.7777777777777778,
             "#fb9f3a"
            ],
            [
             0.8888888888888888,
             "#fdca26"
            ],
            [
             1,
             "#f0f921"
            ]
           ],
           "sequentialminus": [
            [
             0,
             "#0d0887"
            ],
            [
             0.1111111111111111,
             "#46039f"
            ],
            [
             0.2222222222222222,
             "#7201a8"
            ],
            [
             0.3333333333333333,
             "#9c179e"
            ],
            [
             0.4444444444444444,
             "#bd3786"
            ],
            [
             0.5555555555555556,
             "#d8576b"
            ],
            [
             0.6666666666666666,
             "#ed7953"
            ],
            [
             0.7777777777777778,
             "#fb9f3a"
            ],
            [
             0.8888888888888888,
             "#fdca26"
            ],
            [
             1,
             "#f0f921"
            ]
           ]
          },
          "colorway": [
           "#636efa",
           "#EF553B",
           "#00cc96",
           "#ab63fa",
           "#FFA15A",
           "#19d3f3",
           "#FF6692",
           "#B6E880",
           "#FF97FF",
           "#FECB52"
          ],
          "font": {
           "color": "#2a3f5f"
          },
          "geo": {
           "bgcolor": "white",
           "lakecolor": "white",
           "landcolor": "#E5ECF6",
           "showlakes": true,
           "showland": true,
           "subunitcolor": "white"
          },
          "hoverlabel": {
           "align": "left"
          },
          "hovermode": "closest",
          "mapbox": {
           "style": "light"
          },
          "paper_bgcolor": "white",
          "plot_bgcolor": "#E5ECF6",
          "polar": {
           "angularaxis": {
            "gridcolor": "white",
            "linecolor": "white",
            "ticks": ""
           },
           "bgcolor": "#E5ECF6",
           "radialaxis": {
            "gridcolor": "white",
            "linecolor": "white",
            "ticks": ""
           }
          },
          "scene": {
           "xaxis": {
            "backgroundcolor": "#E5ECF6",
            "gridcolor": "white",
            "gridwidth": 2,
            "linecolor": "white",
            "showbackground": true,
            "ticks": "",
            "zerolinecolor": "white"
           },
           "yaxis": {
            "backgroundcolor": "#E5ECF6",
            "gridcolor": "white",
            "gridwidth": 2,
            "linecolor": "white",
            "showbackground": true,
            "ticks": "",
            "zerolinecolor": "white"
           },
           "zaxis": {
            "backgroundcolor": "#E5ECF6",
            "gridcolor": "white",
            "gridwidth": 2,
            "linecolor": "white",
            "showbackground": true,
            "ticks": "",
            "zerolinecolor": "white"
           }
          },
          "shapedefaults": {
           "line": {
            "color": "#2a3f5f"
           }
          },
          "ternary": {
           "aaxis": {
            "gridcolor": "white",
            "linecolor": "white",
            "ticks": ""
           },
           "baxis": {
            "gridcolor": "white",
            "linecolor": "white",
            "ticks": ""
           },
           "bgcolor": "#E5ECF6",
           "caxis": {
            "gridcolor": "white",
            "linecolor": "white",
            "ticks": ""
           }
          },
          "title": {
           "x": 0.05
          },
          "xaxis": {
           "automargin": true,
           "gridcolor": "white",
           "linecolor": "white",
           "ticks": "",
           "title": {
            "standoff": 15
           },
           "zerolinecolor": "white",
           "zerolinewidth": 2
          },
          "yaxis": {
           "automargin": true,
           "gridcolor": "white",
           "linecolor": "white",
           "ticks": "",
           "title": {
            "standoff": 15
           },
           "zerolinecolor": "white",
           "zerolinewidth": 2
          }
         }
        },
        "title": {
         "font": {
          "size": 16
         },
         "text": ""
        },
        "width": 375,
        "xaxis": {
         "autorange": true,
         "showgrid": false,
         "showline": false,
         "showticklabels": false,
         "ticks": "",
         "visible": false,
         "zeroline": false
        },
        "yaxis": {
         "autorange": true,
         "showgrid": false,
         "showline": false,
         "showticklabels": false,
         "ticks": "",
         "visible": false,
         "zeroline": false
        }
       }
      }
     },
     "metadata": {},
     "output_type": "display_data"
    }
   ],
   "source": [
    "def create_graph(graph):\n",
    "    g = to_networkx(graph)\n",
    "    pos = nx.spring_layout(g)\n",
    "    vis = GraphVisualization(\n",
    "        g,\n",
    "        pos,\n",
    "        node_text_position=\"top left\",\n",
    "        node_size=20,\n",
    "    )\n",
    "    fig = vis.create_figure()\n",
    "    return fig\n",
    "\n",
    "\n",
    "fig = create_graph(dataset[0])\n",
    "fig.show()\n"
   ]
  },
  {
   "cell_type": "code",
   "execution_count": 1140,
   "metadata": {},
   "outputs": [],
   "source": [
    "# Defining the loaders\n",
    "dataset = dataset.shuffle()\n",
    "\n",
    "\n",
    "# Allocate N to train\n",
    "train_dataset = dataset[:DATASPLIT]\n",
    "# Allocate the remainder to test\n",
    "test_dataset = dataset[DATASPLIT:]\n",
    "\n",
    "train_loader = DataLoader(dataset=dataset, batch_size=64, shuffle=True)\n",
    "test_loader = DataLoader(dataset=dataset, batch_size=1, shuffle=False)\n"
   ]
  },
  {
   "cell_type": "markdown",
   "metadata": {},
   "source": [
    "# MODEL"
   ]
  },
  {
   "cell_type": "code",
   "execution_count": 1141,
   "metadata": {},
   "outputs": [],
   "source": [
    "from torch.nn import Linear\n",
    "import torch.nn.functional as F\n",
    "from torch_geometric.nn import GCNConv\n",
    "from torch_geometric.nn import global_mean_pool\n",
    "\n",
    "\n",
    "class GCN(torch.nn.Module):\n",
    "    def __init__(self, in_features=7, hidden_channels=64, outfeatures = 2):\n",
    "        super(GCN, self).__init__()\n",
    "\n",
    "        # Input layer\n",
    "        self.conv1 = GCNConv(in_features, hidden_channels)\n",
    "\n",
    "        # Hidden layers\n",
    "        self.conv2 = GCNConv(hidden_channels, hidden_channels)\n",
    "        self.conv3 = GCNConv(hidden_channels, hidden_channels)\n",
    "        self.conv4 = GCNConv(hidden_channels, hidden_channels)\n",
    "        self.conv5 = GCNConv(hidden_channels, hidden_channels)\n",
    "\n",
    "        # Output layer\n",
    "        self.lin = Linear(hidden_channels, outfeatures)\n",
    "\n",
    "    def forward(self, x, edge_index, batch):\n",
    "        # 1. Obtain node embeddings\n",
    "        x = self.conv1(x, edge_index)\n",
    "        x = x.relu()\n",
    "        x = self.conv2(x, edge_index)\n",
    "        x = x.relu()\n",
    "        x = self.conv3(x, edge_index)\n",
    "        x = x.relu()\n",
    "        x = self.conv4(x, edge_index)\n",
    "        x = x.relu()\n",
    "        x = self.conv5(x, edge_index)\n",
    "\n",
    "        # 2. Readout layer\n",
    "        x = global_mean_pool(x, batch)  # [batch_size, hidden_channels]\n",
    "\n",
    "        # 3. Apply a final classifier\n",
    "        x = F.dropout(x, p=0.5, training=self.training)\n",
    "        x = self.lin(x)\n",
    "\n",
    "        return x\n",
    "\n",
    "\n",
    "# Set a manual seed andiinstantiate the model\n",
    "torch.manual_seed(MANUAL_SEED)\n",
    "model = GCN(hidden_channels=64)"
   ]
  },
  {
   "cell_type": "markdown",
   "metadata": {},
   "source": [
    "# PLOTTING FUNCTIONS"
   ]
  },
  {
   "cell_type": "code",
   "execution_count": 1142,
   "metadata": {},
   "outputs": [],
   "source": [
    "import sklearn\n",
    "from sklearn.metrics import RocCurveDisplay\n",
    "import numpy as np\n",
    "\n",
    "from sklearn import metrics\n",
    "\n",
    "\n",
    "\n",
    "# ROC AUC PLOT\n",
    "def plotROCAUC(labels, scores, title, ax):\n",
    "    # roc_auc = roc_auc_score(labels, scores)\n",
    "\n",
    "    fpr, tpr, _ = metrics.roc_curve(labels,  scores)\n",
    "    auc = metrics.roc_auc_score(labels, scores)\n",
    "    ax.set_title(title)\n",
    "    ax.plot(fpr,tpr)\n",
    "    ax.legend([\"auc=\"+str(round(auc, 2))], handlelength=0, handletextpad=0)\n",
    "\n",
    "\n",
    "    \n",
    "    #RocCurveDisplay.from_predictions(labels, scores)\n",
    "\n",
    "\n",
    "    #plt.show()\n",
    "\n",
    "# ACCURACY PLOT\n",
    "def plotAccuracy(losses, accuracies, title, ax):\n",
    "    #fig, ax[0,1] = sub\n",
    "    ax.set_title(title)\n",
    "    ax.set_ylim(0, 1)\n",
    "    ax.plot(losses)\n",
    "    ax.plot(accuracies)\n",
    "    ax.plot(losses, label=\"Loss\")\n",
    "    ax.plot(accuracies, label=\"Accuracy\")\n",
    "    ax.legend(loc=\"lower center\")\n",
    "    \n",
    "    \n",
    "    #plt.show()\n"
   ]
  },
  {
   "cell_type": "markdown",
   "metadata": {},
   "source": [
    "# TRAINING AND TEST FUNCTIONS"
   ]
  },
  {
   "cell_type": "code",
   "execution_count": 1143,
   "metadata": {},
   "outputs": [],
   "source": [
    "\n",
    "optimizer = torch.optim.Adam(model.parameters(), lr=0.01)\n",
    "loss_function = torch.nn.CrossEntropyLoss()\n",
    "\n",
    "train_losses, train_accuracies = [], []\n",
    "train_labels, train_scores = [], []\n",
    "\n",
    "def train(t):\n",
    "    model.train()\n",
    "\n",
    "    for data in train_loader:  # Iterates the batches. We declared each batch to be of size 64\n",
    "\n",
    "        # Calculate output, and get the maximum of those in order to obtain the predicted value\n",
    "        out = model(data.x, data.edge_index, data.batch)\n",
    "        cat = torch.argmax(out, dim=1)\n",
    "\n",
    "        accuracy = (cat == data.y).float().mean()\n",
    "        train_accuracies.append(accuracy.item())\n",
    "        loss = loss_function(out, data.y)\n",
    "        t.set_description(\"loss: %2f. accuracy %2f.\" % (loss, accuracy))\n",
    "        train_losses.append(loss.item())\n",
    "        loss.backward()\n",
    "        optimizer.step()\n",
    "        optimizer.zero_grad()\n",
    "\n",
    "        # Append actual and preddicted to respective array. Have to be converted to NumPy arrays in order to flatten them.\n",
    "        # We flatten them as 1D arrays are required by SK in order to calculate and plot ROC AUC\n",
    "        arrayLabel = np.array(data.y)\n",
    "        for value in arrayLabel.flatten():\n",
    "            train_labels.append(value)\n",
    "\n",
    "        arrayCat = np.array(cat)\n",
    "        for value in arrayCat.flatten():\n",
    "            train_scores.append(value)\n",
    "    \n",
    "\n",
    "test_losses, test_accuracies = [], []\n",
    "test_labels, test_scores = [], []\n",
    "\n",
    "def test(loader):\n",
    "    for data in loader:  # Iterate in batches over the training/test dataset.\n",
    "        out = model(data.x, data.edge_index, data.batch)\n",
    "        cat = torch.argmax(out, dim=1)\n",
    "\n",
    "        accuracy = (cat == data.y).float().mean()\n",
    "        test_accuracies.append(accuracy.item())\n",
    "\n",
    "        loss = loss_function(out, data.y)\n",
    "        test_losses.append(loss.item())\n",
    "\n",
    "        arrayLabel = np.array(data.y)\n",
    "        for value in arrayLabel.flatten():\n",
    "            test_labels.append(value)\n",
    "\n",
    "        arrayCat = np.array(cat)\n",
    "        for value in arrayCat.flatten():\n",
    "            test_scores.append(value)\n",
    "\n"
   ]
  },
  {
   "cell_type": "markdown",
   "metadata": {},
   "source": [
    "# EXECUTION"
   ]
  },
  {
   "cell_type": "code",
   "execution_count": 1144,
   "metadata": {},
   "outputs": [
    {
     "name": "stderr",
     "output_type": "stream",
     "text": [
      "loss: 0.294205. accuracy 0.883333.: 100%|██████████| 170/170 [00:12<00:00, 13.80it/s]\n"
     ]
    },
    {
     "data": {
      "image/png": "[encoded data removed]",
      "text/plain": [
       "<Figure size 800x600 with 5 Axes>"
      ]
     },
     "metadata": {},
     "output_type": "display_data"
    }
   ],
   "source": [
    "import matplotlib.pyplot as plt\n",
    "import numpy as np\n",
    "from tqdm import trange\n",
    "import matplotlib.gridspec as gridspec\n",
    "import matplotlib.patches as patches\n",
    "from datetime import datetime\n",
    "\n",
    "\n",
    "\n",
    "\n",
    "for epoch in (t := trange(1, EPOCHS)):\n",
    "    train(t)\n",
    "    test(train_loader)\n",
    "\n",
    "# Flags\n",
    "plot_training = True\n",
    "plot_testing = True\n",
    "\n",
    "plot_accuracy = True\n",
    "plot_rocauc = True\n",
    "\n",
    "#fig, ax = plt.subplots(2, 2)\n",
    "fig = plt.figure(figsize=(8, 6))\n",
    "\n",
    "gs = gridspec.GridSpec(3, 2)\n",
    "\n",
    "#plt.autoscale(enable=True, axis='both', tight=True)\n",
    "\n",
    "#if(plot_training and plot_testing):\n",
    "#    fig, ax = plt.subplots(2, 2)\n",
    "    \n",
    "\n",
    "#gs = gridspec.GridSpec(3, 2)\n",
    "\n",
    "ax1 = plt.subplot(gs[0, :])\n",
    "\n",
    "#table_data = [\n",
    "#    [\"Seed\", \"Activation\", \"Weight Initializer\", \"Loss function\", \"Pooling\", \"Optimizer\", \"# layers\", \"Neurons\", \"Split\", \"Epochs\", \"Batch\"],\n",
    "#    [\"1\", \"ReLU\", \"He Normal\", \"MSE\", \"Max Pooling\", \"Adam\", \"3\", \"128\", \"0.8\", \"100\", \"32\"],\n",
    "#]\n",
    "\n",
    "\n",
    "table_data = [\n",
    "    [\"Seed\", \"Activation\", \"Weight Initializer\", \"Loss function\", \"Pooling\", \"Optimizer\", \"# GCN layers\", \"Neurons\", \"Split\", \"Epochs\", \"Batch Size\"],\n",
    "    [str(MANUAL_SEED), \"ReLU\", \"Default\", \"C-Entropy\", \"GMax Pooling\", \"Adam\", \"3\", \"7, 64, 64, 64, 2\", str(round(DATASPLIT/188, 2)), str(EPOCHS), \"64\"],\n",
    "]\n",
    "\n",
    "table_data_1 = [table_data[0][:len(table_data[0]) // 2], table_data[1][:len(table_data[1]) // 2]]\n",
    "table_data_2 = [table_data[0][len(table_data[0]) // 2:], table_data[1][len(table_data[1]) // 2:]]\n",
    "\n",
    "# Create the first table in the top subplot (upper section)\n",
    "table_1 = ax1.table(cellText=table_data_1, cellLoc='center', loc='center')\n",
    "table_1.auto_set_font_size(False)\n",
    "table_1.set_fontsize(12)\n",
    "table_1.scale(1.2, 1.2)\n",
    "\n",
    "# Create the second table in the top subplot (lower section)\n",
    "table_2 = ax1.table(cellText=table_data_2, cellLoc='center', loc='bottom')\n",
    "table_2.auto_set_font_size(False)\n",
    "table_2.set_fontsize(12)\n",
    "table_2.scale(1.2, 1.2)\n",
    "\n",
    "\n",
    "\n",
    "# Hide axis and display the table\n",
    "#ax1 = plt.gca()\n",
    "ax1.axis('off')\n",
    "\n",
    "#divider_y = -1.1  # Adjust the y-coordinate as needed\n",
    "#ax1.axhline(divider_y, color='black')\n",
    "\n",
    "\n",
    "\n",
    "\n",
    "# Plot for train\n",
    "if(plot_training):\n",
    "    if(plot_accuracy):\n",
    "        #ax00 = ax[0, 0]\n",
    "        ax00 = plt.subplot(gs[1, 0])\n",
    "\n",
    "        plotAccuracy(train_losses, train_accuracies, \"Training: Accuracy & Loss\", ax00)\n",
    "\n",
    "    if(plot_rocauc):\n",
    "        #ax10 = ax[0, 1]\n",
    "        ax10 = plt.subplot(gs[1, 1])\n",
    "\n",
    "        plotROCAUC(train_labels, train_scores, \"Training: ROC AUC\", ax10)\n",
    "\n",
    "# Plot for test\n",
    "if(plot_testing):\n",
    "    if(plot_accuracy):\n",
    "        #ax01 = ax[1, 0]\n",
    "        ax01 = plt.subplot(gs[2, 0])\n",
    "        plotAccuracy(test_losses, test_accuracies, \"Testing: Accuracy & Loss\", ax01)\n",
    "\n",
    "    if(plot_rocauc):\n",
    "        #ax11 = ax[1, 1]\n",
    "        ax11 = plt.subplot(gs[2, 1])\n",
    "\n",
    "        plotROCAUC(test_labels, test_scores, \"Testing: ROC AUC\" ,ax11)\n",
    "\n",
    "now = datetime.now()\n",
    "\n",
    "title = \"Model algorithm/parameter & performance profile. Profiled on {}.\".format(now.strftime(\"%d/%m/%Y, %H:%M:%S\"))\n",
    "\n",
    "fig.suptitle(title, fontsize=12, wrap=True)\n",
    "\n",
    "plt.tight_layout()\n",
    "\n"
   ]
  }
 ],
 "metadata": {
  "kernelspec": {
   "display_name": "Python 3",
   "language": "python",
   "name": "python3"
  },
  "language_info": {
   "codemirror_mode": {
    "name": "ipython",
    "version": 3
   },
   "file_extension": ".py",
   "mimetype": "text/x-python",
   "name": "python",
   "nbconvert_exporter": "python",
   "pygments_lexer": "ipython3",
   "version": "3.11.5"
  }
 },
 "nbformat": 4,
 "nbformat_minor": 2
}
