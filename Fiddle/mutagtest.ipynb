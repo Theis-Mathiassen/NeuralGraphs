{
 "cells": [
  {
   "cell_type": "code",
   "execution_count": 9,
   "metadata": {},
   "outputs": [
    {
     "name": "stdout",
     "output_type": "stream",
     "text": [
      "%pylab is deprecated, use %matplotlib inline and import the required libraries.\n",
      "Populating the interactive namespace from numpy and matplotlib\n"
     ]
    }
   ],
   "source": [
    "%pylab inline"
   ]
  },
  {
   "cell_type": "code",
   "execution_count": 10,
   "metadata": {},
   "outputs": [
    {
     "name": "stderr",
     "output_type": "stream",
     "text": [
      "Downloading https://www.chrsmrrs.com/graphkerneldatasets/MUTAG.zip\n",
      "Extracting dataset\\Mutag\\MUTAG\\MUTAG.zip\n",
      "Processing...\n",
      "Done!\n"
     ]
    }
   ],
   "source": [
    "import os\n",
    "import torch\n",
    "\n",
    "import torch_geometric\n",
    "from torch_geometric.datasets import TUDataset\n",
    "from torch_geometric.utils import to_networkx\n",
    "from torch_geometric.loader import DataLoader\n",
    "\n",
    "%run visualize.py\n",
    "from visualize import GraphVisualization \n",
    "import plotly\n",
    "\n",
    "import networkx as nx\n",
    "from networkx.algorithms import community\n",
    "\n",
    "\n",
    "dataset = TUDataset(root='dataset/Mutag', name='MUTAG')"
   ]
  },
  {
   "cell_type": "code",
   "execution_count": 11,
   "metadata": {},
   "outputs": [
    {
     "name": "stdout",
     "output_type": "stream",
     "text": [
      "{'num_node_features': 7, 'num_edge_features': 4, 'num_classes': 2, 'num_node_labels': 7, 'num_edge_labels': 4}\n"
     ]
    }
   ],
   "source": [
    "data_details = {\n",
    "    \"num_node_features\": dataset.num_node_features,\n",
    "    \"num_edge_features\": dataset.num_edge_features,\n",
    "    \"num_classes\": dataset.num_classes,\n",
    "    \"num_node_labels\": dataset.num_node_labels,\n",
    "    \"num_edge_labels\": dataset.num_edge_labels\n",
    "}\n",
    "\n",
    "print(data_details)"
   ]
  },
  {
   "cell_type": "code",
   "execution_count": 12,
   "metadata": {},
   "outputs": [
    {
     "data": {
      "application/vnd.plotly.v1+json": {
       "config": {
        "plotlyServerURL": "https://plot.ly"
       },
       "data": [
        {
         "hoverinfo": "none",
         "line": {
          "color": "#808080",
          "width": 2
         },
         "mode": "lines",
         "opacity": 0.8,
         "type": "scatter",
         "x": [
          -1,
          -0.897190264833825,
          null,
          -1,
          -0.8189235657237244,
          null,
          -0.897190264833825,
          -1,
          null,
          -0.897190264833825,
          -0.6495884297022371,
          null,
          -0.6495884297022371,
          -0.897190264833825,
          null,
          -0.6495884297022371,
          -0.3791949054973922,
          null,
          -0.3791949054973922,
          -0.6495884297022371,
          null,
          -0.3791949054973922,
          -0.5277689903225882,
          null,
          -0.3791949054973922,
          -0.021561677535796887,
          null,
          -0.5277689903225882,
          -0.3791949054973922,
          null,
          -0.5277689903225882,
          -0.8189235657237244,
          null,
          -0.5277689903225882,
          -0.28405394950452373,
          null,
          -0.8189235657237244,
          -1,
          null,
          -0.8189235657237244,
          -0.5277689903225882,
          null,
          -0.28405394950452373,
          -0.5277689903225882,
          null,
          -0.28405394950452373,
          -0.008074358308057071,
          null,
          -0.008074358308057071,
          -0.28405394950452373,
          null,
          -0.008074358308057071,
          0.205357184899297,
          null,
          0.205357184899297,
          -0.008074358308057071,
          null,
          0.205357184899297,
          -0.021561677535796887,
          null,
          0.205357184899297,
          0.4904847750388378,
          null,
          -0.021561677535796887,
          -0.3791949054973922,
          null,
          -0.021561677535796887,
          0.205357184899297,
          null,
          -0.021561677535796887,
          0.23355718826428298,
          null,
          0.23355718826428298,
          -0.021561677535796887,
          null,
          0.23355718826428298,
          0.4898728145375117,
          null,
          0.4898728145375117,
          0.23355718826428298,
          null,
          0.4898728145375117,
          0.6570121395110848,
          null,
          0.6570121395110848,
          0.4898728145375117,
          null,
          0.6570121395110848,
          0.4904847750388378,
          null,
          0.6570121395110848,
          0.7888600302909944,
          null,
          0.4904847750388378,
          0.205357184899297,
          null,
          0.4904847750388378,
          0.6570121395110848,
          null,
          0.7888600302909944,
          0.6570121395110848,
          null,
          0.7888600302909944,
          0.9748302867681816,
          null,
          0.7888600302909944,
          0.746381722117954,
          null,
          0.9748302867681816,
          0.7888600302909944,
          null,
          0.746381722117954,
          0.7888600302909944,
          null
         ],
         "y": [
          -0.19408412865694902,
          -0.0032823032642643173,
          null,
          -0.19408412865694902,
          -0.35482745434961244,
          null,
          -0.0032823032642643173,
          -0.19408412865694902,
          null,
          -0.0032823032642643173,
          -0.01849387345680942,
          null,
          -0.01849387345680942,
          -0.0032823032642643173,
          null,
          -0.01849387345680942,
          -0.1443631366002491,
          null,
          -0.1443631366002491,
          -0.01849387345680942,
          null,
          -0.1443631366002491,
          -0.37965762241370044,
          null,
          -0.1443631366002491,
          -0.1063448560415502,
          null,
          -0.37965762241370044,
          -0.1443631366002491,
          null,
          -0.37965762241370044,
          -0.35482745434961244,
          null,
          -0.37965762241370044,
          -0.5215973569121803,
          null,
          -0.35482745434961244,
          -0.19408412865694902,
          null,
          -0.35482745434961244,
          -0.37965762241370044,
          null,
          -0.5215973569121803,
          -0.37965762241370044,
          null,
          -0.5215973569121803,
          -0.47035330192956354,
          null,
          -0.47035330192956354,
          -0.5215973569121803,
          null,
          -0.47035330192956354,
          -0.24812208486086343,
          null,
          -0.24812208486086343,
          -0.47035330192956354,
          null,
          -0.24812208486086343,
          -0.1063448560415502,
          null,
          -0.24812208486086343,
          -0.05241737303851402,
          null,
          -0.1063448560415502,
          -0.1443631366002491,
          null,
          -0.1063448560415502,
          -0.24812208486086343,
          null,
          -0.1063448560415502,
          0.04087863217239106,
          null,
          0.04087863217239106,
          -0.1063448560415502,
          null,
          0.04087863217239106,
          0.13554901263321653,
          null,
          0.13554901263321653,
          0.04087863217239106,
          null,
          0.13554901263321653,
          0.24612214988620718,
          null,
          0.24612214988620718,
          0.13554901263321653,
          null,
          0.24612214988620718,
          -0.05241737303851402,
          null,
          0.24612214988620718,
          0.5622944713638425,
          null,
          -0.05241737303851402,
          -0.24812208486086343,
          null,
          -0.05241737303851402,
          0.24612214988620718,
          null,
          0.5622944713638425,
          0.24612214988620718,
          null,
          0.5622944713638425,
          0.7084814474807759,
          null,
          0.5622944713638425,
          0.8002177779878232,
          null,
          0.7084814474807759,
          0.5622944713638425,
          null,
          0.8002177779878232,
          0.5622944713638425,
          null
         ]
        },
        {
         "hoverinfo": "text",
         "marker": {
          "color": "#fcfcfc",
          "colorbar": {
           "thickness": 15,
           "title": {
            "side": "right",
            "text": ""
           },
           "xanchor": "left"
          },
          "colorscale": [
           [
            0,
            "rgb(255,255,217)"
           ],
           [
            0.125,
            "rgb(237,248,177)"
           ],
           [
            0.25,
            "rgb(199,233,180)"
           ],
           [
            0.375,
            "rgb(127,205,187)"
           ],
           [
            0.5,
            "rgb(65,182,196)"
           ],
           [
            0.625,
            "rgb(29,145,192)"
           ],
           [
            0.75,
            "rgb(34,94,168)"
           ],
           [
            0.875,
            "rgb(37,52,148)"
           ],
           [
            1,
            "rgb(8,29,88)"
           ]
          ],
          "line": {
           "color": "#333333",
           "width": 2
          },
          "reversescale": false,
          "showscale": false,
          "size": 20
         },
         "mode": "markers+text",
         "opacity": 0.8,
         "text": [
          "0",
          "1",
          "2",
          "3",
          "4",
          "5",
          "6",
          "7",
          "8",
          "9",
          "10",
          "11",
          "12",
          "13",
          "14",
          "15",
          "16"
         ],
         "textfont": {
          "color": "#000000",
          "family": "Arial",
          "size": 14
         },
         "textposition": "top left",
         "type": "scatter",
         "x": [
          -1,
          -0.897190264833825,
          -0.6495884297022371,
          -0.3791949054973922,
          -0.5277689903225882,
          -0.8189235657237244,
          -0.28405394950452373,
          -0.008074358308057071,
          0.205357184899297,
          -0.021561677535796887,
          0.23355718826428298,
          0.4898728145375117,
          0.6570121395110848,
          0.4904847750388378,
          0.7888600302909944,
          0.9748302867681816,
          0.746381722117954
         ],
         "y": [
          -0.19408412865694902,
          -0.0032823032642643173,
          -0.01849387345680942,
          -0.1443631366002491,
          -0.37965762241370044,
          -0.35482745434961244,
          -0.5215973569121803,
          -0.47035330192956354,
          -0.24812208486086343,
          -0.1063448560415502,
          0.04087863217239106,
          0.13554901263321653,
          0.24612214988620718,
          -0.05241737303851402,
          0.5622944713638425,
          0.7084814474807759,
          0.8002177779878232
         ]
        }
       ],
       "layout": {
        "autosize": false,
        "height": 400,
        "hovermode": "closest",
        "margin": {
         "b": 5,
         "l": 0,
         "r": 0,
         "t": 20
        },
        "paper_bgcolor": "rgba(255,255,255,255)",
        "plot_bgcolor": "rgba(0,0,0,0)",
        "scene": {
         "xaxis": {
          "autorange": true,
          "showgrid": false,
          "showline": false,
          "showticklabels": false,
          "ticks": "",
          "visible": false,
          "zeroline": false
         },
         "yaxis": {
          "autorange": true,
          "showgrid": false,
          "showline": false,
          "showticklabels": false,
          "ticks": "",
          "visible": false,
          "zeroline": false
         },
         "zaxis": {
          "autorange": true,
          "showgrid": false,
          "showline": false,
          "showticklabels": false,
          "ticks": "",
          "visible": false,
          "zeroline": false
         }
        },
        "showlegend": false,
        "template": {
         "data": {
          "bar": [
           {
            "error_x": {
             "color": "#2a3f5f"
            },
            "error_y": {
             "color": "#2a3f5f"
            },
            "marker": {
             "line": {
              "color": "#E5ECF6",
              "width": 0.5
             },
             "pattern": {
              "fillmode": "overlay",
              "size": 10,
              "solidity": 0.2
             }
            },
            "type": "bar"
           }
          ],
          "barpolar": [
           {
            "marker": {
             "line": {
              "color": "#E5ECF6",
              "width": 0.5
             },
             "pattern": {
              "fillmode": "overlay",
              "size": 10,
              "solidity": 0.2
             }
            },
            "type": "barpolar"
           }
          ],
          "carpet": [
           {
            "aaxis": {
             "endlinecolor": "#2a3f5f",
             "gridcolor": "white",
             "linecolor": "white",
             "minorgridcolor": "white",
             "startlinecolor": "#2a3f5f"
            },
            "baxis": {
             "endlinecolor": "#2a3f5f",
             "gridcolor": "white",
             "linecolor": "white",
             "minorgridcolor": "white",
             "startlinecolor": "#2a3f5f"
            },
            "type": "carpet"
           }
          ],
          "choropleth": [
           {
            "colorbar": {
             "outlinewidth": 0,
             "ticks": ""
            },
            "type": "choropleth"
           }
          ],
          "contour": [
           {
            "colorbar": {
             "outlinewidth": 0,
             "ticks": ""
            },
            "colorscale": [
             [
              0,
              "#0d0887"
             ],
             [
              0.1111111111111111,
              "#46039f"
             ],
             [
              0.2222222222222222,
              "#7201a8"
             ],
             [
              0.3333333333333333,
              "#9c179e"
             ],
             [
              0.4444444444444444,
              "#bd3786"
             ],
             [
              0.5555555555555556,
              "#d8576b"
             ],
             [
              0.6666666666666666,
              "#ed7953"
             ],
             [
              0.7777777777777778,
              "#fb9f3a"
             ],
             [
              0.8888888888888888,
              "#fdca26"
             ],
             [
              1,
              "#f0f921"
             ]
            ],
            "type": "contour"
           }
          ],
          "contourcarpet": [
           {
            "colorbar": {
             "outlinewidth": 0,
             "ticks": ""
            },
            "type": "contourcarpet"
           }
          ],
          "heatmap": [
           {
            "colorbar": {
             "outlinewidth": 0,
             "ticks": ""
            },
            "colorscale": [
             [
              0,
              "#0d0887"
             ],
             [
              0.1111111111111111,
              "#46039f"
             ],
             [
              0.2222222222222222,
              "#7201a8"
             ],
             [
              0.3333333333333333,
              "#9c179e"
             ],
             [
              0.4444444444444444,
              "#bd3786"
             ],
             [
              0.5555555555555556,
              "#d8576b"
             ],
             [
              0.6666666666666666,
              "#ed7953"
             ],
             [
              0.7777777777777778,
              "#fb9f3a"
             ],
             [
              0.8888888888888888,
              "#fdca26"
             ],
             [
              1,
              "#f0f921"
             ]
            ],
            "type": "heatmap"
           }
          ],
          "heatmapgl": [
           {
            "colorbar": {
             "outlinewidth": 0,
             "ticks": ""
            },
            "colorscale": [
             [
              0,
              "#0d0887"
             ],
             [
              0.1111111111111111,
              "#46039f"
             ],
             [
              0.2222222222222222,
              "#7201a8"
             ],
             [
              0.3333333333333333,
              "#9c179e"
             ],
             [
              0.4444444444444444,
              "#bd3786"
             ],
             [
              0.5555555555555556,
              "#d8576b"
             ],
             [
              0.6666666666666666,
              "#ed7953"
             ],
             [
              0.7777777777777778,
              "#fb9f3a"
             ],
             [
              0.8888888888888888,
              "#fdca26"
             ],
             [
              1,
              "#f0f921"
             ]
            ],
            "type": "heatmapgl"
           }
          ],
          "histogram": [
           {
            "marker": {
             "pattern": {
              "fillmode": "overlay",
              "size": 10,
              "solidity": 0.2
             }
            },
            "type": "histogram"
           }
          ],
          "histogram2d": [
           {
            "colorbar": {
             "outlinewidth": 0,
             "ticks": ""
            },
            "colorscale": [
             [
              0,
              "#0d0887"
             ],
             [
              0.1111111111111111,
              "#46039f"
             ],
             [
              0.2222222222222222,
              "#7201a8"
             ],
             [
              0.3333333333333333,
              "#9c179e"
             ],
             [
              0.4444444444444444,
              "#bd3786"
             ],
             [
              0.5555555555555556,
              "#d8576b"
             ],
             [
              0.6666666666666666,
              "#ed7953"
             ],
             [
              0.7777777777777778,
              "#fb9f3a"
             ],
             [
              0.8888888888888888,
              "#fdca26"
             ],
             [
              1,
              "#f0f921"
             ]
            ],
            "type": "histogram2d"
           }
          ],
          "histogram2dcontour": [
           {
            "colorbar": {
             "outlinewidth": 0,
             "ticks": ""
            },
            "colorscale": [
             [
              0,
              "#0d0887"
             ],
             [
              0.1111111111111111,
              "#46039f"
             ],
             [
              0.2222222222222222,
              "#7201a8"
             ],
             [
              0.3333333333333333,
              "#9c179e"
             ],
             [
              0.4444444444444444,
              "#bd3786"
             ],
             [
              0.5555555555555556,
              "#d8576b"
             ],
             [
              0.6666666666666666,
              "#ed7953"
             ],
             [
              0.7777777777777778,
              "#fb9f3a"
             ],
             [
              0.8888888888888888,
              "#fdca26"
             ],
             [
              1,
              "#f0f921"
             ]
            ],
            "type": "histogram2dcontour"
           }
          ],
          "mesh3d": [
           {
            "colorbar": {
             "outlinewidth": 0,
             "ticks": ""
            },
            "type": "mesh3d"
           }
          ],
          "parcoords": [
           {
            "line": {
             "colorbar": {
              "outlinewidth": 0,
              "ticks": ""
             }
            },
            "type": "parcoords"
           }
          ],
          "pie": [
           {
            "automargin": true,
            "type": "pie"
           }
          ],
          "scatter": [
           {
            "fillpattern": {
             "fillmode": "overlay",
             "size": 10,
             "solidity": 0.2
            },
            "type": "scatter"
           }
          ],
          "scatter3d": [
           {
            "line": {
             "colorbar": {
              "outlinewidth": 0,
              "ticks": ""
             }
            },
            "marker": {
             "colorbar": {
              "outlinewidth": 0,
              "ticks": ""
             }
            },
            "type": "scatter3d"
           }
          ],
          "scattercarpet": [
           {
            "marker": {
             "colorbar": {
              "outlinewidth": 0,
              "ticks": ""
             }
            },
            "type": "scattercarpet"
           }
          ],
          "scattergeo": [
           {
            "marker": {
             "colorbar": {
              "outlinewidth": 0,
              "ticks": ""
             }
            },
            "type": "scattergeo"
           }
          ],
          "scattergl": [
           {
            "marker": {
             "colorbar": {
              "outlinewidth": 0,
              "ticks": ""
             }
            },
            "type": "scattergl"
           }
          ],
          "scattermapbox": [
           {
            "marker": {
             "colorbar": {
              "outlinewidth": 0,
              "ticks": ""
             }
            },
            "type": "scattermapbox"
           }
          ],
          "scatterpolar": [
           {
            "marker": {
             "colorbar": {
              "outlinewidth": 0,
              "ticks": ""
             }
            },
            "type": "scatterpolar"
           }
          ],
          "scatterpolargl": [
           {
            "marker": {
             "colorbar": {
              "outlinewidth": 0,
              "ticks": ""
             }
            },
            "type": "scatterpolargl"
           }
          ],
          "scatterternary": [
           {
            "marker": {
             "colorbar": {
              "outlinewidth": 0,
              "ticks": ""
             }
            },
            "type": "scatterternary"
           }
          ],
          "surface": [
           {
            "colorbar": {
             "outlinewidth": 0,
             "ticks": ""
            },
            "colorscale": [
             [
              0,
              "#0d0887"
             ],
             [
              0.1111111111111111,
              "#46039f"
             ],
             [
              0.2222222222222222,
              "#7201a8"
             ],
             [
              0.3333333333333333,
              "#9c179e"
             ],
             [
              0.4444444444444444,
              "#bd3786"
             ],
             [
              0.5555555555555556,
              "#d8576b"
             ],
             [
              0.6666666666666666,
              "#ed7953"
             ],
             [
              0.7777777777777778,
              "#fb9f3a"
             ],
             [
              0.8888888888888888,
              "#fdca26"
             ],
             [
              1,
              "#f0f921"
             ]
            ],
            "type": "surface"
           }
          ],
          "table": [
           {
            "cells": {
             "fill": {
              "color": "#EBF0F8"
             },
             "line": {
              "color": "white"
             }
            },
            "header": {
             "fill": {
              "color": "#C8D4E3"
             },
             "line": {
              "color": "white"
             }
            },
            "type": "table"
           }
          ]
         },
         "layout": {
          "annotationdefaults": {
           "arrowcolor": "#2a3f5f",
           "arrowhead": 0,
           "arrowwidth": 1
          },
          "autotypenumbers": "strict",
          "coloraxis": {
           "colorbar": {
            "outlinewidth": 0,
            "ticks": ""
           }
          },
          "colorscale": {
           "diverging": [
            [
             0,
             "#8e0152"
            ],
            [
             0.1,
             "#c51b7d"
            ],
            [
             0.2,
             "#de77ae"
            ],
            [
             0.3,
             "#f1b6da"
            ],
            [
             0.4,
             "#fde0ef"
            ],
            [
             0.5,
             "#f7f7f7"
            ],
            [
             0.6,
             "#e6f5d0"
            ],
            [
             0.7,
             "#b8e186"
            ],
            [
             0.8,
             "#7fbc41"
            ],
            [
             0.9,
             "#4d9221"
            ],
            [
             1,
             "#276419"
            ]
           ],
           "sequential": [
            [
             0,
             "#0d0887"
            ],
            [
             0.1111111111111111,
             "#46039f"
            ],
            [
             0.2222222222222222,
             "#7201a8"
            ],
            [
             0.3333333333333333,
             "#9c179e"
            ],
            [
             0.4444444444444444,
             "#bd3786"
            ],
            [
             0.5555555555555556,
             "#d8576b"
            ],
            [
             0.6666666666666666,
             "#ed7953"
            ],
            [
             0.7777777777777778,
             "#fb9f3a"
            ],
            [
             0.8888888888888888,
             "#fdca26"
            ],
            [
             1,
             "#f0f921"
            ]
           ],
           "sequentialminus": [
            [
             0,
             "#0d0887"
            ],
            [
             0.1111111111111111,
             "#46039f"
            ],
            [
             0.2222222222222222,
             "#7201a8"
            ],
            [
             0.3333333333333333,
             "#9c179e"
            ],
            [
             0.4444444444444444,
             "#bd3786"
            ],
            [
             0.5555555555555556,
             "#d8576b"
            ],
            [
             0.6666666666666666,
             "#ed7953"
            ],
            [
             0.7777777777777778,
             "#fb9f3a"
            ],
            [
             0.8888888888888888,
             "#fdca26"
            ],
            [
             1,
             "#f0f921"
            ]
           ]
          },
          "colorway": [
           "#636efa",
           "#EF553B",
           "#00cc96",
           "#ab63fa",
           "#FFA15A",
           "#19d3f3",
           "#FF6692",
           "#B6E880",
           "#FF97FF",
           "#FECB52"
          ],
          "font": {
           "color": "#2a3f5f"
          },
          "geo": {
           "bgcolor": "white",
           "lakecolor": "white",
           "landcolor": "#E5ECF6",
           "showlakes": true,
           "showland": true,
           "subunitcolor": "white"
          },
          "hoverlabel": {
           "align": "left"
          },
          "hovermode": "closest",
          "mapbox": {
           "style": "light"
          },
          "paper_bgcolor": "white",
          "plot_bgcolor": "#E5ECF6",
          "polar": {
           "angularaxis": {
            "gridcolor": "white",
            "linecolor": "white",
            "ticks": ""
           },
           "bgcolor": "#E5ECF6",
           "radialaxis": {
            "gridcolor": "white",
            "linecolor": "white",
            "ticks": ""
           }
          },
          "scene": {
           "xaxis": {
            "backgroundcolor": "#E5ECF6",
            "gridcolor": "white",
            "gridwidth": 2,
            "linecolor": "white",
            "showbackground": true,
            "ticks": "",
            "zerolinecolor": "white"
           },
           "yaxis": {
            "backgroundcolor": "#E5ECF6",
            "gridcolor": "white",
            "gridwidth": 2,
            "linecolor": "white",
            "showbackground": true,
            "ticks": "",
            "zerolinecolor": "white"
           },
           "zaxis": {
            "backgroundcolor": "#E5ECF6",
            "gridcolor": "white",
            "gridwidth": 2,
            "linecolor": "white",
            "showbackground": true,
            "ticks": "",
            "zerolinecolor": "white"
           }
          },
          "shapedefaults": {
           "line": {
            "color": "#2a3f5f"
           }
          },
          "ternary": {
           "aaxis": {
            "gridcolor": "white",
            "linecolor": "white",
            "ticks": ""
           },
           "baxis": {
            "gridcolor": "white",
            "linecolor": "white",
            "ticks": ""
           },
           "bgcolor": "#E5ECF6",
           "caxis": {
            "gridcolor": "white",
            "linecolor": "white",
            "ticks": ""
           }
          },
          "title": {
           "x": 0.05
          },
          "xaxis": {
           "automargin": true,
           "gridcolor": "white",
           "linecolor": "white",
           "ticks": "",
           "title": {
            "standoff": 15
           },
           "zerolinecolor": "white",
           "zerolinewidth": 2
          },
          "yaxis": {
           "automargin": true,
           "gridcolor": "white",
           "linecolor": "white",
           "ticks": "",
           "title": {
            "standoff": 15
           },
           "zerolinecolor": "white",
           "zerolinewidth": 2
          }
         }
        },
        "title": {
         "font": {
          "size": 16
         },
         "text": ""
        },
        "width": 375,
        "xaxis": {
         "autorange": true,
         "showgrid": false,
         "showline": false,
         "showticklabels": false,
         "ticks": "",
         "visible": false,
         "zeroline": false
        },
        "yaxis": {
         "autorange": true,
         "showgrid": false,
         "showline": false,
         "showticklabels": false,
         "ticks": "",
         "visible": false,
         "zeroline": false
        }
       }
      }
     },
     "metadata": {},
     "output_type": "display_data"
    }
   ],
   "source": [
    "def create_graph(graph):\n",
    "    g = to_networkx(graph)\n",
    "    pos = nx.spring_layout(g)\n",
    "    vis = GraphVisualization(\n",
    "        g, pos, node_text_position='top left', node_size=20,\n",
    "    )\n",
    "    fig = vis.create_figure()\n",
    "    return fig\n",
    "\n",
    "fig = create_graph(dataset[0])\n",
    "fig.show()"
   ]
  },
  {
   "cell_type": "code",
   "execution_count": 13,
   "metadata": {},
   "outputs": [
    {
     "name": "stdout",
     "output_type": "stream",
     "text": [
      "150\n",
      "38\n"
     ]
    }
   ],
   "source": [
    "# Defining the loaders\n",
    "\n",
    "torch.manual_seed(12345)\n",
    "dataset = dataset.shuffle()\n",
    "train_dataset = dataset[:150]\n",
    "test_dataset = dataset[150:]\n",
    "\n",
    "print(len(train_dataset))\n",
    "print(len(test_dataset))\n",
    "\n",
    "train_loader = DataLoader(dataset=dataset, batch_size = 64, shuffle=True)\n",
    "test_loader = DataLoader(dataset=dataset, batch_size = 1, shuffle=False)"
   ]
  },
  {
   "cell_type": "code",
   "execution_count": 14,
   "metadata": {},
   "outputs": [],
   "source": [
    "from torch.nn import Linear\n",
    "import torch.nn.functional as F\n",
    "from torch_geometric.nn import GCNConv\n",
    "from torch_geometric.nn import global_mean_pool\n",
    "\n",
    "class GCN(torch.nn.Module):\n",
    "    def __init__(self, hidden_channels):\n",
    "        super(GCN, self).__init__()\n",
    "        torch.manual_seed(12345)\n",
    "        self.conv1 = GCNConv(dataset.num_node_features, hidden_channels)\n",
    "        self.conv2 = GCNConv(hidden_channels, hidden_channels)\n",
    "        self.conv3 = GCNConv(hidden_channels, hidden_channels)\n",
    "        self.conv4 = GCNConv(hidden_channels, hidden_channels)\n",
    "        self.conv5 = GCNConv(hidden_channels, hidden_channels)\n",
    "        self.lin = Linear(hidden_channels, dataset.num_classes)\n",
    "\n",
    "    def forward(self, x, edge_index, batch):\n",
    "        # 1. Obtain node embeddings \n",
    "        x = self.conv1(x, edge_index)\n",
    "        x = x.relu()\n",
    "        x = self.conv2(x, edge_index)\n",
    "        x = x.relu()\n",
    "        x = self.conv3(x, edge_index)\n",
    "        x = x.relu()\n",
    "        x = self.conv4(x, edge_index)\n",
    "        x = x.relu()\n",
    "        x = self.conv5(x, edge_index)\n",
    "\n",
    "        # 2. Readout layer\n",
    "        x = global_mean_pool(x, batch)  # [batch_size, hidden_channels]\n",
    "\n",
    "        # 3. Apply a final classifier\n",
    "        x = F.dropout(x, p=0.5, training=self.training)\n",
    "        x = self.lin(x)\n",
    "        \n",
    "        return x\n",
    "\n",
    "model = GCN(hidden_channels=64)"
   ]
  },
  {
   "cell_type": "code",
   "execution_count": 15,
   "metadata": {},
   "outputs": [],
   "source": [
    "model = GCN(hidden_channels=64)\n",
    "\n",
    "optimizer = torch.optim.Adam(model.parameters(), lr=0.01)\n",
    "loss_function = torch.nn.CrossEntropyLoss()\n",
    "\n",
    "losses, accuracies = [], []\n",
    "def train(t):\n",
    "    model.train()\n",
    "    for data in train_loader: # Iterates the batches. We declared each batch to be of size 64.\n",
    "        out = model(data.x, data.edge_index, data.batch)\n",
    "\n",
    "        cat = torch.argmax(out, dim=1)\n",
    "        accuracy = (cat == data.y).float().mean()\n",
    "        accuracies.append(accuracy.item())\n",
    "\n",
    "        t.set_description(\"loss: %2f. accuracy %2f.\" % (loss, accuracy))\n",
    "\n",
    "\n",
    "        loss = loss_function(out, data.y)\n",
    "        losses.append(loss.item())\n",
    "        loss.backward()\n",
    "        optimizer.step()\n",
    "        optimizer.zero_grad()\n",
    "\n",
    "\n",
    "\n",
    "\n",
    "    \n"
   ]
  },
  {
   "cell_type": "code",
   "execution_count": 16,
   "metadata": {},
   "outputs": [
    {
     "name": "stderr",
     "output_type": "stream",
     "text": [
      "  0%|          | 0/170 [00:00<?, ?it/s]\n"
     ]
    },
    {
     "ename": "UnboundLocalError",
     "evalue": "cannot access local variable 'loss' where it is not associated with a value",
     "output_type": "error",
     "traceback": [
      "\u001b[1;31m---------------------------------------------------------------------------\u001b[0m",
      "\u001b[1;31mUnboundLocalError\u001b[0m                         Traceback (most recent call last)",
      "\u001b[1;32mc:\\Users\\andwh\\Desktop\\5Sem\\NeuralGraphs\\Fiddle\\mutagtest.ipynb Cell 8\u001b[0m line \u001b[0;36m5\n\u001b[0;32m      <a href='vscode-notebook-cell:/c%3A/Users/andwh/Desktop/5Sem/NeuralGraphs/Fiddle/mutagtest.ipynb#X10sZmlsZQ%3D%3D?line=2'>3</a>\u001b[0m \u001b[39mfrom\u001b[39;00m \u001b[39mtqdm\u001b[39;00m \u001b[39mimport\u001b[39;00m trange\n\u001b[0;32m      <a href='vscode-notebook-cell:/c%3A/Users/andwh/Desktop/5Sem/NeuralGraphs/Fiddle/mutagtest.ipynb#X10sZmlsZQ%3D%3D?line=3'>4</a>\u001b[0m \u001b[39mfor\u001b[39;00m epoch \u001b[39min\u001b[39;00m (t\u001b[39m:=\u001b[39m trange(\u001b[39m1\u001b[39m, \u001b[39m171\u001b[39m)):\n\u001b[1;32m----> <a href='vscode-notebook-cell:/c%3A/Users/andwh/Desktop/5Sem/NeuralGraphs/Fiddle/mutagtest.ipynb#X10sZmlsZQ%3D%3D?line=4'>5</a>\u001b[0m     train(t)\n\u001b[0;32m      <a href='vscode-notebook-cell:/c%3A/Users/andwh/Desktop/5Sem/NeuralGraphs/Fiddle/mutagtest.ipynb#X10sZmlsZQ%3D%3D?line=5'>6</a>\u001b[0m     \u001b[39m#test(train_loader)\u001b[39;00m\n\u001b[0;32m      <a href='vscode-notebook-cell:/c%3A/Users/andwh/Desktop/5Sem/NeuralGraphs/Fiddle/mutagtest.ipynb#X10sZmlsZQ%3D%3D?line=7'>8</a>\u001b[0m ylim(\u001b[39m0\u001b[39m, \u001b[39m1\u001b[39m)\n",
      "\u001b[1;32mc:\\Users\\andwh\\Desktop\\5Sem\\NeuralGraphs\\Fiddle\\mutagtest.ipynb Cell 8\u001b[0m line \u001b[0;36m1\n\u001b[0;32m     <a href='vscode-notebook-cell:/c%3A/Users/andwh/Desktop/5Sem/NeuralGraphs/Fiddle/mutagtest.ipynb#X10sZmlsZQ%3D%3D?line=12'>13</a>\u001b[0m accuracy \u001b[39m=\u001b[39m (cat \u001b[39m==\u001b[39m data\u001b[39m.\u001b[39my)\u001b[39m.\u001b[39mfloat()\u001b[39m.\u001b[39mmean()\n\u001b[0;32m     <a href='vscode-notebook-cell:/c%3A/Users/andwh/Desktop/5Sem/NeuralGraphs/Fiddle/mutagtest.ipynb#X10sZmlsZQ%3D%3D?line=13'>14</a>\u001b[0m accuracies\u001b[39m.\u001b[39mappend(accuracy\u001b[39m.\u001b[39mitem())\n\u001b[1;32m---> <a href='vscode-notebook-cell:/c%3A/Users/andwh/Desktop/5Sem/NeuralGraphs/Fiddle/mutagtest.ipynb#X10sZmlsZQ%3D%3D?line=15'>16</a>\u001b[0m t\u001b[39m.\u001b[39mset_description(\u001b[39m\"\u001b[39m\u001b[39mloss: \u001b[39m\u001b[39m%2f\u001b[39;00m\u001b[39m. accuracy \u001b[39m\u001b[39m%2f\u001b[39;00m\u001b[39m.\u001b[39m\u001b[39m\"\u001b[39m \u001b[39m%\u001b[39m (loss, accuracy))\n\u001b[0;32m     <a href='vscode-notebook-cell:/c%3A/Users/andwh/Desktop/5Sem/NeuralGraphs/Fiddle/mutagtest.ipynb#X10sZmlsZQ%3D%3D?line=18'>19</a>\u001b[0m loss \u001b[39m=\u001b[39m loss_function(out, data\u001b[39m.\u001b[39my)\n\u001b[0;32m     <a href='vscode-notebook-cell:/c%3A/Users/andwh/Desktop/5Sem/NeuralGraphs/Fiddle/mutagtest.ipynb#X10sZmlsZQ%3D%3D?line=19'>20</a>\u001b[0m losses\u001b[39m.\u001b[39mappend(loss\u001b[39m.\u001b[39mitem())\n",
      "\u001b[1;31mUnboundLocalError\u001b[0m: cannot access local variable 'loss' where it is not associated with a value"
     ]
    }
   ],
   "source": [
    "import matplotlib.pyplot as plt\n",
    "import numpy as np\n",
    "from tqdm import trange\n",
    "for epoch in (t:= trange(1, 171)):\n",
    "    train(t)\n",
    "    #test(train_loader)\n",
    "\n",
    "plt.ylim(0, 1)\n",
    "\n",
    "plt.plot(losses)\n",
    "\n",
    "plt.plot(accuracies)\n",
    "\n",
    "plt.plot(losses, label=\"Loss\")\n",
    "plt.plot(accuracies, label=\"Accuracy\")\n",
    "\n",
    "plt.legend(loc='lower center')"
   ]
  }
 ],
 "metadata": {
  "kernelspec": {
   "display_name": "Python 3",
   "language": "python",
   "name": "python3"
  },
  "language_info": {
   "codemirror_mode": {
    "name": "ipython",
    "version": 3
   },
   "file_extension": ".py",
   "mimetype": "text/x-python",
   "name": "python",
   "nbconvert_exporter": "python",
   "pygments_lexer": "ipython3",
   "version": "3.11.5"
  }
 },
 "nbformat": 4,
 "nbformat_minor": 2
}
